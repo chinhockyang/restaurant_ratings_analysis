{
 "cells": [
  {
   "cell_type": "code",
   "execution_count": 1,
   "metadata": {},
   "outputs": [],
   "source": [
    "import pandas as pd\n",
    "import numpy as np\n",
    "import seaborn as sns\n",
    "import matplotlib.pyplot as plt"
   ]
  },
  {
   "cell_type": "code",
   "execution_count": 4,
   "metadata": {},
   "outputs": [
    {
     "data": {
      "text/html": [
       "<div>\n",
       "<style scoped>\n",
       "    .dataframe tbody tr th:only-of-type {\n",
       "        vertical-align: middle;\n",
       "    }\n",
       "\n",
       "    .dataframe tbody tr th {\n",
       "        vertical-align: top;\n",
       "    }\n",
       "\n",
       "    .dataframe thead th {\n",
       "        text-align: right;\n",
       "    }\n",
       "</style>\n",
       "<table border=\"1\" class=\"dataframe\">\n",
       "  <thead>\n",
       "    <tr style=\"text-align: right;\">\n",
       "      <th></th>\n",
       "      <th>name</th>\n",
       "      <th>address</th>\n",
       "      <th>region</th>\n",
       "      <th>latitude</th>\n",
       "      <th>longitude</th>\n",
       "      <th>nearby_attraction</th>\n",
       "      <th>distance_from_attraction</th>\n",
       "      <th>price_category</th>\n",
       "      <th>price_range</th>\n",
       "      <th>mon_operating_hours</th>\n",
       "      <th>...</th>\n",
       "      <th>num_of_rating_2</th>\n",
       "      <th>num_of_rating_3</th>\n",
       "      <th>num_of_rating_4</th>\n",
       "      <th>num_of_rating_5</th>\n",
       "      <th>food_rating</th>\n",
       "      <th>service_rating</th>\n",
       "      <th>value_rating</th>\n",
       "      <th>atmosphere_rating</th>\n",
       "      <th>overall_rating</th>\n",
       "      <th>url</th>\n",
       "    </tr>\n",
       "  </thead>\n",
       "  <tbody>\n",
       "    <tr>\n",
       "      <th>0</th>\n",
       "      <td>Alt Pizza</td>\n",
       "      <td>60 Robertson Quay The Quayside 01-05, Singapor...</td>\n",
       "      <td>Robertson Quay</td>\n",
       "      <td>1.290260</td>\n",
       "      <td>103.83919</td>\n",
       "      <td>Chinatown</td>\n",
       "      <td>1.0</td>\n",
       "      <td>mid range</td>\n",
       "      <td>[]</td>\n",
       "      <td>11:00 AM - 10:00 PM</td>\n",
       "      <td>...</td>\n",
       "      <td>1</td>\n",
       "      <td>3</td>\n",
       "      <td>4</td>\n",
       "      <td>5</td>\n",
       "      <td>4.5</td>\n",
       "      <td>4.5</td>\n",
       "      <td>4.5</td>\n",
       "      <td>4.5</td>\n",
       "      <td>4.0</td>\n",
       "      <td>https://www.tripadvisor.com.sg/Restaurant_Revi...</td>\n",
       "    </tr>\n",
       "    <tr>\n",
       "      <th>1</th>\n",
       "      <td>Entre-Nous creperie</td>\n",
       "      <td>27 Seah Street # 01-01, Singapore 188383 Singa...</td>\n",
       "      <td>Central Area/City Area</td>\n",
       "      <td>1.296215</td>\n",
       "      <td>103.85462</td>\n",
       "      <td>City Hall Building</td>\n",
       "      <td>0.4</td>\n",
       "      <td>mid range</td>\n",
       "      <td>S$13 - S$27</td>\n",
       "      <td>NaN</td>\n",
       "      <td>...</td>\n",
       "      <td>9</td>\n",
       "      <td>27</td>\n",
       "      <td>161</td>\n",
       "      <td>1056</td>\n",
       "      <td>5.0</td>\n",
       "      <td>5.0</td>\n",
       "      <td>5.0</td>\n",
       "      <td>5.0</td>\n",
       "      <td>5.0</td>\n",
       "      <td>https://www.tripadvisor.com.sg/Restaurant_Revi...</td>\n",
       "    </tr>\n",
       "    <tr>\n",
       "      <th>2</th>\n",
       "      <td>The Courtyard</td>\n",
       "      <td>1 Fullerton Square Fullerton Hotel The Fullert...</td>\n",
       "      <td>Central Area/City Area</td>\n",
       "      <td>1.286365</td>\n",
       "      <td>103.85306</td>\n",
       "      <td>Merlion Park</td>\n",
       "      <td>0.2</td>\n",
       "      <td>fine dining</td>\n",
       "      <td>S$40 - S$67</td>\n",
       "      <td>09:00 AM - 6:00 PM</td>\n",
       "      <td>...</td>\n",
       "      <td>20</td>\n",
       "      <td>51</td>\n",
       "      <td>179</td>\n",
       "      <td>1049</td>\n",
       "      <td>4.0</td>\n",
       "      <td>4.0</td>\n",
       "      <td>4.0</td>\n",
       "      <td>4.0</td>\n",
       "      <td>4.5</td>\n",
       "      <td>https://www.tripadvisor.com.sg/Restaurant_Revi...</td>\n",
       "    </tr>\n",
       "    <tr>\n",
       "      <th>3</th>\n",
       "      <td>Portman's Bar</td>\n",
       "      <td>6 Raffles Boulevard Marina Square Level 4 At P...</td>\n",
       "      <td>Marina Centre</td>\n",
       "      <td>1.291641</td>\n",
       "      <td>103.85701</td>\n",
       "      <td>Merlion Park</td>\n",
       "      <td>0.6</td>\n",
       "      <td>fine dining</td>\n",
       "      <td>S$10 - S$200</td>\n",
       "      <td>10:30 AM - 10:30 PM</td>\n",
       "      <td>...</td>\n",
       "      <td>0</td>\n",
       "      <td>1</td>\n",
       "      <td>14</td>\n",
       "      <td>232</td>\n",
       "      <td>4.5</td>\n",
       "      <td>4.5</td>\n",
       "      <td>4.5</td>\n",
       "      <td>4.5</td>\n",
       "      <td>5.0</td>\n",
       "      <td>https://www.tripadvisor.com.sg/Restaurant_Revi...</td>\n",
       "    </tr>\n",
       "    <tr>\n",
       "      <th>4</th>\n",
       "      <td>Grand Shanghai Restaurant</td>\n",
       "      <td>390 Havelock Road King's Centre, Singapore 169...</td>\n",
       "      <td>Robertson Quay</td>\n",
       "      <td>1.289593</td>\n",
       "      <td>103.83567</td>\n",
       "      <td>Chinatown</td>\n",
       "      <td>1.2</td>\n",
       "      <td>mid range</td>\n",
       "      <td>[]</td>\n",
       "      <td>11:30 AM - 2:30 PM</td>\n",
       "      <td>...</td>\n",
       "      <td>3</td>\n",
       "      <td>12</td>\n",
       "      <td>74</td>\n",
       "      <td>529</td>\n",
       "      <td>4.0</td>\n",
       "      <td>4.0</td>\n",
       "      <td>4.0</td>\n",
       "      <td>4.0</td>\n",
       "      <td>5.0</td>\n",
       "      <td>https://www.tripadvisor.com.sg/Restaurant_Revi...</td>\n",
       "    </tr>\n",
       "  </tbody>\n",
       "</table>\n",
       "<p>5 rows × 35 columns</p>\n",
       "</div>"
      ],
      "text/plain": [
       "                        name  \\\n",
       "0                  Alt Pizza   \n",
       "1        Entre-Nous creperie   \n",
       "2              The Courtyard   \n",
       "3              Portman's Bar   \n",
       "4  Grand Shanghai Restaurant   \n",
       "\n",
       "                                             address                  region  \\\n",
       "0  60 Robertson Quay The Quayside 01-05, Singapor...          Robertson Quay   \n",
       "1  27 Seah Street # 01-01, Singapore 188383 Singa...  Central Area/City Area   \n",
       "2  1 Fullerton Square Fullerton Hotel The Fullert...  Central Area/City Area   \n",
       "3  6 Raffles Boulevard Marina Square Level 4 At P...           Marina Centre   \n",
       "4  390 Havelock Road King's Centre, Singapore 169...          Robertson Quay   \n",
       "\n",
       "   latitude  longitude   nearby_attraction  distance_from_attraction  \\\n",
       "0  1.290260  103.83919           Chinatown                       1.0   \n",
       "1  1.296215  103.85462  City Hall Building                       0.4   \n",
       "2  1.286365  103.85306        Merlion Park                       0.2   \n",
       "3  1.291641  103.85701        Merlion Park                       0.6   \n",
       "4  1.289593  103.83567           Chinatown                       1.2   \n",
       "\n",
       "  price_category   price_range  mon_operating_hours  ... num_of_rating_2  \\\n",
       "0      mid range            []  11:00 AM - 10:00 PM  ...               1   \n",
       "1      mid range   S$13 - S$27                  NaN  ...               9   \n",
       "2    fine dining   S$40 - S$67   09:00 AM - 6:00 PM  ...              20   \n",
       "3    fine dining  S$10 - S$200  10:30 AM - 10:30 PM  ...               0   \n",
       "4      mid range            []   11:30 AM - 2:30 PM  ...               3   \n",
       "\n",
       "  num_of_rating_3 num_of_rating_4 num_of_rating_5 food_rating service_rating  \\\n",
       "0               3               4               5         4.5            4.5   \n",
       "1              27             161            1056         5.0            5.0   \n",
       "2              51             179            1049         4.0            4.0   \n",
       "3               1              14             232         4.5            4.5   \n",
       "4              12              74             529         4.0            4.0   \n",
       "\n",
       "   value_rating  atmosphere_rating overall_rating  \\\n",
       "0           4.5                4.5            4.0   \n",
       "1           5.0                5.0            5.0   \n",
       "2           4.0                4.0            4.5   \n",
       "3           4.5                4.5            5.0   \n",
       "4           4.0                4.0            5.0   \n",
       "\n",
       "                                                 url  \n",
       "0  https://www.tripadvisor.com.sg/Restaurant_Revi...  \n",
       "1  https://www.tripadvisor.com.sg/Restaurant_Revi...  \n",
       "2  https://www.tripadvisor.com.sg/Restaurant_Revi...  \n",
       "3  https://www.tripadvisor.com.sg/Restaurant_Revi...  \n",
       "4  https://www.tripadvisor.com.sg/Restaurant_Revi...  \n",
       "\n",
       "[5 rows x 35 columns]"
      ]
     },
     "execution_count": 4,
     "metadata": {},
     "output_type": "execute_result"
    }
   ],
   "source": [
    "restaurant_df = pd.read_csv('data/full_restaurant_rating_data.csv')\n",
    "restaurant_df.head()"
   ]
  },
  {
   "cell_type": "markdown",
   "metadata": {},
   "source": [
    "### Computing % of restaurants labelled as travellors choice"
   ]
  },
  {
   "cell_type": "code",
   "execution_count": 5,
   "metadata": {},
   "outputs": [
    {
     "data": {
      "text/html": [
       "<div>\n",
       "<style scoped>\n",
       "    .dataframe tbody tr th:only-of-type {\n",
       "        vertical-align: middle;\n",
       "    }\n",
       "\n",
       "    .dataframe tbody tr th {\n",
       "        vertical-align: top;\n",
       "    }\n",
       "\n",
       "    .dataframe thead th {\n",
       "        text-align: right;\n",
       "    }\n",
       "</style>\n",
       "<table border=\"1\" class=\"dataframe\">\n",
       "  <thead>\n",
       "    <tr style=\"text-align: right;\">\n",
       "      <th></th>\n",
       "      <th>is_travellors_choice = True</th>\n",
       "      <th>is_travellors_choice = False</th>\n",
       "    </tr>\n",
       "  </thead>\n",
       "  <tbody>\n",
       "    <tr>\n",
       "      <th>0</th>\n",
       "      <td>3.28</td>\n",
       "      <td>96.72</td>\n",
       "    </tr>\n",
       "  </tbody>\n",
       "</table>\n",
       "</div>"
      ],
      "text/plain": [
       "   is_travellors_choice = True  is_travellors_choice = False\n",
       "0                         3.28                         96.72"
      ]
     },
     "execution_count": 5,
     "metadata": {},
     "output_type": "execute_result"
    }
   ],
   "source": [
    "travellors_choice_data = [[ round(restaurant_df[restaurant_df['is_travellors_choice'] == True].shape[0] / restaurant_df.shape[0] * 100,2),\n",
    "round(restaurant_df[restaurant_df['is_travellors_choice'] == False].shape[0] / restaurant_df.shape[0] * 100,2)\n",
    "]]\n",
    "\n",
    "travellors_choice_df = pd.DataFrame(travellors_choice_data, columns=['is_travellors_choice = True','is_travellors_choice = False'])\n",
    "travellors_choice_df\n"
   ]
  },
  {
   "cell_type": "markdown",
   "metadata": {},
   "source": [
    "### Compute % of restaurants given michellin star"
   ]
  },
  {
   "cell_type": "code",
   "execution_count": 6,
   "metadata": {},
   "outputs": [
    {
     "data": {
      "text/html": [
       "<div>\n",
       "<style scoped>\n",
       "    .dataframe tbody tr th:only-of-type {\n",
       "        vertical-align: middle;\n",
       "    }\n",
       "\n",
       "    .dataframe tbody tr th {\n",
       "        vertical-align: top;\n",
       "    }\n",
       "\n",
       "    .dataframe thead th {\n",
       "        text-align: right;\n",
       "    }\n",
       "</style>\n",
       "<table border=\"1\" class=\"dataframe\">\n",
       "  <thead>\n",
       "    <tr style=\"text-align: right;\">\n",
       "      <th></th>\n",
       "      <th>is_michellin = True</th>\n",
       "      <th>is_michellin = False</th>\n",
       "    </tr>\n",
       "  </thead>\n",
       "  <tbody>\n",
       "    <tr>\n",
       "      <th>0</th>\n",
       "      <td>1.75</td>\n",
       "      <td>98.25</td>\n",
       "    </tr>\n",
       "  </tbody>\n",
       "</table>\n",
       "</div>"
      ],
      "text/plain": [
       "   is_michellin = True  is_michellin = False\n",
       "0                 1.75                 98.25"
      ]
     },
     "execution_count": 6,
     "metadata": {},
     "output_type": "execute_result"
    }
   ],
   "source": [
    "michellin_data = [[ round(restaurant_df[restaurant_df['is_michellin'] == True].shape[0] / restaurant_df.shape[0] * 100,2),\n",
    "round(restaurant_df[restaurant_df['is_michellin'] == False].shape[0] / restaurant_df.shape[0] * 100,2)\n",
    "]]\n",
    "\n",
    "michellin_df = pd.DataFrame(michellin_data, columns=['is_michellin = True','is_michellin = False'])\n",
    "michellin_df"
   ]
  },
  {
   "cell_type": "markdown",
   "metadata": {},
   "source": [
    "### Compute correlation between is_travellors_choice, is_michellin with overall_rating"
   ]
  },
  {
   "cell_type": "code",
   "execution_count": 95,
   "metadata": {},
   "outputs": [
    {
     "data": {
      "text/html": [
       "<div>\n",
       "<style scoped>\n",
       "    .dataframe tbody tr th:only-of-type {\n",
       "        vertical-align: middle;\n",
       "    }\n",
       "\n",
       "    .dataframe tbody tr th {\n",
       "        vertical-align: top;\n",
       "    }\n",
       "\n",
       "    .dataframe thead th {\n",
       "        text-align: right;\n",
       "    }\n",
       "</style>\n",
       "<table border=\"1\" class=\"dataframe\">\n",
       "  <thead>\n",
       "    <tr style=\"text-align: right;\">\n",
       "      <th></th>\n",
       "      <th>is_travellors_choice</th>\n",
       "      <th>is_michellin</th>\n",
       "      <th>overall_rating</th>\n",
       "    </tr>\n",
       "  </thead>\n",
       "  <tbody>\n",
       "    <tr>\n",
       "      <th>is_travellors_choice</th>\n",
       "      <td>1.000000</td>\n",
       "      <td>0.148237</td>\n",
       "      <td>0.111390</td>\n",
       "    </tr>\n",
       "    <tr>\n",
       "      <th>is_michellin</th>\n",
       "      <td>0.148237</td>\n",
       "      <td>1.000000</td>\n",
       "      <td>0.066304</td>\n",
       "    </tr>\n",
       "    <tr>\n",
       "      <th>overall_rating</th>\n",
       "      <td>0.111390</td>\n",
       "      <td>0.066304</td>\n",
       "      <td>1.000000</td>\n",
       "    </tr>\n",
       "  </tbody>\n",
       "</table>\n",
       "</div>"
      ],
      "text/plain": [
       "                      is_travellors_choice  is_michellin  overall_rating\n",
       "is_travellors_choice              1.000000      0.148237        0.111390\n",
       "is_michellin                      0.148237      1.000000        0.066304\n",
       "overall_rating                    0.111390      0.066304        1.000000"
      ]
     },
     "execution_count": 95,
     "metadata": {},
     "output_type": "execute_result"
    }
   ],
   "source": [
    "restaurant_df_copy = restaurant_df.copy()\n",
    "restaurant_df_copy['is_travellors_choice'] = restaurant_df_copy['is_travellors_choice'].astype(int)\n",
    "restaurant_df_copy['is_michellin'] = restaurant_df_copy['is_michellin'].astype(int)\n",
    "\n",
    "restaurant_df_copy = restaurant_df_copy[['is_travellors_choice','is_michellin','overall_rating']]\n",
    "restaurant_df_copy.corr(method='pearson')"
   ]
  },
  {
   "cell_type": "markdown",
   "metadata": {},
   "source": [
    "### Number of Reviews (Histogram)"
   ]
  },
  {
   "cell_type": "code",
   "execution_count": 94,
   "metadata": {},
   "outputs": [
    {
     "name": "stdout",
     "output_type": "stream",
     "text": [
      "0           1492\n",
      "1-20        6600\n",
      "21-100      2062\n",
      "101-200      497\n",
      "201-300      177\n",
      "301-400      109\n",
      "401-500       67\n",
      "501-600       50\n",
      "601-700       39\n",
      "701-800       14\n",
      "801-900       14\n",
      "901-1000       9\n",
      ">1000         31\n",
      "Name: reviews_bins, dtype: int64\n"
     ]
    },
    {
     "data": {
      "text/plain": [
       "<AxesSubplot:>"
      ]
     },
     "execution_count": 94,
     "metadata": {},
     "output_type": "execute_result"
    },
    {
     "data": {
      "image/png": "[encoded data removed]",
      "text/plain": [
       "<Figure size 432x288 with 1 Axes>"
      ]
     },
     "metadata": {
      "needs_background": "light"
     },
     "output_type": "display_data"
    }
   ],
   "source": [
    "num_of_reviews_df2 = restaurant_df.copy()\n",
    "\n",
    "num_of_reviews_df2.describe()['num_of_reviews'].loc[['min', 'max']]\n",
    "\n",
    "# (-1, 0] = value of -1 is not included in this bin but a value of 0 is included\n",
    "# this is to see how many 0 reviews are there in the dataset\n",
    "reviews_bins = [-1, 0, 20, 100, 200, 300, 400, 500, 600, 700, 800, 900, 1000, 10000]\n",
    "reviews_bins_labels = ['0', '1-20', '21-100', '101-200', '201-300', '301-400', '401-500', '501-600', '601-700', '701-800', '801-900', '901-1000', '>1000']\n",
    "\n",
    "num_of_reviews_df2['reviews_bins'] = pd.cut(num_of_reviews_df2['num_of_reviews'], reviews_bins, labels = reviews_bins_labels)\n",
    "\n",
    "# distribution of number_of_review in bins\n",
    "print(num_of_reviews_df2['reviews_bins'].value_counts().sort_index())\n",
    "\n",
    "# histogram of reviews\n",
    "num_of_reviews_df2['reviews_bins'].value_counts().sort_index().plot.bar()\n"
   ]
  },
  {
   "cell_type": "code",
   "execution_count": 96,
   "metadata": {},
   "outputs": [],
   "source": [
    "# Ignore this chunk of code\n",
    "\n",
    "# num_of_reviews_df2 = restaurant_df.copy()\n",
    "\n",
    "# conditions = [\n",
    "#     (num_of_reviews_df2['num_of_reviews'] == 0),\n",
    "#     (num_of_reviews_df2['num_of_reviews'] < 10),\n",
    "#     (num_of_reviews_df2['num_of_reviews'] >= 10) & (num_of_reviews_df2['num_of_reviews'] < 20),\n",
    "#     (num_of_reviews_df2['num_of_reviews'] >= 20) & (num_of_reviews_df2['num_of_reviews'] < 500),\n",
    "#     (num_of_reviews_df2['num_of_reviews'] >= 500) & (num_of_reviews_df2['num_of_reviews'] < 1000),\n",
    "#     (num_of_reviews_df2['num_of_reviews'] >= 1000)\n",
    "# ]\n",
    "\n",
    "# values = ['0 reviews', '<10 reviews', '10-19 reviews', '20-499 reviews', '500-999 reviews', '>1000 reviews']\n",
    "\n",
    "# num_of_reviews_df2['reviews_bin'] = np.select(conditions, values)\n",
    "\n",
    "# plt.style.use('ggplot')\n",
    "# plt.figure(figsize=(13,8))\n",
    "# plt.hist(num_of_reviews_df2['reviews_bin'])\n",
    "# plt.show()\n",
    "\n",
    "# print(num_of_reviews_df2['reviews_bin'] )"
   ]
  },
  {
   "cell_type": "markdown",
   "metadata": {},
   "source": [
    "### Number of Ratings (Boxplot)"
   ]
  },
  {
   "cell_type": "code",
   "execution_count": 130,
   "metadata": {},
   "outputs": [
    {
     "data": {
      "text/plain": [
       "Text(0, 0.5, 'number of reviews')"
      ]
     },
     "execution_count": 130,
     "metadata": {},
     "output_type": "execute_result"
    },
    {
     "data": {
      "image/png": "[encoded data removed]",
      "text/plain": [
       "<Figure size 432x288 with 1 Axes>"
      ]
     },
     "metadata": {
      "needs_background": "light"
     },
     "output_type": "display_data"
    }
   ],
   "source": [
    "num_of_ratings_df = restaurant_df.copy()\n",
    "\n",
    "num_of_ratings_df = num_of_ratings_df[['num_of_rating_1','num_of_rating_2','num_of_rating_3','num_of_rating_4','num_of_rating_5']]\n",
    "\n",
    "# renaming the columns for easier identification\n",
    "num_of_ratings_df.rename(columns = {'num_of_rating_1':'1 star', 'num_of_rating_2':'2 star', 'num_of_rating_3':'3 star', 'num_of_rating_4':'4 star', 'num_of_rating_5':'5 star'}, inplace = True)\n",
    "\n",
    "num_of_ratings_melted = pd.melt(num_of_ratings_df)\n",
    "\n",
    "#print(num_of_ratings_melted)\n",
    "\n",
    "#create seaborn plot\n",
    "sns.boxplot(x='variable', y='value', data=num_of_ratings_melted).set(title = 'Number of reviews for each ratings')\n",
    "plt.xlabel('ratings')\n",
    "plt.ylabel('number of reviews')"
   ]
  },
  {
   "cell_type": "markdown",
   "metadata": {},
   "source": [
    "### Average Rating (calculated from num_of_rating)"
   ]
  },
  {
   "cell_type": "code",
   "execution_count": 116,
   "metadata": {},
   "outputs": [],
   "source": [
    "average_rating_df = restaurant_df.copy()\n",
    "\n",
    "average_rating_df['total_ratings'] = average_rating_df['num_of_rating_1'] + average_rating_df['num_of_rating_2'] + average_rating_df['num_of_rating_3'] + average_rating_df['num_of_rating_4'] + average_rating_df['num_of_rating_5']\n",
    "\n",
    "average_rating_df['total_stars'] = (average_rating_df['num_of_rating_1'] * 1) + (average_rating_df['num_of_rating_2'] * 2) + (average_rating_df['num_of_rating_3'] * 3) + (average_rating_df['num_of_rating_4'] * 4) + (average_rating_df['num_of_rating_5'] * 5)   \n",
    "\n",
    "average_rating_df['average_rating'] = round(average_rating_df['total_stars'] / average_rating_df['total_ratings'], 2)\n"
   ]
  },
  {
   "cell_type": "code",
   "execution_count": 105,
   "metadata": {},
   "outputs": [
    {
     "data": {
      "text/plain": [
       "<AxesSubplot:>"
      ]
     },
     "execution_count": 105,
     "metadata": {},
     "output_type": "execute_result"
    },
    {
     "data": {
      "image/png": "[encoded data removed]",
      "text/plain": [
       "<Figure size 432x288 with 1 Axes>"
      ]
     },
     "metadata": {
      "needs_background": "light"
     },
     "output_type": "display_data"
    }
   ],
   "source": [
    "# visualizing distribution of average rating \n",
    "average_rating_df['average_rating'].value_counts().sort_index().plot()"
   ]
  },
  {
   "cell_type": "code",
   "execution_count": 117,
   "metadata": {},
   "outputs": [
    {
     "name": "stdout",
     "output_type": "stream",
     "text": [
      "Average Rating at 10 percentile: 3.0\n",
      "Average Rating at 20 percentile: 3.33\n",
      "Average Rating at 30 percentile: 3.62\n",
      "Average Rating at 40 percentile: 3.82\n",
      "Average Rating at 50 percentile: 4.0\n",
      "Average Rating at 60 percentile: 4.0\n",
      "Average Rating at 70 percentile: 4.18\n",
      "Average Rating at 80 percentile: 4.41\n",
      "Average Rating at 90 percentile: 4.75\n",
      "Average Rating at 100 percentile: 5.0\n"
     ]
    }
   ],
   "source": [
    "# Average rating in percentile order \n",
    "for i in np.arange(0.1, 1.1, 0.1):\n",
    "    print(f'Average Rating at {round(int(i*100), 2)} percentile: ' + str(round(average_rating_df['average_rating'].quantile(i), 2)))"
   ]
  },
  {
   "cell_type": "markdown",
   "metadata": {},
   "source": [
    "### Food rating, Service rating, Value rating, Atmosphere rating"
   ]
  },
  {
   "cell_type": "code",
   "execution_count": 119,
   "metadata": {},
   "outputs": [
    {
     "data": {
      "text/plain": [
       "<AxesSubplot:xlabel='variable', ylabel='value'>"
      ]
     },
     "execution_count": 119,
     "metadata": {},
     "output_type": "execute_result"
    },
    {
     "data": {
      "image/png": "[encoded data removed]",
      "text/plain": [
       "<Figure size 432x288 with 1 Axes>"
      ]
     },
     "metadata": {
      "needs_background": "light"
     },
     "output_type": "display_data"
    }
   ],
   "source": [
    "various_ratings_df = restaurant_df.copy()\n",
    "\n",
    "various_ratings_df = various_ratings_df[['food_rating','service_rating','value_rating','atmosphere_rating']]\n",
    "\n",
    "various_ratings_melted = pd.melt(various_ratings_df)\n",
    "\n",
    "# create seaborn plot\n",
    "sns.boxplot(x='variable', y='value', data=various_ratings_melted)\n"
   ]
  },
  {
   "cell_type": "markdown",
   "metadata": {},
   "source": [
    "### Overall Rating"
   ]
  },
  {
   "cell_type": "code",
   "execution_count": 123,
   "metadata": {},
   "outputs": [
    {
     "data": {
      "text/plain": [
       "<AxesSubplot:>"
      ]
     },
     "execution_count": 123,
     "metadata": {},
     "output_type": "execute_result"
    },
    {
     "data": {
      "image/png": "[encoded data removed]",
      "text/plain": [
       "<Figure size 432x288 with 1 Axes>"
      ]
     },
     "metadata": {
      "needs_background": "light"
     },
     "output_type": "display_data"
    }
   ],
   "source": [
    "overall_rating_df = restaurant_df.copy()\n",
    "\n",
    "# plotting only overall_ratings that are not -1\n",
    "overall_rating_df[overall_rating_df['overall_rating'] != -1]['overall_rating'].value_counts().sort_index().plot.bar()\n"
   ]
  },
  {
   "cell_type": "code",
   "execution_count": 124,
   "metadata": {},
   "outputs": [
    {
     "name": "stdout",
     "output_type": "stream",
     "text": [
      "Overall Rating at 10 percentile: 3.0\n",
      "Overall Rating at 20 percentile: 3.5\n",
      "Overall Rating at 30 percentile: 3.5\n",
      "Overall Rating at 40 percentile: 4.0\n",
      "Overall Rating at 50 percentile: 4.0\n",
      "Overall Rating at 60 percentile: 4.0\n",
      "Overall Rating at 70 percentile: 4.0\n",
      "Overall Rating at 80 percentile: 4.5\n",
      "Overall Rating at 90 percentile: 4.5\n",
      "Overall Rating at 100 percentile: 5.0\n"
     ]
    }
   ],
   "source": [
    "# Overall rating in percentile order \n",
    "for i in np.arange(0.1, 1.1, 0.1):\n",
    "    print(f'Overall Rating at {round(int(i*100), 2)} percentile: ' + str(round(overall_rating_df[overall_rating_df['overall_rating'] != -1]['overall_rating'].quantile(i), 2)))\n"
   ]
  }
 ],
 "metadata": {
  "interpreter": {
   "hash": "9164f9f156afd3270be00908a629fdf90d3514ea3445c456a2207d485b2a9e05"
  },
  "kernelspec": {
   "display_name": "Python 3.9.7 ('base')",
   "language": "python",
   "name": "python3"
  },
  "language_info": {
   "codemirror_mode": {
    "name": "ipython",
    "version": 3
   },
   "file_extension": ".py",
   "mimetype": "text/x-python",
   "name": "python",
   "nbconvert_exporter": "python",
   "pygments_lexer": "ipython3",
   "version": "3.9.7"
  },
  "orig_nbformat": 4
 },
 "nbformat": 4,
 "nbformat_minor": 2
}
