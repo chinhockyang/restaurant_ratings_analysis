{
 "cells": [
  {
   "cell_type": "code",
   "execution_count": 1,
   "metadata": {},
   "outputs": [],
   "source": [
    "import pandas as pd\n",
    "import numpy as np\n",
    "import seaborn as sns\n",
    "import matplotlib.pyplot as plt"
   ]
  },
  {
   "cell_type": "code",
   "execution_count": 3,
   "metadata": {},
   "outputs": [
    {
     "data": {
      "text/html": [
       "<div>\n",
       "<style scoped>\n",
       "    .dataframe tbody tr th:only-of-type {\n",
       "        vertical-align: middle;\n",
       "    }\n",
       "\n",
       "    .dataframe tbody tr th {\n",
       "        vertical-align: top;\n",
       "    }\n",
       "\n",
       "    .dataframe thead th {\n",
       "        text-align: right;\n",
       "    }\n",
       "</style>\n",
       "<table border=\"1\" class=\"dataframe\">\n",
       "  <thead>\n",
       "    <tr style=\"text-align: right;\">\n",
       "      <th></th>\n",
       "      <th>name</th>\n",
       "      <th>address</th>\n",
       "      <th>region</th>\n",
       "      <th>latitude</th>\n",
       "      <th>longitude</th>\n",
       "      <th>nearby_attraction</th>\n",
       "      <th>distance_from_attraction</th>\n",
       "      <th>price_category</th>\n",
       "      <th>price_range</th>\n",
       "      <th>mon_operating_hours</th>\n",
       "      <th>...</th>\n",
       "      <th>num_of_rating_2</th>\n",
       "      <th>num_of_rating_3</th>\n",
       "      <th>num_of_rating_4</th>\n",
       "      <th>num_of_rating_5</th>\n",
       "      <th>food_rating</th>\n",
       "      <th>service_rating</th>\n",
       "      <th>value_rating</th>\n",
       "      <th>atmosphere_rating</th>\n",
       "      <th>overall_rating</th>\n",
       "      <th>url</th>\n",
       "    </tr>\n",
       "  </thead>\n",
       "  <tbody>\n",
       "    <tr>\n",
       "      <th>0</th>\n",
       "      <td>Alt Pizza</td>\n",
       "      <td>60 Robertson Quay The Quayside 01-05, Singapor...</td>\n",
       "      <td>Robertson Quay</td>\n",
       "      <td>1.290260</td>\n",
       "      <td>103.83919</td>\n",
       "      <td>Chinatown</td>\n",
       "      <td>1.0</td>\n",
       "      <td>mid range</td>\n",
       "      <td>[]</td>\n",
       "      <td>11:00 AM - 10:00 PM</td>\n",
       "      <td>...</td>\n",
       "      <td>1</td>\n",
       "      <td>3</td>\n",
       "      <td>4</td>\n",
       "      <td>5</td>\n",
       "      <td>4.5</td>\n",
       "      <td>4.5</td>\n",
       "      <td>4.5</td>\n",
       "      <td>4.5</td>\n",
       "      <td>4.0</td>\n",
       "      <td>https://www.tripadvisor.com.sg/Restaurant_Revi...</td>\n",
       "    </tr>\n",
       "    <tr>\n",
       "      <th>1</th>\n",
       "      <td>Entre-Nous creperie</td>\n",
       "      <td>27 Seah Street # 01-01, Singapore 188383 Singa...</td>\n",
       "      <td>Central Area/City Area</td>\n",
       "      <td>1.296215</td>\n",
       "      <td>103.85462</td>\n",
       "      <td>City Hall Building</td>\n",
       "      <td>0.4</td>\n",
       "      <td>mid range</td>\n",
       "      <td>S$13 - S$27</td>\n",
       "      <td>NaN</td>\n",
       "      <td>...</td>\n",
       "      <td>9</td>\n",
       "      <td>27</td>\n",
       "      <td>161</td>\n",
       "      <td>1056</td>\n",
       "      <td>5.0</td>\n",
       "      <td>5.0</td>\n",
       "      <td>5.0</td>\n",
       "      <td>5.0</td>\n",
       "      <td>5.0</td>\n",
       "      <td>https://www.tripadvisor.com.sg/Restaurant_Revi...</td>\n",
       "    </tr>\n",
       "    <tr>\n",
       "      <th>2</th>\n",
       "      <td>The Courtyard</td>\n",
       "      <td>1 Fullerton Square Fullerton Hotel The Fullert...</td>\n",
       "      <td>Central Area/City Area</td>\n",
       "      <td>1.286365</td>\n",
       "      <td>103.85306</td>\n",
       "      <td>Merlion Park</td>\n",
       "      <td>0.2</td>\n",
       "      <td>fine dining</td>\n",
       "      <td>S$40 - S$67</td>\n",
       "      <td>09:00 AM - 6:00 PM</td>\n",
       "      <td>...</td>\n",
       "      <td>20</td>\n",
       "      <td>51</td>\n",
       "      <td>179</td>\n",
       "      <td>1049</td>\n",
       "      <td>4.0</td>\n",
       "      <td>4.0</td>\n",
       "      <td>4.0</td>\n",
       "      <td>4.0</td>\n",
       "      <td>4.5</td>\n",
       "      <td>https://www.tripadvisor.com.sg/Restaurant_Revi...</td>\n",
       "    </tr>\n",
       "    <tr>\n",
       "      <th>3</th>\n",
       "      <td>Portman's Bar</td>\n",
       "      <td>6 Raffles Boulevard Marina Square Level 4 At P...</td>\n",
       "      <td>Marina Centre</td>\n",
       "      <td>1.291641</td>\n",
       "      <td>103.85701</td>\n",
       "      <td>Merlion Park</td>\n",
       "      <td>0.6</td>\n",
       "      <td>fine dining</td>\n",
       "      <td>S$10 - S$200</td>\n",
       "      <td>10:30 AM - 10:30 PM</td>\n",
       "      <td>...</td>\n",
       "      <td>0</td>\n",
       "      <td>1</td>\n",
       "      <td>14</td>\n",
       "      <td>232</td>\n",
       "      <td>4.5</td>\n",
       "      <td>4.5</td>\n",
       "      <td>4.5</td>\n",
       "      <td>4.5</td>\n",
       "      <td>5.0</td>\n",
       "      <td>https://www.tripadvisor.com.sg/Restaurant_Revi...</td>\n",
       "    </tr>\n",
       "    <tr>\n",
       "      <th>4</th>\n",
       "      <td>Grand Shanghai Restaurant</td>\n",
       "      <td>390 Havelock Road King's Centre, Singapore 169...</td>\n",
       "      <td>Robertson Quay</td>\n",
       "      <td>1.289593</td>\n",
       "      <td>103.83567</td>\n",
       "      <td>Chinatown</td>\n",
       "      <td>1.2</td>\n",
       "      <td>mid range</td>\n",
       "      <td>[]</td>\n",
       "      <td>11:30 AM - 2:30 PM</td>\n",
       "      <td>...</td>\n",
       "      <td>3</td>\n",
       "      <td>12</td>\n",
       "      <td>74</td>\n",
       "      <td>529</td>\n",
       "      <td>4.0</td>\n",
       "      <td>4.0</td>\n",
       "      <td>4.0</td>\n",
       "      <td>4.0</td>\n",
       "      <td>5.0</td>\n",
       "      <td>https://www.tripadvisor.com.sg/Restaurant_Revi...</td>\n",
       "    </tr>\n",
       "  </tbody>\n",
       "</table>\n",
       "<p>5 rows × 35 columns</p>\n",
       "</div>"
      ],
      "text/plain": [
       "                        name  \\\n",
       "0                  Alt Pizza   \n",
       "1        Entre-Nous creperie   \n",
       "2              The Courtyard   \n",
       "3              Portman's Bar   \n",
       "4  Grand Shanghai Restaurant   \n",
       "\n",
       "                                             address                  region  \\\n",
       "0  60 Robertson Quay The Quayside 01-05, Singapor...          Robertson Quay   \n",
       "1  27 Seah Street # 01-01, Singapore 188383 Singa...  Central Area/City Area   \n",
       "2  1 Fullerton Square Fullerton Hotel The Fullert...  Central Area/City Area   \n",
       "3  6 Raffles Boulevard Marina Square Level 4 At P...           Marina Centre   \n",
       "4  390 Havelock Road King's Centre, Singapore 169...          Robertson Quay   \n",
       "\n",
       "   latitude  longitude   nearby_attraction  distance_from_attraction  \\\n",
       "0  1.290260  103.83919           Chinatown                       1.0   \n",
       "1  1.296215  103.85462  City Hall Building                       0.4   \n",
       "2  1.286365  103.85306        Merlion Park                       0.2   \n",
       "3  1.291641  103.85701        Merlion Park                       0.6   \n",
       "4  1.289593  103.83567           Chinatown                       1.2   \n",
       "\n",
       "  price_category   price_range  mon_operating_hours  ... num_of_rating_2  \\\n",
       "0      mid range            []  11:00 AM - 10:00 PM  ...               1   \n",
       "1      mid range   S$13 - S$27                  NaN  ...               9   \n",
       "2    fine dining   S$40 - S$67   09:00 AM - 6:00 PM  ...              20   \n",
       "3    fine dining  S$10 - S$200  10:30 AM - 10:30 PM  ...               0   \n",
       "4      mid range            []   11:30 AM - 2:30 PM  ...               3   \n",
       "\n",
       "  num_of_rating_3 num_of_rating_4 num_of_rating_5 food_rating service_rating  \\\n",
       "0               3               4               5         4.5            4.5   \n",
       "1              27             161            1056         5.0            5.0   \n",
       "2              51             179            1049         4.0            4.0   \n",
       "3               1              14             232         4.5            4.5   \n",
       "4              12              74             529         4.0            4.0   \n",
       "\n",
       "   value_rating  atmosphere_rating overall_rating  \\\n",
       "0           4.5                4.5            4.0   \n",
       "1           5.0                5.0            5.0   \n",
       "2           4.0                4.0            4.5   \n",
       "3           4.5                4.5            5.0   \n",
       "4           4.0                4.0            5.0   \n",
       "\n",
       "                                                 url  \n",
       "0  https://www.tripadvisor.com.sg/Restaurant_Revi...  \n",
       "1  https://www.tripadvisor.com.sg/Restaurant_Revi...  \n",
       "2  https://www.tripadvisor.com.sg/Restaurant_Revi...  \n",
       "3  https://www.tripadvisor.com.sg/Restaurant_Revi...  \n",
       "4  https://www.tripadvisor.com.sg/Restaurant_Revi...  \n",
       "\n",
       "[5 rows x 35 columns]"
      ]
     },
     "execution_count": 3,
     "metadata": {},
     "output_type": "execute_result"
    }
   ],
   "source": [
    "restaurant_df = pd.read_csv('data/full_restaurant_rating_data.csv')\n",
    "restaurant_df.head()"
   ]
  },
  {
   "cell_type": "markdown",
   "metadata": {},
   "source": [
    "### Computing % of restaurants labelled as travellors choice"
   ]
  },
  {
   "cell_type": "code",
   "execution_count": 4,
   "metadata": {},
   "outputs": [
    {
     "data": {
      "text/html": [
       "<div>\n",
       "<style scoped>\n",
       "    .dataframe tbody tr th:only-of-type {\n",
       "        vertical-align: middle;\n",
       "    }\n",
       "\n",
       "    .dataframe tbody tr th {\n",
       "        vertical-align: top;\n",
       "    }\n",
       "\n",
       "    .dataframe thead th {\n",
       "        text-align: right;\n",
       "    }\n",
       "</style>\n",
       "<table border=\"1\" class=\"dataframe\">\n",
       "  <thead>\n",
       "    <tr style=\"text-align: right;\">\n",
       "      <th></th>\n",
       "      <th>is_travellors_choice = True</th>\n",
       "      <th>is_travellors_choice = False</th>\n",
       "    </tr>\n",
       "  </thead>\n",
       "  <tbody>\n",
       "    <tr>\n",
       "      <th>0</th>\n",
       "      <td>3.28</td>\n",
       "      <td>96.72</td>\n",
       "    </tr>\n",
       "  </tbody>\n",
       "</table>\n",
       "</div>"
      ],
      "text/plain": [
       "   is_travellors_choice = True  is_travellors_choice = False\n",
       "0                         3.28                         96.72"
      ]
     },
     "execution_count": 4,
     "metadata": {},
     "output_type": "execute_result"
    }
   ],
   "source": [
    "travellors_choice_data = [[ round(restaurant_df[restaurant_df['is_travellors_choice'] == True].shape[0] / restaurant_df.shape[0] * 100,2),\n",
    "round(restaurant_df[restaurant_df['is_travellors_choice'] == False].shape[0] / restaurant_df.shape[0] * 100,2)\n",
    "]]\n",
    "\n",
    "travellors_choice_df = pd.DataFrame(travellors_choice_data, columns=['is_travellors_choice = True','is_travellors_choice = False'])\n",
    "travellors_choice_df\n"
   ]
  },
  {
   "cell_type": "markdown",
   "metadata": {},
   "source": [
    "### Compute % of restaurants given michellin star"
   ]
  },
  {
   "cell_type": "code",
   "execution_count": 5,
   "metadata": {},
   "outputs": [
    {
     "data": {
      "text/html": [
       "<div>\n",
       "<style scoped>\n",
       "    .dataframe tbody tr th:only-of-type {\n",
       "        vertical-align: middle;\n",
       "    }\n",
       "\n",
       "    .dataframe tbody tr th {\n",
       "        vertical-align: top;\n",
       "    }\n",
       "\n",
       "    .dataframe thead th {\n",
       "        text-align: right;\n",
       "    }\n",
       "</style>\n",
       "<table border=\"1\" class=\"dataframe\">\n",
       "  <thead>\n",
       "    <tr style=\"text-align: right;\">\n",
       "      <th></th>\n",
       "      <th>is_michellin = True</th>\n",
       "      <th>is_michellin = False</th>\n",
       "    </tr>\n",
       "  </thead>\n",
       "  <tbody>\n",
       "    <tr>\n",
       "      <th>0</th>\n",
       "      <td>1.75</td>\n",
       "      <td>98.25</td>\n",
       "    </tr>\n",
       "  </tbody>\n",
       "</table>\n",
       "</div>"
      ],
      "text/plain": [
       "   is_michellin = True  is_michellin = False\n",
       "0                 1.75                 98.25"
      ]
     },
     "execution_count": 5,
     "metadata": {},
     "output_type": "execute_result"
    }
   ],
   "source": [
    "michellin_data = [[ round(restaurant_df[restaurant_df['is_michellin'] == True].shape[0] / restaurant_df.shape[0] * 100,2),\n",
    "round(restaurant_df[restaurant_df['is_michellin'] == False].shape[0] / restaurant_df.shape[0] * 100,2)\n",
    "]]\n",
    "\n",
    "michellin_df = pd.DataFrame(michellin_data, columns=['is_michellin = True','is_michellin = False'])\n",
    "michellin_df"
   ]
  },
  {
   "cell_type": "markdown",
   "metadata": {},
   "source": [
    "### Compute correlation between is_travellors_choice, is_michellin with overall_rating"
   ]
  },
  {
   "cell_type": "code",
   "execution_count": 6,
   "metadata": {},
   "outputs": [
    {
     "data": {
      "text/html": [
       "<div>\n",
       "<style scoped>\n",
       "    .dataframe tbody tr th:only-of-type {\n",
       "        vertical-align: middle;\n",
       "    }\n",
       "\n",
       "    .dataframe tbody tr th {\n",
       "        vertical-align: top;\n",
       "    }\n",
       "\n",
       "    .dataframe thead th {\n",
       "        text-align: right;\n",
       "    }\n",
       "</style>\n",
       "<table border=\"1\" class=\"dataframe\">\n",
       "  <thead>\n",
       "    <tr style=\"text-align: right;\">\n",
       "      <th></th>\n",
       "      <th>is_travellors_choice</th>\n",
       "      <th>is_michellin</th>\n",
       "      <th>overall_rating</th>\n",
       "    </tr>\n",
       "  </thead>\n",
       "  <tbody>\n",
       "    <tr>\n",
       "      <th>is_travellors_choice</th>\n",
       "      <td>1.000000</td>\n",
       "      <td>0.148237</td>\n",
       "      <td>0.111390</td>\n",
       "    </tr>\n",
       "    <tr>\n",
       "      <th>is_michellin</th>\n",
       "      <td>0.148237</td>\n",
       "      <td>1.000000</td>\n",
       "      <td>0.066304</td>\n",
       "    </tr>\n",
       "    <tr>\n",
       "      <th>overall_rating</th>\n",
       "      <td>0.111390</td>\n",
       "      <td>0.066304</td>\n",
       "      <td>1.000000</td>\n",
       "    </tr>\n",
       "  </tbody>\n",
       "</table>\n",
       "</div>"
      ],
      "text/plain": [
       "                      is_travellors_choice  is_michellin  overall_rating\n",
       "is_travellors_choice              1.000000      0.148237        0.111390\n",
       "is_michellin                      0.148237      1.000000        0.066304\n",
       "overall_rating                    0.111390      0.066304        1.000000"
      ]
     },
     "execution_count": 6,
     "metadata": {},
     "output_type": "execute_result"
    }
   ],
   "source": [
    "test_df = restaurant_df[['is_travellors_choice','is_michellin','overall_rating']]\n",
    "test_df.corr(method='pearson')"
   ]
  },
  {
   "cell_type": "code",
   "execution_count": 7,
   "metadata": {},
   "outputs": [
    {
     "data": {
      "text/html": [
       "<div>\n",
       "<style scoped>\n",
       "    .dataframe tbody tr th:only-of-type {\n",
       "        vertical-align: middle;\n",
       "    }\n",
       "\n",
       "    .dataframe tbody tr th {\n",
       "        vertical-align: top;\n",
       "    }\n",
       "\n",
       "    .dataframe thead th {\n",
       "        text-align: right;\n",
       "    }\n",
       "</style>\n",
       "<table border=\"1\" class=\"dataframe\">\n",
       "  <thead>\n",
       "    <tr style=\"text-align: right;\">\n",
       "      <th></th>\n",
       "      <th>is_travellors_choice</th>\n",
       "      <th>is_michellin</th>\n",
       "      <th>overall_rating</th>\n",
       "    </tr>\n",
       "  </thead>\n",
       "  <tbody>\n",
       "    <tr>\n",
       "      <th>is_travellors_choice</th>\n",
       "      <td>1.000000</td>\n",
       "      <td>0.148237</td>\n",
       "      <td>0.111390</td>\n",
       "    </tr>\n",
       "    <tr>\n",
       "      <th>is_michellin</th>\n",
       "      <td>0.148237</td>\n",
       "      <td>1.000000</td>\n",
       "      <td>0.066304</td>\n",
       "    </tr>\n",
       "    <tr>\n",
       "      <th>overall_rating</th>\n",
       "      <td>0.111390</td>\n",
       "      <td>0.066304</td>\n",
       "      <td>1.000000</td>\n",
       "    </tr>\n",
       "  </tbody>\n",
       "</table>\n",
       "</div>"
      ],
      "text/plain": [
       "                      is_travellors_choice  is_michellin  overall_rating\n",
       "is_travellors_choice              1.000000      0.148237        0.111390\n",
       "is_michellin                      0.148237      1.000000        0.066304\n",
       "overall_rating                    0.111390      0.066304        1.000000"
      ]
     },
     "execution_count": 7,
     "metadata": {},
     "output_type": "execute_result"
    }
   ],
   "source": [
    "#restaurant_df.corr(method='pearson')\n",
    "#test_df = restaurant_df[['is_travellors_choice','is_michellin','overall_rating']]\n",
    "#test_df.corr(method='pearson')\n",
    "\n",
    "#sns.heatmap(test_df, annot=True)\n",
    "#plt.show()\n",
    "\n",
    "restaurant_df_copy = restaurant_df.copy()\n",
    "restaurant_df_copy['is_travellors_choice'] = restaurant_df_copy['is_travellors_choice'].astype(int)\n",
    "restaurant_df_copy['is_michellin'] = restaurant_df_copy['is_michellin'].astype(int)\n",
    "\n",
    "restaurant_df_copy = restaurant_df_copy[['is_travellors_choice','is_michellin','overall_rating']]\n",
    "restaurant_df_copy.corr(method='pearson')"
   ]
  },
  {
   "cell_type": "markdown",
   "metadata": {},
   "source": [
    "### Number of Reviews (Histogram)"
   ]
  },
  {
   "cell_type": "code",
   "execution_count": 34,
   "metadata": {},
   "outputs": [
    {
     "data": {
      "image/png": "[encoded data removed]",
      "text/plain": [
       "<Figure size 432x288 with 1 Axes>"
      ]
     },
     "metadata": {},
     "output_type": "display_data"
    }
   ],
   "source": [
    "num_of_reviews_df = restaurant_df.copy()\n",
    "\n",
    "conditions = [\n",
    "    (num_of_reviews_df['num_of_reviews'] < 20),\n",
    "    (num_of_reviews_df['num_of_reviews'] >= 20) & (num_of_reviews_df['num_of_reviews'] < 1000),\n",
    "    (num_of_reviews_df['num_of_reviews'] >= 1000)\n",
    "]\n",
    "\n",
    "values = ['<20 reviews', '20-1000 reviews', '>1000 reviews']\n",
    "\n",
    "num_of_reviews_df['reviews_bin'] = np.select(conditions, values)\n",
    "\n",
    "plt.hist(num_of_reviews_df['reviews_bin'])\n",
    "plt.show()"
   ]
  },
  {
   "cell_type": "code",
   "execution_count": 41,
   "metadata": {},
   "outputs": [
    {
     "data": {
      "image/png": "[encoded data removed]",
      "text/plain": [
       "<Figure size 576x576 with 1 Axes>"
      ]
     },
     "metadata": {},
     "output_type": "display_data"
    }
   ],
   "source": [
    "num_of_reviews_df2 = restaurant_df.copy()\n",
    "\n",
    "conditions = [\n",
    "    (num_of_reviews_df2['num_of_reviews'] < 10),\n",
    "    (num_of_reviews_df2['num_of_reviews'] >= 10) & (num_of_reviews_df2['num_of_reviews'] < 20),\n",
    "    (num_of_reviews_df2['num_of_reviews'] >= 20) & (num_of_reviews_df2['num_of_reviews'] < 500),\n",
    "    (num_of_reviews_df2['num_of_reviews'] >= 500) & (num_of_reviews_df2['num_of_reviews'] < 1000),\n",
    "    (num_of_reviews_df2['num_of_reviews'] >= 1000)\n",
    "]\n",
    "\n",
    "values = ['<10 reviews', '10-19 reviews', '20-499 reviews', '500-999 reviews', '>1000 reviews']\n",
    "\n",
    "num_of_reviews_df2['reviews_bin'] = np.select(conditions, values)\n",
    "\n",
    "#plt.style.use('ggplot')\n",
    "plt.figure(figsize=(8,8))\n",
    "plt.hist(num_of_reviews_df2['reviews_bin'])\n",
    "plt.show()"
   ]
  },
  {
   "cell_type": "markdown",
   "metadata": {},
   "source": [
    "### Number of Ratings (Boxplot)"
   ]
  },
  {
   "cell_type": "code",
   "execution_count": 16,
   "metadata": {},
   "outputs": [
    {
     "data": {
      "text/plain": [
       "Text(0, 0.5, 'number of reviews')"
      ]
     },
     "execution_count": 16,
     "metadata": {},
     "output_type": "execute_result"
    },
    {
     "data": {
      "image/png": "[encoded data removed]",
      "text/plain": [
       "<Figure size 432x288 with 1 Axes>"
      ]
     },
     "metadata": {
      "needs_background": "light"
     },
     "output_type": "display_data"
    }
   ],
   "source": [
    "num_of_ratings_df = restaurant_df.copy()\n",
    "\n",
    "num_of_ratings_df = num_of_ratings_df[['num_of_rating_1','num_of_rating_2','num_of_rating_3','num_of_rating_4','num_of_rating_5']]\n",
    "\n",
    "# renaming the columns for easier identification\n",
    "num_of_ratings_df.rename(columns = {'num_of_rating_1':'1 star', 'num_of_rating_2':'2 star', 'num_of_rating_3':'3 star', 'num_of_rating_4':'4 star', 'num_of_rating_5':'5 star'}, inplace = True)\n",
    "\n",
    "num_of_ratings_melted = pd.melt(num_of_ratings_df)\n",
    "\n",
    "num_of_ratings_melted\n",
    "\n",
    "#create seaborn plot\n",
    "sns.boxplot(x='variable', y='value', data=num_of_ratings_melted).set(title = 'Number of reviews for each ratings')\n",
    "plt.xlabel('ratings')\n",
    "plt.ylabel('number of reviews')"
   ]
  },
  {
   "cell_type": "markdown",
   "metadata": {},
   "source": [
    "### Average Rating (calculated from num_of_rating)"
   ]
  },
  {
   "cell_type": "code",
   "execution_count": 82,
   "metadata": {},
   "outputs": [
    {
     "data": {
      "text/plain": [
       "0        3.79\n",
       "1        4.80\n",
       "2        4.71\n",
       "3        4.90\n",
       "4        4.78\n",
       "         ... \n",
       "11156     NaN\n",
       "11157     NaN\n",
       "11158     NaN\n",
       "11159     NaN\n",
       "11160     NaN\n",
       "Name: average_rating, Length: 11161, dtype: float64"
      ]
     },
     "execution_count": 82,
     "metadata": {},
     "output_type": "execute_result"
    }
   ],
   "source": [
    "average_rating_df = restaurant_df.copy()\n",
    "\n",
    "average_rating_df['total_ratings'] = average_rating_df['num_of_rating_1'] + average_rating_df['num_of_rating_2'] + average_rating_df['num_of_rating_3'] + average_rating_df['num_of_rating_4'] + average_rating_df['num_of_rating_5']\n",
    "\n",
    "average_rating_df['total_stars'] = (average_rating_df['num_of_rating_1'] * 1) + (average_rating_df['num_of_rating_2'] * 2) + (average_rating_df['num_of_rating_3'] * 3) + (average_rating_df['num_of_rating_4'] * 4) + (average_rating_df['num_of_rating_5'] * 5)   \n",
    "\n",
    "average_rating_df['average_rating'] = round(average_rating_df['total_stars'] / average_rating_df['total_ratings'], 2)\n",
    "\n",
    "average_rating_df['average_rating']"
   ]
  },
  {
   "cell_type": "code",
   "execution_count": 83,
   "metadata": {},
   "outputs": [
    {
     "data": {
      "text/plain": [
       "<AxesSubplot:>"
      ]
     },
     "execution_count": 83,
     "metadata": {},
     "output_type": "execute_result"
    },
    {
     "data": {
      "image/png": "[encoded data removed]",
      "text/plain": [
       "<Figure size 432x288 with 1 Axes>"
      ]
     },
     "metadata": {},
     "output_type": "display_data"
    }
   ],
   "source": [
    "average_rating_df['average_rating'].value_counts().sort_index().plot()"
   ]
  },
  {
   "cell_type": "markdown",
   "metadata": {},
   "source": [
    "### Average Rating Top 30% mark"
   ]
  },
  {
   "cell_type": "code",
   "execution_count": 80,
   "metadata": {},
   "outputs": [
    {
     "data": {
      "text/plain": [
       "name                                                             Golden Peony\n",
       "address                     Conrad Centennial Singapore Level 3, Conrad Ce...\n",
       "region                                                          Marina Centre\n",
       "latitude                                                             1.293329\n",
       "longitude                                                           103.85898\n",
       "nearby_attraction                                                Merlion Park\n",
       "distance_from_attraction                                                  0.9\n",
       "price_category                                                            NaN\n",
       "price_range                                                                []\n",
       "mon_operating_hours                                                       NaN\n",
       "tue_operating_hours                                                       NaN\n",
       "wed_operating_hours                                                       NaN\n",
       "thu_operating_hours                                                       NaN\n",
       "fri_operating_hours                                                       NaN\n",
       "sat_operating_hours                                                       NaN\n",
       "sun_operating_hours                                                       NaN\n",
       "is_travellors_choice                                                    False\n",
       "is_michellin                                                             True\n",
       "about                                                                     NaN\n",
       "list_of_meals                                                   Dinner, Lunch\n",
       "list_of_cuisines                                  Asian, Singaporean, Chinese\n",
       "list_of_features                         Reservations, Seating, Table Service\n",
       "list_of_special_diets                                                      []\n",
       "num_of_reviews                                                             14\n",
       "num_of_rating_1                                                             0\n",
       "num_of_rating_2                                                             1\n",
       "num_of_rating_3                                                             1\n",
       "num_of_rating_4                                                             1\n",
       "num_of_rating_5                                                             8\n",
       "food_rating                                                               NaN\n",
       "service_rating                                                            NaN\n",
       "value_rating                                                              NaN\n",
       "atmosphere_rating                                                         NaN\n",
       "overall_rating                                                            4.5\n",
       "url                         https://www.tripadvisor.com.sg/Restaurant_Revi...\n",
       "total_ratings                                                              11\n",
       "total_stars                                                                49\n",
       "average_rating                                                           4.45\n",
       "Name: 2175, dtype: object"
      ]
     },
     "execution_count": 80,
     "metadata": {},
     "output_type": "execute_result"
    }
   ],
   "source": [
    "average_rating_df.sort_values(by = 'average_rating').iloc[7813]"
   ]
  },
  {
   "cell_type": "markdown",
   "metadata": {},
   "source": [
    "### Food rating, Service rating, Value rating, Atmosphere rating"
   ]
  },
  {
   "cell_type": "code",
   "execution_count": 132,
   "metadata": {},
   "outputs": [
    {
     "data": {
      "text/plain": [
       "<AxesSubplot:xlabel='variable', ylabel='value'>"
      ]
     },
     "execution_count": 132,
     "metadata": {},
     "output_type": "execute_result"
    },
    {
     "data": {
      "image/png": "[encoded data removed]",
      "text/plain": [
       "<Figure size 432x288 with 1 Axes>"
      ]
     },
     "metadata": {
      "needs_background": "light"
     },
     "output_type": "display_data"
    }
   ],
   "source": [
    "various_ratings_df = restaurant_df.copy()\n",
    "\n",
    "various_ratings_df = various_ratings_df[['food_rating','service_rating','value_rating','atmosphere_rating']]\n",
    "\n",
    "various_ratings_melted = pd.melt(various_ratings_df)\n",
    "\n",
    "various_ratings_melted\n",
    "\n",
    "# create seaborn plot\n",
    "sns.boxplot(x='variable', y='value', data=various_ratings_melted)\n"
   ]
  },
  {
   "cell_type": "markdown",
   "metadata": {},
   "source": [
    "### Overall Rating"
   ]
  },
  {
   "cell_type": "code",
   "execution_count": 13,
   "metadata": {},
   "outputs": [
    {
     "data": {
      "image/png": "[encoded data removed]",
      "text/plain": [
       "<Figure size 432x288 with 1 Axes>"
      ]
     },
     "metadata": {
      "needs_background": "light"
     },
     "output_type": "display_data"
    }
   ],
   "source": [
    "overall_rating_df = restaurant_df.copy()\n",
    "\n",
    "plt.hist(overall_rating_df['overall_rating'])\n",
    "plt.show()"
   ]
  },
  {
   "cell_type": "markdown",
   "metadata": {},
   "source": [
    "### Overall Rating Top 30% mark"
   ]
  },
  {
   "cell_type": "code",
   "execution_count": 79,
   "metadata": {},
   "outputs": [
    {
     "data": {
      "text/plain": [
       "name                                                Ban Leong Wah Hoe Seafood\n",
       "address                     122 Casuarina Road Sembawang Hills Estate, Sin...\n",
       "region                                                             Ang Mo Kio\n",
       "latitude                                                             1.376776\n",
       "longitude                                                           103.82812\n",
       "nearby_attraction                                               Singapore Zoo\n",
       "distance_from_attraction                                                  5.0\n",
       "price_category                                                      mid range\n",
       "price_range                                                       S$11 - S$44\n",
       "mon_operating_hours                                        11:00 AM - 2:30 PM\n",
       "tue_operating_hours                                        11:00 AM - 2:30 PM\n",
       "wed_operating_hours                                        11:00 AM - 2:30 PM\n",
       "thu_operating_hours                                        11:00 AM - 2:30 PM\n",
       "fri_operating_hours                                        11:00 AM - 2:30 PM\n",
       "sat_operating_hours                                        11:00 AM - 2:30 PM\n",
       "sun_operating_hours                                        11:00 AM - 2:30 PM\n",
       "is_travellors_choice                                                    False\n",
       "is_michellin                                                            False\n",
       "about                                                                     NaN\n",
       "list_of_meals                                                   Lunch, Dinner\n",
       "list_of_cuisines                         Chinese, Seafood, Asian, Singaporean\n",
       "list_of_features            Takeout, Seating, Serves Alcohol, Reservations...\n",
       "list_of_special_diets                                                      []\n",
       "num_of_reviews                                                             69\n",
       "num_of_rating_1                                                             5\n",
       "num_of_rating_2                                                             1\n",
       "num_of_rating_3                                                             8\n",
       "num_of_rating_4                                                            25\n",
       "num_of_rating_5                                                            27\n",
       "food_rating                                                               4.5\n",
       "service_rating                                                            4.0\n",
       "value_rating                                                              4.0\n",
       "atmosphere_rating                                                         NaN\n",
       "overall_rating                                                            4.0\n",
       "url                         https://www.tripadvisor.com.sg/Restaurant_Revi...\n",
       "Name: 1308, dtype: object"
      ]
     },
     "execution_count": 79,
     "metadata": {},
     "output_type": "execute_result"
    }
   ],
   "source": [
    "overall_rating_df.sort_values(by = 'overall_rating').iloc[7813]"
   ]
  }
 ],
 "metadata": {
  "interpreter": {
   "hash": "9164f9f156afd3270be00908a629fdf90d3514ea3445c456a2207d485b2a9e05"
  },
  "kernelspec": {
   "display_name": "Python 3.9.7 ('base')",
   "language": "python",
   "name": "python3"
  },
  "language_info": {
   "codemirror_mode": {
    "name": "ipython",
    "version": 3
   },
   "file_extension": ".py",
   "mimetype": "text/x-python",
   "name": "python",
   "nbconvert_exporter": "python",
   "pygments_lexer": "ipython3",
   "version": "3.9.7"
  },
  "orig_nbformat": 4
 },
 "nbformat": 4,
 "nbformat_minor": 2
}
