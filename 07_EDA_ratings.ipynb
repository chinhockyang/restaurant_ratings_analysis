{
 "cells": [
  {
   "cell_type": "code",
   "execution_count": 131,
   "metadata": {},
   "outputs": [],
   "source": [
    "import pandas as pd\n",
    "import numpy as np\n",
    "import seaborn as sns\n",
    "import matplotlib.pyplot as plt"
   ]
  },
  {
   "cell_type": "code",
   "execution_count": 206,
   "metadata": {},
   "outputs": [],
   "source": [
    "restaurant_df = pd.read_csv('data/full_restaurant_rating_data.csv')"
   ]
  },
  {
   "cell_type": "markdown",
   "metadata": {},
   "source": [
    "### Computing % of restaurants labelled as travellors choice"
   ]
  },
  {
   "cell_type": "code",
   "execution_count": 5,
   "metadata": {},
   "outputs": [
    {
     "data": {
      "text/html": [
       "<div>\n",
       "<style scoped>\n",
       "    .dataframe tbody tr th:only-of-type {\n",
       "        vertical-align: middle;\n",
       "    }\n",
       "\n",
       "    .dataframe tbody tr th {\n",
       "        vertical-align: top;\n",
       "    }\n",
       "\n",
       "    .dataframe thead th {\n",
       "        text-align: right;\n",
       "    }\n",
       "</style>\n",
       "<table border=\"1\" class=\"dataframe\">\n",
       "  <thead>\n",
       "    <tr style=\"text-align: right;\">\n",
       "      <th></th>\n",
       "      <th>is_travellors_choice = True</th>\n",
       "      <th>is_travellors_choice = False</th>\n",
       "    </tr>\n",
       "  </thead>\n",
       "  <tbody>\n",
       "    <tr>\n",
       "      <th>0</th>\n",
       "      <td>3.28</td>\n",
       "      <td>96.72</td>\n",
       "    </tr>\n",
       "  </tbody>\n",
       "</table>\n",
       "</div>"
      ],
      "text/plain": [
       "   is_travellors_choice = True  is_travellors_choice = False\n",
       "0                         3.28                         96.72"
      ]
     },
     "execution_count": 5,
     "metadata": {},
     "output_type": "execute_result"
    }
   ],
   "source": [
    "travellors_choice_data = [[ round(restaurant_df[restaurant_df['is_travellors_choice'] == True].shape[0] / restaurant_df.shape[0] * 100,2),\n",
    "round(restaurant_df[restaurant_df['is_travellors_choice'] == False].shape[0] / restaurant_df.shape[0] * 100,2)]]\n",
    "\n",
    "travellors_choice_df = pd.DataFrame(travellors_choice_data, columns=['is_travellors_choice = True','is_travellors_choice = False'])\n",
    "travellors_choice_df\n"
   ]
  },
  {
   "cell_type": "markdown",
   "metadata": {},
   "source": [
    "### Compute % of restaurants given michellin star"
   ]
  },
  {
   "cell_type": "code",
   "execution_count": 6,
   "metadata": {},
   "outputs": [
    {
     "data": {
      "text/html": [
       "<div>\n",
       "<style scoped>\n",
       "    .dataframe tbody tr th:only-of-type {\n",
       "        vertical-align: middle;\n",
       "    }\n",
       "\n",
       "    .dataframe tbody tr th {\n",
       "        vertical-align: top;\n",
       "    }\n",
       "\n",
       "    .dataframe thead th {\n",
       "        text-align: right;\n",
       "    }\n",
       "</style>\n",
       "<table border=\"1\" class=\"dataframe\">\n",
       "  <thead>\n",
       "    <tr style=\"text-align: right;\">\n",
       "      <th></th>\n",
       "      <th>is_michellin = True</th>\n",
       "      <th>is_michellin = False</th>\n",
       "    </tr>\n",
       "  </thead>\n",
       "  <tbody>\n",
       "    <tr>\n",
       "      <th>0</th>\n",
       "      <td>1.75</td>\n",
       "      <td>98.25</td>\n",
       "    </tr>\n",
       "  </tbody>\n",
       "</table>\n",
       "</div>"
      ],
      "text/plain": [
       "   is_michellin = True  is_michellin = False\n",
       "0                 1.75                 98.25"
      ]
     },
     "execution_count": 6,
     "metadata": {},
     "output_type": "execute_result"
    }
   ],
   "source": [
    "michellin_data = [[ round(restaurant_df[restaurant_df['is_michellin'] == True].shape[0] / restaurant_df.shape[0] * 100,2),\n",
    "round(restaurant_df[restaurant_df['is_michellin'] == False].shape[0] / restaurant_df.shape[0] * 100,2)]]\n",
    "\n",
    "michellin_df = pd.DataFrame(michellin_data, columns=['is_michellin = True','is_michellin = False'])\n",
    "michellin_df"
   ]
  },
  {
   "cell_type": "markdown",
   "metadata": {},
   "source": [
    "### Compute correlation between is_travellors_choice, is_michellin with overall_rating"
   ]
  },
  {
   "cell_type": "code",
   "execution_count": 192,
   "metadata": {},
   "outputs": [
    {
     "data": {
      "text/html": [
       "<div>\n",
       "<style scoped>\n",
       "    .dataframe tbody tr th:only-of-type {\n",
       "        vertical-align: middle;\n",
       "    }\n",
       "\n",
       "    .dataframe tbody tr th {\n",
       "        vertical-align: top;\n",
       "    }\n",
       "\n",
       "    .dataframe thead th {\n",
       "        text-align: right;\n",
       "    }\n",
       "</style>\n",
       "<table border=\"1\" class=\"dataframe\">\n",
       "  <thead>\n",
       "    <tr style=\"text-align: right;\">\n",
       "      <th></th>\n",
       "      <th>is_travellors_choice</th>\n",
       "      <th>is_michellin</th>\n",
       "      <th>overall_rating</th>\n",
       "    </tr>\n",
       "  </thead>\n",
       "  <tbody>\n",
       "    <tr>\n",
       "      <th>is_travellors_choice</th>\n",
       "      <td>1.000000</td>\n",
       "      <td>0.148237</td>\n",
       "      <td>0.111390</td>\n",
       "    </tr>\n",
       "    <tr>\n",
       "      <th>is_michellin</th>\n",
       "      <td>0.148237</td>\n",
       "      <td>1.000000</td>\n",
       "      <td>0.066304</td>\n",
       "    </tr>\n",
       "    <tr>\n",
       "      <th>overall_rating</th>\n",
       "      <td>0.111390</td>\n",
       "      <td>0.066304</td>\n",
       "      <td>1.000000</td>\n",
       "    </tr>\n",
       "  </tbody>\n",
       "</table>\n",
       "</div>"
      ],
      "text/plain": [
       "                      is_travellors_choice  is_michellin  overall_rating\n",
       "is_travellors_choice              1.000000      0.148237        0.111390\n",
       "is_michellin                      0.148237      1.000000        0.066304\n",
       "overall_rating                    0.111390      0.066304        1.000000"
      ]
     },
     "execution_count": 192,
     "metadata": {},
     "output_type": "execute_result"
    }
   ],
   "source": [
    "#anova r test within each category \n",
    "restaurant_df_copy = restaurant_df.copy()\n",
    "restaurant_df_copy['is_travellors_choice'] = restaurant_df_copy['is_travellors_choice'].astype(int)\n",
    "restaurant_df_copy['is_michellin'] = restaurant_df_copy['is_michellin'].astype(int)\n",
    "\n",
    "restaurant_df_copy = restaurant_df_copy[['is_travellors_choice','is_michellin','overall_rating']]\n",
    "restaurant_df_copy.corr(method='pearson')"
   ]
  },
  {
   "cell_type": "markdown",
   "metadata": {},
   "source": [
    "### Boxplot of Number of Ratings"
   ]
  },
  {
   "cell_type": "code",
   "execution_count": 208,
   "metadata": {},
   "outputs": [
    {
     "data": {
      "text/plain": [
       "Text(0, 0.5, 'number of reviews')"
      ]
     },
     "execution_count": 208,
     "metadata": {},
     "output_type": "execute_result"
    },
    {
     "data": {
      "image/png": "[encoded data removed]",
      "text/plain": [
       "<Figure size 432x288 with 1 Axes>"
      ]
     },
     "metadata": {
      "needs_background": "light"
     },
     "output_type": "display_data"
    }
   ],
   "source": [
    "num_of_ratings_df = restaurant_df.copy()\n",
    "\n",
    "num_of_ratings_df = num_of_ratings_df[['num_of_rating_1','num_of_rating_2','num_of_rating_3','num_of_rating_4','num_of_rating_5']]\n",
    "\n",
    "# renaming the columns for easier identification\n",
    "num_of_ratings_df.rename(columns = {'num_of_rating_1':'1 star', 'num_of_rating_2':'2 star', 'num_of_rating_3':'3 star', 'num_of_rating_4':'4 star', 'num_of_rating_5':'5 star'}, inplace = True)\n",
    "\n",
    "num_of_ratings_melted = pd.melt(num_of_ratings_df)\n",
    "\n",
    "#print(num_of_ratings_melted)\n",
    "\n",
    "#create seaborn plot\n",
    "sns.boxplot(x='variable', y='value', data=num_of_ratings_melted).set(title = 'Number of reviews for each ratings')\n",
    "plt.xlabel('ratings')\n",
    "plt.ylabel('number of reviews')"
   ]
  },
  {
   "cell_type": "markdown",
   "metadata": {},
   "source": [
    "### Histogram of Overall Rating"
   ]
  },
  {
   "cell_type": "code",
   "execution_count": 209,
   "metadata": {},
   "outputs": [
    {
     "data": {
      "text/plain": [
       "(11161, 35)"
      ]
     },
     "execution_count": 209,
     "metadata": {},
     "output_type": "execute_result"
    },
    {
     "data": {
      "image/png": "[encoded data removed]",
      "text/plain": [
       "<Figure size 432x288 with 1 Axes>"
      ]
     },
     "metadata": {
      "needs_background": "light"
     },
     "output_type": "display_data"
    }
   ],
   "source": [
    "# plotting only overall_ratings that are not -1\n",
    "overall_rating_df = restaurant_df.copy()\n",
    "\n",
    "overall_rating_df[overall_rating_df['overall_rating'] != -1]['overall_rating'].value_counts().sort_index().plot.bar()\n",
    "\n",
    "overall_rating_df.shape"
   ]
  },
  {
   "cell_type": "markdown",
   "metadata": {},
   "source": [
    "### Food rating, Service rating, Value rating, Atmosphere rating"
   ]
  },
  {
   "cell_type": "code",
   "execution_count": 183,
   "metadata": {},
   "outputs": [
    {
     "data": {
      "text/plain": [
       "<AxesSubplot:xlabel='variable', ylabel='value'>"
      ]
     },
     "execution_count": 183,
     "metadata": {},
     "output_type": "execute_result"
    },
    {
     "data": {
      "image/png": "[encoded data removed]",
      "text/plain": [
       "<Figure size 432x288 with 1 Axes>"
      ]
     },
     "metadata": {
      "needs_background": "light"
     },
     "output_type": "display_data"
    }
   ],
   "source": [
    "various_ratings_df = restaurant_df.copy()\n",
    "\n",
    "various_ratings_df = various_ratings_df[['food_rating','service_rating','value_rating','atmosphere_rating']]\n",
    "\n",
    "various_ratings_melted = pd.melt(various_ratings_df)\n",
    "\n",
    "# create seaborn plot\n",
    "sns.boxplot(x='variable', y='value', data=various_ratings_melted)"
   ]
  }
 ],
 "metadata": {
  "interpreter": {
   "hash": "9164f9f156afd3270be00908a629fdf90d3514ea3445c456a2207d485b2a9e05"
  },
  "kernelspec": {
   "display_name": "Python 3.9.7 ('base')",
   "language": "python",
   "name": "python3"
  },
  "language_info": {
   "codemirror_mode": {
    "name": "ipython",
    "version": 3
   },
   "file_extension": ".py",
   "mimetype": "text/x-python",
   "name": "python",
   "nbconvert_exporter": "python",
   "pygments_lexer": "ipython3",
   "version": "3.9.7"
  },
  "orig_nbformat": 4
 },
 "nbformat": 4,
 "nbformat_minor": 2
}
