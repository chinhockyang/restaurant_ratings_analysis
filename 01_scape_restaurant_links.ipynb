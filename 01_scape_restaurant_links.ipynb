{
 "cells": [
  {
   "cell_type": "markdown",
   "metadata": {},
   "source": [
    "# Extracting Links of Restaurants to Scrape"
   ]
  },
  {
   "cell_type": "markdown",
   "metadata": {},
   "source": [
    "## 1. Basic Setup"
   ]
  },
  {
   "cell_type": "markdown",
   "metadata": {},
   "source": [
    "### 1.1 Loading of Libaries"
   ]
  },
  {
   "cell_type": "code",
   "execution_count": 1,
   "metadata": {},
   "outputs": [],
   "source": [
    "from selenium import webdriver      # conda install -c conda-forge selenium\n",
    "from time import sleep\n",
    "from selenium.webdriver.chrome.options import Options\n",
    "\n",
    "import pandas as pd\n",
    "\n",
    "import warnings\n",
    "warnings.filterwarnings(\"ignore\")"
   ]
  },
  {
   "cell_type": "markdown",
   "metadata": {},
   "source": [
    "### 1.2 Initialising Chromedriver"
   ]
  },
  {
   "cell_type": "code",
   "execution_count": 2,
   "metadata": {},
   "outputs": [],
   "source": [
    "# configuration tool that can be passed into webdriver.Chrome\n",
    "options = Options()\n",
    "\n",
    "# windows\n",
    "# https://www.youtube.com/watch?v=Xjv1sY630Uc \n",
    "# PATH = \"C:\\Program Files\\chromedriver.exe\"\n",
    "# driver = webdriver.Chrome(PATH)\n",
    "\n",
    "# macOS\n",
    "# https://www.edureka.co/community/52315/how-to-setup-chrome-driver-with-selenium-on-macos\n",
    "# need to put chromedriver.exe into /usr/local/bin\n",
    "driver = webdriver.Chrome()"
   ]
  },
  {
   "cell_type": "markdown",
   "metadata": {},
   "source": [
    "## 2. Scraping of Links"
   ]
  },
  {
   "cell_type": "markdown",
   "metadata": {},
   "source": [
    "### 2.1 Accessing website to scrape"
   ]
  },
  {
   "cell_type": "code",
   "execution_count": 3,
   "metadata": {},
   "outputs": [],
   "source": [
    "# website to scrape\n",
    "driver.get(\"https://www.tripadvisor.com.sg/Restaurants-g294265-Singapore.html\")     ### Website with full listing of restaurants in Singapore"
   ]
  },
  {
   "cell_type": "markdown",
   "metadata": {},
   "source": [
    "### 2.2 Extracting the page links of all the restaurants listed"
   ]
  },
  {
   "cell_type": "markdown",
   "metadata": {},
   "source": [
    "#### 2.2.1 Extracting Links from Page 1"
   ]
  },
  {
   "cell_type": "code",
   "execution_count": 4,
   "metadata": {},
   "outputs": [],
   "source": [
    "# 'a' tag element that redirects to the specific page of a restaurant\n",
    "tags = driver.find_elements_by_class_name('bHGqj')\n",
    "\n",
    "# extract the href value of all these 'a' tag elements\n",
    "links = [element.get_attribute(\"href\") for element in tags]"
   ]
  },
  {
   "cell_type": "markdown",
   "metadata": {},
   "source": [
    "#### 2.2.2 Navgiating to subsequent pages"
   ]
  },
  {
   "cell_type": "code",
   "execution_count": 5,
   "metadata": {},
   "outputs": [],
   "source": [
    "# 'next' button element of pagination that leads to the next page\n",
    "next_page_button = driver.find_element_by_class_name(\"next\")\n",
    "\n",
    "while next_page_button.is_displayed():\n",
    "    try:\n",
    "        next_page_button.click()    # click on 'next' button\n",
    "        sleep(5)       # wait for next page items to be fully loaded\n",
    "\n",
    "        # --- extracting links --- #\n",
    "        new_tags = driver.find_elements_by_class_name('bHGqj')\n",
    "        new_links = [element.get_attribute(\"href\") for element in new_tags]\n",
    "        links.extend(new_links)\n",
    "\n",
    "        # get 'next' button of current page\n",
    "        next_page_button = driver.find_element_by_class_name(\"next\")\n",
    "    except:\n",
    "        break"
   ]
  },
  {
   "cell_type": "markdown",
   "metadata": {},
   "source": [
    "### 2.3 Exporting the Links into an Excel file"
   ]
  },
  {
   "cell_type": "code",
   "execution_count": 7,
   "metadata": {},
   "outputs": [],
   "source": [
    "df_output = pd.DataFrame({'links': links})"
   ]
  },
  {
   "cell_type": "code",
   "execution_count": 11,
   "metadata": {},
   "outputs": [],
   "source": [
    "df_output.drop_duplicates(inplace=True)"
   ]
  },
  {
   "cell_type": "code",
   "execution_count": 18,
   "metadata": {},
   "outputs": [
    {
     "data": {
      "text/plain": [
       "11161"
      ]
     },
     "execution_count": 18,
     "metadata": {},
     "output_type": "execute_result"
    }
   ],
   "source": [
    "len(df_output)"
   ]
  },
  {
   "cell_type": "code",
   "execution_count": 17,
   "metadata": {},
   "outputs": [],
   "source": [
    "df_output.to_excel(\"data/tripadvisor_restaurant_links.xlsx\", encoding=\"utf-8-sig\", index=False)"
   ]
  }
 ],
 "metadata": {
  "interpreter": {
   "hash": "30ff77935d88e97afa092cd4650bfc57f1ea43861cf33cd7da098dbb62a53bbb"
  },
  "kernelspec": {
   "display_name": "Python 3.7.11 64-bit ('bt4222_practice': conda)",
   "language": "python",
   "name": "python3"
  },
  "language_info": {
   "codemirror_mode": {
    "name": "ipython",
    "version": 3
   },
   "file_extension": ".py",
   "mimetype": "text/x-python",
   "name": "python",
   "nbconvert_exporter": "python",
   "pygments_lexer": "ipython3",
   "version": "3.7.11"
  },
  "orig_nbformat": 4
 },
 "nbformat": 4,
 "nbformat_minor": 2
}
