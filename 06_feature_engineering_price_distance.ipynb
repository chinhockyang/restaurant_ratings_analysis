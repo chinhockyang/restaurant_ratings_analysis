{
 "cells": [
  {
   "cell_type": "code",
   "execution_count": 1,
   "metadata": {},
   "outputs": [],
   "source": [
    "import pandas as pd\n",
    "import numpy as np\n",
    "import plotly.express as px\n",
    "import matplotlib.pyplot as plt\n",
    "import seaborn as sns\n",
    "from sklearn.preprocessing import OrdinalEncoder"
   ]
  },
  {
   "cell_type": "code",
   "execution_count": 2,
   "metadata": {},
   "outputs": [],
   "source": [
    "df_rating = pd.read_csv(\"data/full_restaurant_rating_data.csv\")"
   ]
  },
  {
   "cell_type": "code",
   "execution_count": 3,
   "metadata": {},
   "outputs": [
    {
     "data": {
      "text/plain": [
       "array(['mid range', 'fine dining', 'cheap eats', nan], dtype=object)"
      ]
     },
     "execution_count": 3,
     "metadata": {},
     "output_type": "execute_result"
    }
   ],
   "source": [
    "# check\n",
    "df_rating['price_category'].unique()"
   ]
  },
  {
   "cell_type": "code",
   "execution_count": 4,
   "metadata": {},
   "outputs": [],
   "source": [
    "df_rating[\"has_price_category\"] = np.where(df_rating['price_category'].isna(), 0, 1)"
   ]
  },
  {
   "cell_type": "code",
   "execution_count": 5,
   "metadata": {},
   "outputs": [
    {
     "data": {
      "text/plain": [
       "array([nan], dtype=object)"
      ]
     },
     "execution_count": 5,
     "metadata": {},
     "output_type": "execute_result"
    }
   ],
   "source": [
    "# check\n",
    "df_rating[df_rating[\"has_price_category\"]==0].price_category.unique()"
   ]
  },
  {
   "cell_type": "code",
   "execution_count": 6,
   "metadata": {},
   "outputs": [
    {
     "data": {
      "text/plain": [
       "array(['mid range', 'fine dining', 'cheap eats'], dtype=object)"
      ]
     },
     "execution_count": 6,
     "metadata": {},
     "output_type": "execute_result"
    }
   ],
   "source": [
    "# check\n",
    "df_rating[df_rating[\"has_price_category\"]==1].price_category.unique()"
   ]
  },
  {
   "cell_type": "code",
   "execution_count": 7,
   "metadata": {},
   "outputs": [],
   "source": [
    "category_mapper = {np.nan: 0, \"cheap eats\":1, \"mid range\":2, \"fine dining\":3}\n",
    "df_rating[\"ordinal_price_category\"] = df_rating[\"price_category\"].map(category_mapper)"
   ]
  },
  {
   "cell_type": "code",
   "execution_count": 8,
   "metadata": {},
   "outputs": [
    {
     "data": {
      "text/plain": [
       "array([2, 3, 1, 0], dtype=int64)"
      ]
     },
     "execution_count": 8,
     "metadata": {},
     "output_type": "execute_result"
    }
   ],
   "source": [
    "# check\n",
    "df_rating[\"ordinal_price_category\"].unique()"
   ]
  },
  {
   "cell_type": "markdown",
   "metadata": {},
   "source": [
    "Nearby Attraction"
   ]
  },
  {
   "cell_type": "code",
   "execution_count": 9,
   "metadata": {},
   "outputs": [],
   "source": [
    "df_rating[\"nearby_attraction\"] = df_rating['nearby_attraction'].replace(to_replace =['Asian Civilisations Museum', 'National Museum of Singapore', 'City Hall Building'], value =\"Museum\")\n",
    "df_rating[\"nearby_attraction\"] = df_rating['nearby_attraction'].replace(to_replace =['National Orchid Garden', 'Singapore Botanic Gardens'], value =\"Garden\")\n",
    "df_rating[\"nearby_attraction\"] = df_rating['nearby_attraction'].replace(to_replace =['Singapore Cable Car', 'Singapore Flyer'], value =\"Observation\")\n",
    "df_rating[\"nearby_attraction\"] = df_rating['nearby_attraction'].replace(to_replace =['Night Safari', 'Singapore Zoo'], value =\"Wildlife\")"
   ]
  },
  {
   "cell_type": "code",
   "execution_count": 10,
   "metadata": {},
   "outputs": [],
   "source": [
    "df_rating['nearby_attraction'] = df_rating['nearby_attraction'].str.replace(\" \", \"_\")\n",
    "df_rating['nearby_attraction'] = df_rating['nearby_attraction'].str.lower()"
   ]
  },
  {
   "cell_type": "code",
   "execution_count": 11,
   "metadata": {},
   "outputs": [
    {
     "data": {
      "text/plain": [
       "nearby_attraction\n",
       "arab_street         257\n",
       "boat_quay           165\n",
       "chinatown          1290\n",
       "east_coast_park     948\n",
       "garden             1272\n",
       "little_india       1293\n",
       "marina_bay          455\n",
       "merlion_park        370\n",
       "museum              502\n",
       "observation         517\n",
       "orchard_road        741\n",
       "wildlife            533\n",
       "NaN                2818\n",
       "Name: url, dtype: int64"
      ]
     },
     "execution_count": 11,
     "metadata": {},
     "output_type": "execute_result"
    }
   ],
   "source": [
    "# count by nearby attraction check\n",
    "df_rating.groupby(['nearby_attraction'], dropna=False)['url'].count()"
   ]
  },
  {
   "cell_type": "code",
   "execution_count": 12,
   "metadata": {},
   "outputs": [],
   "source": [
    "median_by_attraction = df_rating.groupby(['nearby_attraction']).agg({'distance_from_attraction': ['min', 'max', 'median']})['distance_from_attraction']['median'].to_dict()\n",
    "df_rating[\"above_median\"] =  df_rating[['distance_from_attraction', 'nearby_attraction']].apply(lambda x: x['distance_from_attraction'] > median_by_attraction[x['nearby_attraction']] if not pd.isna(x['nearby_attraction']) else np.nan, axis=1)\n",
    "df_rating[\"above_median\"] = df_rating[\"above_median\"].astype(float)"
   ]
  },
  {
   "cell_type": "code",
   "execution_count": 13,
   "metadata": {},
   "outputs": [
    {
     "data": {
      "text/plain": [
       "array([ 1.,  0., nan])"
      ]
     },
     "execution_count": 13,
     "metadata": {},
     "output_type": "execute_result"
    }
   ],
   "source": [
    "df_rating[\"above_median\"].unique()"
   ]
  },
  {
   "cell_type": "code",
   "execution_count": 14,
   "metadata": {},
   "outputs": [],
   "source": [
    "from sklearn.preprocessing import OneHotEncoder # categorical variable so do one hot encoding\n",
    "nearby_attraction_enc = OneHotEncoder(categories='auto')\n",
    "# One hot encoding for categorical variable\n",
    "features_nearby_attraction_train = nearby_attraction_enc.fit_transform(df_rating[['nearby_attraction']])\n",
    "\n",
    "# TODO transform on test"
   ]
  },
  {
   "cell_type": "code",
   "execution_count": 15,
   "metadata": {},
   "outputs": [],
   "source": [
    "nearby_attraction_ohe_columns = nearby_attraction_enc.get_feature_names_out(['nearby_attraction'])\n",
    "nearby_attraction_ohe_df = pd.DataFrame(features_nearby_attraction_train.toarray(), columns=nearby_attraction_ohe_columns)\n",
    "bucket_ohe_df = pd.concat([df_rating.drop(['nearby_attraction'], axis=1), nearby_attraction_ohe_df], axis=1)"
   ]
  },
  {
   "cell_type": "code",
   "execution_count": 16,
   "metadata": {},
   "outputs": [],
   "source": [
    "cross_cols = []\n",
    "bucket_ohe_df[\"above_median\"] = bucket_ohe_df[\"above_median\"].replace(np.nan, 0)\n",
    "for col in nearby_attraction_ohe_columns:\n",
    "    if col == 'nearby_attraction_nan':\n",
    "        continue\n",
    "    cross = col + \"_above_median\"\n",
    "    bucket_ohe_df[cross] = bucket_ohe_df[col] * bucket_ohe_df[\"above_median\"]\n",
    "    cross_cols.append(cross)"
   ]
  },
  {
   "cell_type": "markdown",
   "metadata": {},
   "source": [
    "Sanity Checks"
   ]
  },
  {
   "cell_type": "code",
   "execution_count": 17,
   "metadata": {},
   "outputs": [
    {
     "name": "stdout",
     "output_type": "stream",
     "text": [
      "[0. 1.]\n",
      "[0. 1.]\n",
      "[1. 0.]\n",
      "[0. 1.]\n",
      "[0. 1.]\n",
      "[0. 1.]\n",
      "[0. 1.]\n",
      "[0. 1.]\n",
      "[0. 1.]\n",
      "[0. 1.]\n",
      "[0. 1.]\n",
      "[0. 1.]\n",
      "[0. 1.]\n"
     ]
    }
   ],
   "source": [
    "for i in nearby_attraction_ohe_columns:\n",
    "    print(bucket_ohe_df[i].unique())"
   ]
  },
  {
   "cell_type": "code",
   "execution_count": 18,
   "metadata": {},
   "outputs": [
    {
     "name": "stdout",
     "output_type": "stream",
     "text": [
      "[0. 1.]\n",
      "[0. 1.]\n",
      "[1. 0.]\n",
      "[0. 1.]\n",
      "[0. 1.]\n",
      "[0. 1.]\n",
      "[0. 1.]\n",
      "[0. 1.]\n",
      "[0. 1.]\n",
      "[0. 1.]\n",
      "[0. 1.]\n",
      "[0. 1.]\n"
     ]
    }
   ],
   "source": [
    "for i in cross_cols:\n",
    "    print(bucket_ohe_df[i].unique())"
   ]
  },
  {
   "cell_type": "code",
   "execution_count": 19,
   "metadata": {},
   "outputs": [
    {
     "data": {
      "text/plain": [
       "Index(['name', 'address', 'region', 'latitude', 'longitude',\n",
       "       'distance_from_attraction', 'price_category', 'price_range',\n",
       "       'mon_operating_hours', 'tue_operating_hours', 'wed_operating_hours',\n",
       "       'thu_operating_hours', 'fri_operating_hours', 'sat_operating_hours',\n",
       "       'sun_operating_hours', 'is_travellors_choice', 'is_michellin', 'about',\n",
       "       'list_of_meals', 'list_of_cuisines', 'list_of_features',\n",
       "       'list_of_special_diets', 'num_of_reviews', 'num_of_rating_1',\n",
       "       'num_of_rating_2', 'num_of_rating_3', 'num_of_rating_4',\n",
       "       'num_of_rating_5', 'food_rating', 'service_rating', 'value_rating',\n",
       "       'atmosphere_rating', 'overall_rating', 'url', 'has_price_category',\n",
       "       'ordinal_price_category', 'above_median',\n",
       "       'nearby_attraction_arab_street', 'nearby_attraction_boat_quay',\n",
       "       'nearby_attraction_chinatown', 'nearby_attraction_east_coast_park',\n",
       "       'nearby_attraction_garden', 'nearby_attraction_little_india',\n",
       "       'nearby_attraction_marina_bay', 'nearby_attraction_merlion_park',\n",
       "       'nearby_attraction_museum', 'nearby_attraction_observation',\n",
       "       'nearby_attraction_orchard_road', 'nearby_attraction_wildlife',\n",
       "       'nearby_attraction_nan', 'nearby_attraction_arab_street_above_median',\n",
       "       'nearby_attraction_boat_quay_above_median',\n",
       "       'nearby_attraction_chinatown_above_median',\n",
       "       'nearby_attraction_east_coast_park_above_median',\n",
       "       'nearby_attraction_garden_above_median',\n",
       "       'nearby_attraction_little_india_above_median',\n",
       "       'nearby_attraction_marina_bay_above_median',\n",
       "       'nearby_attraction_merlion_park_above_median',\n",
       "       'nearby_attraction_museum_above_median',\n",
       "       'nearby_attraction_observation_above_median',\n",
       "       'nearby_attraction_orchard_road_above_median',\n",
       "       'nearby_attraction_wildlife_above_median'],\n",
       "      dtype='object')"
      ]
     },
     "execution_count": 19,
     "metadata": {},
     "output_type": "execute_result"
    }
   ],
   "source": [
    "bucket_ohe_df.columns"
   ]
  }
 ],
 "metadata": {
  "interpreter": {
   "hash": "f79c354a758cf5788966b052ccdc6a0564dad98118ae6114aefad974fb8127f0"
  },
  "kernelspec": {
   "display_name": "Python 3.7.11 ('bt4222_proj')",
   "language": "python",
   "name": "python3"
  },
  "language_info": {
   "codemirror_mode": {
    "name": "ipython",
    "version": 3
   },
   "file_extension": ".py",
   "mimetype": "text/x-python",
   "name": "python",
   "nbconvert_exporter": "python",
   "pygments_lexer": "ipython3",
   "version": "3.7.11"
  },
  "orig_nbformat": 4
 },
 "nbformat": 4,
 "nbformat_minor": 2
}
