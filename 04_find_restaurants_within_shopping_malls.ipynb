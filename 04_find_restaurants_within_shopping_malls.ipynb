{
 "cells": [
  {
   "cell_type": "markdown",
   "metadata": {},
   "source": [
    "# Finding the Restaurants that are within Shopping Malls"
   ]
  },
  {
   "cell_type": "code",
   "execution_count": 1,
   "metadata": {},
   "outputs": [],
   "source": [
    "# conda install -c anaconda beautifulsoup4\n",
    "from bs4 import BeautifulSoup, SoupStrainer\n",
    "import requests\n",
    "import re\n",
    "\n",
    "import pandas as pd\n",
    "from fuzzywuzzy import fuzz\n",
    "import numpy as np"
   ]
  },
  {
   "cell_type": "markdown",
   "metadata": {},
   "source": [
    "## 1. Web Scraping the list of Shopping Mall names from Wikipedia (using BeautifulSoup)"
   ]
  },
  {
   "cell_type": "code",
   "execution_count": 2,
   "metadata": {},
   "outputs": [],
   "source": [
    "url = 'https://en.wikipedia.org/wiki/List_of_shopping_malls_in_Singapore'\n",
    "resp = requests.get(url)\n",
    "list_of_mall_names = SoupStrainer('div', class_='div-col')\n",
    "soup = BeautifulSoup(resp.text, 'html.parser', parse_only=list_of_mall_names)"
   ]
  },
  {
   "cell_type": "code",
   "execution_count": 3,
   "metadata": {},
   "outputs": [],
   "source": [
    "list_of_scraped_names = []"
   ]
  },
  {
   "cell_type": "code",
   "execution_count": 4,
   "metadata": {},
   "outputs": [],
   "source": [
    "for li_tag in soup.find_all('li'):\n",
    "    li_tag_text = li_tag.text\n",
    "    extra_bracket_match = re.search('\\[\\d*\\d]', li_tag_text)\n",
    "    if extra_bracket_match:\n",
    "        extra_bracket = extra_bracket_match.group()\n",
    "        li_tag_text = li_tag_text.replace(extra_bracket, '').strip()\n",
    "    list_of_scraped_names.append(li_tag_text)"
   ]
  },
  {
   "cell_type": "code",
   "execution_count": 5,
   "metadata": {},
   "outputs": [],
   "source": [
    "df_malls = pd.DataFrame({'mall_names': list_of_scraped_names})\n",
    "df_malls.drop_duplicates(inplace=True)"
   ]
  },
  {
   "cell_type": "code",
   "execution_count": 6,
   "metadata": {},
   "outputs": [
    {
     "data": {
      "text/html": [
       "<div>\n",
       "<style scoped>\n",
       "    .dataframe tbody tr th:only-of-type {\n",
       "        vertical-align: middle;\n",
       "    }\n",
       "\n",
       "    .dataframe tbody tr th {\n",
       "        vertical-align: top;\n",
       "    }\n",
       "\n",
       "    .dataframe thead th {\n",
       "        text-align: right;\n",
       "    }\n",
       "</style>\n",
       "<table border=\"1\" class=\"dataframe\">\n",
       "  <thead>\n",
       "    <tr style=\"text-align: right;\">\n",
       "      <th></th>\n",
       "      <th>mall_names</th>\n",
       "    </tr>\n",
       "  </thead>\n",
       "  <tbody>\n",
       "    <tr>\n",
       "      <th>0</th>\n",
       "      <td>100 AM</td>\n",
       "    </tr>\n",
       "    <tr>\n",
       "      <th>1</th>\n",
       "      <td>313@Somerset</td>\n",
       "    </tr>\n",
       "    <tr>\n",
       "      <th>2</th>\n",
       "      <td>Aperia</td>\n",
       "    </tr>\n",
       "    <tr>\n",
       "      <th>3</th>\n",
       "      <td>Balestier Hill Shopping Centre</td>\n",
       "    </tr>\n",
       "    <tr>\n",
       "      <th>4</th>\n",
       "      <td>Bugis Cube</td>\n",
       "    </tr>\n",
       "    <tr>\n",
       "      <th>...</th>\n",
       "      <td>...</td>\n",
       "    </tr>\n",
       "    <tr>\n",
       "      <th>157</th>\n",
       "      <td>Gek Poh Shopping Centre</td>\n",
       "    </tr>\n",
       "    <tr>\n",
       "      <th>158</th>\n",
       "      <td>Rochester Mall</td>\n",
       "    </tr>\n",
       "    <tr>\n",
       "      <th>159</th>\n",
       "      <td>Taman Jurong Shopping Centre</td>\n",
       "    </tr>\n",
       "    <tr>\n",
       "      <th>160</th>\n",
       "      <td>West Coast Plaza</td>\n",
       "    </tr>\n",
       "    <tr>\n",
       "      <th>161</th>\n",
       "      <td>Queensway Shopping Centre</td>\n",
       "    </tr>\n",
       "  </tbody>\n",
       "</table>\n",
       "<p>161 rows × 1 columns</p>\n",
       "</div>"
      ],
      "text/plain": [
       "                         mall_names\n",
       "0                            100 AM\n",
       "1                      313@Somerset\n",
       "2                            Aperia\n",
       "3    Balestier Hill Shopping Centre\n",
       "4                        Bugis Cube\n",
       "..                              ...\n",
       "157         Gek Poh Shopping Centre\n",
       "158                  Rochester Mall\n",
       "159    Taman Jurong Shopping Centre\n",
       "160                West Coast Plaza\n",
       "161       Queensway Shopping Centre\n",
       "\n",
       "[161 rows x 1 columns]"
      ]
     },
     "execution_count": 6,
     "metadata": {},
     "output_type": "execute_result"
    }
   ],
   "source": [
    "df_malls"
   ]
  },
  {
   "cell_type": "markdown",
   "metadata": {},
   "source": [
    "## 2. Use Regular Expressions to identify Restaurants in Malls"
   ]
  },
  {
   "cell_type": "code",
   "execution_count": 7,
   "metadata": {},
   "outputs": [],
   "source": [
    "# function keep here in case need (for now useless)\n",
    "def split_sticked_words(x):\n",
    "    match = re.search('(\\w*[a-z])([A-Z]\\w*)', x)\n",
    "    if match:\n",
    "        print(match)\n",
    "        first = match.groups()[0]\n",
    "        second = match.groups()[1]\n",
    "        new = first + ' ' + second\n",
    "        x = x.replace(first+second, new)\n",
    "        return x\n",
    "    return x"
   ]
  },
  {
   "cell_type": "code",
   "execution_count": 8,
   "metadata": {},
   "outputs": [],
   "source": [
    "df_restaurant = pd.read_csv(\"data/full_restaurant_rating_data.csv\")"
   ]
  },
  {
   "cell_type": "markdown",
   "metadata": {},
   "source": [
    "### Check if Mall Name Exist in Restaurant"
   ]
  },
  {
   "cell_type": "code",
   "execution_count": 9,
   "metadata": {},
   "outputs": [],
   "source": [
    "def matches_shopping_mall(mall, restaurant):\n",
    "    malls_to_fully_match = ['nex', 'imm', 'duo', 'jurong point', 'singpost centre']\n",
    "    if mall in ['nex', 'imm', 'duo']:\n",
    "        ### for these mall names, require them to be an individual word (not part of a bigger word like 'next' containing 'nex')\n",
    "        tokens = restaurant.split(' ')\n",
    "        return any([k == mall for k in tokens])\n",
    "    elif mall in ['jurong point', 'singpost centre'] or re.search('\\d+', mall):\n",
    "        # mall names that is harder to be identified by FuzzyWuzzy\n",
    "        return mall in restaurant\n",
    "    else:\n",
    "        # FuzzyWuzzy partio ratio returns String Matching scores (account for different variations of a mall name)\n",
    "        return fuzz.partial_ratio(mall, restaurant) > 90"
   ]
  },
  {
   "cell_type": "code",
   "execution_count": 10,
   "metadata": {},
   "outputs": [],
   "source": [
    "df_restaurant['cleaned_address'] = df_restaurant['address'].str.lower()\n",
    "df_malls['cleaned_mall_names'] = df_malls['mall_names'].str.lower()\n",
    "df_restaurant['is_in_mall'] = df_restaurant['cleaned_address'].apply(lambda x: any([k in x for k in df_malls['cleaned_mall_names'] if matches_shopping_mall(k, x)]))\n",
    "df_restaurant['potential_malls'] = df_restaurant['cleaned_address'].apply(lambda x: [k for k in df_malls['cleaned_mall_names'] if matches_shopping_mall(k, x)])"
   ]
  },
  {
   "cell_type": "code",
   "execution_count": 11,
   "metadata": {},
   "outputs": [],
   "source": [
    "df_restaurant['mall'] = df_restaurant['potential_malls'].apply(\n",
    "    lambda x: x[0].title() if len(x) > 0 else np.nan\n",
    ")"
   ]
  },
  {
   "cell_type": "code",
   "execution_count": 12,
   "metadata": {},
   "outputs": [
    {
     "data": {
      "text/html": [
       "<div>\n",
       "<style scoped>\n",
       "    .dataframe tbody tr th:only-of-type {\n",
       "        vertical-align: middle;\n",
       "    }\n",
       "\n",
       "    .dataframe tbody tr th {\n",
       "        vertical-align: top;\n",
       "    }\n",
       "\n",
       "    .dataframe thead th {\n",
       "        text-align: right;\n",
       "    }\n",
       "</style>\n",
       "<table border=\"1\" class=\"dataframe\">\n",
       "  <thead>\n",
       "    <tr style=\"text-align: right;\">\n",
       "      <th></th>\n",
       "      <th>address</th>\n",
       "      <th>url</th>\n",
       "      <th>is_in_mall</th>\n",
       "      <th>mall</th>\n",
       "    </tr>\n",
       "  </thead>\n",
       "  <tbody>\n",
       "    <tr>\n",
       "      <th>0</th>\n",
       "      <td>60 Robertson Quay The Quayside 01-05, Singapor...</td>\n",
       "      <td>https://www.tripadvisor.com.sg/Restaurant_Revi...</td>\n",
       "      <td>False</td>\n",
       "      <td>NaN</td>\n",
       "    </tr>\n",
       "    <tr>\n",
       "      <th>1</th>\n",
       "      <td>27 Seah Street # 01-01, Singapore 188383 Singa...</td>\n",
       "      <td>https://www.tripadvisor.com.sg/Restaurant_Revi...</td>\n",
       "      <td>False</td>\n",
       "      <td>NaN</td>\n",
       "    </tr>\n",
       "    <tr>\n",
       "      <th>2</th>\n",
       "      <td>1 Fullerton Square Fullerton Hotel The Fullert...</td>\n",
       "      <td>https://www.tripadvisor.com.sg/Restaurant_Revi...</td>\n",
       "      <td>False</td>\n",
       "      <td>NaN</td>\n",
       "    </tr>\n",
       "    <tr>\n",
       "      <th>3</th>\n",
       "      <td>6 Raffles Boulevard Marina Square Level 4 At P...</td>\n",
       "      <td>https://www.tripadvisor.com.sg/Restaurant_Revi...</td>\n",
       "      <td>True</td>\n",
       "      <td>Marina Square</td>\n",
       "    </tr>\n",
       "    <tr>\n",
       "      <th>4</th>\n",
       "      <td>390 Havelock Road King's Centre, Singapore 169...</td>\n",
       "      <td>https://www.tripadvisor.com.sg/Restaurant_Revi...</td>\n",
       "      <td>False</td>\n",
       "      <td>NaN</td>\n",
       "    </tr>\n",
       "    <tr>\n",
       "      <th>...</th>\n",
       "      <td>...</td>\n",
       "      <td>...</td>\n",
       "      <td>...</td>\n",
       "      <td>...</td>\n",
       "    </tr>\n",
       "    <tr>\n",
       "      <th>11156</th>\n",
       "      <td>529 Ang Mo Kio Ave10 #01-2359, Singapore 56052...</td>\n",
       "      <td>https://www.tripadvisor.com.sg/Restaurant_Revi...</td>\n",
       "      <td>False</td>\n",
       "      <td>NaN</td>\n",
       "    </tr>\n",
       "    <tr>\n",
       "      <th>11157</th>\n",
       "      <td>#02-65 Jcube, 2 Jurong East Central Singapore,...</td>\n",
       "      <td>https://www.tripadvisor.com.sg/Restaurant_Revi...</td>\n",
       "      <td>True</td>\n",
       "      <td>Jcube</td>\n",
       "    </tr>\n",
       "    <tr>\n",
       "      <th>11158</th>\n",
       "      <td>#B1-41, 21 Choa Chu Kang North 6 (Yew Tee Poin...</td>\n",
       "      <td>https://www.tripadvisor.com.sg/Restaurant_Revi...</td>\n",
       "      <td>True</td>\n",
       "      <td>Yew Tee Point</td>\n",
       "    </tr>\n",
       "    <tr>\n",
       "      <th>11159</th>\n",
       "      <td>Blk 29, 378 Alexandra Road, Singapore 159964 S...</td>\n",
       "      <td>https://www.tripadvisor.com.sg/Restaurant_Revi...</td>\n",
       "      <td>False</td>\n",
       "      <td>NaN</td>\n",
       "    </tr>\n",
       "    <tr>\n",
       "      <th>11160</th>\n",
       "      <td>Blk 29b Chai Chee Ave #01-60, Singapore 462029...</td>\n",
       "      <td>https://www.tripadvisor.com.sg/Restaurant_Revi...</td>\n",
       "      <td>False</td>\n",
       "      <td>NaN</td>\n",
       "    </tr>\n",
       "  </tbody>\n",
       "</table>\n",
       "<p>11161 rows × 4 columns</p>\n",
       "</div>"
      ],
      "text/plain": [
       "                                                 address  \\\n",
       "0      60 Robertson Quay The Quayside 01-05, Singapor...   \n",
       "1      27 Seah Street # 01-01, Singapore 188383 Singa...   \n",
       "2      1 Fullerton Square Fullerton Hotel The Fullert...   \n",
       "3      6 Raffles Boulevard Marina Square Level 4 At P...   \n",
       "4      390 Havelock Road King's Centre, Singapore 169...   \n",
       "...                                                  ...   \n",
       "11156  529 Ang Mo Kio Ave10 #01-2359, Singapore 56052...   \n",
       "11157  #02-65 Jcube, 2 Jurong East Central Singapore,...   \n",
       "11158  #B1-41, 21 Choa Chu Kang North 6 (Yew Tee Poin...   \n",
       "11159  Blk 29, 378 Alexandra Road, Singapore 159964 S...   \n",
       "11160  Blk 29b Chai Chee Ave #01-60, Singapore 462029...   \n",
       "\n",
       "                                                     url  is_in_mall  \\\n",
       "0      https://www.tripadvisor.com.sg/Restaurant_Revi...       False   \n",
       "1      https://www.tripadvisor.com.sg/Restaurant_Revi...       False   \n",
       "2      https://www.tripadvisor.com.sg/Restaurant_Revi...       False   \n",
       "3      https://www.tripadvisor.com.sg/Restaurant_Revi...        True   \n",
       "4      https://www.tripadvisor.com.sg/Restaurant_Revi...       False   \n",
       "...                                                  ...         ...   \n",
       "11156  https://www.tripadvisor.com.sg/Restaurant_Revi...       False   \n",
       "11157  https://www.tripadvisor.com.sg/Restaurant_Revi...        True   \n",
       "11158  https://www.tripadvisor.com.sg/Restaurant_Revi...        True   \n",
       "11159  https://www.tripadvisor.com.sg/Restaurant_Revi...       False   \n",
       "11160  https://www.tripadvisor.com.sg/Restaurant_Revi...       False   \n",
       "\n",
       "                mall  \n",
       "0                NaN  \n",
       "1                NaN  \n",
       "2                NaN  \n",
       "3      Marina Square  \n",
       "4                NaN  \n",
       "...              ...  \n",
       "11156            NaN  \n",
       "11157          Jcube  \n",
       "11158  Yew Tee Point  \n",
       "11159            NaN  \n",
       "11160            NaN  \n",
       "\n",
       "[11161 rows x 4 columns]"
      ]
     },
     "execution_count": 12,
     "metadata": {},
     "output_type": "execute_result"
    }
   ],
   "source": [
    "df_restaurant[['address', 'url', 'is_in_mall', 'mall']]"
   ]
  },
  {
   "cell_type": "code",
   "execution_count": 31,
   "metadata": {},
   "outputs": [],
   "source": [
    "df_restaurant[['address', 'url', 'is_in_mall', 'mall']].to_csv('data/restaurant_is_in_mall.csv', index=False, encoding='utf-8-sig')"
   ]
  }
 ],
 "metadata": {
  "interpreter": {
   "hash": "30ff77935d88e97afa092cd4650bfc57f1ea43861cf33cd7da098dbb62a53bbb"
  },
  "kernelspec": {
   "display_name": "Python 3.7.11 ('bt4222_practice')",
   "language": "python",
   "name": "python3"
  },
  "language_info": {
   "codemirror_mode": {
    "name": "ipython",
    "version": 3
   },
   "file_extension": ".py",
   "mimetype": "text/x-python",
   "name": "python",
   "nbconvert_exporter": "python",
   "pygments_lexer": "ipython3",
   "version": "3.7.11"
  },
  "orig_nbformat": 4
 },
 "nbformat": 4,
 "nbformat_minor": 2
}
