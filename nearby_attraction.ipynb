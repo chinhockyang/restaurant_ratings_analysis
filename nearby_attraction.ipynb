{
 "cells": [
  {
   "cell_type": "code",
   "execution_count": 1,
   "metadata": {},
   "outputs": [],
   "source": [
    "import pandas as pd\n",
    "import numpy as np\n",
    "import plotly.express as px\n",
    "import matplotlib.pyplot as plt\n",
    "import seaborn as sns\n",
    "from dython.nominal import associations"
   ]
  },
  {
   "cell_type": "code",
   "execution_count": 2,
   "metadata": {},
   "outputs": [],
   "source": [
    "df_rating = pd.read_csv(\"data/full_restaurant_rating_data.csv\")"
   ]
  },
  {
   "cell_type": "code",
   "execution_count": 3,
   "metadata": {},
   "outputs": [
    {
     "data": {
      "text/plain": [
       "Index(['name', 'address', 'region', 'latitude', 'longitude',\n",
       "       'nearby_attraction', 'distance_from_attraction', 'price_category',\n",
       "       'price_range', 'mon_operating_hours', 'tue_operating_hours',\n",
       "       'wed_operating_hours', 'thu_operating_hours', 'fri_operating_hours',\n",
       "       'sat_operating_hours', 'sun_operating_hours', 'is_travellors_choice',\n",
       "       'is_michellin', 'about', 'list_of_meals', 'list_of_cuisines',\n",
       "       'list_of_features', 'list_of_special_diets', 'num_of_reviews',\n",
       "       'num_of_rating_1', 'num_of_rating_2', 'num_of_rating_3',\n",
       "       'num_of_rating_4', 'num_of_rating_5', 'food_rating', 'service_rating',\n",
       "       'value_rating', 'atmosphere_rating', 'overall_rating', 'url'],\n",
       "      dtype='object')"
      ]
     },
     "execution_count": 3,
     "metadata": {},
     "output_type": "execute_result"
    }
   ],
   "source": [
    "df_rating.columns"
   ]
  },
  {
   "cell_type": "markdown",
   "metadata": {},
   "source": [
    "### 1. Exploratory Data Analysis - Nearby Attraction\n",
    "\n",
    "Looking at the various nearby attraction that exist in the dataset"
   ]
  },
  {
   "cell_type": "markdown",
   "metadata": {},
   "source": [
    "#### 1.1 Proportion of Nearby Attraction"
   ]
  },
  {
   "cell_type": "code",
   "execution_count": 4,
   "metadata": {},
   "outputs": [
    {
     "data": {
      "application/vnd.plotly.v1+json": {
       "config": {
        "plotlyServerURL": "https://plot.ly"
       },
       "data": [
        {
         "domain": {
          "x": [
           0,
           1
          ],
          "y": [
           0,
           1
          ]
         },
         "hovertemplate": "index=%{label}<br>nearby_attraction=%{value}<extra></extra>",
         "labels": [
          null,
          "Little India",
          "Chinatown",
          "Singapore Botanic Gardens",
          "East Coast Park",
          "Orchard Road",
          "Singapore Zoo",
          "Marina Bay",
          "City Hall Building",
          "Merlion Park",
          "Singapore Cable Car",
          "Arab Street",
          "Singapore Flyer",
          "Boat Quay",
          "National Orchid Garden",
          "National Museum of Singapore",
          "Asian Civilisations Museum",
          "Night Safari"
         ],
         "legendgroup": "",
         "name": "",
         "showlegend": true,
         "type": "pie",
         "values": [
          2818,
          1293,
          1290,
          1181,
          948,
          741,
          530,
          455,
          424,
          370,
          342,
          257,
          175,
          165,
          91,
          57,
          21,
          3
         ]
        }
       ],
       "layout": {
        "height": 400,
        "legend": {
         "tracegroupgap": 0
        },
        "margin": {
         "t": 60
        },
        "template": {
         "data": {
          "bar": [
           {
            "error_x": {
             "color": "#2a3f5f"
            },
            "error_y": {
             "color": "#2a3f5f"
            },
            "marker": {
             "line": {
              "color": "#E5ECF6",
              "width": 0.5
             },
             "pattern": {
              "fillmode": "overlay",
              "size": 10,
              "solidity": 0.2
             }
            },
            "type": "bar"
           }
          ],
          "barpolar": [
           {
            "marker": {
             "line": {
              "color": "#E5ECF6",
              "width": 0.5
             },
             "pattern": {
              "fillmode": "overlay",
              "size": 10,
              "solidity": 0.2
             }
            },
            "type": "barpolar"
           }
          ],
          "carpet": [
           {
            "aaxis": {
             "endlinecolor": "#2a3f5f",
             "gridcolor": "white",
             "linecolor": "white",
             "minorgridcolor": "white",
             "startlinecolor": "#2a3f5f"
            },
            "baxis": {
             "endlinecolor": "#2a3f5f",
             "gridcolor": "white",
             "linecolor": "white",
             "minorgridcolor": "white",
             "startlinecolor": "#2a3f5f"
            },
            "type": "carpet"
           }
          ],
          "choropleth": [
           {
            "colorbar": {
             "outlinewidth": 0,
             "ticks": ""
            },
            "type": "choropleth"
           }
          ],
          "contour": [
           {
            "colorbar": {
             "outlinewidth": 0,
             "ticks": ""
            },
            "colorscale": [
             [
              0,
              "#0d0887"
             ],
             [
              0.1111111111111111,
              "#46039f"
             ],
             [
              0.2222222222222222,
              "#7201a8"
             ],
             [
              0.3333333333333333,
              "#9c179e"
             ],
             [
              0.4444444444444444,
              "#bd3786"
             ],
             [
              0.5555555555555556,
              "#d8576b"
             ],
             [
              0.6666666666666666,
              "#ed7953"
             ],
             [
              0.7777777777777778,
              "#fb9f3a"
             ],
             [
              0.8888888888888888,
              "#fdca26"
             ],
             [
              1,
              "#f0f921"
             ]
            ],
            "type": "contour"
           }
          ],
          "contourcarpet": [
           {
            "colorbar": {
             "outlinewidth": 0,
             "ticks": ""
            },
            "type": "contourcarpet"
           }
          ],
          "heatmap": [
           {
            "colorbar": {
             "outlinewidth": 0,
             "ticks": ""
            },
            "colorscale": [
             [
              0,
              "#0d0887"
             ],
             [
              0.1111111111111111,
              "#46039f"
             ],
             [
              0.2222222222222222,
              "#7201a8"
             ],
             [
              0.3333333333333333,
              "#9c179e"
             ],
             [
              0.4444444444444444,
              "#bd3786"
             ],
             [
              0.5555555555555556,
              "#d8576b"
             ],
             [
              0.6666666666666666,
              "#ed7953"
             ],
             [
              0.7777777777777778,
              "#fb9f3a"
             ],
             [
              0.8888888888888888,
              "#fdca26"
             ],
             [
              1,
              "#f0f921"
             ]
            ],
            "type": "heatmap"
           }
          ],
          "heatmapgl": [
           {
            "colorbar": {
             "outlinewidth": 0,
             "ticks": ""
            },
            "colorscale": [
             [
              0,
              "#0d0887"
             ],
             [
              0.1111111111111111,
              "#46039f"
             ],
             [
              0.2222222222222222,
              "#7201a8"
             ],
             [
              0.3333333333333333,
              "#9c179e"
             ],
             [
              0.4444444444444444,
              "#bd3786"
             ],
             [
              0.5555555555555556,
              "#d8576b"
             ],
             [
              0.6666666666666666,
              "#ed7953"
             ],
             [
              0.7777777777777778,
              "#fb9f3a"
             ],
             [
              0.8888888888888888,
              "#fdca26"
             ],
             [
              1,
              "#f0f921"
             ]
            ],
            "type": "heatmapgl"
           }
          ],
          "histogram": [
           {
            "marker": {
             "pattern": {
              "fillmode": "overlay",
              "size": 10,
              "solidity": 0.2
             }
            },
            "type": "histogram"
           }
          ],
          "histogram2d": [
           {
            "colorbar": {
             "outlinewidth": 0,
             "ticks": ""
            },
            "colorscale": [
             [
              0,
              "#0d0887"
             ],
             [
              0.1111111111111111,
              "#46039f"
             ],
             [
              0.2222222222222222,
              "#7201a8"
             ],
             [
              0.3333333333333333,
              "#9c179e"
             ],
             [
              0.4444444444444444,
              "#bd3786"
             ],
             [
              0.5555555555555556,
              "#d8576b"
             ],
             [
              0.6666666666666666,
              "#ed7953"
             ],
             [
              0.7777777777777778,
              "#fb9f3a"
             ],
             [
              0.8888888888888888,
              "#fdca26"
             ],
             [
              1,
              "#f0f921"
             ]
            ],
            "type": "histogram2d"
           }
          ],
          "histogram2dcontour": [
           {
            "colorbar": {
             "outlinewidth": 0,
             "ticks": ""
            },
            "colorscale": [
             [
              0,
              "#0d0887"
             ],
             [
              0.1111111111111111,
              "#46039f"
             ],
             [
              0.2222222222222222,
              "#7201a8"
             ],
             [
              0.3333333333333333,
              "#9c179e"
             ],
             [
              0.4444444444444444,
              "#bd3786"
             ],
             [
              0.5555555555555556,
              "#d8576b"
             ],
             [
              0.6666666666666666,
              "#ed7953"
             ],
             [
              0.7777777777777778,
              "#fb9f3a"
             ],
             [
              0.8888888888888888,
              "#fdca26"
             ],
             [
              1,
              "#f0f921"
             ]
            ],
            "type": "histogram2dcontour"
           }
          ],
          "mesh3d": [
           {
            "colorbar": {
             "outlinewidth": 0,
             "ticks": ""
            },
            "type": "mesh3d"
           }
          ],
          "parcoords": [
           {
            "line": {
             "colorbar": {
              "outlinewidth": 0,
              "ticks": ""
             }
            },
            "type": "parcoords"
           }
          ],
          "pie": [
           {
            "automargin": true,
            "type": "pie"
           }
          ],
          "scatter": [
           {
            "marker": {
             "colorbar": {
              "outlinewidth": 0,
              "ticks": ""
             }
            },
            "type": "scatter"
           }
          ],
          "scatter3d": [
           {
            "line": {
             "colorbar": {
              "outlinewidth": 0,
              "ticks": ""
             }
            },
            "marker": {
             "colorbar": {
              "outlinewidth": 0,
              "ticks": ""
             }
            },
            "type": "scatter3d"
           }
          ],
          "scattercarpet": [
           {
            "marker": {
             "colorbar": {
              "outlinewidth": 0,
              "ticks": ""
             }
            },
            "type": "scattercarpet"
           }
          ],
          "scattergeo": [
           {
            "marker": {
             "colorbar": {
              "outlinewidth": 0,
              "ticks": ""
             }
            },
            "type": "scattergeo"
           }
          ],
          "scattergl": [
           {
            "marker": {
             "colorbar": {
              "outlinewidth": 0,
              "ticks": ""
             }
            },
            "type": "scattergl"
           }
          ],
          "scattermapbox": [
           {
            "marker": {
             "colorbar": {
              "outlinewidth": 0,
              "ticks": ""
             }
            },
            "type": "scattermapbox"
           }
          ],
          "scatterpolar": [
           {
            "marker": {
             "colorbar": {
              "outlinewidth": 0,
              "ticks": ""
             }
            },
            "type": "scatterpolar"
           }
          ],
          "scatterpolargl": [
           {
            "marker": {
             "colorbar": {
              "outlinewidth": 0,
              "ticks": ""
             }
            },
            "type": "scatterpolargl"
           }
          ],
          "scatterternary": [
           {
            "marker": {
             "colorbar": {
              "outlinewidth": 0,
              "ticks": ""
             }
            },
            "type": "scatterternary"
           }
          ],
          "surface": [
           {
            "colorbar": {
             "outlinewidth": 0,
             "ticks": ""
            },
            "colorscale": [
             [
              0,
              "#0d0887"
             ],
             [
              0.1111111111111111,
              "#46039f"
             ],
             [
              0.2222222222222222,
              "#7201a8"
             ],
             [
              0.3333333333333333,
              "#9c179e"
             ],
             [
              0.4444444444444444,
              "#bd3786"
             ],
             [
              0.5555555555555556,
              "#d8576b"
             ],
             [
              0.6666666666666666,
              "#ed7953"
             ],
             [
              0.7777777777777778,
              "#fb9f3a"
             ],
             [
              0.8888888888888888,
              "#fdca26"
             ],
             [
              1,
              "#f0f921"
             ]
            ],
            "type": "surface"
           }
          ],
          "table": [
           {
            "cells": {
             "fill": {
              "color": "#EBF0F8"
             },
             "line": {
              "color": "white"
             }
            },
            "header": {
             "fill": {
              "color": "#C8D4E3"
             },
             "line": {
              "color": "white"
             }
            },
            "type": "table"
           }
          ]
         },
         "layout": {
          "annotationdefaults": {
           "arrowcolor": "#2a3f5f",
           "arrowhead": 0,
           "arrowwidth": 1
          },
          "autotypenumbers": "strict",
          "coloraxis": {
           "colorbar": {
            "outlinewidth": 0,
            "ticks": ""
           }
          },
          "colorscale": {
           "diverging": [
            [
             0,
             "#8e0152"
            ],
            [
             0.1,
             "#c51b7d"
            ],
            [
             0.2,
             "#de77ae"
            ],
            [
             0.3,
             "#f1b6da"
            ],
            [
             0.4,
             "#fde0ef"
            ],
            [
             0.5,
             "#f7f7f7"
            ],
            [
             0.6,
             "#e6f5d0"
            ],
            [
             0.7,
             "#b8e186"
            ],
            [
             0.8,
             "#7fbc41"
            ],
            [
             0.9,
             "#4d9221"
            ],
            [
             1,
             "#276419"
            ]
           ],
           "sequential": [
            [
             0,
             "#0d0887"
            ],
            [
             0.1111111111111111,
             "#46039f"
            ],
            [
             0.2222222222222222,
             "#7201a8"
            ],
            [
             0.3333333333333333,
             "#9c179e"
            ],
            [
             0.4444444444444444,
             "#bd3786"
            ],
            [
             0.5555555555555556,
             "#d8576b"
            ],
            [
             0.6666666666666666,
             "#ed7953"
            ],
            [
             0.7777777777777778,
             "#fb9f3a"
            ],
            [
             0.8888888888888888,
             "#fdca26"
            ],
            [
             1,
             "#f0f921"
            ]
           ],
           "sequentialminus": [
            [
             0,
             "#0d0887"
            ],
            [
             0.1111111111111111,
             "#46039f"
            ],
            [
             0.2222222222222222,
             "#7201a8"
            ],
            [
             0.3333333333333333,
             "#9c179e"
            ],
            [
             0.4444444444444444,
             "#bd3786"
            ],
            [
             0.5555555555555556,
             "#d8576b"
            ],
            [
             0.6666666666666666,
             "#ed7953"
            ],
            [
             0.7777777777777778,
             "#fb9f3a"
            ],
            [
             0.8888888888888888,
             "#fdca26"
            ],
            [
             1,
             "#f0f921"
            ]
           ]
          },
          "colorway": [
           "#636efa",
           "#EF553B",
           "#00cc96",
           "#ab63fa",
           "#FFA15A",
           "#19d3f3",
           "#FF6692",
           "#B6E880",
           "#FF97FF",
           "#FECB52"
          ],
          "font": {
           "color": "#2a3f5f"
          },
          "geo": {
           "bgcolor": "white",
           "lakecolor": "white",
           "landcolor": "#E5ECF6",
           "showlakes": true,
           "showland": true,
           "subunitcolor": "white"
          },
          "hoverlabel": {
           "align": "left"
          },
          "hovermode": "closest",
          "mapbox": {
           "style": "light"
          },
          "paper_bgcolor": "white",
          "plot_bgcolor": "#E5ECF6",
          "polar": {
           "angularaxis": {
            "gridcolor": "white",
            "linecolor": "white",
            "ticks": ""
           },
           "bgcolor": "#E5ECF6",
           "radialaxis": {
            "gridcolor": "white",
            "linecolor": "white",
            "ticks": ""
           }
          },
          "scene": {
           "xaxis": {
            "backgroundcolor": "#E5ECF6",
            "gridcolor": "white",
            "gridwidth": 2,
            "linecolor": "white",
            "showbackground": true,
            "ticks": "",
            "zerolinecolor": "white"
           },
           "yaxis": {
            "backgroundcolor": "#E5ECF6",
            "gridcolor": "white",
            "gridwidth": 2,
            "linecolor": "white",
            "showbackground": true,
            "ticks": "",
            "zerolinecolor": "white"
           },
           "zaxis": {
            "backgroundcolor": "#E5ECF6",
            "gridcolor": "white",
            "gridwidth": 2,
            "linecolor": "white",
            "showbackground": true,
            "ticks": "",
            "zerolinecolor": "white"
           }
          },
          "shapedefaults": {
           "line": {
            "color": "#2a3f5f"
           }
          },
          "ternary": {
           "aaxis": {
            "gridcolor": "white",
            "linecolor": "white",
            "ticks": ""
           },
           "baxis": {
            "gridcolor": "white",
            "linecolor": "white",
            "ticks": ""
           },
           "bgcolor": "#E5ECF6",
           "caxis": {
            "gridcolor": "white",
            "linecolor": "white",
            "ticks": ""
           }
          },
          "title": {
           "x": 0.05
          },
          "xaxis": {
           "automargin": true,
           "gridcolor": "white",
           "linecolor": "white",
           "ticks": "",
           "title": {
            "standoff": 15
           },
           "zerolinecolor": "white",
           "zerolinewidth": 2
          },
          "yaxis": {
           "automargin": true,
           "gridcolor": "white",
           "linecolor": "white",
           "ticks": "",
           "title": {
            "standoff": 15
           },
           "zerolinecolor": "white",
           "zerolinewidth": 2
          }
         }
        },
        "width": 800
       }
      }
     },
     "metadata": {},
     "output_type": "display_data"
    }
   ],
   "source": [
    "nearby_attraction_count = df_rating['nearby_attraction'].value_counts(dropna=False)\n",
    "nearby_attraction_fig = px.pie(nearby_attraction_count, names=nearby_attraction_count.index, values='nearby_attraction', width=800, height=400)\n",
    "nearby_attraction_fig.show()"
   ]
  },
  {
   "cell_type": "markdown",
   "metadata": {},
   "source": [
    "#### 1.2 Proportion of Nearby Attraction [Excluding Null]"
   ]
  },
  {
   "cell_type": "code",
   "execution_count": 5,
   "metadata": {},
   "outputs": [
    {
     "data": {
      "application/vnd.plotly.v1+json": {
       "config": {
        "plotlyServerURL": "https://plot.ly"
       },
       "data": [
        {
         "domain": {
          "x": [
           0,
           1
          ],
          "y": [
           0,
           1
          ]
         },
         "hovertemplate": "index=%{label}<br>nearby_attraction=%{value}<extra></extra>",
         "labels": [
          "Little India",
          "Chinatown",
          "Singapore Botanic Gardens",
          "East Coast Park",
          "Orchard Road",
          "Singapore Zoo",
          "Marina Bay",
          "City Hall Building",
          "Merlion Park",
          "Singapore Cable Car",
          "Arab Street",
          "Singapore Flyer",
          "Boat Quay",
          "National Orchid Garden",
          "National Museum of Singapore",
          "Asian Civilisations Museum",
          "Night Safari"
         ],
         "legendgroup": "",
         "name": "",
         "showlegend": true,
         "type": "pie",
         "values": [
          1293,
          1290,
          1181,
          948,
          741,
          530,
          455,
          424,
          370,
          342,
          257,
          175,
          165,
          91,
          57,
          21,
          3
         ]
        }
       ],
       "layout": {
        "height": 400,
        "legend": {
         "tracegroupgap": 0
        },
        "margin": {
         "t": 60
        },
        "template": {
         "data": {
          "bar": [
           {
            "error_x": {
             "color": "#2a3f5f"
            },
            "error_y": {
             "color": "#2a3f5f"
            },
            "marker": {
             "line": {
              "color": "#E5ECF6",
              "width": 0.5
             },
             "pattern": {
              "fillmode": "overlay",
              "size": 10,
              "solidity": 0.2
             }
            },
            "type": "bar"
           }
          ],
          "barpolar": [
           {
            "marker": {
             "line": {
              "color": "#E5ECF6",
              "width": 0.5
             },
             "pattern": {
              "fillmode": "overlay",
              "size": 10,
              "solidity": 0.2
             }
            },
            "type": "barpolar"
           }
          ],
          "carpet": [
           {
            "aaxis": {
             "endlinecolor": "#2a3f5f",
             "gridcolor": "white",
             "linecolor": "white",
             "minorgridcolor": "white",
             "startlinecolor": "#2a3f5f"
            },
            "baxis": {
             "endlinecolor": "#2a3f5f",
             "gridcolor": "white",
             "linecolor": "white",
             "minorgridcolor": "white",
             "startlinecolor": "#2a3f5f"
            },
            "type": "carpet"
           }
          ],
          "choropleth": [
           {
            "colorbar": {
             "outlinewidth": 0,
             "ticks": ""
            },
            "type": "choropleth"
           }
          ],
          "contour": [
           {
            "colorbar": {
             "outlinewidth": 0,
             "ticks": ""
            },
            "colorscale": [
             [
              0,
              "#0d0887"
             ],
             [
              0.1111111111111111,
              "#46039f"
             ],
             [
              0.2222222222222222,
              "#7201a8"
             ],
             [
              0.3333333333333333,
              "#9c179e"
             ],
             [
              0.4444444444444444,
              "#bd3786"
             ],
             [
              0.5555555555555556,
              "#d8576b"
             ],
             [
              0.6666666666666666,
              "#ed7953"
             ],
             [
              0.7777777777777778,
              "#fb9f3a"
             ],
             [
              0.8888888888888888,
              "#fdca26"
             ],
             [
              1,
              "#f0f921"
             ]
            ],
            "type": "contour"
           }
          ],
          "contourcarpet": [
           {
            "colorbar": {
             "outlinewidth": 0,
             "ticks": ""
            },
            "type": "contourcarpet"
           }
          ],
          "heatmap": [
           {
            "colorbar": {
             "outlinewidth": 0,
             "ticks": ""
            },
            "colorscale": [
             [
              0,
              "#0d0887"
             ],
             [
              0.1111111111111111,
              "#46039f"
             ],
             [
              0.2222222222222222,
              "#7201a8"
             ],
             [
              0.3333333333333333,
              "#9c179e"
             ],
             [
              0.4444444444444444,
              "#bd3786"
             ],
             [
              0.5555555555555556,
              "#d8576b"
             ],
             [
              0.6666666666666666,
              "#ed7953"
             ],
             [
              0.7777777777777778,
              "#fb9f3a"
             ],
             [
              0.8888888888888888,
              "#fdca26"
             ],
             [
              1,
              "#f0f921"
             ]
            ],
            "type": "heatmap"
           }
          ],
          "heatmapgl": [
           {
            "colorbar": {
             "outlinewidth": 0,
             "ticks": ""
            },
            "colorscale": [
             [
              0,
              "#0d0887"
             ],
             [
              0.1111111111111111,
              "#46039f"
             ],
             [
              0.2222222222222222,
              "#7201a8"
             ],
             [
              0.3333333333333333,
              "#9c179e"
             ],
             [
              0.4444444444444444,
              "#bd3786"
             ],
             [
              0.5555555555555556,
              "#d8576b"
             ],
             [
              0.6666666666666666,
              "#ed7953"
             ],
             [
              0.7777777777777778,
              "#fb9f3a"
             ],
             [
              0.8888888888888888,
              "#fdca26"
             ],
             [
              1,
              "#f0f921"
             ]
            ],
            "type": "heatmapgl"
           }
          ],
          "histogram": [
           {
            "marker": {
             "pattern": {
              "fillmode": "overlay",
              "size": 10,
              "solidity": 0.2
             }
            },
            "type": "histogram"
           }
          ],
          "histogram2d": [
           {
            "colorbar": {
             "outlinewidth": 0,
             "ticks": ""
            },
            "colorscale": [
             [
              0,
              "#0d0887"
             ],
             [
              0.1111111111111111,
              "#46039f"
             ],
             [
              0.2222222222222222,
              "#7201a8"
             ],
             [
              0.3333333333333333,
              "#9c179e"
             ],
             [
              0.4444444444444444,
              "#bd3786"
             ],
             [
              0.5555555555555556,
              "#d8576b"
             ],
             [
              0.6666666666666666,
              "#ed7953"
             ],
             [
              0.7777777777777778,
              "#fb9f3a"
             ],
             [
              0.8888888888888888,
              "#fdca26"
             ],
             [
              1,
              "#f0f921"
             ]
            ],
            "type": "histogram2d"
           }
          ],
          "histogram2dcontour": [
           {
            "colorbar": {
             "outlinewidth": 0,
             "ticks": ""
            },
            "colorscale": [
             [
              0,
              "#0d0887"
             ],
             [
              0.1111111111111111,
              "#46039f"
             ],
             [
              0.2222222222222222,
              "#7201a8"
             ],
             [
              0.3333333333333333,
              "#9c179e"
             ],
             [
              0.4444444444444444,
              "#bd3786"
             ],
             [
              0.5555555555555556,
              "#d8576b"
             ],
             [
              0.6666666666666666,
              "#ed7953"
             ],
             [
              0.7777777777777778,
              "#fb9f3a"
             ],
             [
              0.8888888888888888,
              "#fdca26"
             ],
             [
              1,
              "#f0f921"
             ]
            ],
            "type": "histogram2dcontour"
           }
          ],
          "mesh3d": [
           {
            "colorbar": {
             "outlinewidth": 0,
             "ticks": ""
            },
            "type": "mesh3d"
           }
          ],
          "parcoords": [
           {
            "line": {
             "colorbar": {
              "outlinewidth": 0,
              "ticks": ""
             }
            },
            "type": "parcoords"
           }
          ],
          "pie": [
           {
            "automargin": true,
            "type": "pie"
           }
          ],
          "scatter": [
           {
            "marker": {
             "colorbar": {
              "outlinewidth": 0,
              "ticks": ""
             }
            },
            "type": "scatter"
           }
          ],
          "scatter3d": [
           {
            "line": {
             "colorbar": {
              "outlinewidth": 0,
              "ticks": ""
             }
            },
            "marker": {
             "colorbar": {
              "outlinewidth": 0,
              "ticks": ""
             }
            },
            "type": "scatter3d"
           }
          ],
          "scattercarpet": [
           {
            "marker": {
             "colorbar": {
              "outlinewidth": 0,
              "ticks": ""
             }
            },
            "type": "scattercarpet"
           }
          ],
          "scattergeo": [
           {
            "marker": {
             "colorbar": {
              "outlinewidth": 0,
              "ticks": ""
             }
            },
            "type": "scattergeo"
           }
          ],
          "scattergl": [
           {
            "marker": {
             "colorbar": {
              "outlinewidth": 0,
              "ticks": ""
             }
            },
            "type": "scattergl"
           }
          ],
          "scattermapbox": [
           {
            "marker": {
             "colorbar": {
              "outlinewidth": 0,
              "ticks": ""
             }
            },
            "type": "scattermapbox"
           }
          ],
          "scatterpolar": [
           {
            "marker": {
             "colorbar": {
              "outlinewidth": 0,
              "ticks": ""
             }
            },
            "type": "scatterpolar"
           }
          ],
          "scatterpolargl": [
           {
            "marker": {
             "colorbar": {
              "outlinewidth": 0,
              "ticks": ""
             }
            },
            "type": "scatterpolargl"
           }
          ],
          "scatterternary": [
           {
            "marker": {
             "colorbar": {
              "outlinewidth": 0,
              "ticks": ""
             }
            },
            "type": "scatterternary"
           }
          ],
          "surface": [
           {
            "colorbar": {
             "outlinewidth": 0,
             "ticks": ""
            },
            "colorscale": [
             [
              0,
              "#0d0887"
             ],
             [
              0.1111111111111111,
              "#46039f"
             ],
             [
              0.2222222222222222,
              "#7201a8"
             ],
             [
              0.3333333333333333,
              "#9c179e"
             ],
             [
              0.4444444444444444,
              "#bd3786"
             ],
             [
              0.5555555555555556,
              "#d8576b"
             ],
             [
              0.6666666666666666,
              "#ed7953"
             ],
             [
              0.7777777777777778,
              "#fb9f3a"
             ],
             [
              0.8888888888888888,
              "#fdca26"
             ],
             [
              1,
              "#f0f921"
             ]
            ],
            "type": "surface"
           }
          ],
          "table": [
           {
            "cells": {
             "fill": {
              "color": "#EBF0F8"
             },
             "line": {
              "color": "white"
             }
            },
            "header": {
             "fill": {
              "color": "#C8D4E3"
             },
             "line": {
              "color": "white"
             }
            },
            "type": "table"
           }
          ]
         },
         "layout": {
          "annotationdefaults": {
           "arrowcolor": "#2a3f5f",
           "arrowhead": 0,
           "arrowwidth": 1
          },
          "autotypenumbers": "strict",
          "coloraxis": {
           "colorbar": {
            "outlinewidth": 0,
            "ticks": ""
           }
          },
          "colorscale": {
           "diverging": [
            [
             0,
             "#8e0152"
            ],
            [
             0.1,
             "#c51b7d"
            ],
            [
             0.2,
             "#de77ae"
            ],
            [
             0.3,
             "#f1b6da"
            ],
            [
             0.4,
             "#fde0ef"
            ],
            [
             0.5,
             "#f7f7f7"
            ],
            [
             0.6,
             "#e6f5d0"
            ],
            [
             0.7,
             "#b8e186"
            ],
            [
             0.8,
             "#7fbc41"
            ],
            [
             0.9,
             "#4d9221"
            ],
            [
             1,
             "#276419"
            ]
           ],
           "sequential": [
            [
             0,
             "#0d0887"
            ],
            [
             0.1111111111111111,
             "#46039f"
            ],
            [
             0.2222222222222222,
             "#7201a8"
            ],
            [
             0.3333333333333333,
             "#9c179e"
            ],
            [
             0.4444444444444444,
             "#bd3786"
            ],
            [
             0.5555555555555556,
             "#d8576b"
            ],
            [
             0.6666666666666666,
             "#ed7953"
            ],
            [
             0.7777777777777778,
             "#fb9f3a"
            ],
            [
             0.8888888888888888,
             "#fdca26"
            ],
            [
             1,
             "#f0f921"
            ]
           ],
           "sequentialminus": [
            [
             0,
             "#0d0887"
            ],
            [
             0.1111111111111111,
             "#46039f"
            ],
            [
             0.2222222222222222,
             "#7201a8"
            ],
            [
             0.3333333333333333,
             "#9c179e"
            ],
            [
             0.4444444444444444,
             "#bd3786"
            ],
            [
             0.5555555555555556,
             "#d8576b"
            ],
            [
             0.6666666666666666,
             "#ed7953"
            ],
            [
             0.7777777777777778,
             "#fb9f3a"
            ],
            [
             0.8888888888888888,
             "#fdca26"
            ],
            [
             1,
             "#f0f921"
            ]
           ]
          },
          "colorway": [
           "#636efa",
           "#EF553B",
           "#00cc96",
           "#ab63fa",
           "#FFA15A",
           "#19d3f3",
           "#FF6692",
           "#B6E880",
           "#FF97FF",
           "#FECB52"
          ],
          "font": {
           "color": "#2a3f5f"
          },
          "geo": {
           "bgcolor": "white",
           "lakecolor": "white",
           "landcolor": "#E5ECF6",
           "showlakes": true,
           "showland": true,
           "subunitcolor": "white"
          },
          "hoverlabel": {
           "align": "left"
          },
          "hovermode": "closest",
          "mapbox": {
           "style": "light"
          },
          "paper_bgcolor": "white",
          "plot_bgcolor": "#E5ECF6",
          "polar": {
           "angularaxis": {
            "gridcolor": "white",
            "linecolor": "white",
            "ticks": ""
           },
           "bgcolor": "#E5ECF6",
           "radialaxis": {
            "gridcolor": "white",
            "linecolor": "white",
            "ticks": ""
           }
          },
          "scene": {
           "xaxis": {
            "backgroundcolor": "#E5ECF6",
            "gridcolor": "white",
            "gridwidth": 2,
            "linecolor": "white",
            "showbackground": true,
            "ticks": "",
            "zerolinecolor": "white"
           },
           "yaxis": {
            "backgroundcolor": "#E5ECF6",
            "gridcolor": "white",
            "gridwidth": 2,
            "linecolor": "white",
            "showbackground": true,
            "ticks": "",
            "zerolinecolor": "white"
           },
           "zaxis": {
            "backgroundcolor": "#E5ECF6",
            "gridcolor": "white",
            "gridwidth": 2,
            "linecolor": "white",
            "showbackground": true,
            "ticks": "",
            "zerolinecolor": "white"
           }
          },
          "shapedefaults": {
           "line": {
            "color": "#2a3f5f"
           }
          },
          "ternary": {
           "aaxis": {
            "gridcolor": "white",
            "linecolor": "white",
            "ticks": ""
           },
           "baxis": {
            "gridcolor": "white",
            "linecolor": "white",
            "ticks": ""
           },
           "bgcolor": "#E5ECF6",
           "caxis": {
            "gridcolor": "white",
            "linecolor": "white",
            "ticks": ""
           }
          },
          "title": {
           "x": 0.05
          },
          "xaxis": {
           "automargin": true,
           "gridcolor": "white",
           "linecolor": "white",
           "ticks": "",
           "title": {
            "standoff": 15
           },
           "zerolinecolor": "white",
           "zerolinewidth": 2
          },
          "yaxis": {
           "automargin": true,
           "gridcolor": "white",
           "linecolor": "white",
           "ticks": "",
           "title": {
            "standoff": 15
           },
           "zerolinecolor": "white",
           "zerolinewidth": 2
          }
         }
        },
        "width": 800
       }
      }
     },
     "metadata": {},
     "output_type": "display_data"
    }
   ],
   "source": [
    "nearby_attraction_count = df_rating['nearby_attraction'].value_counts()\n",
    "nearby_attraction_fig = px.pie(nearby_attraction_count, names=nearby_attraction_count.index, values='nearby_attraction', width=800, height=400)\n",
    "nearby_attraction_fig.show()"
   ]
  },
  {
   "cell_type": "markdown",
   "metadata": {},
   "source": [
    "#### 1.3 Mean Overall Rating across Nearby Attractions"
   ]
  },
  {
   "cell_type": "code",
   "execution_count": 6,
   "metadata": {},
   "outputs": [],
   "source": [
    "sub_df = df_rating[['nearby_attraction', 'overall_rating']].copy()"
   ]
  },
  {
   "cell_type": "code",
   "execution_count": 7,
   "metadata": {},
   "outputs": [
    {
     "data": {
      "image/png": "[encoded data removed]",
      "text/plain": [
       "<Figure size 504x360 with 2 Axes>"
      ]
     },
     "metadata": {
      "needs_background": "light"
     },
     "output_type": "display_data"
    }
   ],
   "source": [
    "fig, ax = plt.subplots(figsize=(7,5))\n",
    "df_heatmap = sub_df.pivot_table(values='overall_rating',columns='nearby_attraction', aggfunc=np.mean)\n",
    "ax = sns.heatmap(df_heatmap.transpose())"
   ]
  },
  {
   "cell_type": "markdown",
   "metadata": {},
   "source": [
    "#### 1.4 Median Overall Rating across Nearby Attractions"
   ]
  },
  {
   "cell_type": "code",
   "execution_count": 8,
   "metadata": {},
   "outputs": [
    {
     "data": {
      "image/png": "[encoded data removed]",
      "text/plain": [
       "<Figure size 504x360 with 2 Axes>"
      ]
     },
     "metadata": {
      "needs_background": "light"
     },
     "output_type": "display_data"
    }
   ],
   "source": [
    "fig, ax = plt.subplots(figsize=(7,5))\n",
    "df_heatmap = sub_df.pivot_table(values='overall_rating',columns='nearby_attraction',aggfunc=np.median)\n",
    "ax = sns.heatmap(df_heatmap.transpose())"
   ]
  },
  {
   "cell_type": "markdown",
   "metadata": {},
   "source": [
    "#### 1.5 Percentage of restaurants with particular rating out of restaurants with that nearby attraction\n",
    "- row-wise"
   ]
  },
  {
   "cell_type": "code",
   "execution_count": 9,
   "metadata": {},
   "outputs": [
    {
     "data": {
      "image/png": "[encoded data removed]",
      "text/plain": [
       "<Figure size 720x576 with 2 Axes>"
      ]
     },
     "metadata": {
      "needs_background": "light"
     },
     "output_type": "display_data"
    }
   ],
   "source": [
    "fig, ax = plt.subplots(figsize=(10,8))\n",
    "rating_nearby_count = df_rating.groupby(['overall_rating', 'nearby_attraction'])['url'].count()\n",
    "nearby_count = df_rating.groupby(['nearby_attraction'])['url'].count()\n",
    "df_heatmap = (rating_nearby_count.div(nearby_count, level='nearby_attraction') * 100).unstack(fill_value=0)\n",
    "ax = sns.heatmap(df_heatmap.transpose())"
   ]
  },
  {
   "cell_type": "markdown",
   "metadata": {},
   "source": [
    "#### 1.6 Percentage of restaurants with particular nearby attraction out of restaurants with that rating\n",
    "- column-wise"
   ]
  },
  {
   "cell_type": "code",
   "execution_count": 10,
   "metadata": {},
   "outputs": [
    {
     "data": {
      "image/png": "[encoded data removed]",
      "text/plain": [
       "<Figure size 720x576 with 2 Axes>"
      ]
     },
     "metadata": {
      "needs_background": "light"
     },
     "output_type": "display_data"
    }
   ],
   "source": [
    "fig, ax = plt.subplots(figsize=(10,8))\n",
    "rating_nearby_count = df_rating.groupby(['overall_rating', 'nearby_attraction'])['url'].count()\n",
    "nearby_count = df_rating.groupby(['overall_rating'])['url'].count()\n",
    "df_heatmap = (rating_nearby_count.div(nearby_count, level='overall_rating') * 100).unstack(fill_value=0)\n",
    "ax = sns.heatmap(df_heatmap.transpose())"
   ]
  },
  {
   "cell_type": "markdown",
   "metadata": {},
   "source": [
    "#### 1.7 Number of restaurants by nearby attraction and by rating"
   ]
  },
  {
   "cell_type": "code",
   "execution_count": 11,
   "metadata": {},
   "outputs": [
    {
     "data": {
      "image/png": "[encoded data removed]",
      "text/plain": [
       "<Figure size 720x576 with 2 Axes>"
      ]
     },
     "metadata": {
      "needs_background": "light"
     },
     "output_type": "display_data"
    }
   ],
   "source": [
    "fig, ax = plt.subplots(figsize=(10,8))\n",
    "df_heatmap = df_rating.groupby(['overall_rating', 'nearby_attraction'])['url'].count().unstack(fill_value=0)\n",
    "ax = sns.heatmap(df_heatmap.transpose())"
   ]
  },
  {
   "cell_type": "markdown",
   "metadata": {},
   "source": [
    "### 2. Exploratory Data Analysis - Nearby Attraction [Grouped]\n",
    "\n",
    "Looking at the various nearby attraction that exist in the dataset after grouping"
   ]
  },
  {
   "cell_type": "markdown",
   "metadata": {},
   "source": [
    "#### 2.1 Count of restaurants by nearby attraction "
   ]
  },
  {
   "cell_type": "code",
   "execution_count": 12,
   "metadata": {},
   "outputs": [
    {
     "data": {
      "text/plain": [
       "nearby_attraction\n",
       "Arab Street                      257\n",
       "Asian Civilisations Museum        21\n",
       "Boat Quay                        165\n",
       "Chinatown                       1290\n",
       "City Hall Building               424\n",
       "East Coast Park                  948\n",
       "Little India                    1293\n",
       "Marina Bay                       455\n",
       "Merlion Park                     370\n",
       "National Museum of Singapore      57\n",
       "National Orchid Garden            91\n",
       "Night Safari                       3\n",
       "Orchard Road                     741\n",
       "Singapore Botanic Gardens       1181\n",
       "Singapore Cable Car              342\n",
       "Singapore Flyer                  175\n",
       "Singapore Zoo                    530\n",
       "Name: url, dtype: int64"
      ]
     },
     "execution_count": 12,
     "metadata": {},
     "output_type": "execute_result"
    }
   ],
   "source": [
    "df_rating.groupby(['nearby_attraction'])['url'].count()"
   ]
  },
  {
   "cell_type": "markdown",
   "metadata": {},
   "source": [
    "Grouping\n",
    "- 'Asian Civilisations Museum', 'National Museum of Singapore', 'City Hall Building' to 'Museum'\n",
    "- 'National Orchid Garden', 'Singapore Botanic Gardens' to 'Garden'\n",
    "- 'Singapore Cable Car', 'Singapore Flyer' to 'Observation'\n",
    "- 'Night Safari', 'Singapore Zoo' to 'Wildlife'"
   ]
  },
  {
   "cell_type": "code",
   "execution_count": 13,
   "metadata": {},
   "outputs": [],
   "source": [
    "bucket_df = df_rating.copy()\n",
    "bucket_df[\"grouped_nearby_attraction\"] = bucket_df['nearby_attraction'].replace(to_replace =['Asian Civilisations Museum', 'National Museum of Singapore', 'City Hall Building'], value =\"Museum\")\n",
    "bucket_df[\"grouped_nearby_attraction\"] = bucket_df['nearby_attraction'].replace(to_replace =['National Orchid Garden', 'Singapore Botanic Gardens'], value =\"Garden\")\n",
    "bucket_df[\"grouped_nearby_attraction\"] = bucket_df['nearby_attraction'].replace(to_replace =['Singapore Cable Car', 'Singapore Flyer'], value =\"Observation\")\n",
    "bucket_df[\"grouped_nearby_attraction\"] = bucket_df['nearby_attraction'].replace(to_replace =['Night Safari', 'Singapore Zoo'], value =\"Wildlife\")"
   ]
  },
  {
   "cell_type": "markdown",
   "metadata": {},
   "source": [
    "#### 2.2 Count of restaurants by nearby attraction after grouping"
   ]
  },
  {
   "cell_type": "code",
   "execution_count": 14,
   "metadata": {},
   "outputs": [
    {
     "data": {
      "text/plain": [
       "grouped_nearby_attraction\n",
       "Arab Street                      257\n",
       "Asian Civilisations Museum        21\n",
       "Boat Quay                        165\n",
       "Chinatown                       1290\n",
       "City Hall Building               424\n",
       "East Coast Park                  948\n",
       "Little India                    1293\n",
       "Marina Bay                       455\n",
       "Merlion Park                     370\n",
       "National Museum of Singapore      57\n",
       "National Orchid Garden            91\n",
       "Orchard Road                     741\n",
       "Singapore Botanic Gardens       1181\n",
       "Singapore Cable Car              342\n",
       "Singapore Flyer                  175\n",
       "Wildlife                         533\n",
       "Name: url, dtype: int64"
      ]
     },
     "execution_count": 14,
     "metadata": {},
     "output_type": "execute_result"
    }
   ],
   "source": [
    "bucket_df.groupby(['grouped_nearby_attraction'])['url'].count()"
   ]
  },
  {
   "cell_type": "markdown",
   "metadata": {},
   "source": [
    "#### 2.3 Proportion of Grouped Nearby Attraction "
   ]
  },
  {
   "cell_type": "code",
   "execution_count": 15,
   "metadata": {},
   "outputs": [
    {
     "data": {
      "application/vnd.plotly.v1+json": {
       "config": {
        "plotlyServerURL": "https://plot.ly"
       },
       "data": [
        {
         "domain": {
          "x": [
           0,
           1
          ],
          "y": [
           0,
           1
          ]
         },
         "hovertemplate": "index=%{label}<br>grouped_nearby_attraction=%{value}<extra></extra>",
         "labels": [
          null,
          "Little India",
          "Chinatown",
          "Singapore Botanic Gardens",
          "East Coast Park",
          "Orchard Road",
          "Wildlife",
          "Marina Bay",
          "City Hall Building",
          "Merlion Park",
          "Singapore Cable Car",
          "Arab Street",
          "Singapore Flyer",
          "Boat Quay",
          "National Orchid Garden",
          "National Museum of Singapore",
          "Asian Civilisations Museum"
         ],
         "legendgroup": "",
         "name": "",
         "showlegend": true,
         "type": "pie",
         "values": [
          2818,
          1293,
          1290,
          1181,
          948,
          741,
          533,
          455,
          424,
          370,
          342,
          257,
          175,
          165,
          91,
          57,
          21
         ]
        }
       ],
       "layout": {
        "height": 400,
        "legend": {
         "tracegroupgap": 0
        },
        "margin": {
         "t": 60
        },
        "template": {
         "data": {
          "bar": [
           {
            "error_x": {
             "color": "#2a3f5f"
            },
            "error_y": {
             "color": "#2a3f5f"
            },
            "marker": {
             "line": {
              "color": "#E5ECF6",
              "width": 0.5
             },
             "pattern": {
              "fillmode": "overlay",
              "size": 10,
              "solidity": 0.2
             }
            },
            "type": "bar"
           }
          ],
          "barpolar": [
           {
            "marker": {
             "line": {
              "color": "#E5ECF6",
              "width": 0.5
             },
             "pattern": {
              "fillmode": "overlay",
              "size": 10,
              "solidity": 0.2
             }
            },
            "type": "barpolar"
           }
          ],
          "carpet": [
           {
            "aaxis": {
             "endlinecolor": "#2a3f5f",
             "gridcolor": "white",
             "linecolor": "white",
             "minorgridcolor": "white",
             "startlinecolor": "#2a3f5f"
            },
            "baxis": {
             "endlinecolor": "#2a3f5f",
             "gridcolor": "white",
             "linecolor": "white",
             "minorgridcolor": "white",
             "startlinecolor": "#2a3f5f"
            },
            "type": "carpet"
           }
          ],
          "choropleth": [
           {
            "colorbar": {
             "outlinewidth": 0,
             "ticks": ""
            },
            "type": "choropleth"
           }
          ],
          "contour": [
           {
            "colorbar": {
             "outlinewidth": 0,
             "ticks": ""
            },
            "colorscale": [
             [
              0,
              "#0d0887"
             ],
             [
              0.1111111111111111,
              "#46039f"
             ],
             [
              0.2222222222222222,
              "#7201a8"
             ],
             [
              0.3333333333333333,
              "#9c179e"
             ],
             [
              0.4444444444444444,
              "#bd3786"
             ],
             [
              0.5555555555555556,
              "#d8576b"
             ],
             [
              0.6666666666666666,
              "#ed7953"
             ],
             [
              0.7777777777777778,
              "#fb9f3a"
             ],
             [
              0.8888888888888888,
              "#fdca26"
             ],
             [
              1,
              "#f0f921"
             ]
            ],
            "type": "contour"
           }
          ],
          "contourcarpet": [
           {
            "colorbar": {
             "outlinewidth": 0,
             "ticks": ""
            },
            "type": "contourcarpet"
           }
          ],
          "heatmap": [
           {
            "colorbar": {
             "outlinewidth": 0,
             "ticks": ""
            },
            "colorscale": [
             [
              0,
              "#0d0887"
             ],
             [
              0.1111111111111111,
              "#46039f"
             ],
             [
              0.2222222222222222,
              "#7201a8"
             ],
             [
              0.3333333333333333,
              "#9c179e"
             ],
             [
              0.4444444444444444,
              "#bd3786"
             ],
             [
              0.5555555555555556,
              "#d8576b"
             ],
             [
              0.6666666666666666,
              "#ed7953"
             ],
             [
              0.7777777777777778,
              "#fb9f3a"
             ],
             [
              0.8888888888888888,
              "#fdca26"
             ],
             [
              1,
              "#f0f921"
             ]
            ],
            "type": "heatmap"
           }
          ],
          "heatmapgl": [
           {
            "colorbar": {
             "outlinewidth": 0,
             "ticks": ""
            },
            "colorscale": [
             [
              0,
              "#0d0887"
             ],
             [
              0.1111111111111111,
              "#46039f"
             ],
             [
              0.2222222222222222,
              "#7201a8"
             ],
             [
              0.3333333333333333,
              "#9c179e"
             ],
             [
              0.4444444444444444,
              "#bd3786"
             ],
             [
              0.5555555555555556,
              "#d8576b"
             ],
             [
              0.6666666666666666,
              "#ed7953"
             ],
             [
              0.7777777777777778,
              "#fb9f3a"
             ],
             [
              0.8888888888888888,
              "#fdca26"
             ],
             [
              1,
              "#f0f921"
             ]
            ],
            "type": "heatmapgl"
           }
          ],
          "histogram": [
           {
            "marker": {
             "pattern": {
              "fillmode": "overlay",
              "size": 10,
              "solidity": 0.2
             }
            },
            "type": "histogram"
           }
          ],
          "histogram2d": [
           {
            "colorbar": {
             "outlinewidth": 0,
             "ticks": ""
            },
            "colorscale": [
             [
              0,
              "#0d0887"
             ],
             [
              0.1111111111111111,
              "#46039f"
             ],
             [
              0.2222222222222222,
              "#7201a8"
             ],
             [
              0.3333333333333333,
              "#9c179e"
             ],
             [
              0.4444444444444444,
              "#bd3786"
             ],
             [
              0.5555555555555556,
              "#d8576b"
             ],
             [
              0.6666666666666666,
              "#ed7953"
             ],
             [
              0.7777777777777778,
              "#fb9f3a"
             ],
             [
              0.8888888888888888,
              "#fdca26"
             ],
             [
              1,
              "#f0f921"
             ]
            ],
            "type": "histogram2d"
           }
          ],
          "histogram2dcontour": [
           {
            "colorbar": {
             "outlinewidth": 0,
             "ticks": ""
            },
            "colorscale": [
             [
              0,
              "#0d0887"
             ],
             [
              0.1111111111111111,
              "#46039f"
             ],
             [
              0.2222222222222222,
              "#7201a8"
             ],
             [
              0.3333333333333333,
              "#9c179e"
             ],
             [
              0.4444444444444444,
              "#bd3786"
             ],
             [
              0.5555555555555556,
              "#d8576b"
             ],
             [
              0.6666666666666666,
              "#ed7953"
             ],
             [
              0.7777777777777778,
              "#fb9f3a"
             ],
             [
              0.8888888888888888,
              "#fdca26"
             ],
             [
              1,
              "#f0f921"
             ]
            ],
            "type": "histogram2dcontour"
           }
          ],
          "mesh3d": [
           {
            "colorbar": {
             "outlinewidth": 0,
             "ticks": ""
            },
            "type": "mesh3d"
           }
          ],
          "parcoords": [
           {
            "line": {
             "colorbar": {
              "outlinewidth": 0,
              "ticks": ""
             }
            },
            "type": "parcoords"
           }
          ],
          "pie": [
           {
            "automargin": true,
            "type": "pie"
           }
          ],
          "scatter": [
           {
            "marker": {
             "colorbar": {
              "outlinewidth": 0,
              "ticks": ""
             }
            },
            "type": "scatter"
           }
          ],
          "scatter3d": [
           {
            "line": {
             "colorbar": {
              "outlinewidth": 0,
              "ticks": ""
             }
            },
            "marker": {
             "colorbar": {
              "outlinewidth": 0,
              "ticks": ""
             }
            },
            "type": "scatter3d"
           }
          ],
          "scattercarpet": [
           {
            "marker": {
             "colorbar": {
              "outlinewidth": 0,
              "ticks": ""
             }
            },
            "type": "scattercarpet"
           }
          ],
          "scattergeo": [
           {
            "marker": {
             "colorbar": {
              "outlinewidth": 0,
              "ticks": ""
             }
            },
            "type": "scattergeo"
           }
          ],
          "scattergl": [
           {
            "marker": {
             "colorbar": {
              "outlinewidth": 0,
              "ticks": ""
             }
            },
            "type": "scattergl"
           }
          ],
          "scattermapbox": [
           {
            "marker": {
             "colorbar": {
              "outlinewidth": 0,
              "ticks": ""
             }
            },
            "type": "scattermapbox"
           }
          ],
          "scatterpolar": [
           {
            "marker": {
             "colorbar": {
              "outlinewidth": 0,
              "ticks": ""
             }
            },
            "type": "scatterpolar"
           }
          ],
          "scatterpolargl": [
           {
            "marker": {
             "colorbar": {
              "outlinewidth": 0,
              "ticks": ""
             }
            },
            "type": "scatterpolargl"
           }
          ],
          "scatterternary": [
           {
            "marker": {
             "colorbar": {
              "outlinewidth": 0,
              "ticks": ""
             }
            },
            "type": "scatterternary"
           }
          ],
          "surface": [
           {
            "colorbar": {
             "outlinewidth": 0,
             "ticks": ""
            },
            "colorscale": [
             [
              0,
              "#0d0887"
             ],
             [
              0.1111111111111111,
              "#46039f"
             ],
             [
              0.2222222222222222,
              "#7201a8"
             ],
             [
              0.3333333333333333,
              "#9c179e"
             ],
             [
              0.4444444444444444,
              "#bd3786"
             ],
             [
              0.5555555555555556,
              "#d8576b"
             ],
             [
              0.6666666666666666,
              "#ed7953"
             ],
             [
              0.7777777777777778,
              "#fb9f3a"
             ],
             [
              0.8888888888888888,
              "#fdca26"
             ],
             [
              1,
              "#f0f921"
             ]
            ],
            "type": "surface"
           }
          ],
          "table": [
           {
            "cells": {
             "fill": {
              "color": "#EBF0F8"
             },
             "line": {
              "color": "white"
             }
            },
            "header": {
             "fill": {
              "color": "#C8D4E3"
             },
             "line": {
              "color": "white"
             }
            },
            "type": "table"
           }
          ]
         },
         "layout": {
          "annotationdefaults": {
           "arrowcolor": "#2a3f5f",
           "arrowhead": 0,
           "arrowwidth": 1
          },
          "autotypenumbers": "strict",
          "coloraxis": {
           "colorbar": {
            "outlinewidth": 0,
            "ticks": ""
           }
          },
          "colorscale": {
           "diverging": [
            [
             0,
             "#8e0152"
            ],
            [
             0.1,
             "#c51b7d"
            ],
            [
             0.2,
             "#de77ae"
            ],
            [
             0.3,
             "#f1b6da"
            ],
            [
             0.4,
             "#fde0ef"
            ],
            [
             0.5,
             "#f7f7f7"
            ],
            [
             0.6,
             "#e6f5d0"
            ],
            [
             0.7,
             "#b8e186"
            ],
            [
             0.8,
             "#7fbc41"
            ],
            [
             0.9,
             "#4d9221"
            ],
            [
             1,
             "#276419"
            ]
           ],
           "sequential": [
            [
             0,
             "#0d0887"
            ],
            [
             0.1111111111111111,
             "#46039f"
            ],
            [
             0.2222222222222222,
             "#7201a8"
            ],
            [
             0.3333333333333333,
             "#9c179e"
            ],
            [
             0.4444444444444444,
             "#bd3786"
            ],
            [
             0.5555555555555556,
             "#d8576b"
            ],
            [
             0.6666666666666666,
             "#ed7953"
            ],
            [
             0.7777777777777778,
             "#fb9f3a"
            ],
            [
             0.8888888888888888,
             "#fdca26"
            ],
            [
             1,
             "#f0f921"
            ]
           ],
           "sequentialminus": [
            [
             0,
             "#0d0887"
            ],
            [
             0.1111111111111111,
             "#46039f"
            ],
            [
             0.2222222222222222,
             "#7201a8"
            ],
            [
             0.3333333333333333,
             "#9c179e"
            ],
            [
             0.4444444444444444,
             "#bd3786"
            ],
            [
             0.5555555555555556,
             "#d8576b"
            ],
            [
             0.6666666666666666,
             "#ed7953"
            ],
            [
             0.7777777777777778,
             "#fb9f3a"
            ],
            [
             0.8888888888888888,
             "#fdca26"
            ],
            [
             1,
             "#f0f921"
            ]
           ]
          },
          "colorway": [
           "#636efa",
           "#EF553B",
           "#00cc96",
           "#ab63fa",
           "#FFA15A",
           "#19d3f3",
           "#FF6692",
           "#B6E880",
           "#FF97FF",
           "#FECB52"
          ],
          "font": {
           "color": "#2a3f5f"
          },
          "geo": {
           "bgcolor": "white",
           "lakecolor": "white",
           "landcolor": "#E5ECF6",
           "showlakes": true,
           "showland": true,
           "subunitcolor": "white"
          },
          "hoverlabel": {
           "align": "left"
          },
          "hovermode": "closest",
          "mapbox": {
           "style": "light"
          },
          "paper_bgcolor": "white",
          "plot_bgcolor": "#E5ECF6",
          "polar": {
           "angularaxis": {
            "gridcolor": "white",
            "linecolor": "white",
            "ticks": ""
           },
           "bgcolor": "#E5ECF6",
           "radialaxis": {
            "gridcolor": "white",
            "linecolor": "white",
            "ticks": ""
           }
          },
          "scene": {
           "xaxis": {
            "backgroundcolor": "#E5ECF6",
            "gridcolor": "white",
            "gridwidth": 2,
            "linecolor": "white",
            "showbackground": true,
            "ticks": "",
            "zerolinecolor": "white"
           },
           "yaxis": {
            "backgroundcolor": "#E5ECF6",
            "gridcolor": "white",
            "gridwidth": 2,
            "linecolor": "white",
            "showbackground": true,
            "ticks": "",
            "zerolinecolor": "white"
           },
           "zaxis": {
            "backgroundcolor": "#E5ECF6",
            "gridcolor": "white",
            "gridwidth": 2,
            "linecolor": "white",
            "showbackground": true,
            "ticks": "",
            "zerolinecolor": "white"
           }
          },
          "shapedefaults": {
           "line": {
            "color": "#2a3f5f"
           }
          },
          "ternary": {
           "aaxis": {
            "gridcolor": "white",
            "linecolor": "white",
            "ticks": ""
           },
           "baxis": {
            "gridcolor": "white",
            "linecolor": "white",
            "ticks": ""
           },
           "bgcolor": "#E5ECF6",
           "caxis": {
            "gridcolor": "white",
            "linecolor": "white",
            "ticks": ""
           }
          },
          "title": {
           "x": 0.05
          },
          "xaxis": {
           "automargin": true,
           "gridcolor": "white",
           "linecolor": "white",
           "ticks": "",
           "title": {
            "standoff": 15
           },
           "zerolinecolor": "white",
           "zerolinewidth": 2
          },
          "yaxis": {
           "automargin": true,
           "gridcolor": "white",
           "linecolor": "white",
           "ticks": "",
           "title": {
            "standoff": 15
           },
           "zerolinecolor": "white",
           "zerolinewidth": 2
          }
         }
        },
        "width": 800
       }
      }
     },
     "metadata": {},
     "output_type": "display_data"
    }
   ],
   "source": [
    "nearby_attraction_count = bucket_df['grouped_nearby_attraction'].value_counts(dropna=False)\n",
    "nearby_attraction_fig = px.pie(nearby_attraction_count, names=nearby_attraction_count.index, values='grouped_nearby_attraction', width=800, height=400)\n",
    "nearby_attraction_fig.show()"
   ]
  },
  {
   "cell_type": "markdown",
   "metadata": {},
   "source": [
    "#### 2.4 Proportion of Grouped Nearby Attraction [Excluding Null]"
   ]
  },
  {
   "cell_type": "code",
   "execution_count": 16,
   "metadata": {},
   "outputs": [
    {
     "data": {
      "application/vnd.plotly.v1+json": {
       "config": {
        "plotlyServerURL": "https://plot.ly"
       },
       "data": [
        {
         "domain": {
          "x": [
           0,
           1
          ],
          "y": [
           0,
           1
          ]
         },
         "hovertemplate": "index=%{label}<br>grouped_nearby_attraction=%{value}<extra></extra>",
         "labels": [
          "Little India",
          "Chinatown",
          "Singapore Botanic Gardens",
          "East Coast Park",
          "Orchard Road",
          "Wildlife",
          "Marina Bay",
          "City Hall Building",
          "Merlion Park",
          "Singapore Cable Car",
          "Arab Street",
          "Singapore Flyer",
          "Boat Quay",
          "National Orchid Garden",
          "National Museum of Singapore",
          "Asian Civilisations Museum"
         ],
         "legendgroup": "",
         "name": "",
         "showlegend": true,
         "type": "pie",
         "values": [
          1293,
          1290,
          1181,
          948,
          741,
          533,
          455,
          424,
          370,
          342,
          257,
          175,
          165,
          91,
          57,
          21
         ]
        }
       ],
       "layout": {
        "height": 400,
        "legend": {
         "tracegroupgap": 0
        },
        "margin": {
         "t": 60
        },
        "template": {
         "data": {
          "bar": [
           {
            "error_x": {
             "color": "#2a3f5f"
            },
            "error_y": {
             "color": "#2a3f5f"
            },
            "marker": {
             "line": {
              "color": "#E5ECF6",
              "width": 0.5
             },
             "pattern": {
              "fillmode": "overlay",
              "size": 10,
              "solidity": 0.2
             }
            },
            "type": "bar"
           }
          ],
          "barpolar": [
           {
            "marker": {
             "line": {
              "color": "#E5ECF6",
              "width": 0.5
             },
             "pattern": {
              "fillmode": "overlay",
              "size": 10,
              "solidity": 0.2
             }
            },
            "type": "barpolar"
           }
          ],
          "carpet": [
           {
            "aaxis": {
             "endlinecolor": "#2a3f5f",
             "gridcolor": "white",
             "linecolor": "white",
             "minorgridcolor": "white",
             "startlinecolor": "#2a3f5f"
            },
            "baxis": {
             "endlinecolor": "#2a3f5f",
             "gridcolor": "white",
             "linecolor": "white",
             "minorgridcolor": "white",
             "startlinecolor": "#2a3f5f"
            },
            "type": "carpet"
           }
          ],
          "choropleth": [
           {
            "colorbar": {
             "outlinewidth": 0,
             "ticks": ""
            },
            "type": "choropleth"
           }
          ],
          "contour": [
           {
            "colorbar": {
             "outlinewidth": 0,
             "ticks": ""
            },
            "colorscale": [
             [
              0,
              "#0d0887"
             ],
             [
              0.1111111111111111,
              "#46039f"
             ],
             [
              0.2222222222222222,
              "#7201a8"
             ],
             [
              0.3333333333333333,
              "#9c179e"
             ],
             [
              0.4444444444444444,
              "#bd3786"
             ],
             [
              0.5555555555555556,
              "#d8576b"
             ],
             [
              0.6666666666666666,
              "#ed7953"
             ],
             [
              0.7777777777777778,
              "#fb9f3a"
             ],
             [
              0.8888888888888888,
              "#fdca26"
             ],
             [
              1,
              "#f0f921"
             ]
            ],
            "type": "contour"
           }
          ],
          "contourcarpet": [
           {
            "colorbar": {
             "outlinewidth": 0,
             "ticks": ""
            },
            "type": "contourcarpet"
           }
          ],
          "heatmap": [
           {
            "colorbar": {
             "outlinewidth": 0,
             "ticks": ""
            },
            "colorscale": [
             [
              0,
              "#0d0887"
             ],
             [
              0.1111111111111111,
              "#46039f"
             ],
             [
              0.2222222222222222,
              "#7201a8"
             ],
             [
              0.3333333333333333,
              "#9c179e"
             ],
             [
              0.4444444444444444,
              "#bd3786"
             ],
             [
              0.5555555555555556,
              "#d8576b"
             ],
             [
              0.6666666666666666,
              "#ed7953"
             ],
             [
              0.7777777777777778,
              "#fb9f3a"
             ],
             [
              0.8888888888888888,
              "#fdca26"
             ],
             [
              1,
              "#f0f921"
             ]
            ],
            "type": "heatmap"
           }
          ],
          "heatmapgl": [
           {
            "colorbar": {
             "outlinewidth": 0,
             "ticks": ""
            },
            "colorscale": [
             [
              0,
              "#0d0887"
             ],
             [
              0.1111111111111111,
              "#46039f"
             ],
             [
              0.2222222222222222,
              "#7201a8"
             ],
             [
              0.3333333333333333,
              "#9c179e"
             ],
             [
              0.4444444444444444,
              "#bd3786"
             ],
             [
              0.5555555555555556,
              "#d8576b"
             ],
             [
              0.6666666666666666,
              "#ed7953"
             ],
             [
              0.7777777777777778,
              "#fb9f3a"
             ],
             [
              0.8888888888888888,
              "#fdca26"
             ],
             [
              1,
              "#f0f921"
             ]
            ],
            "type": "heatmapgl"
           }
          ],
          "histogram": [
           {
            "marker": {
             "pattern": {
              "fillmode": "overlay",
              "size": 10,
              "solidity": 0.2
             }
            },
            "type": "histogram"
           }
          ],
          "histogram2d": [
           {
            "colorbar": {
             "outlinewidth": 0,
             "ticks": ""
            },
            "colorscale": [
             [
              0,
              "#0d0887"
             ],
             [
              0.1111111111111111,
              "#46039f"
             ],
             [
              0.2222222222222222,
              "#7201a8"
             ],
             [
              0.3333333333333333,
              "#9c179e"
             ],
             [
              0.4444444444444444,
              "#bd3786"
             ],
             [
              0.5555555555555556,
              "#d8576b"
             ],
             [
              0.6666666666666666,
              "#ed7953"
             ],
             [
              0.7777777777777778,
              "#fb9f3a"
             ],
             [
              0.8888888888888888,
              "#fdca26"
             ],
             [
              1,
              "#f0f921"
             ]
            ],
            "type": "histogram2d"
           }
          ],
          "histogram2dcontour": [
           {
            "colorbar": {
             "outlinewidth": 0,
             "ticks": ""
            },
            "colorscale": [
             [
              0,
              "#0d0887"
             ],
             [
              0.1111111111111111,
              "#46039f"
             ],
             [
              0.2222222222222222,
              "#7201a8"
             ],
             [
              0.3333333333333333,
              "#9c179e"
             ],
             [
              0.4444444444444444,
              "#bd3786"
             ],
             [
              0.5555555555555556,
              "#d8576b"
             ],
             [
              0.6666666666666666,
              "#ed7953"
             ],
             [
              0.7777777777777778,
              "#fb9f3a"
             ],
             [
              0.8888888888888888,
              "#fdca26"
             ],
             [
              1,
              "#f0f921"
             ]
            ],
            "type": "histogram2dcontour"
           }
          ],
          "mesh3d": [
           {
            "colorbar": {
             "outlinewidth": 0,
             "ticks": ""
            },
            "type": "mesh3d"
           }
          ],
          "parcoords": [
           {
            "line": {
             "colorbar": {
              "outlinewidth": 0,
              "ticks": ""
             }
            },
            "type": "parcoords"
           }
          ],
          "pie": [
           {
            "automargin": true,
            "type": "pie"
           }
          ],
          "scatter": [
           {
            "marker": {
             "colorbar": {
              "outlinewidth": 0,
              "ticks": ""
             }
            },
            "type": "scatter"
           }
          ],
          "scatter3d": [
           {
            "line": {
             "colorbar": {
              "outlinewidth": 0,
              "ticks": ""
             }
            },
            "marker": {
             "colorbar": {
              "outlinewidth": 0,
              "ticks": ""
             }
            },
            "type": "scatter3d"
           }
          ],
          "scattercarpet": [
           {
            "marker": {
             "colorbar": {
              "outlinewidth": 0,
              "ticks": ""
             }
            },
            "type": "scattercarpet"
           }
          ],
          "scattergeo": [
           {
            "marker": {
             "colorbar": {
              "outlinewidth": 0,
              "ticks": ""
             }
            },
            "type": "scattergeo"
           }
          ],
          "scattergl": [
           {
            "marker": {
             "colorbar": {
              "outlinewidth": 0,
              "ticks": ""
             }
            },
            "type": "scattergl"
           }
          ],
          "scattermapbox": [
           {
            "marker": {
             "colorbar": {
              "outlinewidth": 0,
              "ticks": ""
             }
            },
            "type": "scattermapbox"
           }
          ],
          "scatterpolar": [
           {
            "marker": {
             "colorbar": {
              "outlinewidth": 0,
              "ticks": ""
             }
            },
            "type": "scatterpolar"
           }
          ],
          "scatterpolargl": [
           {
            "marker": {
             "colorbar": {
              "outlinewidth": 0,
              "ticks": ""
             }
            },
            "type": "scatterpolargl"
           }
          ],
          "scatterternary": [
           {
            "marker": {
             "colorbar": {
              "outlinewidth": 0,
              "ticks": ""
             }
            },
            "type": "scatterternary"
           }
          ],
          "surface": [
           {
            "colorbar": {
             "outlinewidth": 0,
             "ticks": ""
            },
            "colorscale": [
             [
              0,
              "#0d0887"
             ],
             [
              0.1111111111111111,
              "#46039f"
             ],
             [
              0.2222222222222222,
              "#7201a8"
             ],
             [
              0.3333333333333333,
              "#9c179e"
             ],
             [
              0.4444444444444444,
              "#bd3786"
             ],
             [
              0.5555555555555556,
              "#d8576b"
             ],
             [
              0.6666666666666666,
              "#ed7953"
             ],
             [
              0.7777777777777778,
              "#fb9f3a"
             ],
             [
              0.8888888888888888,
              "#fdca26"
             ],
             [
              1,
              "#f0f921"
             ]
            ],
            "type": "surface"
           }
          ],
          "table": [
           {
            "cells": {
             "fill": {
              "color": "#EBF0F8"
             },
             "line": {
              "color": "white"
             }
            },
            "header": {
             "fill": {
              "color": "#C8D4E3"
             },
             "line": {
              "color": "white"
             }
            },
            "type": "table"
           }
          ]
         },
         "layout": {
          "annotationdefaults": {
           "arrowcolor": "#2a3f5f",
           "arrowhead": 0,
           "arrowwidth": 1
          },
          "autotypenumbers": "strict",
          "coloraxis": {
           "colorbar": {
            "outlinewidth": 0,
            "ticks": ""
           }
          },
          "colorscale": {
           "diverging": [
            [
             0,
             "#8e0152"
            ],
            [
             0.1,
             "#c51b7d"
            ],
            [
             0.2,
             "#de77ae"
            ],
            [
             0.3,
             "#f1b6da"
            ],
            [
             0.4,
             "#fde0ef"
            ],
            [
             0.5,
             "#f7f7f7"
            ],
            [
             0.6,
             "#e6f5d0"
            ],
            [
             0.7,
             "#b8e186"
            ],
            [
             0.8,
             "#7fbc41"
            ],
            [
             0.9,
             "#4d9221"
            ],
            [
             1,
             "#276419"
            ]
           ],
           "sequential": [
            [
             0,
             "#0d0887"
            ],
            [
             0.1111111111111111,
             "#46039f"
            ],
            [
             0.2222222222222222,
             "#7201a8"
            ],
            [
             0.3333333333333333,
             "#9c179e"
            ],
            [
             0.4444444444444444,
             "#bd3786"
            ],
            [
             0.5555555555555556,
             "#d8576b"
            ],
            [
             0.6666666666666666,
             "#ed7953"
            ],
            [
             0.7777777777777778,
             "#fb9f3a"
            ],
            [
             0.8888888888888888,
             "#fdca26"
            ],
            [
             1,
             "#f0f921"
            ]
           ],
           "sequentialminus": [
            [
             0,
             "#0d0887"
            ],
            [
             0.1111111111111111,
             "#46039f"
            ],
            [
             0.2222222222222222,
             "#7201a8"
            ],
            [
             0.3333333333333333,
             "#9c179e"
            ],
            [
             0.4444444444444444,
             "#bd3786"
            ],
            [
             0.5555555555555556,
             "#d8576b"
            ],
            [
             0.6666666666666666,
             "#ed7953"
            ],
            [
             0.7777777777777778,
             "#fb9f3a"
            ],
            [
             0.8888888888888888,
             "#fdca26"
            ],
            [
             1,
             "#f0f921"
            ]
           ]
          },
          "colorway": [
           "#636efa",
           "#EF553B",
           "#00cc96",
           "#ab63fa",
           "#FFA15A",
           "#19d3f3",
           "#FF6692",
           "#B6E880",
           "#FF97FF",
           "#FECB52"
          ],
          "font": {
           "color": "#2a3f5f"
          },
          "geo": {
           "bgcolor": "white",
           "lakecolor": "white",
           "landcolor": "#E5ECF6",
           "showlakes": true,
           "showland": true,
           "subunitcolor": "white"
          },
          "hoverlabel": {
           "align": "left"
          },
          "hovermode": "closest",
          "mapbox": {
           "style": "light"
          },
          "paper_bgcolor": "white",
          "plot_bgcolor": "#E5ECF6",
          "polar": {
           "angularaxis": {
            "gridcolor": "white",
            "linecolor": "white",
            "ticks": ""
           },
           "bgcolor": "#E5ECF6",
           "radialaxis": {
            "gridcolor": "white",
            "linecolor": "white",
            "ticks": ""
           }
          },
          "scene": {
           "xaxis": {
            "backgroundcolor": "#E5ECF6",
            "gridcolor": "white",
            "gridwidth": 2,
            "linecolor": "white",
            "showbackground": true,
            "ticks": "",
            "zerolinecolor": "white"
           },
           "yaxis": {
            "backgroundcolor": "#E5ECF6",
            "gridcolor": "white",
            "gridwidth": 2,
            "linecolor": "white",
            "showbackground": true,
            "ticks": "",
            "zerolinecolor": "white"
           },
           "zaxis": {
            "backgroundcolor": "#E5ECF6",
            "gridcolor": "white",
            "gridwidth": 2,
            "linecolor": "white",
            "showbackground": true,
            "ticks": "",
            "zerolinecolor": "white"
           }
          },
          "shapedefaults": {
           "line": {
            "color": "#2a3f5f"
           }
          },
          "ternary": {
           "aaxis": {
            "gridcolor": "white",
            "linecolor": "white",
            "ticks": ""
           },
           "baxis": {
            "gridcolor": "white",
            "linecolor": "white",
            "ticks": ""
           },
           "bgcolor": "#E5ECF6",
           "caxis": {
            "gridcolor": "white",
            "linecolor": "white",
            "ticks": ""
           }
          },
          "title": {
           "x": 0.05
          },
          "xaxis": {
           "automargin": true,
           "gridcolor": "white",
           "linecolor": "white",
           "ticks": "",
           "title": {
            "standoff": 15
           },
           "zerolinecolor": "white",
           "zerolinewidth": 2
          },
          "yaxis": {
           "automargin": true,
           "gridcolor": "white",
           "linecolor": "white",
           "ticks": "",
           "title": {
            "standoff": 15
           },
           "zerolinecolor": "white",
           "zerolinewidth": 2
          }
         }
        },
        "width": 800
       }
      }
     },
     "metadata": {},
     "output_type": "display_data"
    }
   ],
   "source": [
    "nearby_attraction_count = bucket_df['grouped_nearby_attraction'].value_counts()\n",
    "nearby_attraction_fig = px.pie(nearby_attraction_count, names=nearby_attraction_count.index, values='grouped_nearby_attraction', width=800, height=400)\n",
    "nearby_attraction_fig.show()"
   ]
  },
  {
   "cell_type": "markdown",
   "metadata": {},
   "source": [
    "#### 2.5 Mean Overall Rating across Grouped Nearby Attractions"
   ]
  },
  {
   "cell_type": "code",
   "execution_count": 17,
   "metadata": {},
   "outputs": [],
   "source": [
    "sub_df = bucket_df[['grouped_nearby_attraction', 'overall_rating']].copy()"
   ]
  },
  {
   "cell_type": "code",
   "execution_count": 18,
   "metadata": {},
   "outputs": [
    {
     "data": {
      "image/png": "[encoded data removed]",
      "text/plain": [
       "<Figure size 504x360 with 2 Axes>"
      ]
     },
     "metadata": {
      "needs_background": "light"
     },
     "output_type": "display_data"
    }
   ],
   "source": [
    "fig, ax = plt.subplots(figsize=(7,5))\n",
    "df_heatmap = sub_df.pivot_table(values='overall_rating',columns='grouped_nearby_attraction', aggfunc=np.mean)\n",
    "ax = sns.heatmap(df_heatmap.transpose())"
   ]
  },
  {
   "cell_type": "markdown",
   "metadata": {},
   "source": [
    "#### 2.6 Median Overall Rating across Grouped Nearby Attractions"
   ]
  },
  {
   "cell_type": "code",
   "execution_count": 19,
   "metadata": {},
   "outputs": [
    {
     "data": {
      "image/png": "[encoded data removed]",
      "text/plain": [
       "<Figure size 504x360 with 2 Axes>"
      ]
     },
     "metadata": {
      "needs_background": "light"
     },
     "output_type": "display_data"
    }
   ],
   "source": [
    "fig, ax = plt.subplots(figsize=(7,5))\n",
    "df_heatmap = sub_df.pivot_table(values='overall_rating',columns='grouped_nearby_attraction',aggfunc=np.median)\n",
    "ax = sns.heatmap(df_heatmap.transpose())"
   ]
  },
  {
   "cell_type": "markdown",
   "metadata": {},
   "source": [
    "#### 2.7 Percentage of restaurants with particular rating out of restaurants with that grouped nearby attraction\n",
    "- row-wise"
   ]
  },
  {
   "cell_type": "code",
   "execution_count": 20,
   "metadata": {},
   "outputs": [
    {
     "data": {
      "image/png": "[encoded data removed]",
      "text/plain": [
       "<Figure size 720x576 with 2 Axes>"
      ]
     },
     "metadata": {
      "needs_background": "light"
     },
     "output_type": "display_data"
    }
   ],
   "source": [
    "fig, ax = plt.subplots(figsize=(10,8))\n",
    "rating_nearby_count = bucket_df.groupby(['overall_rating', 'grouped_nearby_attraction'])['url'].count()\n",
    "nearby_count = bucket_df.groupby(['grouped_nearby_attraction'])['url'].count()\n",
    "df_heatmap = (rating_nearby_count.div(nearby_count, level='grouped_nearby_attraction') * 100).unstack(fill_value=0)\n",
    "ax = sns.heatmap(df_heatmap.transpose())"
   ]
  },
  {
   "cell_type": "markdown",
   "metadata": {},
   "source": [
    "#### 2.8 Percentage of restaurants with particular grouped nearby attraction out of restaurants with that rating\n",
    "- column-wise"
   ]
  },
  {
   "cell_type": "code",
   "execution_count": 21,
   "metadata": {},
   "outputs": [
    {
     "data": {
      "image/png": "[encoded data removed]",
      "text/plain": [
       "<Figure size 720x576 with 2 Axes>"
      ]
     },
     "metadata": {
      "needs_background": "light"
     },
     "output_type": "display_data"
    }
   ],
   "source": [
    "fig, ax = plt.subplots(figsize=(10,8))\n",
    "rating_nearby_count = bucket_df.groupby(['overall_rating', 'grouped_nearby_attraction'])['url'].count()\n",
    "nearby_count = bucket_df.groupby(['overall_rating'])['url'].count()\n",
    "df_heatmap = (rating_nearby_count.div(nearby_count, level='overall_rating') * 100).unstack(fill_value=0)\n",
    "ax = sns.heatmap(df_heatmap.transpose())"
   ]
  },
  {
   "cell_type": "markdown",
   "metadata": {},
   "source": [
    "#### 2.8 Number of restaurants by grouped nearby attraction and by rating"
   ]
  },
  {
   "cell_type": "code",
   "execution_count": 22,
   "metadata": {},
   "outputs": [
    {
     "data": {
      "image/png": "[encoded data removed]",
      "text/plain": [
       "<Figure size 720x576 with 2 Axes>"
      ]
     },
     "metadata": {
      "needs_background": "light"
     },
     "output_type": "display_data"
    }
   ],
   "source": [
    "fig, ax = plt.subplots(figsize=(10,8))\n",
    "df_heatmap = bucket_df.groupby(['overall_rating', 'grouped_nearby_attraction'])['url'].count().unstack(fill_value=0)\n",
    "ax = sns.heatmap(df_heatmap.transpose())"
   ]
  },
  {
   "cell_type": "markdown",
   "metadata": {},
   "source": [
    "### 3. Feature Engineering\n",
    "#### 3.0 Check feasibility of feature cross: Grouped Nearby Attraction, Distance From Attraction"
   ]
  },
  {
   "cell_type": "code",
   "execution_count": 23,
   "metadata": {},
   "outputs": [],
   "source": [
    "# group nearby attractions together, same as what is done in cell above except change in column name\n",
    "bucket_df = df_rating.copy()\n",
    "bucket_df[\"nearby_attraction\"] = bucket_df['nearby_attraction'].replace(to_replace =['Asian Civilisations Museum', 'National Museum of Singapore', 'City Hall Building'], value =\"Museum\")\n",
    "bucket_df[\"nearby_attraction\"] = bucket_df['nearby_attraction'].replace(to_replace =['National Orchid Garden', 'Singapore Botanic Gardens'], value =\"Garden\")\n",
    "bucket_df[\"nearby_attraction\"] = bucket_df['nearby_attraction'].replace(to_replace =['Singapore Cable Car', 'Singapore Flyer'], value =\"Observation\")\n",
    "bucket_df[\"nearby_attraction\"] = bucket_df['nearby_attraction'].replace(to_replace =['Night Safari', 'Singapore Zoo'], value =\"Wildlife\")"
   ]
  },
  {
   "cell_type": "code",
   "execution_count": 24,
   "metadata": {},
   "outputs": [],
   "source": [
    "bucket_df['nearby_attraction'] = bucket_df['nearby_attraction'].str.replace(\" \", \"_\")\n",
    "bucket_df['nearby_attraction'] = bucket_df['nearby_attraction'].str.lower()"
   ]
  },
  {
   "cell_type": "code",
   "execution_count": 25,
   "metadata": {},
   "outputs": [
    {
     "data": {
      "text/html": [
       "<div>\n",
       "<style scoped>\n",
       "    .dataframe tbody tr th:only-of-type {\n",
       "        vertical-align: middle;\n",
       "    }\n",
       "\n",
       "    .dataframe tbody tr th {\n",
       "        vertical-align: top;\n",
       "    }\n",
       "\n",
       "    .dataframe thead th {\n",
       "        text-align: right;\n",
       "    }\n",
       "</style>\n",
       "<table border=\"1\" class=\"dataframe\">\n",
       "  <thead>\n",
       "    <tr style=\"text-align: right;\">\n",
       "      <th></th>\n",
       "      <th></th>\n",
       "      <th>url</th>\n",
       "    </tr>\n",
       "    <tr>\n",
       "      <th>nearby_attraction</th>\n",
       "      <th>distance_from_attraction</th>\n",
       "      <th></th>\n",
       "    </tr>\n",
       "  </thead>\n",
       "  <tbody>\n",
       "    <tr>\n",
       "      <th rowspan=\"5\" valign=\"top\">arab_street</th>\n",
       "      <th>0.0</th>\n",
       "      <td>18</td>\n",
       "    </tr>\n",
       "    <tr>\n",
       "      <th>0.1</th>\n",
       "      <td>25</td>\n",
       "    </tr>\n",
       "    <tr>\n",
       "      <th>0.2</th>\n",
       "      <td>25</td>\n",
       "    </tr>\n",
       "    <tr>\n",
       "      <th>0.3</th>\n",
       "      <td>28</td>\n",
       "    </tr>\n",
       "    <tr>\n",
       "      <th>0.4</th>\n",
       "      <td>13</td>\n",
       "    </tr>\n",
       "    <tr>\n",
       "      <th>...</th>\n",
       "      <th>...</th>\n",
       "      <td>...</td>\n",
       "    </tr>\n",
       "    <tr>\n",
       "      <th rowspan=\"5\" valign=\"top\">wildlife</th>\n",
       "      <th>6.8</th>\n",
       "      <td>3</td>\n",
       "    </tr>\n",
       "    <tr>\n",
       "      <th>6.9</th>\n",
       "      <td>2</td>\n",
       "    </tr>\n",
       "    <tr>\n",
       "      <th>7.0</th>\n",
       "      <td>8</td>\n",
       "    </tr>\n",
       "    <tr>\n",
       "      <th>7.1</th>\n",
       "      <td>1</td>\n",
       "    </tr>\n",
       "    <tr>\n",
       "      <th>7.8</th>\n",
       "      <td>3</td>\n",
       "    </tr>\n",
       "  </tbody>\n",
       "</table>\n",
       "<p>336 rows × 1 columns</p>\n",
       "</div>"
      ],
      "text/plain": [
       "                                            url\n",
       "nearby_attraction distance_from_attraction     \n",
       "arab_street       0.0                        18\n",
       "                  0.1                        25\n",
       "                  0.2                        25\n",
       "                  0.3                        28\n",
       "                  0.4                        13\n",
       "...                                         ...\n",
       "wildlife          6.8                         3\n",
       "                  6.9                         2\n",
       "                  7.0                         8\n",
       "                  7.1                         1\n",
       "                  7.8                         3\n",
       "\n",
       "[336 rows x 1 columns]"
      ]
     },
     "execution_count": 25,
     "metadata": {},
     "output_type": "execute_result"
    }
   ],
   "source": [
    "# too little samples in each grouped_nearby_attraction X distance_from_attraction pairing\n",
    "bucket_df.groupby(['nearby_attraction', 'distance_from_attraction']).agg({'url': 'count'})"
   ]
  },
  {
   "cell_type": "code",
   "execution_count": 26,
   "metadata": {},
   "outputs": [
    {
     "data": {
      "text/html": [
       "<div>\n",
       "<style scoped>\n",
       "    .dataframe tbody tr th:only-of-type {\n",
       "        vertical-align: middle;\n",
       "    }\n",
       "\n",
       "    .dataframe tbody tr th {\n",
       "        vertical-align: top;\n",
       "    }\n",
       "\n",
       "    .dataframe thead tr th {\n",
       "        text-align: left;\n",
       "    }\n",
       "\n",
       "    .dataframe thead tr:last-of-type th {\n",
       "        text-align: right;\n",
       "    }\n",
       "</style>\n",
       "<table border=\"1\" class=\"dataframe\">\n",
       "  <thead>\n",
       "    <tr>\n",
       "      <th></th>\n",
       "      <th colspan=\"3\" halign=\"left\">distance_from_attraction</th>\n",
       "    </tr>\n",
       "    <tr>\n",
       "      <th></th>\n",
       "      <th>min</th>\n",
       "      <th>max</th>\n",
       "      <th>median</th>\n",
       "    </tr>\n",
       "    <tr>\n",
       "      <th>nearby_attraction</th>\n",
       "      <th></th>\n",
       "      <th></th>\n",
       "      <th></th>\n",
       "    </tr>\n",
       "  </thead>\n",
       "  <tbody>\n",
       "    <tr>\n",
       "      <th>arab_street</th>\n",
       "      <td>0.0</td>\n",
       "      <td>2.8</td>\n",
       "      <td>0.50</td>\n",
       "    </tr>\n",
       "    <tr>\n",
       "      <th>boat_quay</th>\n",
       "      <td>0.2</td>\n",
       "      <td>0.7</td>\n",
       "      <td>0.40</td>\n",
       "    </tr>\n",
       "    <tr>\n",
       "      <th>chinatown</th>\n",
       "      <td>0.0</td>\n",
       "      <td>2.2</td>\n",
       "      <td>0.50</td>\n",
       "    </tr>\n",
       "    <tr>\n",
       "      <th>east_coast_park</th>\n",
       "      <td>0.3</td>\n",
       "      <td>6.9</td>\n",
       "      <td>2.25</td>\n",
       "    </tr>\n",
       "    <tr>\n",
       "      <th>garden</th>\n",
       "      <td>0.0</td>\n",
       "      <td>5.8</td>\n",
       "      <td>2.30</td>\n",
       "    </tr>\n",
       "    <tr>\n",
       "      <th>little_india</th>\n",
       "      <td>0.0</td>\n",
       "      <td>3.1</td>\n",
       "      <td>0.90</td>\n",
       "    </tr>\n",
       "    <tr>\n",
       "      <th>marina_bay</th>\n",
       "      <td>0.1</td>\n",
       "      <td>2.0</td>\n",
       "      <td>0.60</td>\n",
       "    </tr>\n",
       "    <tr>\n",
       "      <th>merlion_park</th>\n",
       "      <td>0.0</td>\n",
       "      <td>1.1</td>\n",
       "      <td>0.60</td>\n",
       "    </tr>\n",
       "    <tr>\n",
       "      <th>museum</th>\n",
       "      <td>0.0</td>\n",
       "      <td>0.9</td>\n",
       "      <td>0.40</td>\n",
       "    </tr>\n",
       "    <tr>\n",
       "      <th>observation</th>\n",
       "      <td>0.0</td>\n",
       "      <td>4.2</td>\n",
       "      <td>0.90</td>\n",
       "    </tr>\n",
       "    <tr>\n",
       "      <th>orchard_road</th>\n",
       "      <td>0.0</td>\n",
       "      <td>2.3</td>\n",
       "      <td>0.40</td>\n",
       "    </tr>\n",
       "    <tr>\n",
       "      <th>wildlife</th>\n",
       "      <td>0.0</td>\n",
       "      <td>7.8</td>\n",
       "      <td>5.40</td>\n",
       "    </tr>\n",
       "    <tr>\n",
       "      <th>NaN</th>\n",
       "      <td>NaN</td>\n",
       "      <td>NaN</td>\n",
       "      <td>NaN</td>\n",
       "    </tr>\n",
       "  </tbody>\n",
       "</table>\n",
       "</div>"
      ],
      "text/plain": [
       "                  distance_from_attraction            \n",
       "                                       min  max median\n",
       "nearby_attraction                                     \n",
       "arab_street                            0.0  2.8   0.50\n",
       "boat_quay                              0.2  0.7   0.40\n",
       "chinatown                              0.0  2.2   0.50\n",
       "east_coast_park                        0.3  6.9   2.25\n",
       "garden                                 0.0  5.8   2.30\n",
       "little_india                           0.0  3.1   0.90\n",
       "marina_bay                             0.1  2.0   0.60\n",
       "merlion_park                           0.0  1.1   0.60\n",
       "museum                                 0.0  0.9   0.40\n",
       "observation                            0.0  4.2   0.90\n",
       "orchard_road                           0.0  2.3   0.40\n",
       "wildlife                               0.0  7.8   5.40\n",
       "NaN                                    NaN  NaN    NaN"
      ]
     },
     "execution_count": 26,
     "metadata": {},
     "output_type": "execute_result"
    }
   ],
   "source": [
    "# look at min, max, median \n",
    "bucket_df.groupby(['nearby_attraction'], dropna=False).agg({'distance_from_attraction': ['min', 'max', 'median']})"
   ]
  },
  {
   "cell_type": "code",
   "execution_count": 27,
   "metadata": {},
   "outputs": [
    {
     "data": {
      "text/plain": [
       "nearby_attraction\n",
       "arab_street         257\n",
       "boat_quay           165\n",
       "chinatown          1290\n",
       "east_coast_park     948\n",
       "garden             1272\n",
       "little_india       1293\n",
       "marina_bay          455\n",
       "merlion_park        370\n",
       "museum              502\n",
       "observation         517\n",
       "orchard_road        741\n",
       "wildlife            533\n",
       "NaN                2818\n",
       "Name: url, dtype: int64"
      ]
     },
     "execution_count": 27,
     "metadata": {},
     "output_type": "execute_result"
    }
   ],
   "source": [
    "# count by nearby attraction\n",
    "bucket_df.groupby(['nearby_attraction'], dropna=False)['url'].count()"
   ]
  },
  {
   "cell_type": "markdown",
   "metadata": {},
   "source": [
    "#### 3.1 Feature cross: Grouped Nearby Attraction, Above Median Distance From Attraction"
   ]
  },
  {
   "cell_type": "code",
   "execution_count": 28,
   "metadata": {},
   "outputs": [],
   "source": [
    "median_by_attraction = bucket_df.groupby(['nearby_attraction']).agg({'distance_from_attraction': ['min', 'max', 'median']})['distance_from_attraction']['median'].to_dict()\n",
    "bucket_df[\"above_median\"] =  bucket_df[['distance_from_attraction', 'nearby_attraction']].apply(lambda x: x['distance_from_attraction'] > median_by_attraction[x['nearby_attraction']] if not pd.isna(x['nearby_attraction']) else np.nan, axis=1)\n",
    "bucket_df[\"above_median\"] = bucket_df[\"above_median\"].astype(float)"
   ]
  },
  {
   "cell_type": "code",
   "execution_count": 29,
   "metadata": {},
   "outputs": [
    {
     "data": {
      "text/plain": [
       "array([ 1.,  0., nan])"
      ]
     },
     "execution_count": 29,
     "metadata": {},
     "output_type": "execute_result"
    }
   ],
   "source": [
    "bucket_df[\"above_median\"].unique()"
   ]
  },
  {
   "cell_type": "code",
   "execution_count": 30,
   "metadata": {},
   "outputs": [
    {
     "data": {
      "text/html": [
       "<div>\n",
       "<style scoped>\n",
       "    .dataframe tbody tr th:only-of-type {\n",
       "        vertical-align: middle;\n",
       "    }\n",
       "\n",
       "    .dataframe tbody tr th {\n",
       "        vertical-align: top;\n",
       "    }\n",
       "\n",
       "    .dataframe thead th {\n",
       "        text-align: right;\n",
       "    }\n",
       "</style>\n",
       "<table border=\"1\" class=\"dataframe\">\n",
       "  <thead>\n",
       "    <tr style=\"text-align: right;\">\n",
       "      <th></th>\n",
       "      <th></th>\n",
       "      <th>url</th>\n",
       "    </tr>\n",
       "    <tr>\n",
       "      <th>nearby_attraction</th>\n",
       "      <th>above_median</th>\n",
       "      <th></th>\n",
       "    </tr>\n",
       "  </thead>\n",
       "  <tbody>\n",
       "    <tr>\n",
       "      <th rowspan=\"2\" valign=\"top\">arab_street</th>\n",
       "      <th>0.0</th>\n",
       "      <td>192</td>\n",
       "    </tr>\n",
       "    <tr>\n",
       "      <th>1.0</th>\n",
       "      <td>65</td>\n",
       "    </tr>\n",
       "    <tr>\n",
       "      <th rowspan=\"2\" valign=\"top\">boat_quay</th>\n",
       "      <th>0.0</th>\n",
       "      <td>94</td>\n",
       "    </tr>\n",
       "    <tr>\n",
       "      <th>1.0</th>\n",
       "      <td>71</td>\n",
       "    </tr>\n",
       "    <tr>\n",
       "      <th rowspan=\"2\" valign=\"top\">chinatown</th>\n",
       "      <th>0.0</th>\n",
       "      <td>807</td>\n",
       "    </tr>\n",
       "    <tr>\n",
       "      <th>1.0</th>\n",
       "      <td>483</td>\n",
       "    </tr>\n",
       "    <tr>\n",
       "      <th rowspan=\"2\" valign=\"top\">east_coast_park</th>\n",
       "      <th>0.0</th>\n",
       "      <td>474</td>\n",
       "    </tr>\n",
       "    <tr>\n",
       "      <th>1.0</th>\n",
       "      <td>474</td>\n",
       "    </tr>\n",
       "    <tr>\n",
       "      <th rowspan=\"2\" valign=\"top\">garden</th>\n",
       "      <th>0.0</th>\n",
       "      <td>641</td>\n",
       "    </tr>\n",
       "    <tr>\n",
       "      <th>1.0</th>\n",
       "      <td>631</td>\n",
       "    </tr>\n",
       "    <tr>\n",
       "      <th rowspan=\"2\" valign=\"top\">little_india</th>\n",
       "      <th>0.0</th>\n",
       "      <td>710</td>\n",
       "    </tr>\n",
       "    <tr>\n",
       "      <th>1.0</th>\n",
       "      <td>583</td>\n",
       "    </tr>\n",
       "    <tr>\n",
       "      <th rowspan=\"2\" valign=\"top\">marina_bay</th>\n",
       "      <th>0.0</th>\n",
       "      <td>341</td>\n",
       "    </tr>\n",
       "    <tr>\n",
       "      <th>1.0</th>\n",
       "      <td>114</td>\n",
       "    </tr>\n",
       "    <tr>\n",
       "      <th rowspan=\"2\" valign=\"top\">merlion_park</th>\n",
       "      <th>0.0</th>\n",
       "      <td>265</td>\n",
       "    </tr>\n",
       "    <tr>\n",
       "      <th>1.0</th>\n",
       "      <td>105</td>\n",
       "    </tr>\n",
       "    <tr>\n",
       "      <th rowspan=\"2\" valign=\"top\">museum</th>\n",
       "      <th>0.0</th>\n",
       "      <td>271</td>\n",
       "    </tr>\n",
       "    <tr>\n",
       "      <th>1.0</th>\n",
       "      <td>231</td>\n",
       "    </tr>\n",
       "    <tr>\n",
       "      <th rowspan=\"2\" valign=\"top\">observation</th>\n",
       "      <th>0.0</th>\n",
       "      <td>281</td>\n",
       "    </tr>\n",
       "    <tr>\n",
       "      <th>1.0</th>\n",
       "      <td>236</td>\n",
       "    </tr>\n",
       "    <tr>\n",
       "      <th rowspan=\"2\" valign=\"top\">orchard_road</th>\n",
       "      <th>0.0</th>\n",
       "      <td>412</td>\n",
       "    </tr>\n",
       "    <tr>\n",
       "      <th>1.0</th>\n",
       "      <td>329</td>\n",
       "    </tr>\n",
       "    <tr>\n",
       "      <th rowspan=\"2\" valign=\"top\">wildlife</th>\n",
       "      <th>0.0</th>\n",
       "      <td>288</td>\n",
       "    </tr>\n",
       "    <tr>\n",
       "      <th>1.0</th>\n",
       "      <td>245</td>\n",
       "    </tr>\n",
       "  </tbody>\n",
       "</table>\n",
       "</div>"
      ],
      "text/plain": [
       "                                url\n",
       "nearby_attraction above_median     \n",
       "arab_street       0.0           192\n",
       "                  1.0            65\n",
       "boat_quay         0.0            94\n",
       "                  1.0            71\n",
       "chinatown         0.0           807\n",
       "                  1.0           483\n",
       "east_coast_park   0.0           474\n",
       "                  1.0           474\n",
       "garden            0.0           641\n",
       "                  1.0           631\n",
       "little_india      0.0           710\n",
       "                  1.0           583\n",
       "marina_bay        0.0           341\n",
       "                  1.0           114\n",
       "merlion_park      0.0           265\n",
       "                  1.0           105\n",
       "museum            0.0           271\n",
       "                  1.0           231\n",
       "observation       0.0           281\n",
       "                  1.0           236\n",
       "orchard_road      0.0           412\n",
       "                  1.0           329\n",
       "wildlife          0.0           288\n",
       "                  1.0           245"
      ]
     },
     "execution_count": 30,
     "metadata": {},
     "output_type": "execute_result"
    }
   ],
   "source": [
    "# count by nearby attraction and above median distance\n",
    "bucket_df.groupby(['nearby_attraction', 'above_median']).agg({'url': 'count'})"
   ]
  },
  {
   "cell_type": "code",
   "execution_count": 31,
   "metadata": {},
   "outputs": [],
   "source": [
    "from sklearn.preprocessing import OneHotEncoder # categorical variable so do one hot encoding\n",
    "nearby_attraction_enc = OneHotEncoder(categories='auto')\n",
    "# One hot encoding for categorical variable\n",
    "features_nearby_attraction_train = nearby_attraction_enc.fit_transform(bucket_df[['nearby_attraction']])\n",
    "\n",
    "# TODO transform on test"
   ]
  },
  {
   "cell_type": "code",
   "execution_count": 33,
   "metadata": {},
   "outputs": [],
   "source": [
    "nearby_attraction_ohe_columns = nearby_attraction_enc.get_feature_names_out(['nearby_attraction'])\n",
    "nearby_attraction_ohe_df = pd.DataFrame(features_nearby_attraction_train.toarray(), columns=nearby_attraction_ohe_columns)\n",
    "bucket_ohe_df = pd.concat([bucket_df.drop(['nearby_attraction'], axis=1), nearby_attraction_ohe_df], axis=1)"
   ]
  },
  {
   "cell_type": "code",
   "execution_count": 34,
   "metadata": {},
   "outputs": [
    {
     "data": {
      "text/plain": [
       "array(['nearby_attraction_arab_street', 'nearby_attraction_boat_quay',\n",
       "       'nearby_attraction_chinatown', 'nearby_attraction_east_coast_park',\n",
       "       'nearby_attraction_garden', 'nearby_attraction_little_india',\n",
       "       'nearby_attraction_marina_bay', 'nearby_attraction_merlion_park',\n",
       "       'nearby_attraction_museum', 'nearby_attraction_observation',\n",
       "       'nearby_attraction_orchard_road', 'nearby_attraction_wildlife',\n",
       "       'nearby_attraction_nan'], dtype=object)"
      ]
     },
     "execution_count": 34,
     "metadata": {},
     "output_type": "execute_result"
    }
   ],
   "source": [
    "nearby_attraction_ohe_columns"
   ]
  },
  {
   "cell_type": "code",
   "execution_count": 35,
   "metadata": {},
   "outputs": [],
   "source": [
    "cross_cols = []\n",
    "bucket_ohe_df[\"above_median\"] = bucket_ohe_df[\"above_median\"].replace(np.nan, 0)\n",
    "for col in nearby_attraction_ohe_columns:\n",
    "    if col == 'nearby_attraction_nan':\n",
    "        continue\n",
    "    cross = col + \"_above_median\"\n",
    "    bucket_ohe_df[cross] = bucket_ohe_df[col] * bucket_ohe_df[\"above_median\"]\n",
    "    cross_cols.append(cross)"
   ]
  },
  {
   "cell_type": "code",
   "execution_count": 36,
   "metadata": {},
   "outputs": [],
   "source": [
    "attraction_eda_cols = []\n",
    "attraction_eda_cols.extend(cross_cols)\n",
    "attraction_eda_cols.extend(nearby_attraction_ohe_columns)"
   ]
  },
  {
   "cell_type": "markdown",
   "metadata": {},
   "source": [
    "#### 3.2 EDA: Using feature cross columns only in Logistic Regression"
   ]
  },
  {
   "cell_type": "code",
   "execution_count": 37,
   "metadata": {},
   "outputs": [],
   "source": [
    "from sklearn.linear_model import LogisticRegression\n",
    "from sklearn.model_selection import train_test_split\n",
    "from sklearn import metrics"
   ]
  },
  {
   "cell_type": "code",
   "execution_count": 38,
   "metadata": {},
   "outputs": [
    {
     "data": {
      "text/plain": [
       "['nearby_attraction_arab_street_above_median',\n",
       " 'nearby_attraction_boat_quay_above_median',\n",
       " 'nearby_attraction_chinatown_above_median',\n",
       " 'nearby_attraction_east_coast_park_above_median',\n",
       " 'nearby_attraction_garden_above_median',\n",
       " 'nearby_attraction_little_india_above_median',\n",
       " 'nearby_attraction_marina_bay_above_median',\n",
       " 'nearby_attraction_merlion_park_above_median',\n",
       " 'nearby_attraction_museum_above_median',\n",
       " 'nearby_attraction_observation_above_median',\n",
       " 'nearby_attraction_orchard_road_above_median',\n",
       " 'nearby_attraction_wildlife_above_median']"
      ]
     },
     "execution_count": 38,
     "metadata": {},
     "output_type": "execute_result"
    }
   ],
   "source": [
    "cross_cols"
   ]
  },
  {
   "cell_type": "code",
   "execution_count": 39,
   "metadata": {},
   "outputs": [
    {
     "name": "stdout",
     "output_type": "stream",
     "text": [
      "training accuracy: 0.3296296296296296\n",
      "test accuracy: 0.33679684700824075\n",
      "training AUC: 0.552749884757217\n",
      "test AUC: 0.5291743952773803\n"
     ]
    }
   ],
   "source": [
    "X = bucket_ohe_df[cross_cols]\n",
    "y = bucket_ohe_df['overall_rating'].astype(str)\n",
    "X_train, X_test, y_train, y_test = train_test_split(X, y, random_state=1)\n",
    "\n",
    "logreg = LogisticRegression(multi_class='multinomial')\n",
    "\n",
    "# fit the model with data\n",
    "logreg.fit(X_train, y_train)\n",
    "\n",
    "# predict the response for new observations\n",
    "y_pred_train = logreg.predict(X_train)\n",
    "\n",
    "# calculate accuracy\n",
    "print(\"training accuracy: {}\".format(metrics.accuracy_score(y_train, logreg.predict(X_train))))\n",
    "print(\"test accuracy: {}\".format(metrics.accuracy_score(y_test, logreg.predict(X_test))))\n",
    "\n",
    "# calculate AUC\n",
    "print(\"training AUC: {}\".format(metrics.roc_auc_score(y_train, logreg.predict_proba(X_train), multi_class=\"ovr\")))\n",
    "print(\"test AUC: {}\".format(metrics.roc_auc_score(y_test, logreg.predict_proba(X_test), multi_class=\"ovr\")))"
   ]
  },
  {
   "cell_type": "code",
   "execution_count": 40,
   "metadata": {},
   "outputs": [
    {
     "data": {
      "text/html": [
       "<div>\n",
       "<style scoped>\n",
       "    .dataframe tbody tr th:only-of-type {\n",
       "        vertical-align: middle;\n",
       "    }\n",
       "\n",
       "    .dataframe tbody tr th {\n",
       "        vertical-align: top;\n",
       "    }\n",
       "\n",
       "    .dataframe thead th {\n",
       "        text-align: right;\n",
       "    }\n",
       "</style>\n",
       "<table border=\"1\" class=\"dataframe\">\n",
       "  <thead>\n",
       "    <tr style=\"text-align: right;\">\n",
       "      <th></th>\n",
       "      <th>features</th>\n",
       "      <th>coef</th>\n",
       "      <th>coef_0</th>\n",
       "      <th>coef_1</th>\n",
       "      <th>coef_2</th>\n",
       "      <th>coef_3</th>\n",
       "      <th>coef_4</th>\n",
       "      <th>coef_5</th>\n",
       "      <th>coef_6</th>\n",
       "      <th>coef_7</th>\n",
       "      <th>coef_8</th>\n",
       "      <th>coef_9</th>\n",
       "    </tr>\n",
       "  </thead>\n",
       "  <tbody>\n",
       "    <tr>\n",
       "      <th>0</th>\n",
       "      <td>nearby_attraction_arab_street_above_median</td>\n",
       "      <td>[0.1300465970074931, -0.2750965072225968, -0.1...</td>\n",
       "      <td>0.130047</td>\n",
       "      <td>-0.275097</td>\n",
       "      <td>-0.129331</td>\n",
       "      <td>0.228135</td>\n",
       "      <td>-0.031269</td>\n",
       "      <td>0.083957</td>\n",
       "      <td>-0.281375</td>\n",
       "      <td>-0.171755</td>\n",
       "      <td>0.258254</td>\n",
       "      <td>0.188434</td>\n",
       "    </tr>\n",
       "    <tr>\n",
       "      <th>1</th>\n",
       "      <td>nearby_attraction_boat_quay_above_median</td>\n",
       "      <td>[-0.21015520000251725, -0.29927396112604565, -...</td>\n",
       "      <td>-0.210155</td>\n",
       "      <td>-0.299274</td>\n",
       "      <td>-0.142106</td>\n",
       "      <td>0.181284</td>\n",
       "      <td>0.342905</td>\n",
       "      <td>-0.182559</td>\n",
       "      <td>0.317257</td>\n",
       "      <td>0.035511</td>\n",
       "      <td>0.252278</td>\n",
       "      <td>-0.295141</td>\n",
       "    </tr>\n",
       "    <tr>\n",
       "      <th>2</th>\n",
       "      <td>nearby_attraction_chinatown_above_median</td>\n",
       "      <td>[-0.27121063642302884, -0.8945949856454176, -0...</td>\n",
       "      <td>-0.271211</td>\n",
       "      <td>-0.894595</td>\n",
       "      <td>-0.527367</td>\n",
       "      <td>0.287197</td>\n",
       "      <td>0.242137</td>\n",
       "      <td>-0.158714</td>\n",
       "      <td>0.239274</td>\n",
       "      <td>0.488507</td>\n",
       "      <td>0.401477</td>\n",
       "      <td>0.193294</td>\n",
       "    </tr>\n",
       "    <tr>\n",
       "      <th>3</th>\n",
       "      <td>nearby_attraction_east_coast_park_above_median</td>\n",
       "      <td>[0.43265945145179385, -0.48268776063396585, -0...</td>\n",
       "      <td>0.432659</td>\n",
       "      <td>-0.482688</td>\n",
       "      <td>-0.567501</td>\n",
       "      <td>0.353956</td>\n",
       "      <td>-0.110715</td>\n",
       "      <td>0.233561</td>\n",
       "      <td>-0.087883</td>\n",
       "      <td>0.131794</td>\n",
       "      <td>-0.116829</td>\n",
       "      <td>0.213647</td>\n",
       "    </tr>\n",
       "    <tr>\n",
       "      <th>4</th>\n",
       "      <td>nearby_attraction_garden_above_median</td>\n",
       "      <td>[0.11036933856097578, -0.615972350125356, -0.1...</td>\n",
       "      <td>0.110369</td>\n",
       "      <td>-0.615972</td>\n",
       "      <td>-0.105198</td>\n",
       "      <td>-0.380692</td>\n",
       "      <td>-0.054299</td>\n",
       "      <td>0.495764</td>\n",
       "      <td>0.283981</td>\n",
       "      <td>0.136818</td>\n",
       "      <td>0.042270</td>\n",
       "      <td>0.086959</td>\n",
       "    </tr>\n",
       "    <tr>\n",
       "      <th>5</th>\n",
       "      <td>nearby_attraction_little_india_above_median</td>\n",
       "      <td>[-0.3539180842039819, 0.061368463828510814, 0....</td>\n",
       "      <td>-0.353918</td>\n",
       "      <td>0.061368</td>\n",
       "      <td>0.747929</td>\n",
       "      <td>-0.345369</td>\n",
       "      <td>0.116633</td>\n",
       "      <td>-0.045768</td>\n",
       "      <td>-0.181817</td>\n",
       "      <td>0.032036</td>\n",
       "      <td>0.013079</td>\n",
       "      <td>-0.044173</td>\n",
       "    </tr>\n",
       "    <tr>\n",
       "      <th>6</th>\n",
       "      <td>nearby_attraction_marina_bay_above_median</td>\n",
       "      <td>[-0.2671865694873195, -0.35482377794385733, -0...</td>\n",
       "      <td>-0.267187</td>\n",
       "      <td>-0.354824</td>\n",
       "      <td>-0.172585</td>\n",
       "      <td>0.081343</td>\n",
       "      <td>-0.199486</td>\n",
       "      <td>0.104392</td>\n",
       "      <td>0.429394</td>\n",
       "      <td>0.106243</td>\n",
       "      <td>0.349342</td>\n",
       "      <td>-0.076633</td>\n",
       "    </tr>\n",
       "    <tr>\n",
       "      <th>7</th>\n",
       "      <td>nearby_attraction_merlion_park_above_median</td>\n",
       "      <td>[-0.5360960273101143, -0.3034849983376598, -0....</td>\n",
       "      <td>-0.536096</td>\n",
       "      <td>-0.303485</td>\n",
       "      <td>-0.145095</td>\n",
       "      <td>-0.446068</td>\n",
       "      <td>0.338771</td>\n",
       "      <td>-0.010152</td>\n",
       "      <td>0.725056</td>\n",
       "      <td>0.642862</td>\n",
       "      <td>0.602523</td>\n",
       "      <td>-0.868317</td>\n",
       "    </tr>\n",
       "    <tr>\n",
       "      <th>8</th>\n",
       "      <td>nearby_attraction_museum_above_median</td>\n",
       "      <td>[-0.4745372507483191, -0.5991704819927837, 0.3...</td>\n",
       "      <td>-0.474537</td>\n",
       "      <td>-0.599170</td>\n",
       "      <td>0.363313</td>\n",
       "      <td>0.073721</td>\n",
       "      <td>-0.293407</td>\n",
       "      <td>-0.082543</td>\n",
       "      <td>0.207470</td>\n",
       "      <td>0.453518</td>\n",
       "      <td>0.484890</td>\n",
       "      <td>-0.133254</td>\n",
       "    </tr>\n",
       "    <tr>\n",
       "      <th>9</th>\n",
       "      <td>nearby_attraction_observation_above_median</td>\n",
       "      <td>[-0.29737584303827597, -0.6128727605899972, -0...</td>\n",
       "      <td>-0.297376</td>\n",
       "      <td>-0.612873</td>\n",
       "      <td>-0.328601</td>\n",
       "      <td>0.360919</td>\n",
       "      <td>0.380774</td>\n",
       "      <td>-0.108068</td>\n",
       "      <td>0.115645</td>\n",
       "      <td>0.427693</td>\n",
       "      <td>-0.019676</td>\n",
       "      <td>0.081563</td>\n",
       "    </tr>\n",
       "    <tr>\n",
       "      <th>10</th>\n",
       "      <td>nearby_attraction_orchard_road_above_median</td>\n",
       "      <td>[-0.30896679559781476, 0.13138041668000247, -0...</td>\n",
       "      <td>-0.308967</td>\n",
       "      <td>0.131380</td>\n",
       "      <td>-0.437184</td>\n",
       "      <td>0.309462</td>\n",
       "      <td>0.058964</td>\n",
       "      <td>0.330323</td>\n",
       "      <td>0.325742</td>\n",
       "      <td>0.287251</td>\n",
       "      <td>-0.094308</td>\n",
       "      <td>-0.602664</td>\n",
       "    </tr>\n",
       "    <tr>\n",
       "      <th>11</th>\n",
       "      <td>nearby_attraction_wildlife_above_median</td>\n",
       "      <td>[0.8469285466405025, 0.23809011224025797, 0.26...</td>\n",
       "      <td>0.846929</td>\n",
       "      <td>0.238090</td>\n",
       "      <td>0.262427</td>\n",
       "      <td>-0.459509</td>\n",
       "      <td>-0.209457</td>\n",
       "      <td>-0.049348</td>\n",
       "      <td>-0.033408</td>\n",
       "      <td>-0.553766</td>\n",
       "      <td>-0.323337</td>\n",
       "      <td>0.281379</td>\n",
       "    </tr>\n",
       "  </tbody>\n",
       "</table>\n",
       "</div>"
      ],
      "text/plain": [
       "                                          features  \\\n",
       "0       nearby_attraction_arab_street_above_median   \n",
       "1         nearby_attraction_boat_quay_above_median   \n",
       "2         nearby_attraction_chinatown_above_median   \n",
       "3   nearby_attraction_east_coast_park_above_median   \n",
       "4            nearby_attraction_garden_above_median   \n",
       "5      nearby_attraction_little_india_above_median   \n",
       "6        nearby_attraction_marina_bay_above_median   \n",
       "7      nearby_attraction_merlion_park_above_median   \n",
       "8            nearby_attraction_museum_above_median   \n",
       "9       nearby_attraction_observation_above_median   \n",
       "10     nearby_attraction_orchard_road_above_median   \n",
       "11         nearby_attraction_wildlife_above_median   \n",
       "\n",
       "                                                 coef    coef_0    coef_1  \\\n",
       "0   [0.1300465970074931, -0.2750965072225968, -0.1...  0.130047 -0.275097   \n",
       "1   [-0.21015520000251725, -0.29927396112604565, -... -0.210155 -0.299274   \n",
       "2   [-0.27121063642302884, -0.8945949856454176, -0... -0.271211 -0.894595   \n",
       "3   [0.43265945145179385, -0.48268776063396585, -0...  0.432659 -0.482688   \n",
       "4   [0.11036933856097578, -0.615972350125356, -0.1...  0.110369 -0.615972   \n",
       "5   [-0.3539180842039819, 0.061368463828510814, 0.... -0.353918  0.061368   \n",
       "6   [-0.2671865694873195, -0.35482377794385733, -0... -0.267187 -0.354824   \n",
       "7   [-0.5360960273101143, -0.3034849983376598, -0.... -0.536096 -0.303485   \n",
       "8   [-0.4745372507483191, -0.5991704819927837, 0.3... -0.474537 -0.599170   \n",
       "9   [-0.29737584303827597, -0.6128727605899972, -0... -0.297376 -0.612873   \n",
       "10  [-0.30896679559781476, 0.13138041668000247, -0... -0.308967  0.131380   \n",
       "11  [0.8469285466405025, 0.23809011224025797, 0.26...  0.846929  0.238090   \n",
       "\n",
       "      coef_2    coef_3    coef_4    coef_5    coef_6    coef_7    coef_8  \\\n",
       "0  -0.129331  0.228135 -0.031269  0.083957 -0.281375 -0.171755  0.258254   \n",
       "1  -0.142106  0.181284  0.342905 -0.182559  0.317257  0.035511  0.252278   \n",
       "2  -0.527367  0.287197  0.242137 -0.158714  0.239274  0.488507  0.401477   \n",
       "3  -0.567501  0.353956 -0.110715  0.233561 -0.087883  0.131794 -0.116829   \n",
       "4  -0.105198 -0.380692 -0.054299  0.495764  0.283981  0.136818  0.042270   \n",
       "5   0.747929 -0.345369  0.116633 -0.045768 -0.181817  0.032036  0.013079   \n",
       "6  -0.172585  0.081343 -0.199486  0.104392  0.429394  0.106243  0.349342   \n",
       "7  -0.145095 -0.446068  0.338771 -0.010152  0.725056  0.642862  0.602523   \n",
       "8   0.363313  0.073721 -0.293407 -0.082543  0.207470  0.453518  0.484890   \n",
       "9  -0.328601  0.360919  0.380774 -0.108068  0.115645  0.427693 -0.019676   \n",
       "10 -0.437184  0.309462  0.058964  0.330323  0.325742  0.287251 -0.094308   \n",
       "11  0.262427 -0.459509 -0.209457 -0.049348 -0.033408 -0.553766 -0.323337   \n",
       "\n",
       "      coef_9  \n",
       "0   0.188434  \n",
       "1  -0.295141  \n",
       "2   0.193294  \n",
       "3   0.213647  \n",
       "4   0.086959  \n",
       "5  -0.044173  \n",
       "6  -0.076633  \n",
       "7  -0.868317  \n",
       "8  -0.133254  \n",
       "9   0.081563  \n",
       "10 -0.602664  \n",
       "11  0.281379  "
      ]
     },
     "execution_count": 40,
     "metadata": {},
     "output_type": "execute_result"
    }
   ],
   "source": [
    "df = pd.DataFrame(zip(X_train.columns, np.transpose(logreg.coef_)), columns=['features', 'coef']) \n",
    "df = pd.concat([df, df.coef.apply(pd.Series).add_prefix('coef_')], axis = 1)\n",
    "df"
   ]
  },
  {
   "cell_type": "code",
   "execution_count": 41,
   "metadata": {},
   "outputs": [
    {
     "data": {
      "text/plain": [
       "array(['-1.0', '1.0', '1.5', '2.0', '2.5', '3.0', '3.5', '4.0', '4.5',\n",
       "       '5.0'], dtype=object)"
      ]
     },
     "execution_count": 41,
     "metadata": {},
     "output_type": "execute_result"
    }
   ],
   "source": [
    "logreg.classes_"
   ]
  },
  {
   "cell_type": "markdown",
   "metadata": {},
   "source": [
    "#### 3.3 EDA: Using feature cross columns only and nearby_attraction_nan indicator in Logistic Regression"
   ]
  },
  {
   "cell_type": "code",
   "execution_count": 48,
   "metadata": {},
   "outputs": [
    {
     "data": {
      "text/plain": [
       "array([ 4. ,  5. ,  4.5,  3.5,  3. ,  2.5,  2. ,  1. ,  1.5, -1. ])"
      ]
     },
     "execution_count": 48,
     "metadata": {},
     "output_type": "execute_result"
    }
   ],
   "source": [
    "bucket_ohe_df['overall_rating'].unique()"
   ]
  },
  {
   "cell_type": "code",
   "execution_count": 42,
   "metadata": {},
   "outputs": [
    {
     "name": "stdout",
     "output_type": "stream",
     "text": [
      "training accuracy: 0.3296296296296296\n",
      "test accuracy: 0.33679684700824075\n",
      "training AUC: 0.5878719894527303\n",
      "test AUC: 0.5665871769477733\n"
     ]
    }
   ],
   "source": [
    "X = bucket_ohe_df[cross_cols + [\"nearby_attraction_nan\"]]\n",
    "y = bucket_ohe_df['overall_rating'].astype(str)\n",
    "X_train, X_test, y_train, y_test = train_test_split(X, y, random_state=1)\n",
    "\n",
    "logreg = LogisticRegression(multi_class='multinomial', max_iter=200)\n",
    "\n",
    "# fit the model with data\n",
    "logreg.fit(X_train, y_train)\n",
    "\n",
    "# predict the response for new observations\n",
    "y_pred_train = logreg.predict(X_train)\n",
    "\n",
    "# calculate accuracy\n",
    "print(\"training accuracy: {}\".format(metrics.accuracy_score(y_train, logreg.predict(X_train))))\n",
    "print(\"test accuracy: {}\".format(metrics.accuracy_score(y_test, logreg.predict(X_test))))\n",
    "\n",
    "# calculate AUC\n",
    "print(\"training AUC: {}\".format(metrics.roc_auc_score(y_train, logreg.predict_proba(X_train), multi_class=\"ovr\")))\n",
    "print(\"test AUC: {}\".format(metrics.roc_auc_score(y_test, logreg.predict_proba(X_test), multi_class=\"ovr\")))"
   ]
  },
  {
   "cell_type": "code",
   "execution_count": 43,
   "metadata": {},
   "outputs": [
    {
     "data": {
      "text/html": [
       "<div>\n",
       "<style scoped>\n",
       "    .dataframe tbody tr th:only-of-type {\n",
       "        vertical-align: middle;\n",
       "    }\n",
       "\n",
       "    .dataframe tbody tr th {\n",
       "        vertical-align: top;\n",
       "    }\n",
       "\n",
       "    .dataframe thead th {\n",
       "        text-align: right;\n",
       "    }\n",
       "</style>\n",
       "<table border=\"1\" class=\"dataframe\">\n",
       "  <thead>\n",
       "    <tr style=\"text-align: right;\">\n",
       "      <th></th>\n",
       "      <th>features</th>\n",
       "      <th>coef</th>\n",
       "      <th>coef_0</th>\n",
       "      <th>coef_1</th>\n",
       "      <th>coef_2</th>\n",
       "      <th>coef_3</th>\n",
       "      <th>coef_4</th>\n",
       "      <th>coef_5</th>\n",
       "      <th>coef_6</th>\n",
       "      <th>coef_7</th>\n",
       "      <th>coef_8</th>\n",
       "      <th>coef_9</th>\n",
       "    </tr>\n",
       "  </thead>\n",
       "  <tbody>\n",
       "    <tr>\n",
       "      <th>0</th>\n",
       "      <td>nearby_attraction_arab_street_above_median</td>\n",
       "      <td>[0.3894029523992955, -0.24231251781822172, -0....</td>\n",
       "      <td>0.389403</td>\n",
       "      <td>-0.242313</td>\n",
       "      <td>-0.085188</td>\n",
       "      <td>0.293482</td>\n",
       "      <td>0.016772</td>\n",
       "      <td>0.101191</td>\n",
       "      <td>-0.356033</td>\n",
       "      <td>-0.265198</td>\n",
       "      <td>0.043197</td>\n",
       "      <td>0.104687</td>\n",
       "    </tr>\n",
       "    <tr>\n",
       "      <th>1</th>\n",
       "      <td>nearby_attraction_boat_quay_above_median</td>\n",
       "      <td>[0.0403003439201562, -0.26445838257425797, -0....</td>\n",
       "      <td>0.040300</td>\n",
       "      <td>-0.264458</td>\n",
       "      <td>-0.094029</td>\n",
       "      <td>0.248463</td>\n",
       "      <td>0.400948</td>\n",
       "      <td>-0.166835</td>\n",
       "      <td>0.236013</td>\n",
       "      <td>-0.060857</td>\n",
       "      <td>0.033830</td>\n",
       "      <td>-0.373376</td>\n",
       "    </tr>\n",
       "    <tr>\n",
       "      <th>2</th>\n",
       "      <td>nearby_attraction_chinatown_above_median</td>\n",
       "      <td>[-0.012568713431161869, -0.8338872263293909, -...</td>\n",
       "      <td>-0.012569</td>\n",
       "      <td>-0.833887</td>\n",
       "      <td>-0.384027</td>\n",
       "      <td>0.387604</td>\n",
       "      <td>0.300774</td>\n",
       "      <td>-0.163312</td>\n",
       "      <td>0.128092</td>\n",
       "      <td>0.363278</td>\n",
       "      <td>0.142558</td>\n",
       "      <td>0.071490</td>\n",
       "    </tr>\n",
       "    <tr>\n",
       "      <th>3</th>\n",
       "      <td>nearby_attraction_east_coast_park_above_median</td>\n",
       "      <td>[0.6926589010260465, -0.4094222548906227, -0.4...</td>\n",
       "      <td>0.692659</td>\n",
       "      <td>-0.409422</td>\n",
       "      <td>-0.416655</td>\n",
       "      <td>0.454102</td>\n",
       "      <td>-0.056682</td>\n",
       "      <td>0.225050</td>\n",
       "      <td>-0.201912</td>\n",
       "      <td>0.002743</td>\n",
       "      <td>-0.377255</td>\n",
       "      <td>0.087373</td>\n",
       "    </tr>\n",
       "    <tr>\n",
       "      <th>4</th>\n",
       "      <td>nearby_attraction_garden_above_median</td>\n",
       "      <td>[0.36152789953275616, -0.5458749754712856, 0.1...</td>\n",
       "      <td>0.361528</td>\n",
       "      <td>-0.545875</td>\n",
       "      <td>0.126350</td>\n",
       "      <td>-0.296197</td>\n",
       "      <td>-0.006622</td>\n",
       "      <td>0.477742</td>\n",
       "      <td>0.160450</td>\n",
       "      <td>-0.000802</td>\n",
       "      <td>-0.229011</td>\n",
       "      <td>-0.047562</td>\n",
       "    </tr>\n",
       "    <tr>\n",
       "      <th>5</th>\n",
       "      <td>nearby_attraction_little_india_above_median</td>\n",
       "      <td>[-0.11941530604153645, 0.13832917887115984, 1....</td>\n",
       "      <td>-0.119415</td>\n",
       "      <td>0.138329</td>\n",
       "      <td>1.083250</td>\n",
       "      <td>-0.268122</td>\n",
       "      <td>0.153358</td>\n",
       "      <td>-0.077865</td>\n",
       "      <td>-0.320295</td>\n",
       "      <td>-0.121119</td>\n",
       "      <td>-0.273818</td>\n",
       "      <td>-0.194301</td>\n",
       "    </tr>\n",
       "    <tr>\n",
       "      <th>6</th>\n",
       "      <td>nearby_attraction_marina_bay_above_median</td>\n",
       "      <td>[-0.011351935690092059, -0.3150900978121466, -...</td>\n",
       "      <td>-0.011352</td>\n",
       "      <td>-0.315090</td>\n",
       "      <td>-0.115198</td>\n",
       "      <td>0.152654</td>\n",
       "      <td>-0.149532</td>\n",
       "      <td>0.121289</td>\n",
       "      <td>0.345600</td>\n",
       "      <td>0.008319</td>\n",
       "      <td>0.125268</td>\n",
       "      <td>-0.161957</td>\n",
       "    </tr>\n",
       "    <tr>\n",
       "      <th>7</th>\n",
       "      <td>nearby_attraction_merlion_park_above_median</td>\n",
       "      <td>[-0.29335608282697634, -0.26753114299240555, -...</td>\n",
       "      <td>-0.293356</td>\n",
       "      <td>-0.267531</td>\n",
       "      <td>-0.096340</td>\n",
       "      <td>-0.399676</td>\n",
       "      <td>0.399911</td>\n",
       "      <td>0.010169</td>\n",
       "      <td>0.646168</td>\n",
       "      <td>0.549551</td>\n",
       "      <td>0.382712</td>\n",
       "      <td>-0.931607</td>\n",
       "    </tr>\n",
       "    <tr>\n",
       "      <th>8</th>\n",
       "      <td>nearby_attraction_museum_above_median</td>\n",
       "      <td>[-0.22534056079252257, -0.548491612769903, 0.5...</td>\n",
       "      <td>-0.225341</td>\n",
       "      <td>-0.548492</td>\n",
       "      <td>0.524032</td>\n",
       "      <td>0.157534</td>\n",
       "      <td>-0.245993</td>\n",
       "      <td>-0.084772</td>\n",
       "      <td>0.103038</td>\n",
       "      <td>0.333266</td>\n",
       "      <td>0.232761</td>\n",
       "      <td>-0.246034</td>\n",
       "    </tr>\n",
       "    <tr>\n",
       "      <th>9</th>\n",
       "      <td>nearby_attraction_observation_above_median</td>\n",
       "      <td>[-0.03959363017736346, -0.5605141532676683, -0...</td>\n",
       "      <td>-0.039594</td>\n",
       "      <td>-0.560514</td>\n",
       "      <td>-0.229241</td>\n",
       "      <td>0.455413</td>\n",
       "      <td>0.441644</td>\n",
       "      <td>-0.104713</td>\n",
       "      <td>0.015365</td>\n",
       "      <td>0.311939</td>\n",
       "      <td>-0.262825</td>\n",
       "      <td>-0.027474</td>\n",
       "    </tr>\n",
       "    <tr>\n",
       "      <th>10</th>\n",
       "      <td>nearby_attraction_orchard_road_above_median</td>\n",
       "      <td>[-0.05321347975885912, 0.213939878791233, -0.3...</td>\n",
       "      <td>-0.053213</td>\n",
       "      <td>0.213940</td>\n",
       "      <td>-0.313010</td>\n",
       "      <td>0.404100</td>\n",
       "      <td>0.113580</td>\n",
       "      <td>0.325067</td>\n",
       "      <td>0.214489</td>\n",
       "      <td>0.162529</td>\n",
       "      <td>-0.349371</td>\n",
       "      <td>-0.718110</td>\n",
       "    </tr>\n",
       "    <tr>\n",
       "      <th>11</th>\n",
       "      <td>nearby_attraction_wildlife_above_median</td>\n",
       "      <td>[1.1049757849211572, 0.31732569397855176, 0.44...</td>\n",
       "      <td>1.104976</td>\n",
       "      <td>0.317326</td>\n",
       "      <td>0.441042</td>\n",
       "      <td>-0.389387</td>\n",
       "      <td>-0.163658</td>\n",
       "      <td>-0.059218</td>\n",
       "      <td>-0.147348</td>\n",
       "      <td>-0.680793</td>\n",
       "      <td>-0.579428</td>\n",
       "      <td>0.156489</td>\n",
       "    </tr>\n",
       "    <tr>\n",
       "      <th>12</th>\n",
       "      <td>nearby_attraction_nan</td>\n",
       "      <td>[0.49755693675140233, 0.25210211509475383, 0.9...</td>\n",
       "      <td>0.497557</td>\n",
       "      <td>0.252102</td>\n",
       "      <td>0.965249</td>\n",
       "      <td>0.241086</td>\n",
       "      <td>0.105807</td>\n",
       "      <td>-0.067220</td>\n",
       "      <td>-0.350659</td>\n",
       "      <td>-0.386814</td>\n",
       "      <td>-0.863257</td>\n",
       "      <td>-0.393851</td>\n",
       "    </tr>\n",
       "  </tbody>\n",
       "</table>\n",
       "</div>"
      ],
      "text/plain": [
       "                                          features  \\\n",
       "0       nearby_attraction_arab_street_above_median   \n",
       "1         nearby_attraction_boat_quay_above_median   \n",
       "2         nearby_attraction_chinatown_above_median   \n",
       "3   nearby_attraction_east_coast_park_above_median   \n",
       "4            nearby_attraction_garden_above_median   \n",
       "5      nearby_attraction_little_india_above_median   \n",
       "6        nearby_attraction_marina_bay_above_median   \n",
       "7      nearby_attraction_merlion_park_above_median   \n",
       "8            nearby_attraction_museum_above_median   \n",
       "9       nearby_attraction_observation_above_median   \n",
       "10     nearby_attraction_orchard_road_above_median   \n",
       "11         nearby_attraction_wildlife_above_median   \n",
       "12                           nearby_attraction_nan   \n",
       "\n",
       "                                                 coef    coef_0    coef_1  \\\n",
       "0   [0.3894029523992955, -0.24231251781822172, -0....  0.389403 -0.242313   \n",
       "1   [0.0403003439201562, -0.26445838257425797, -0....  0.040300 -0.264458   \n",
       "2   [-0.012568713431161869, -0.8338872263293909, -... -0.012569 -0.833887   \n",
       "3   [0.6926589010260465, -0.4094222548906227, -0.4...  0.692659 -0.409422   \n",
       "4   [0.36152789953275616, -0.5458749754712856, 0.1...  0.361528 -0.545875   \n",
       "5   [-0.11941530604153645, 0.13832917887115984, 1.... -0.119415  0.138329   \n",
       "6   [-0.011351935690092059, -0.3150900978121466, -... -0.011352 -0.315090   \n",
       "7   [-0.29335608282697634, -0.26753114299240555, -... -0.293356 -0.267531   \n",
       "8   [-0.22534056079252257, -0.548491612769903, 0.5... -0.225341 -0.548492   \n",
       "9   [-0.03959363017736346, -0.5605141532676683, -0... -0.039594 -0.560514   \n",
       "10  [-0.05321347975885912, 0.213939878791233, -0.3... -0.053213  0.213940   \n",
       "11  [1.1049757849211572, 0.31732569397855176, 0.44...  1.104976  0.317326   \n",
       "12  [0.49755693675140233, 0.25210211509475383, 0.9...  0.497557  0.252102   \n",
       "\n",
       "      coef_2    coef_3    coef_4    coef_5    coef_6    coef_7    coef_8  \\\n",
       "0  -0.085188  0.293482  0.016772  0.101191 -0.356033 -0.265198  0.043197   \n",
       "1  -0.094029  0.248463  0.400948 -0.166835  0.236013 -0.060857  0.033830   \n",
       "2  -0.384027  0.387604  0.300774 -0.163312  0.128092  0.363278  0.142558   \n",
       "3  -0.416655  0.454102 -0.056682  0.225050 -0.201912  0.002743 -0.377255   \n",
       "4   0.126350 -0.296197 -0.006622  0.477742  0.160450 -0.000802 -0.229011   \n",
       "5   1.083250 -0.268122  0.153358 -0.077865 -0.320295 -0.121119 -0.273818   \n",
       "6  -0.115198  0.152654 -0.149532  0.121289  0.345600  0.008319  0.125268   \n",
       "7  -0.096340 -0.399676  0.399911  0.010169  0.646168  0.549551  0.382712   \n",
       "8   0.524032  0.157534 -0.245993 -0.084772  0.103038  0.333266  0.232761   \n",
       "9  -0.229241  0.455413  0.441644 -0.104713  0.015365  0.311939 -0.262825   \n",
       "10 -0.313010  0.404100  0.113580  0.325067  0.214489  0.162529 -0.349371   \n",
       "11  0.441042 -0.389387 -0.163658 -0.059218 -0.147348 -0.680793 -0.579428   \n",
       "12  0.965249  0.241086  0.105807 -0.067220 -0.350659 -0.386814 -0.863257   \n",
       "\n",
       "      coef_9  \n",
       "0   0.104687  \n",
       "1  -0.373376  \n",
       "2   0.071490  \n",
       "3   0.087373  \n",
       "4  -0.047562  \n",
       "5  -0.194301  \n",
       "6  -0.161957  \n",
       "7  -0.931607  \n",
       "8  -0.246034  \n",
       "9  -0.027474  \n",
       "10 -0.718110  \n",
       "11  0.156489  \n",
       "12 -0.393851  "
      ]
     },
     "execution_count": 43,
     "metadata": {},
     "output_type": "execute_result"
    }
   ],
   "source": [
    "df = pd.DataFrame(zip(X_train.columns, np.transpose(logreg.coef_)), columns=['features', 'coef']) \n",
    "df = pd.concat([df, df.coef.apply(pd.Series).add_prefix('coef_')], axis = 1)\n",
    "df"
   ]
  },
  {
   "cell_type": "markdown",
   "metadata": {},
   "source": [
    "#### 3.3 EDA: Using feature cross columns and all One-Hot Encoded nearby_attraction columns in Logistic Regression"
   ]
  },
  {
   "cell_type": "code",
   "execution_count": 44,
   "metadata": {},
   "outputs": [
    {
     "data": {
      "text/plain": [
       "['nearby_attraction_arab_street_above_median',\n",
       " 'nearby_attraction_boat_quay_above_median',\n",
       " 'nearby_attraction_chinatown_above_median',\n",
       " 'nearby_attraction_east_coast_park_above_median',\n",
       " 'nearby_attraction_garden_above_median',\n",
       " 'nearby_attraction_little_india_above_median',\n",
       " 'nearby_attraction_marina_bay_above_median',\n",
       " 'nearby_attraction_merlion_park_above_median',\n",
       " 'nearby_attraction_museum_above_median',\n",
       " 'nearby_attraction_observation_above_median',\n",
       " 'nearby_attraction_orchard_road_above_median',\n",
       " 'nearby_attraction_wildlife_above_median',\n",
       " 'nearby_attraction_arab_street',\n",
       " 'nearby_attraction_boat_quay',\n",
       " 'nearby_attraction_chinatown',\n",
       " 'nearby_attraction_east_coast_park',\n",
       " 'nearby_attraction_garden',\n",
       " 'nearby_attraction_little_india',\n",
       " 'nearby_attraction_marina_bay',\n",
       " 'nearby_attraction_merlion_park',\n",
       " 'nearby_attraction_museum',\n",
       " 'nearby_attraction_observation',\n",
       " 'nearby_attraction_orchard_road',\n",
       " 'nearby_attraction_wildlife',\n",
       " 'nearby_attraction_nan']"
      ]
     },
     "execution_count": 44,
     "metadata": {},
     "output_type": "execute_result"
    }
   ],
   "source": [
    "attraction_eda_cols"
   ]
  },
  {
   "cell_type": "code",
   "execution_count": 45,
   "metadata": {},
   "outputs": [
    {
     "name": "stdout",
     "output_type": "stream",
     "text": [
      "training accuracy: 0.3318996415770609\n",
      "test accuracy: 0.3393049086348979\n",
      "training AUC: 0.6188085429203171\n",
      "test AUC: 0.578473663374867\n"
     ]
    }
   ],
   "source": [
    "X = bucket_ohe_df[attraction_eda_cols]\n",
    "y = bucket_ohe_df['overall_rating'].astype(str)\n",
    "X_train, X_test, y_train, y_test = train_test_split(X, y, random_state=1)\n",
    "\n",
    "logreg = LogisticRegression(multi_class='multinomial', max_iter=200)\n",
    "\n",
    "# fit the model with data\n",
    "logreg.fit(X_train, y_train)\n",
    "\n",
    "# predict the response for new observations\n",
    "y_pred_train = logreg.predict(X_train)\n",
    "\n",
    "# calculate accuracy\n",
    "print(\"training accuracy: {}\".format(metrics.accuracy_score(y_train, logreg.predict(X_train))))\n",
    "print(\"test accuracy: {}\".format(metrics.accuracy_score(y_test, logreg.predict(X_test))))\n",
    "\n",
    "# calculate AUC\n",
    "print(\"training AUC: {}\".format(metrics.roc_auc_score(y_train, logreg.predict_proba(X_train), multi_class=\"ovr\")))\n",
    "print(\"test AUC: {}\".format(metrics.roc_auc_score(y_test, logreg.predict_proba(X_test), multi_class=\"ovr\")))"
   ]
  },
  {
   "cell_type": "code",
   "execution_count": 46,
   "metadata": {},
   "outputs": [
    {
     "data": {
      "text/html": [
       "<div>\n",
       "<style scoped>\n",
       "    .dataframe tbody tr th:only-of-type {\n",
       "        vertical-align: middle;\n",
       "    }\n",
       "\n",
       "    .dataframe tbody tr th {\n",
       "        vertical-align: top;\n",
       "    }\n",
       "\n",
       "    .dataframe thead th {\n",
       "        text-align: right;\n",
       "    }\n",
       "</style>\n",
       "<table border=\"1\" class=\"dataframe\">\n",
       "  <thead>\n",
       "    <tr style=\"text-align: right;\">\n",
       "      <th></th>\n",
       "      <th>features</th>\n",
       "      <th>coef</th>\n",
       "      <th>coef_0</th>\n",
       "      <th>coef_1</th>\n",
       "      <th>coef_2</th>\n",
       "      <th>coef_3</th>\n",
       "      <th>coef_4</th>\n",
       "      <th>coef_5</th>\n",
       "      <th>coef_6</th>\n",
       "      <th>coef_7</th>\n",
       "      <th>coef_8</th>\n",
       "      <th>coef_9</th>\n",
       "    </tr>\n",
       "  </thead>\n",
       "  <tbody>\n",
       "    <tr>\n",
       "      <th>0</th>\n",
       "      <td>nearby_attraction_arab_street_above_median</td>\n",
       "      <td>[0.22746448128007754, -0.3405120069055598, -0....</td>\n",
       "      <td>0.227464</td>\n",
       "      <td>-0.340512</td>\n",
       "      <td>-0.073448</td>\n",
       "      <td>0.165148</td>\n",
       "      <td>0.090171</td>\n",
       "      <td>0.378105</td>\n",
       "      <td>-0.240936</td>\n",
       "      <td>0.040315</td>\n",
       "      <td>-0.096752</td>\n",
       "      <td>-0.149555</td>\n",
       "    </tr>\n",
       "    <tr>\n",
       "      <th>1</th>\n",
       "      <td>nearby_attraction_boat_quay_above_median</td>\n",
       "      <td>[0.49950292913173544, -0.32724319237114563, -0...</td>\n",
       "      <td>0.499503</td>\n",
       "      <td>-0.327243</td>\n",
       "      <td>-0.184285</td>\n",
       "      <td>-0.070548</td>\n",
       "      <td>0.358178</td>\n",
       "      <td>-0.038174</td>\n",
       "      <td>0.390129</td>\n",
       "      <td>0.096294</td>\n",
       "      <td>-0.396828</td>\n",
       "      <td>-0.327025</td>\n",
       "    </tr>\n",
       "    <tr>\n",
       "      <th>2</th>\n",
       "      <td>nearby_attraction_chinatown_above_median</td>\n",
       "      <td>[0.3212134620715591, -0.47185199475858125, -0....</td>\n",
       "      <td>0.321213</td>\n",
       "      <td>-0.471852</td>\n",
       "      <td>-0.215618</td>\n",
       "      <td>0.418622</td>\n",
       "      <td>0.162088</td>\n",
       "      <td>-0.102850</td>\n",
       "      <td>0.210966</td>\n",
       "      <td>0.339417</td>\n",
       "      <td>-0.249904</td>\n",
       "      <td>-0.412081</td>\n",
       "    </tr>\n",
       "    <tr>\n",
       "      <th>3</th>\n",
       "      <td>nearby_attraction_east_coast_park_above_median</td>\n",
       "      <td>[0.7650425413762718, -0.2891418011826692, -0.2...</td>\n",
       "      <td>0.765043</td>\n",
       "      <td>-0.289142</td>\n",
       "      <td>-0.261704</td>\n",
       "      <td>0.117600</td>\n",
       "      <td>-0.227233</td>\n",
       "      <td>0.019482</td>\n",
       "      <td>-0.058716</td>\n",
       "      <td>0.049087</td>\n",
       "      <td>-0.263317</td>\n",
       "      <td>0.148900</td>\n",
       "    </tr>\n",
       "    <tr>\n",
       "      <th>4</th>\n",
       "      <td>nearby_attraction_garden_above_median</td>\n",
       "      <td>[0.4083984201609565, -0.3934289370098124, 0.23...</td>\n",
       "      <td>0.408398</td>\n",
       "      <td>-0.393429</td>\n",
       "      <td>0.235947</td>\n",
       "      <td>0.044041</td>\n",
       "      <td>0.230673</td>\n",
       "      <td>0.433637</td>\n",
       "      <td>-0.142887</td>\n",
       "      <td>-0.294095</td>\n",
       "      <td>-0.499074</td>\n",
       "      <td>-0.023211</td>\n",
       "    </tr>\n",
       "    <tr>\n",
       "      <th>5</th>\n",
       "      <td>nearby_attraction_little_india_above_median</td>\n",
       "      <td>[-0.2503707150778969, 0.13383637197991696, 0.7...</td>\n",
       "      <td>-0.250371</td>\n",
       "      <td>0.133836</td>\n",
       "      <td>0.754418</td>\n",
       "      <td>-0.220977</td>\n",
       "      <td>0.564009</td>\n",
       "      <td>0.069803</td>\n",
       "      <td>-0.227593</td>\n",
       "      <td>-0.318868</td>\n",
       "      <td>-0.235046</td>\n",
       "      <td>-0.269211</td>\n",
       "    </tr>\n",
       "    <tr>\n",
       "      <th>6</th>\n",
       "      <td>nearby_attraction_marina_bay_above_median</td>\n",
       "      <td>[0.025570146889420903, -0.43745811151087, -0.1...</td>\n",
       "      <td>0.025570</td>\n",
       "      <td>-0.437458</td>\n",
       "      <td>-0.158868</td>\n",
       "      <td>0.435972</td>\n",
       "      <td>-0.198675</td>\n",
       "      <td>0.147874</td>\n",
       "      <td>0.397910</td>\n",
       "      <td>0.025305</td>\n",
       "      <td>-0.154517</td>\n",
       "      <td>-0.083113</td>\n",
       "    </tr>\n",
       "    <tr>\n",
       "      <th>7</th>\n",
       "      <td>nearby_attraction_merlion_park_above_median</td>\n",
       "      <td>[-0.18925178585594107, -0.4078526508949779, -0...</td>\n",
       "      <td>-0.189252</td>\n",
       "      <td>-0.407853</td>\n",
       "      <td>-0.143571</td>\n",
       "      <td>-0.452677</td>\n",
       "      <td>0.431496</td>\n",
       "      <td>-0.011707</td>\n",
       "      <td>0.560087</td>\n",
       "      <td>0.668763</td>\n",
       "      <td>0.496554</td>\n",
       "      <td>-0.951840</td>\n",
       "    </tr>\n",
       "    <tr>\n",
       "      <th>8</th>\n",
       "      <td>nearby_attraction_museum_above_median</td>\n",
       "      <td>[0.11241096733091412, -0.30164048152720124, 0....</td>\n",
       "      <td>0.112411</td>\n",
       "      <td>-0.301640</td>\n",
       "      <td>0.483152</td>\n",
       "      <td>0.289280</td>\n",
       "      <td>-0.157010</td>\n",
       "      <td>-0.160597</td>\n",
       "      <td>-0.267863</td>\n",
       "      <td>0.055275</td>\n",
       "      <td>0.207904</td>\n",
       "      <td>-0.260911</td>\n",
       "    </tr>\n",
       "    <tr>\n",
       "      <th>9</th>\n",
       "      <td>nearby_attraction_observation_above_median</td>\n",
       "      <td>[-0.36026749080722725, -0.4372673532761675, -0...</td>\n",
       "      <td>-0.360267</td>\n",
       "      <td>-0.437267</td>\n",
       "      <td>-0.164681</td>\n",
       "      <td>0.394928</td>\n",
       "      <td>0.017944</td>\n",
       "      <td>-0.315846</td>\n",
       "      <td>-0.132693</td>\n",
       "      <td>0.375866</td>\n",
       "      <td>0.324423</td>\n",
       "      <td>0.297593</td>\n",
       "    </tr>\n",
       "    <tr>\n",
       "      <th>10</th>\n",
       "      <td>nearby_attraction_orchard_road_above_median</td>\n",
       "      <td>[0.2450344670378883, 0.3134501601471323, -0.35...</td>\n",
       "      <td>0.245034</td>\n",
       "      <td>0.313450</td>\n",
       "      <td>-0.350360</td>\n",
       "      <td>0.311661</td>\n",
       "      <td>-0.087306</td>\n",
       "      <td>-0.021822</td>\n",
       "      <td>-0.144942</td>\n",
       "      <td>-0.047195</td>\n",
       "      <td>-0.096004</td>\n",
       "      <td>-0.122518</td>\n",
       "    </tr>\n",
       "    <tr>\n",
       "      <th>11</th>\n",
       "      <td>nearby_attraction_wildlife_above_median</td>\n",
       "      <td>[0.24516403189107755, -0.38388405482859017, 0....</td>\n",
       "      <td>0.245164</td>\n",
       "      <td>-0.383884</td>\n",
       "      <td>0.422491</td>\n",
       "      <td>-0.518622</td>\n",
       "      <td>-0.276588</td>\n",
       "      <td>-0.082752</td>\n",
       "      <td>0.156915</td>\n",
       "      <td>-0.069106</td>\n",
       "      <td>0.172258</td>\n",
       "      <td>0.334124</td>\n",
       "    </tr>\n",
       "    <tr>\n",
       "      <th>12</th>\n",
       "      <td>nearby_attraction_arab_street</td>\n",
       "      <td>[0.15113634059342254, 0.3591749609690609, -0.2...</td>\n",
       "      <td>0.151136</td>\n",
       "      <td>0.359175</td>\n",
       "      <td>-0.292176</td>\n",
       "      <td>0.210405</td>\n",
       "      <td>-0.205287</td>\n",
       "      <td>-0.366680</td>\n",
       "      <td>-0.149020</td>\n",
       "      <td>-0.288991</td>\n",
       "      <td>0.226497</td>\n",
       "      <td>0.354940</td>\n",
       "    </tr>\n",
       "    <tr>\n",
       "      <th>13</th>\n",
       "      <td>nearby_attraction_boat_quay</td>\n",
       "      <td>[-0.6622287264034484, 0.11462061870987594, 0.5...</td>\n",
       "      <td>-0.662229</td>\n",
       "      <td>0.114621</td>\n",
       "      <td>0.544585</td>\n",
       "      <td>0.497529</td>\n",
       "      <td>-0.078650</td>\n",
       "      <td>-0.280804</td>\n",
       "      <td>-0.271537</td>\n",
       "      <td>-0.216800</td>\n",
       "      <td>0.451984</td>\n",
       "      <td>-0.098700</td>\n",
       "    </tr>\n",
       "    <tr>\n",
       "      <th>14</th>\n",
       "      <td>nearby_attraction_chinatown</td>\n",
       "      <td>[-0.249419497876335, -0.8222578323944197, -0.6...</td>\n",
       "      <td>-0.249419</td>\n",
       "      <td>-0.822258</td>\n",
       "      <td>-0.699342</td>\n",
       "      <td>0.012699</td>\n",
       "      <td>0.227647</td>\n",
       "      <td>0.031741</td>\n",
       "      <td>0.028767</td>\n",
       "      <td>0.191506</td>\n",
       "      <td>0.599052</td>\n",
       "      <td>0.679607</td>\n",
       "    </tr>\n",
       "    <tr>\n",
       "      <th>15</th>\n",
       "      <td>nearby_attraction_east_coast_park</td>\n",
       "      <td>[-0.04244137456223969, -0.17713895684710446, -...</td>\n",
       "      <td>-0.042441</td>\n",
       "      <td>-0.177139</td>\n",
       "      <td>-0.639321</td>\n",
       "      <td>0.381308</td>\n",
       "      <td>0.205729</td>\n",
       "      <td>0.242976</td>\n",
       "      <td>-0.097816</td>\n",
       "      <td>0.056428</td>\n",
       "      <td>0.019409</td>\n",
       "      <td>0.050867</td>\n",
       "    </tr>\n",
       "    <tr>\n",
       "      <th>16</th>\n",
       "      <td>nearby_attraction_garden</td>\n",
       "      <td>[-0.023294938392991703, -0.2303293284097847, -...</td>\n",
       "      <td>-0.023295</td>\n",
       "      <td>-0.230329</td>\n",
       "      <td>-0.309388</td>\n",
       "      <td>-0.467997</td>\n",
       "      <td>-0.265330</td>\n",
       "      <td>0.070117</td>\n",
       "      <td>0.348272</td>\n",
       "      <td>0.391704</td>\n",
       "      <td>0.403927</td>\n",
       "      <td>0.082321</td>\n",
       "    </tr>\n",
       "    <tr>\n",
       "      <th>17</th>\n",
       "      <td>nearby_attraction_little_india</td>\n",
       "      <td>[0.11465442387903065, -0.011531952700952442, 0...</td>\n",
       "      <td>0.114654</td>\n",
       "      <td>-0.011532</td>\n",
       "      <td>0.336724</td>\n",
       "      <td>-0.123394</td>\n",
       "      <td>-0.489136</td>\n",
       "      <td>-0.169826</td>\n",
       "      <td>-0.095963</td>\n",
       "      <td>0.251699</td>\n",
       "      <td>0.046296</td>\n",
       "      <td>0.140478</td>\n",
       "    </tr>\n",
       "    <tr>\n",
       "      <th>18</th>\n",
       "      <td>nearby_attraction_marina_bay</td>\n",
       "      <td>[-0.08059378925994429, 0.38520724894033187, 0....</td>\n",
       "      <td>-0.080594</td>\n",
       "      <td>0.385207</td>\n",
       "      <td>0.241223</td>\n",
       "      <td>-0.769748</td>\n",
       "      <td>0.035755</td>\n",
       "      <td>-0.068190</td>\n",
       "      <td>-0.075532</td>\n",
       "      <td>0.016023</td>\n",
       "      <td>0.364796</td>\n",
       "      <td>-0.048941</td>\n",
       "    </tr>\n",
       "    <tr>\n",
       "      <th>19</th>\n",
       "      <td>nearby_attraction_merlion_park</td>\n",
       "      <td>[-0.22780209441194668, 0.43262381543962425, 0....</td>\n",
       "      <td>-0.227802</td>\n",
       "      <td>0.432624</td>\n",
       "      <td>0.271683</td>\n",
       "      <td>0.030407</td>\n",
       "      <td>-0.183319</td>\n",
       "      <td>-0.074351</td>\n",
       "      <td>0.007782</td>\n",
       "      <td>-0.151340</td>\n",
       "      <td>-0.116277</td>\n",
       "      <td>0.010593</td>\n",
       "    </tr>\n",
       "    <tr>\n",
       "      <th>20</th>\n",
       "      <td>nearby_attraction_museum</td>\n",
       "      <td>[-0.31744440893468806, -0.7831606415878821, 0....</td>\n",
       "      <td>-0.317444</td>\n",
       "      <td>-0.783161</td>\n",
       "      <td>0.103423</td>\n",
       "      <td>-0.206376</td>\n",
       "      <td>-0.104639</td>\n",
       "      <td>0.130666</td>\n",
       "      <td>0.448345</td>\n",
       "      <td>0.401949</td>\n",
       "      <td>0.179108</td>\n",
       "      <td>0.148128</td>\n",
       "    </tr>\n",
       "    <tr>\n",
       "      <th>21</th>\n",
       "      <td>nearby_attraction_observation</td>\n",
       "      <td>[0.37422496344673106, -0.330226069885346, -0.4...</td>\n",
       "      <td>0.374225</td>\n",
       "      <td>-0.330226</td>\n",
       "      <td>-0.424948</td>\n",
       "      <td>0.071085</td>\n",
       "      <td>0.519700</td>\n",
       "      <td>0.260733</td>\n",
       "      <td>0.202431</td>\n",
       "      <td>0.038983</td>\n",
       "      <td>-0.477057</td>\n",
       "      <td>-0.234927</td>\n",
       "    </tr>\n",
       "    <tr>\n",
       "      <th>22</th>\n",
       "      <td>nearby_attraction_orchard_road</td>\n",
       "      <td>[-0.33156314148484006, -0.1771865592871, 0.055...</td>\n",
       "      <td>-0.331563</td>\n",
       "      <td>-0.177187</td>\n",
       "      <td>0.055693</td>\n",
       "      <td>0.053597</td>\n",
       "      <td>0.198433</td>\n",
       "      <td>0.341053</td>\n",
       "      <td>0.364659</td>\n",
       "      <td>0.264997</td>\n",
       "      <td>-0.175915</td>\n",
       "      <td>-0.593765</td>\n",
       "    </tr>\n",
       "    <tr>\n",
       "      <th>23</th>\n",
       "      <td>nearby_attraction_wildlife</td>\n",
       "      <td>[0.8159699621654125, 0.9925967197596041, -0.08...</td>\n",
       "      <td>0.815970</td>\n",
       "      <td>0.992597</td>\n",
       "      <td>-0.085528</td>\n",
       "      <td>0.119604</td>\n",
       "      <td>0.065586</td>\n",
       "      <td>-0.032727</td>\n",
       "      <td>-0.355475</td>\n",
       "      <td>-0.616350</td>\n",
       "      <td>-0.741658</td>\n",
       "      <td>-0.162020</td>\n",
       "    </tr>\n",
       "    <tr>\n",
       "      <th>24</th>\n",
       "      <td>nearby_attraction_nan</td>\n",
       "      <td>[0.48377579989422664, 0.23906191073516228, 0.8...</td>\n",
       "      <td>0.483776</td>\n",
       "      <td>0.239062</td>\n",
       "      <td>0.877879</td>\n",
       "      <td>0.183541</td>\n",
       "      <td>0.069844</td>\n",
       "      <td>-0.080609</td>\n",
       "      <td>-0.347119</td>\n",
       "      <td>-0.328884</td>\n",
       "      <td>-0.772479</td>\n",
       "      <td>-0.325010</td>\n",
       "    </tr>\n",
       "  </tbody>\n",
       "</table>\n",
       "</div>"
      ],
      "text/plain": [
       "                                          features  \\\n",
       "0       nearby_attraction_arab_street_above_median   \n",
       "1         nearby_attraction_boat_quay_above_median   \n",
       "2         nearby_attraction_chinatown_above_median   \n",
       "3   nearby_attraction_east_coast_park_above_median   \n",
       "4            nearby_attraction_garden_above_median   \n",
       "5      nearby_attraction_little_india_above_median   \n",
       "6        nearby_attraction_marina_bay_above_median   \n",
       "7      nearby_attraction_merlion_park_above_median   \n",
       "8            nearby_attraction_museum_above_median   \n",
       "9       nearby_attraction_observation_above_median   \n",
       "10     nearby_attraction_orchard_road_above_median   \n",
       "11         nearby_attraction_wildlife_above_median   \n",
       "12                   nearby_attraction_arab_street   \n",
       "13                     nearby_attraction_boat_quay   \n",
       "14                     nearby_attraction_chinatown   \n",
       "15               nearby_attraction_east_coast_park   \n",
       "16                        nearby_attraction_garden   \n",
       "17                  nearby_attraction_little_india   \n",
       "18                    nearby_attraction_marina_bay   \n",
       "19                  nearby_attraction_merlion_park   \n",
       "20                        nearby_attraction_museum   \n",
       "21                   nearby_attraction_observation   \n",
       "22                  nearby_attraction_orchard_road   \n",
       "23                      nearby_attraction_wildlife   \n",
       "24                           nearby_attraction_nan   \n",
       "\n",
       "                                                 coef    coef_0    coef_1  \\\n",
       "0   [0.22746448128007754, -0.3405120069055598, -0....  0.227464 -0.340512   \n",
       "1   [0.49950292913173544, -0.32724319237114563, -0...  0.499503 -0.327243   \n",
       "2   [0.3212134620715591, -0.47185199475858125, -0....  0.321213 -0.471852   \n",
       "3   [0.7650425413762718, -0.2891418011826692, -0.2...  0.765043 -0.289142   \n",
       "4   [0.4083984201609565, -0.3934289370098124, 0.23...  0.408398 -0.393429   \n",
       "5   [-0.2503707150778969, 0.13383637197991696, 0.7... -0.250371  0.133836   \n",
       "6   [0.025570146889420903, -0.43745811151087, -0.1...  0.025570 -0.437458   \n",
       "7   [-0.18925178585594107, -0.4078526508949779, -0... -0.189252 -0.407853   \n",
       "8   [0.11241096733091412, -0.30164048152720124, 0....  0.112411 -0.301640   \n",
       "9   [-0.36026749080722725, -0.4372673532761675, -0... -0.360267 -0.437267   \n",
       "10  [0.2450344670378883, 0.3134501601471323, -0.35...  0.245034  0.313450   \n",
       "11  [0.24516403189107755, -0.38388405482859017, 0....  0.245164 -0.383884   \n",
       "12  [0.15113634059342254, 0.3591749609690609, -0.2...  0.151136  0.359175   \n",
       "13  [-0.6622287264034484, 0.11462061870987594, 0.5... -0.662229  0.114621   \n",
       "14  [-0.249419497876335, -0.8222578323944197, -0.6... -0.249419 -0.822258   \n",
       "15  [-0.04244137456223969, -0.17713895684710446, -... -0.042441 -0.177139   \n",
       "16  [-0.023294938392991703, -0.2303293284097847, -... -0.023295 -0.230329   \n",
       "17  [0.11465442387903065, -0.011531952700952442, 0...  0.114654 -0.011532   \n",
       "18  [-0.08059378925994429, 0.38520724894033187, 0.... -0.080594  0.385207   \n",
       "19  [-0.22780209441194668, 0.43262381543962425, 0.... -0.227802  0.432624   \n",
       "20  [-0.31744440893468806, -0.7831606415878821, 0.... -0.317444 -0.783161   \n",
       "21  [0.37422496344673106, -0.330226069885346, -0.4...  0.374225 -0.330226   \n",
       "22  [-0.33156314148484006, -0.1771865592871, 0.055... -0.331563 -0.177187   \n",
       "23  [0.8159699621654125, 0.9925967197596041, -0.08...  0.815970  0.992597   \n",
       "24  [0.48377579989422664, 0.23906191073516228, 0.8...  0.483776  0.239062   \n",
       "\n",
       "      coef_2    coef_3    coef_4    coef_5    coef_6    coef_7    coef_8  \\\n",
       "0  -0.073448  0.165148  0.090171  0.378105 -0.240936  0.040315 -0.096752   \n",
       "1  -0.184285 -0.070548  0.358178 -0.038174  0.390129  0.096294 -0.396828   \n",
       "2  -0.215618  0.418622  0.162088 -0.102850  0.210966  0.339417 -0.249904   \n",
       "3  -0.261704  0.117600 -0.227233  0.019482 -0.058716  0.049087 -0.263317   \n",
       "4   0.235947  0.044041  0.230673  0.433637 -0.142887 -0.294095 -0.499074   \n",
       "5   0.754418 -0.220977  0.564009  0.069803 -0.227593 -0.318868 -0.235046   \n",
       "6  -0.158868  0.435972 -0.198675  0.147874  0.397910  0.025305 -0.154517   \n",
       "7  -0.143571 -0.452677  0.431496 -0.011707  0.560087  0.668763  0.496554   \n",
       "8   0.483152  0.289280 -0.157010 -0.160597 -0.267863  0.055275  0.207904   \n",
       "9  -0.164681  0.394928  0.017944 -0.315846 -0.132693  0.375866  0.324423   \n",
       "10 -0.350360  0.311661 -0.087306 -0.021822 -0.144942 -0.047195 -0.096004   \n",
       "11  0.422491 -0.518622 -0.276588 -0.082752  0.156915 -0.069106  0.172258   \n",
       "12 -0.292176  0.210405 -0.205287 -0.366680 -0.149020 -0.288991  0.226497   \n",
       "13  0.544585  0.497529 -0.078650 -0.280804 -0.271537 -0.216800  0.451984   \n",
       "14 -0.699342  0.012699  0.227647  0.031741  0.028767  0.191506  0.599052   \n",
       "15 -0.639321  0.381308  0.205729  0.242976 -0.097816  0.056428  0.019409   \n",
       "16 -0.309388 -0.467997 -0.265330  0.070117  0.348272  0.391704  0.403927   \n",
       "17  0.336724 -0.123394 -0.489136 -0.169826 -0.095963  0.251699  0.046296   \n",
       "18  0.241223 -0.769748  0.035755 -0.068190 -0.075532  0.016023  0.364796   \n",
       "19  0.271683  0.030407 -0.183319 -0.074351  0.007782 -0.151340 -0.116277   \n",
       "20  0.103423 -0.206376 -0.104639  0.130666  0.448345  0.401949  0.179108   \n",
       "21 -0.424948  0.071085  0.519700  0.260733  0.202431  0.038983 -0.477057   \n",
       "22  0.055693  0.053597  0.198433  0.341053  0.364659  0.264997 -0.175915   \n",
       "23 -0.085528  0.119604  0.065586 -0.032727 -0.355475 -0.616350 -0.741658   \n",
       "24  0.877879  0.183541  0.069844 -0.080609 -0.347119 -0.328884 -0.772479   \n",
       "\n",
       "      coef_9  \n",
       "0  -0.149555  \n",
       "1  -0.327025  \n",
       "2  -0.412081  \n",
       "3   0.148900  \n",
       "4  -0.023211  \n",
       "5  -0.269211  \n",
       "6  -0.083113  \n",
       "7  -0.951840  \n",
       "8  -0.260911  \n",
       "9   0.297593  \n",
       "10 -0.122518  \n",
       "11  0.334124  \n",
       "12  0.354940  \n",
       "13 -0.098700  \n",
       "14  0.679607  \n",
       "15  0.050867  \n",
       "16  0.082321  \n",
       "17  0.140478  \n",
       "18 -0.048941  \n",
       "19  0.010593  \n",
       "20  0.148128  \n",
       "21 -0.234927  \n",
       "22 -0.593765  \n",
       "23 -0.162020  \n",
       "24 -0.325010  "
      ]
     },
     "execution_count": 46,
     "metadata": {},
     "output_type": "execute_result"
    }
   ],
   "source": [
    "df = pd.DataFrame(zip(X_train.columns, np.transpose(logreg.coef_)), columns=['features', 'coef']) \n",
    "df = pd.concat([df, df.coef.apply(pd.Series).add_prefix('coef_')], axis = 1)\n",
    "df"
   ]
  }
 ],
 "metadata": {
  "interpreter": {
   "hash": "f79c354a758cf5788966b052ccdc6a0564dad98118ae6114aefad974fb8127f0"
  },
  "kernelspec": {
   "display_name": "Python 3.7.11 ('bt4222_proj')",
   "language": "python",
   "name": "python3"
  },
  "language_info": {
   "codemirror_mode": {
    "name": "ipython",
    "version": 3
   },
   "file_extension": ".py",
   "mimetype": "text/x-python",
   "name": "python",
   "nbconvert_exporter": "python",
   "pygments_lexer": "ipython3",
   "version": "3.7.11"
  },
  "orig_nbformat": 4
 },
 "nbformat": 4,
 "nbformat_minor": 2
}
