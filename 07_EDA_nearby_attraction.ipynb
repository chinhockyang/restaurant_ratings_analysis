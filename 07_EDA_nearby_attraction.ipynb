{
 "cells": [
  {
   "cell_type": "code",
   "execution_count": 1,
   "metadata": {},
   "outputs": [],
   "source": [
    "import pandas as pd\n",
    "import numpy as np\n",
    "import plotly.express as px\n",
    "import matplotlib.pyplot as plt\n",
    "import seaborn as sns\n",
    "from dython.nominal import associations"
   ]
  },
  {
   "cell_type": "markdown",
   "metadata": {},
   "source": [
    "Pre-process full dataset to remove rows with less than 3 reviews and those with missing geographic information"
   ]
  },
  {
   "cell_type": "code",
   "execution_count": 2,
   "metadata": {},
   "outputs": [],
   "source": [
    "df_restaurant = pd.read_csv(\"data/full_restaurant_rating_data.csv\")\n",
    "df_is_in_mall = pd.read_csv(\"data/restaurant_is_in_mall.csv\")\n",
    "df_walking_duration_from_station_exit = pd.read_csv(\"data/restaurant_walking_distance_from_station_exit.csv\")\n",
    "df_restaurant_nearest_exit = pd.read_csv('data/restaurant_nearest_station_exit.csv')\n",
    "df_reviews = pd.read_csv('data/full_restaurant_review_data.csv', parse_dates=['date'])"
   ]
  },
  {
   "cell_type": "code",
   "execution_count": 3,
   "metadata": {},
   "outputs": [],
   "source": [
    "# Merge all the Scraped Datasets into Restaurant Dataset\n",
    "df_restaurant = df_restaurant.merge(df_is_in_mall[['url', 'is_in_mall', 'mall']], on='url', how='left')\n",
    "df_restaurant = df_restaurant.merge(df_walking_duration_from_station_exit, on='url', how='left')\n",
    "df_rating = df_restaurant.merge(df_restaurant_nearest_exit[['station_name', 'station_line_color', 'url', 'distance']], on='url', how='left')"
   ]
  },
  {
   "cell_type": "code",
   "execution_count": 4,
   "metadata": {},
   "outputs": [
    {
     "data": {
      "text/plain": [
       "(7226, 42)"
      ]
     },
     "execution_count": 4,
     "metadata": {},
     "output_type": "execute_result"
    }
   ],
   "source": [
    "# dropping rows with reviews <= 2: dropping 3935 rows of data\n",
    "df_rating = df_rating[df_rating['num_of_reviews'] >= 3]\n",
    "df_rating.shape"
   ]
  },
  {
   "cell_type": "code",
   "execution_count": 5,
   "metadata": {},
   "outputs": [
    {
     "data": {
      "text/plain": [
       "(7192, 42)"
      ]
     },
     "execution_count": 5,
     "metadata": {},
     "output_type": "execute_result"
    }
   ],
   "source": [
    "df_rating = df_rating.dropna(subset=['walking_distance'])\n",
    "df_rating.shape"
   ]
  },
  {
   "cell_type": "code",
   "execution_count": 6,
   "metadata": {},
   "outputs": [
    {
     "data": {
      "text/plain": [
       "Index(['name', 'address', 'region', 'latitude', 'longitude',\n",
       "       'nearby_attraction', 'distance_from_attraction', 'price_category',\n",
       "       'price_range', 'mon_operating_hours', 'tue_operating_hours',\n",
       "       'wed_operating_hours', 'thu_operating_hours', 'fri_operating_hours',\n",
       "       'sat_operating_hours', 'sun_operating_hours', 'is_travellors_choice',\n",
       "       'is_michellin', 'about', 'list_of_meals', 'list_of_cuisines',\n",
       "       'list_of_features', 'list_of_special_diets', 'num_of_reviews',\n",
       "       'num_of_rating_1', 'num_of_rating_2', 'num_of_rating_3',\n",
       "       'num_of_rating_4', 'num_of_rating_5', 'food_rating', 'service_rating',\n",
       "       'value_rating', 'atmosphere_rating', 'overall_rating', 'url',\n",
       "       'is_in_mall', 'mall', 'walking_distance', 'walking_duration',\n",
       "       'station_name', 'station_line_color', 'distance'],\n",
       "      dtype='object')"
      ]
     },
     "execution_count": 6,
     "metadata": {},
     "output_type": "execute_result"
    }
   ],
   "source": [
    "df_rating.columns"
   ]
  },
  {
   "cell_type": "markdown",
   "metadata": {},
   "source": [
    "### 1. Exploratory Data Analysis - Nearby Attraction\n",
    "\n",
    "Looking at the various nearby attraction that exist in the dataset"
   ]
  },
  {
   "cell_type": "markdown",
   "metadata": {},
   "source": [
    "#### 1.1 Proportion of Nearby Attraction"
   ]
  },
  {
   "cell_type": "code",
   "execution_count": 7,
   "metadata": {},
   "outputs": [
    {
     "data": {
      "application/vnd.plotly.v1+json": {
       "config": {
        "plotlyServerURL": "https://plot.ly"
       },
       "data": [
        {
         "domain": {
          "x": [
           0,
           1
          ],
          "y": [
           0,
           1
          ]
         },
         "hovertemplate": "index=%{label}<br>nearby_attraction=%{value}<extra></extra>",
         "labels": [
          null,
          "Chinatown",
          "Little India",
          "Singapore Botanic Gardens",
          "East Coast Park",
          "Orchard Road",
          "City Hall Building",
          "Marina Bay",
          "Merlion Park",
          "Singapore Cable Car",
          "Singapore Zoo",
          "Arab Street",
          "Singapore Flyer",
          "Boat Quay",
          "National Orchid Garden",
          "National Museum of Singapore",
          "Asian Civilisations Museum",
          "Night Safari"
         ],
         "legendgroup": "",
         "name": "",
         "showlegend": true,
         "type": "pie",
         "values": [
          1452,
          957,
          857,
          847,
          570,
          558,
          335,
          318,
          282,
          232,
          226,
          179,
          128,
          128,
          53,
          49,
          20,
          1
         ]
        }
       ],
       "layout": {
        "height": 400,
        "legend": {
         "tracegroupgap": 0
        },
        "margin": {
         "t": 60
        },
        "template": {
         "data": {
          "bar": [
           {
            "error_x": {
             "color": "#2a3f5f"
            },
            "error_y": {
             "color": "#2a3f5f"
            },
            "marker": {
             "line": {
              "color": "#E5ECF6",
              "width": 0.5
             },
             "pattern": {
              "fillmode": "overlay",
              "size": 10,
              "solidity": 0.2
             }
            },
            "type": "bar"
           }
          ],
          "barpolar": [
           {
            "marker": {
             "line": {
              "color": "#E5ECF6",
              "width": 0.5
             },
             "pattern": {
              "fillmode": "overlay",
              "size": 10,
              "solidity": 0.2
             }
            },
            "type": "barpolar"
           }
          ],
          "carpet": [
           {
            "aaxis": {
             "endlinecolor": "#2a3f5f",
             "gridcolor": "white",
             "linecolor": "white",
             "minorgridcolor": "white",
             "startlinecolor": "#2a3f5f"
            },
            "baxis": {
             "endlinecolor": "#2a3f5f",
             "gridcolor": "white",
             "linecolor": "white",
             "minorgridcolor": "white",
             "startlinecolor": "#2a3f5f"
            },
            "type": "carpet"
           }
          ],
          "choropleth": [
           {
            "colorbar": {
             "outlinewidth": 0,
             "ticks": ""
            },
            "type": "choropleth"
           }
          ],
          "contour": [
           {
            "colorbar": {
             "outlinewidth": 0,
             "ticks": ""
            },
            "colorscale": [
             [
              0,
              "#0d0887"
             ],
             [
              0.1111111111111111,
              "#46039f"
             ],
             [
              0.2222222222222222,
              "#7201a8"
             ],
             [
              0.3333333333333333,
              "#9c179e"
             ],
             [
              0.4444444444444444,
              "#bd3786"
             ],
             [
              0.5555555555555556,
              "#d8576b"
             ],
             [
              0.6666666666666666,
              "#ed7953"
             ],
             [
              0.7777777777777778,
              "#fb9f3a"
             ],
             [
              0.8888888888888888,
              "#fdca26"
             ],
             [
              1,
              "#f0f921"
             ]
            ],
            "type": "contour"
           }
          ],
          "contourcarpet": [
           {
            "colorbar": {
             "outlinewidth": 0,
             "ticks": ""
            },
            "type": "contourcarpet"
           }
          ],
          "heatmap": [
           {
            "colorbar": {
             "outlinewidth": 0,
             "ticks": ""
            },
            "colorscale": [
             [
              0,
              "#0d0887"
             ],
             [
              0.1111111111111111,
              "#46039f"
             ],
             [
              0.2222222222222222,
              "#7201a8"
             ],
             [
              0.3333333333333333,
              "#9c179e"
             ],
             [
              0.4444444444444444,
              "#bd3786"
             ],
             [
              0.5555555555555556,
              "#d8576b"
             ],
             [
              0.6666666666666666,
              "#ed7953"
             ],
             [
              0.7777777777777778,
              "#fb9f3a"
             ],
             [
              0.8888888888888888,
              "#fdca26"
             ],
             [
              1,
              "#f0f921"
             ]
            ],
            "type": "heatmap"
           }
          ],
          "heatmapgl": [
           {
            "colorbar": {
             "outlinewidth": 0,
             "ticks": ""
            },
            "colorscale": [
             [
              0,
              "#0d0887"
             ],
             [
              0.1111111111111111,
              "#46039f"
             ],
             [
              0.2222222222222222,
              "#7201a8"
             ],
             [
              0.3333333333333333,
              "#9c179e"
             ],
             [
              0.4444444444444444,
              "#bd3786"
             ],
             [
              0.5555555555555556,
              "#d8576b"
             ],
             [
              0.6666666666666666,
              "#ed7953"
             ],
             [
              0.7777777777777778,
              "#fb9f3a"
             ],
             [
              0.8888888888888888,
              "#fdca26"
             ],
             [
              1,
              "#f0f921"
             ]
            ],
            "type": "heatmapgl"
           }
          ],
          "histogram": [
           {
            "marker": {
             "pattern": {
              "fillmode": "overlay",
              "size": 10,
              "solidity": 0.2
             }
            },
            "type": "histogram"
           }
          ],
          "histogram2d": [
           {
            "colorbar": {
             "outlinewidth": 0,
             "ticks": ""
            },
            "colorscale": [
             [
              0,
              "#0d0887"
             ],
             [
              0.1111111111111111,
              "#46039f"
             ],
             [
              0.2222222222222222,
              "#7201a8"
             ],
             [
              0.3333333333333333,
              "#9c179e"
             ],
             [
              0.4444444444444444,
              "#bd3786"
             ],
             [
              0.5555555555555556,
              "#d8576b"
             ],
             [
              0.6666666666666666,
              "#ed7953"
             ],
             [
              0.7777777777777778,
              "#fb9f3a"
             ],
             [
              0.8888888888888888,
              "#fdca26"
             ],
             [
              1,
              "#f0f921"
             ]
            ],
            "type": "histogram2d"
           }
          ],
          "histogram2dcontour": [
           {
            "colorbar": {
             "outlinewidth": 0,
             "ticks": ""
            },
            "colorscale": [
             [
              0,
              "#0d0887"
             ],
             [
              0.1111111111111111,
              "#46039f"
             ],
             [
              0.2222222222222222,
              "#7201a8"
             ],
             [
              0.3333333333333333,
              "#9c179e"
             ],
             [
              0.4444444444444444,
              "#bd3786"
             ],
             [
              0.5555555555555556,
              "#d8576b"
             ],
             [
              0.6666666666666666,
              "#ed7953"
             ],
             [
              0.7777777777777778,
              "#fb9f3a"
             ],
             [
              0.8888888888888888,
              "#fdca26"
             ],
             [
              1,
              "#f0f921"
             ]
            ],
            "type": "histogram2dcontour"
           }
          ],
          "mesh3d": [
           {
            "colorbar": {
             "outlinewidth": 0,
             "ticks": ""
            },
            "type": "mesh3d"
           }
          ],
          "parcoords": [
           {
            "line": {
             "colorbar": {
              "outlinewidth": 0,
              "ticks": ""
             }
            },
            "type": "parcoords"
           }
          ],
          "pie": [
           {
            "automargin": true,
            "type": "pie"
           }
          ],
          "scatter": [
           {
            "marker": {
             "colorbar": {
              "outlinewidth": 0,
              "ticks": ""
             }
            },
            "type": "scatter"
           }
          ],
          "scatter3d": [
           {
            "line": {
             "colorbar": {
              "outlinewidth": 0,
              "ticks": ""
             }
            },
            "marker": {
             "colorbar": {
              "outlinewidth": 0,
              "ticks": ""
             }
            },
            "type": "scatter3d"
           }
          ],
          "scattercarpet": [
           {
            "marker": {
             "colorbar": {
              "outlinewidth": 0,
              "ticks": ""
             }
            },
            "type": "scattercarpet"
           }
          ],
          "scattergeo": [
           {
            "marker": {
             "colorbar": {
              "outlinewidth": 0,
              "ticks": ""
             }
            },
            "type": "scattergeo"
           }
          ],
          "scattergl": [
           {
            "marker": {
             "colorbar": {
              "outlinewidth": 0,
              "ticks": ""
             }
            },
            "type": "scattergl"
           }
          ],
          "scattermapbox": [
           {
            "marker": {
             "colorbar": {
              "outlinewidth": 0,
              "ticks": ""
             }
            },
            "type": "scattermapbox"
           }
          ],
          "scatterpolar": [
           {
            "marker": {
             "colorbar": {
              "outlinewidth": 0,
              "ticks": ""
             }
            },
            "type": "scatterpolar"
           }
          ],
          "scatterpolargl": [
           {
            "marker": {
             "colorbar": {
              "outlinewidth": 0,
              "ticks": ""
             }
            },
            "type": "scatterpolargl"
           }
          ],
          "scatterternary": [
           {
            "marker": {
             "colorbar": {
              "outlinewidth": 0,
              "ticks": ""
             }
            },
            "type": "scatterternary"
           }
          ],
          "surface": [
           {
            "colorbar": {
             "outlinewidth": 0,
             "ticks": ""
            },
            "colorscale": [
             [
              0,
              "#0d0887"
             ],
             [
              0.1111111111111111,
              "#46039f"
             ],
             [
              0.2222222222222222,
              "#7201a8"
             ],
             [
              0.3333333333333333,
              "#9c179e"
             ],
             [
              0.4444444444444444,
              "#bd3786"
             ],
             [
              0.5555555555555556,
              "#d8576b"
             ],
             [
              0.6666666666666666,
              "#ed7953"
             ],
             [
              0.7777777777777778,
              "#fb9f3a"
             ],
             [
              0.8888888888888888,
              "#fdca26"
             ],
             [
              1,
              "#f0f921"
             ]
            ],
            "type": "surface"
           }
          ],
          "table": [
           {
            "cells": {
             "fill": {
              "color": "#EBF0F8"
             },
             "line": {
              "color": "white"
             }
            },
            "header": {
             "fill": {
              "color": "#C8D4E3"
             },
             "line": {
              "color": "white"
             }
            },
            "type": "table"
           }
          ]
         },
         "layout": {
          "annotationdefaults": {
           "arrowcolor": "#2a3f5f",
           "arrowhead": 0,
           "arrowwidth": 1
          },
          "autotypenumbers": "strict",
          "coloraxis": {
           "colorbar": {
            "outlinewidth": 0,
            "ticks": ""
           }
          },
          "colorscale": {
           "diverging": [
            [
             0,
             "#8e0152"
            ],
            [
             0.1,
             "#c51b7d"
            ],
            [
             0.2,
             "#de77ae"
            ],
            [
             0.3,
             "#f1b6da"
            ],
            [
             0.4,
             "#fde0ef"
            ],
            [
             0.5,
             "#f7f7f7"
            ],
            [
             0.6,
             "#e6f5d0"
            ],
            [
             0.7,
             "#b8e186"
            ],
            [
             0.8,
             "#7fbc41"
            ],
            [
             0.9,
             "#4d9221"
            ],
            [
             1,
             "#276419"
            ]
           ],
           "sequential": [
            [
             0,
             "#0d0887"
            ],
            [
             0.1111111111111111,
             "#46039f"
            ],
            [
             0.2222222222222222,
             "#7201a8"
            ],
            [
             0.3333333333333333,
             "#9c179e"
            ],
            [
             0.4444444444444444,
             "#bd3786"
            ],
            [
             0.5555555555555556,
             "#d8576b"
            ],
            [
             0.6666666666666666,
             "#ed7953"
            ],
            [
             0.7777777777777778,
             "#fb9f3a"
            ],
            [
             0.8888888888888888,
             "#fdca26"
            ],
            [
             1,
             "#f0f921"
            ]
           ],
           "sequentialminus": [
            [
             0,
             "#0d0887"
            ],
            [
             0.1111111111111111,
             "#46039f"
            ],
            [
             0.2222222222222222,
             "#7201a8"
            ],
            [
             0.3333333333333333,
             "#9c179e"
            ],
            [
             0.4444444444444444,
             "#bd3786"
            ],
            [
             0.5555555555555556,
             "#d8576b"
            ],
            [
             0.6666666666666666,
             "#ed7953"
            ],
            [
             0.7777777777777778,
             "#fb9f3a"
            ],
            [
             0.8888888888888888,
             "#fdca26"
            ],
            [
             1,
             "#f0f921"
            ]
           ]
          },
          "colorway": [
           "#636efa",
           "#EF553B",
           "#00cc96",
           "#ab63fa",
           "#FFA15A",
           "#19d3f3",
           "#FF6692",
           "#B6E880",
           "#FF97FF",
           "#FECB52"
          ],
          "font": {
           "color": "#2a3f5f"
          },
          "geo": {
           "bgcolor": "white",
           "lakecolor": "white",
           "landcolor": "#E5ECF6",
           "showlakes": true,
           "showland": true,
           "subunitcolor": "white"
          },
          "hoverlabel": {
           "align": "left"
          },
          "hovermode": "closest",
          "mapbox": {
           "style": "light"
          },
          "paper_bgcolor": "white",
          "plot_bgcolor": "#E5ECF6",
          "polar": {
           "angularaxis": {
            "gridcolor": "white",
            "linecolor": "white",
            "ticks": ""
           },
           "bgcolor": "#E5ECF6",
           "radialaxis": {
            "gridcolor": "white",
            "linecolor": "white",
            "ticks": ""
           }
          },
          "scene": {
           "xaxis": {
            "backgroundcolor": "#E5ECF6",
            "gridcolor": "white",
            "gridwidth": 2,
            "linecolor": "white",
            "showbackground": true,
            "ticks": "",
            "zerolinecolor": "white"
           },
           "yaxis": {
            "backgroundcolor": "#E5ECF6",
            "gridcolor": "white",
            "gridwidth": 2,
            "linecolor": "white",
            "showbackground": true,
            "ticks": "",
            "zerolinecolor": "white"
           },
           "zaxis": {
            "backgroundcolor": "#E5ECF6",
            "gridcolor": "white",
            "gridwidth": 2,
            "linecolor": "white",
            "showbackground": true,
            "ticks": "",
            "zerolinecolor": "white"
           }
          },
          "shapedefaults": {
           "line": {
            "color": "#2a3f5f"
           }
          },
          "ternary": {
           "aaxis": {
            "gridcolor": "white",
            "linecolor": "white",
            "ticks": ""
           },
           "baxis": {
            "gridcolor": "white",
            "linecolor": "white",
            "ticks": ""
           },
           "bgcolor": "#E5ECF6",
           "caxis": {
            "gridcolor": "white",
            "linecolor": "white",
            "ticks": ""
           }
          },
          "title": {
           "x": 0.05
          },
          "xaxis": {
           "automargin": true,
           "gridcolor": "white",
           "linecolor": "white",
           "ticks": "",
           "title": {
            "standoff": 15
           },
           "zerolinecolor": "white",
           "zerolinewidth": 2
          },
          "yaxis": {
           "automargin": true,
           "gridcolor": "white",
           "linecolor": "white",
           "ticks": "",
           "title": {
            "standoff": 15
           },
           "zerolinecolor": "white",
           "zerolinewidth": 2
          }
         }
        },
        "width": 800
       }
      }
     },
     "metadata": {},
     "output_type": "display_data"
    }
   ],
   "source": [
    "nearby_attraction_count = df_rating['nearby_attraction'].value_counts(dropna=False)\n",
    "nearby_attraction_fig = px.pie(nearby_attraction_count, names=nearby_attraction_count.index, values='nearby_attraction', width=800, height=400)\n",
    "nearby_attraction_fig.show()"
   ]
  },
  {
   "cell_type": "markdown",
   "metadata": {},
   "source": [
    "#### 1.2 Proportion of Nearby Attraction [Excluding Null]"
   ]
  },
  {
   "cell_type": "code",
   "execution_count": 8,
   "metadata": {},
   "outputs": [
    {
     "data": {
      "application/vnd.plotly.v1+json": {
       "config": {
        "plotlyServerURL": "https://plot.ly"
       },
       "data": [
        {
         "domain": {
          "x": [
           0,
           1
          ],
          "y": [
           0,
           1
          ]
         },
         "hovertemplate": "index=%{label}<br>nearby_attraction=%{value}<extra></extra>",
         "labels": [
          "Chinatown",
          "Little India",
          "Singapore Botanic Gardens",
          "East Coast Park",
          "Orchard Road",
          "City Hall Building",
          "Marina Bay",
          "Merlion Park",
          "Singapore Cable Car",
          "Singapore Zoo",
          "Arab Street",
          "Singapore Flyer",
          "Boat Quay",
          "National Orchid Garden",
          "National Museum of Singapore",
          "Asian Civilisations Museum",
          "Night Safari"
         ],
         "legendgroup": "",
         "name": "",
         "showlegend": true,
         "type": "pie",
         "values": [
          957,
          857,
          847,
          570,
          558,
          335,
          318,
          282,
          232,
          226,
          179,
          128,
          128,
          53,
          49,
          20,
          1
         ]
        }
       ],
       "layout": {
        "height": 400,
        "legend": {
         "tracegroupgap": 0
        },
        "margin": {
         "t": 60
        },
        "template": {
         "data": {
          "bar": [
           {
            "error_x": {
             "color": "#2a3f5f"
            },
            "error_y": {
             "color": "#2a3f5f"
            },
            "marker": {
             "line": {
              "color": "#E5ECF6",
              "width": 0.5
             },
             "pattern": {
              "fillmode": "overlay",
              "size": 10,
              "solidity": 0.2
             }
            },
            "type": "bar"
           }
          ],
          "barpolar": [
           {
            "marker": {
             "line": {
              "color": "#E5ECF6",
              "width": 0.5
             },
             "pattern": {
              "fillmode": "overlay",
              "size": 10,
              "solidity": 0.2
             }
            },
            "type": "barpolar"
           }
          ],
          "carpet": [
           {
            "aaxis": {
             "endlinecolor": "#2a3f5f",
             "gridcolor": "white",
             "linecolor": "white",
             "minorgridcolor": "white",
             "startlinecolor": "#2a3f5f"
            },
            "baxis": {
             "endlinecolor": "#2a3f5f",
             "gridcolor": "white",
             "linecolor": "white",
             "minorgridcolor": "white",
             "startlinecolor": "#2a3f5f"
            },
            "type": "carpet"
           }
          ],
          "choropleth": [
           {
            "colorbar": {
             "outlinewidth": 0,
             "ticks": ""
            },
            "type": "choropleth"
           }
          ],
          "contour": [
           {
            "colorbar": {
             "outlinewidth": 0,
             "ticks": ""
            },
            "colorscale": [
             [
              0,
              "#0d0887"
             ],
             [
              0.1111111111111111,
              "#46039f"
             ],
             [
              0.2222222222222222,
              "#7201a8"
             ],
             [
              0.3333333333333333,
              "#9c179e"
             ],
             [
              0.4444444444444444,
              "#bd3786"
             ],
             [
              0.5555555555555556,
              "#d8576b"
             ],
             [
              0.6666666666666666,
              "#ed7953"
             ],
             [
              0.7777777777777778,
              "#fb9f3a"
             ],
             [
              0.8888888888888888,
              "#fdca26"
             ],
             [
              1,
              "#f0f921"
             ]
            ],
            "type": "contour"
           }
          ],
          "contourcarpet": [
           {
            "colorbar": {
             "outlinewidth": 0,
             "ticks": ""
            },
            "type": "contourcarpet"
           }
          ],
          "heatmap": [
           {
            "colorbar": {
             "outlinewidth": 0,
             "ticks": ""
            },
            "colorscale": [
             [
              0,
              "#0d0887"
             ],
             [
              0.1111111111111111,
              "#46039f"
             ],
             [
              0.2222222222222222,
              "#7201a8"
             ],
             [
              0.3333333333333333,
              "#9c179e"
             ],
             [
              0.4444444444444444,
              "#bd3786"
             ],
             [
              0.5555555555555556,
              "#d8576b"
             ],
             [
              0.6666666666666666,
              "#ed7953"
             ],
             [
              0.7777777777777778,
              "#fb9f3a"
             ],
             [
              0.8888888888888888,
              "#fdca26"
             ],
             [
              1,
              "#f0f921"
             ]
            ],
            "type": "heatmap"
           }
          ],
          "heatmapgl": [
           {
            "colorbar": {
             "outlinewidth": 0,
             "ticks": ""
            },
            "colorscale": [
             [
              0,
              "#0d0887"
             ],
             [
              0.1111111111111111,
              "#46039f"
             ],
             [
              0.2222222222222222,
              "#7201a8"
             ],
             [
              0.3333333333333333,
              "#9c179e"
             ],
             [
              0.4444444444444444,
              "#bd3786"
             ],
             [
              0.5555555555555556,
              "#d8576b"
             ],
             [
              0.6666666666666666,
              "#ed7953"
             ],
             [
              0.7777777777777778,
              "#fb9f3a"
             ],
             [
              0.8888888888888888,
              "#fdca26"
             ],
             [
              1,
              "#f0f921"
             ]
            ],
            "type": "heatmapgl"
           }
          ],
          "histogram": [
           {
            "marker": {
             "pattern": {
              "fillmode": "overlay",
              "size": 10,
              "solidity": 0.2
             }
            },
            "type": "histogram"
           }
          ],
          "histogram2d": [
           {
            "colorbar": {
             "outlinewidth": 0,
             "ticks": ""
            },
            "colorscale": [
             [
              0,
              "#0d0887"
             ],
             [
              0.1111111111111111,
              "#46039f"
             ],
             [
              0.2222222222222222,
              "#7201a8"
             ],
             [
              0.3333333333333333,
              "#9c179e"
             ],
             [
              0.4444444444444444,
              "#bd3786"
             ],
             [
              0.5555555555555556,
              "#d8576b"
             ],
             [
              0.6666666666666666,
              "#ed7953"
             ],
             [
              0.7777777777777778,
              "#fb9f3a"
             ],
             [
              0.8888888888888888,
              "#fdca26"
             ],
             [
              1,
              "#f0f921"
             ]
            ],
            "type": "histogram2d"
           }
          ],
          "histogram2dcontour": [
           {
            "colorbar": {
             "outlinewidth": 0,
             "ticks": ""
            },
            "colorscale": [
             [
              0,
              "#0d0887"
             ],
             [
              0.1111111111111111,
              "#46039f"
             ],
             [
              0.2222222222222222,
              "#7201a8"
             ],
             [
              0.3333333333333333,
              "#9c179e"
             ],
             [
              0.4444444444444444,
              "#bd3786"
             ],
             [
              0.5555555555555556,
              "#d8576b"
             ],
             [
              0.6666666666666666,
              "#ed7953"
             ],
             [
              0.7777777777777778,
              "#fb9f3a"
             ],
             [
              0.8888888888888888,
              "#fdca26"
             ],
             [
              1,
              "#f0f921"
             ]
            ],
            "type": "histogram2dcontour"
           }
          ],
          "mesh3d": [
           {
            "colorbar": {
             "outlinewidth": 0,
             "ticks": ""
            },
            "type": "mesh3d"
           }
          ],
          "parcoords": [
           {
            "line": {
             "colorbar": {
              "outlinewidth": 0,
              "ticks": ""
             }
            },
            "type": "parcoords"
           }
          ],
          "pie": [
           {
            "automargin": true,
            "type": "pie"
           }
          ],
          "scatter": [
           {
            "marker": {
             "colorbar": {
              "outlinewidth": 0,
              "ticks": ""
             }
            },
            "type": "scatter"
           }
          ],
          "scatter3d": [
           {
            "line": {
             "colorbar": {
              "outlinewidth": 0,
              "ticks": ""
             }
            },
            "marker": {
             "colorbar": {
              "outlinewidth": 0,
              "ticks": ""
             }
            },
            "type": "scatter3d"
           }
          ],
          "scattercarpet": [
           {
            "marker": {
             "colorbar": {
              "outlinewidth": 0,
              "ticks": ""
             }
            },
            "type": "scattercarpet"
           }
          ],
          "scattergeo": [
           {
            "marker": {
             "colorbar": {
              "outlinewidth": 0,
              "ticks": ""
             }
            },
            "type": "scattergeo"
           }
          ],
          "scattergl": [
           {
            "marker": {
             "colorbar": {
              "outlinewidth": 0,
              "ticks": ""
             }
            },
            "type": "scattergl"
           }
          ],
          "scattermapbox": [
           {
            "marker": {
             "colorbar": {
              "outlinewidth": 0,
              "ticks": ""
             }
            },
            "type": "scattermapbox"
           }
          ],
          "scatterpolar": [
           {
            "marker": {
             "colorbar": {
              "outlinewidth": 0,
              "ticks": ""
             }
            },
            "type": "scatterpolar"
           }
          ],
          "scatterpolargl": [
           {
            "marker": {
             "colorbar": {
              "outlinewidth": 0,
              "ticks": ""
             }
            },
            "type": "scatterpolargl"
           }
          ],
          "scatterternary": [
           {
            "marker": {
             "colorbar": {
              "outlinewidth": 0,
              "ticks": ""
             }
            },
            "type": "scatterternary"
           }
          ],
          "surface": [
           {
            "colorbar": {
             "outlinewidth": 0,
             "ticks": ""
            },
            "colorscale": [
             [
              0,
              "#0d0887"
             ],
             [
              0.1111111111111111,
              "#46039f"
             ],
             [
              0.2222222222222222,
              "#7201a8"
             ],
             [
              0.3333333333333333,
              "#9c179e"
             ],
             [
              0.4444444444444444,
              "#bd3786"
             ],
             [
              0.5555555555555556,
              "#d8576b"
             ],
             [
              0.6666666666666666,
              "#ed7953"
             ],
             [
              0.7777777777777778,
              "#fb9f3a"
             ],
             [
              0.8888888888888888,
              "#fdca26"
             ],
             [
              1,
              "#f0f921"
             ]
            ],
            "type": "surface"
           }
          ],
          "table": [
           {
            "cells": {
             "fill": {
              "color": "#EBF0F8"
             },
             "line": {
              "color": "white"
             }
            },
            "header": {
             "fill": {
              "color": "#C8D4E3"
             },
             "line": {
              "color": "white"
             }
            },
            "type": "table"
           }
          ]
         },
         "layout": {
          "annotationdefaults": {
           "arrowcolor": "#2a3f5f",
           "arrowhead": 0,
           "arrowwidth": 1
          },
          "autotypenumbers": "strict",
          "coloraxis": {
           "colorbar": {
            "outlinewidth": 0,
            "ticks": ""
           }
          },
          "colorscale": {
           "diverging": [
            [
             0,
             "#8e0152"
            ],
            [
             0.1,
             "#c51b7d"
            ],
            [
             0.2,
             "#de77ae"
            ],
            [
             0.3,
             "#f1b6da"
            ],
            [
             0.4,
             "#fde0ef"
            ],
            [
             0.5,
             "#f7f7f7"
            ],
            [
             0.6,
             "#e6f5d0"
            ],
            [
             0.7,
             "#b8e186"
            ],
            [
             0.8,
             "#7fbc41"
            ],
            [
             0.9,
             "#4d9221"
            ],
            [
             1,
             "#276419"
            ]
           ],
           "sequential": [
            [
             0,
             "#0d0887"
            ],
            [
             0.1111111111111111,
             "#46039f"
            ],
            [
             0.2222222222222222,
             "#7201a8"
            ],
            [
             0.3333333333333333,
             "#9c179e"
            ],
            [
             0.4444444444444444,
             "#bd3786"
            ],
            [
             0.5555555555555556,
             "#d8576b"
            ],
            [
             0.6666666666666666,
             "#ed7953"
            ],
            [
             0.7777777777777778,
             "#fb9f3a"
            ],
            [
             0.8888888888888888,
             "#fdca26"
            ],
            [
             1,
             "#f0f921"
            ]
           ],
           "sequentialminus": [
            [
             0,
             "#0d0887"
            ],
            [
             0.1111111111111111,
             "#46039f"
            ],
            [
             0.2222222222222222,
             "#7201a8"
            ],
            [
             0.3333333333333333,
             "#9c179e"
            ],
            [
             0.4444444444444444,
             "#bd3786"
            ],
            [
             0.5555555555555556,
             "#d8576b"
            ],
            [
             0.6666666666666666,
             "#ed7953"
            ],
            [
             0.7777777777777778,
             "#fb9f3a"
            ],
            [
             0.8888888888888888,
             "#fdca26"
            ],
            [
             1,
             "#f0f921"
            ]
           ]
          },
          "colorway": [
           "#636efa",
           "#EF553B",
           "#00cc96",
           "#ab63fa",
           "#FFA15A",
           "#19d3f3",
           "#FF6692",
           "#B6E880",
           "#FF97FF",
           "#FECB52"
          ],
          "font": {
           "color": "#2a3f5f"
          },
          "geo": {
           "bgcolor": "white",
           "lakecolor": "white",
           "landcolor": "#E5ECF6",
           "showlakes": true,
           "showland": true,
           "subunitcolor": "white"
          },
          "hoverlabel": {
           "align": "left"
          },
          "hovermode": "closest",
          "mapbox": {
           "style": "light"
          },
          "paper_bgcolor": "white",
          "plot_bgcolor": "#E5ECF6",
          "polar": {
           "angularaxis": {
            "gridcolor": "white",
            "linecolor": "white",
            "ticks": ""
           },
           "bgcolor": "#E5ECF6",
           "radialaxis": {
            "gridcolor": "white",
            "linecolor": "white",
            "ticks": ""
           }
          },
          "scene": {
           "xaxis": {
            "backgroundcolor": "#E5ECF6",
            "gridcolor": "white",
            "gridwidth": 2,
            "linecolor": "white",
            "showbackground": true,
            "ticks": "",
            "zerolinecolor": "white"
           },
           "yaxis": {
            "backgroundcolor": "#E5ECF6",
            "gridcolor": "white",
            "gridwidth": 2,
            "linecolor": "white",
            "showbackground": true,
            "ticks": "",
            "zerolinecolor": "white"
           },
           "zaxis": {
            "backgroundcolor": "#E5ECF6",
            "gridcolor": "white",
            "gridwidth": 2,
            "linecolor": "white",
            "showbackground": true,
            "ticks": "",
            "zerolinecolor": "white"
           }
          },
          "shapedefaults": {
           "line": {
            "color": "#2a3f5f"
           }
          },
          "ternary": {
           "aaxis": {
            "gridcolor": "white",
            "linecolor": "white",
            "ticks": ""
           },
           "baxis": {
            "gridcolor": "white",
            "linecolor": "white",
            "ticks": ""
           },
           "bgcolor": "#E5ECF6",
           "caxis": {
            "gridcolor": "white",
            "linecolor": "white",
            "ticks": ""
           }
          },
          "title": {
           "x": 0.05
          },
          "xaxis": {
           "automargin": true,
           "gridcolor": "white",
           "linecolor": "white",
           "ticks": "",
           "title": {
            "standoff": 15
           },
           "zerolinecolor": "white",
           "zerolinewidth": 2
          },
          "yaxis": {
           "automargin": true,
           "gridcolor": "white",
           "linecolor": "white",
           "ticks": "",
           "title": {
            "standoff": 15
           },
           "zerolinecolor": "white",
           "zerolinewidth": 2
          }
         }
        },
        "width": 800
       }
      }
     },
     "metadata": {},
     "output_type": "display_data"
    }
   ],
   "source": [
    "nearby_attraction_count = df_rating['nearby_attraction'].value_counts()\n",
    "nearby_attraction_fig = px.pie(nearby_attraction_count, names=nearby_attraction_count.index, values='nearby_attraction', width=800, height=400)\n",
    "nearby_attraction_fig.show()"
   ]
  },
  {
   "cell_type": "markdown",
   "metadata": {},
   "source": [
    "#### 1.3 Mean Overall Rating across Nearby Attractions"
   ]
  },
  {
   "cell_type": "code",
   "execution_count": 9,
   "metadata": {},
   "outputs": [],
   "source": [
    "sub_df = df_rating[['nearby_attraction', 'overall_rating']].copy()"
   ]
  },
  {
   "cell_type": "code",
   "execution_count": 10,
   "metadata": {},
   "outputs": [
    {
     "data": {
      "image/png": "[encoded data removed]",
      "text/plain": [
       "<Figure size 504x360 with 2 Axes>"
      ]
     },
     "metadata": {
      "needs_background": "light"
     },
     "output_type": "display_data"
    }
   ],
   "source": [
    "fig, ax = plt.subplots(figsize=(7,5))\n",
    "df_heatmap = sub_df.pivot_table(values='overall_rating',columns='nearby_attraction', aggfunc=np.mean)\n",
    "ax = sns.heatmap(df_heatmap.transpose())"
   ]
  },
  {
   "cell_type": "markdown",
   "metadata": {},
   "source": [
    "#### 1.4 Median Overall Rating across Nearby Attractions"
   ]
  },
  {
   "cell_type": "code",
   "execution_count": 11,
   "metadata": {},
   "outputs": [
    {
     "data": {
      "image/png": "[encoded data removed]",
      "text/plain": [
       "<Figure size 504x360 with 2 Axes>"
      ]
     },
     "metadata": {
      "needs_background": "light"
     },
     "output_type": "display_data"
    }
   ],
   "source": [
    "fig, ax = plt.subplots(figsize=(7,5))\n",
    "df_heatmap = sub_df.pivot_table(values='overall_rating',columns='nearby_attraction',aggfunc=np.median)\n",
    "ax = sns.heatmap(df_heatmap.transpose())"
   ]
  },
  {
   "cell_type": "markdown",
   "metadata": {},
   "source": [
    "#### 1.5 Percentage of restaurants with particular rating out of restaurants with that nearby attraction\n",
    "- row-wise"
   ]
  },
  {
   "cell_type": "code",
   "execution_count": 12,
   "metadata": {},
   "outputs": [
    {
     "data": {
      "image/png": "[encoded data removed]",
      "text/plain": [
       "<Figure size 720x576 with 2 Axes>"
      ]
     },
     "metadata": {
      "needs_background": "light"
     },
     "output_type": "display_data"
    }
   ],
   "source": [
    "fig, ax = plt.subplots(figsize=(10,8))\n",
    "rating_nearby_count = df_rating.groupby(['overall_rating', 'nearby_attraction'])['url'].count()\n",
    "nearby_count = df_rating.groupby(['nearby_attraction'])['url'].count()\n",
    "df_heatmap = (rating_nearby_count.div(nearby_count, level='nearby_attraction') * 100).unstack(fill_value=0)\n",
    "ax = sns.heatmap(df_heatmap.transpose())"
   ]
  },
  {
   "cell_type": "markdown",
   "metadata": {},
   "source": [
    "#### 1.6 Percentage of restaurants with particular nearby attraction out of restaurants with that rating\n",
    "- column-wise"
   ]
  },
  {
   "cell_type": "code",
   "execution_count": 13,
   "metadata": {},
   "outputs": [
    {
     "data": {
      "image/png": "[encoded data removed]",
      "text/plain": [
       "<Figure size 720x576 with 2 Axes>"
      ]
     },
     "metadata": {
      "needs_background": "light"
     },
     "output_type": "display_data"
    }
   ],
   "source": [
    "fig, ax = plt.subplots(figsize=(10,8))\n",
    "rating_nearby_count = df_rating.groupby(['overall_rating', 'nearby_attraction'])['url'].count()\n",
    "nearby_count = df_rating.groupby(['overall_rating'])['url'].count()\n",
    "df_heatmap = (rating_nearby_count.div(nearby_count, level='overall_rating') * 100).unstack(fill_value=0)\n",
    "ax = sns.heatmap(df_heatmap.transpose())"
   ]
  },
  {
   "cell_type": "markdown",
   "metadata": {},
   "source": [
    "#### 1.7 Number of restaurants by nearby attraction and by rating"
   ]
  },
  {
   "cell_type": "code",
   "execution_count": 14,
   "metadata": {},
   "outputs": [
    {
     "data": {
      "image/png": "[encoded data removed]",
      "text/plain": [
       "<Figure size 720x576 with 2 Axes>"
      ]
     },
     "metadata": {
      "needs_background": "light"
     },
     "output_type": "display_data"
    }
   ],
   "source": [
    "fig, ax = plt.subplots(figsize=(10,8))\n",
    "df_heatmap = df_rating.groupby(['overall_rating', 'nearby_attraction'])['url'].count().unstack(fill_value=0)\n",
    "ax = sns.heatmap(df_heatmap.transpose())"
   ]
  },
  {
   "cell_type": "markdown",
   "metadata": {},
   "source": [
    "### 2. Exploratory Data Analysis - Nearby Attraction [Grouped]\n",
    "\n",
    "Looking at the various nearby attraction that exist in the dataset after grouping"
   ]
  },
  {
   "cell_type": "markdown",
   "metadata": {},
   "source": [
    "#### 2.1 Count of restaurants by nearby attraction "
   ]
  },
  {
   "cell_type": "code",
   "execution_count": 15,
   "metadata": {},
   "outputs": [
    {
     "data": {
      "text/plain": [
       "nearby_attraction\n",
       "Arab Street                     179\n",
       "Asian Civilisations Museum       20\n",
       "Boat Quay                       128\n",
       "Chinatown                       957\n",
       "City Hall Building              335\n",
       "East Coast Park                 570\n",
       "Little India                    857\n",
       "Marina Bay                      318\n",
       "Merlion Park                    282\n",
       "National Museum of Singapore     49\n",
       "National Orchid Garden           53\n",
       "Night Safari                      1\n",
       "Orchard Road                    558\n",
       "Singapore Botanic Gardens       847\n",
       "Singapore Cable Car             232\n",
       "Singapore Flyer                 128\n",
       "Singapore Zoo                   226\n",
       "Name: url, dtype: int64"
      ]
     },
     "execution_count": 15,
     "metadata": {},
     "output_type": "execute_result"
    }
   ],
   "source": [
    "df_rating.groupby(['nearby_attraction'])['url'].count()"
   ]
  },
  {
   "cell_type": "markdown",
   "metadata": {},
   "source": [
    "Grouping\n",
    "- 'Asian Civilisations Museum', 'National Museum of Singapore', 'City Hall Building' to 'Museum'\n",
    "- 'National Orchid Garden', 'Singapore Botanic Gardens' to 'Garden'\n",
    "- 'Singapore Cable Car', 'Singapore Flyer' to 'Observation'\n",
    "- 'Night Safari', 'Singapore Zoo' to 'Wildlife'"
   ]
  },
  {
   "cell_type": "code",
   "execution_count": 16,
   "metadata": {},
   "outputs": [],
   "source": [
    "bucket_df = df_rating.copy()\n",
    "bucket_df[\"grouped_nearby_attraction\"] = bucket_df['nearby_attraction'].replace(to_replace =['Asian Civilisations Museum', 'National Museum of Singapore', 'City Hall Building'], value =\"Museum\")\n",
    "bucket_df[\"grouped_nearby_attraction\"] = bucket_df['grouped_nearby_attraction'].replace(to_replace =['National Orchid Garden', 'Singapore Botanic Gardens'], value =\"Garden\")\n",
    "bucket_df[\"grouped_nearby_attraction\"] = bucket_df['grouped_nearby_attraction'].replace(to_replace =['Singapore Cable Car', 'Singapore Flyer'], value =\"Observation\")\n",
    "bucket_df[\"grouped_nearby_attraction\"] = bucket_df['grouped_nearby_attraction'].replace(to_replace =['Night Safari', 'Singapore Zoo'], value =\"Wildlife\")"
   ]
  },
  {
   "cell_type": "markdown",
   "metadata": {},
   "source": [
    "#### 2.2 Count of restaurants by nearby attraction after grouping"
   ]
  },
  {
   "cell_type": "code",
   "execution_count": 17,
   "metadata": {},
   "outputs": [
    {
     "data": {
      "text/plain": [
       "grouped_nearby_attraction\n",
       "Arab Street        179\n",
       "Boat Quay          128\n",
       "Chinatown          957\n",
       "East Coast Park    570\n",
       "Garden             900\n",
       "Little India       857\n",
       "Marina Bay         318\n",
       "Merlion Park       282\n",
       "Museum             404\n",
       "Observation        360\n",
       "Orchard Road       558\n",
       "Wildlife           227\n",
       "Name: url, dtype: int64"
      ]
     },
     "execution_count": 17,
     "metadata": {},
     "output_type": "execute_result"
    }
   ],
   "source": [
    "bucket_df.groupby(['grouped_nearby_attraction'])['url'].count()"
   ]
  },
  {
   "cell_type": "markdown",
   "metadata": {},
   "source": [
    "#### 2.3 Proportion of Grouped Nearby Attraction "
   ]
  },
  {
   "cell_type": "code",
   "execution_count": 18,
   "metadata": {},
   "outputs": [
    {
     "data": {
      "application/vnd.plotly.v1+json": {
       "config": {
        "plotlyServerURL": "https://plot.ly"
       },
       "data": [
        {
         "domain": {
          "x": [
           0,
           1
          ],
          "y": [
           0,
           1
          ]
         },
         "hovertemplate": "index=%{label}<br>grouped_nearby_attraction=%{value}<extra></extra>",
         "labels": [
          null,
          "Chinatown",
          "Garden",
          "Little India",
          "East Coast Park",
          "Orchard Road",
          "Museum",
          "Observation",
          "Marina Bay",
          "Merlion Park",
          "Wildlife",
          "Arab Street",
          "Boat Quay"
         ],
         "legendgroup": "",
         "name": "",
         "showlegend": true,
         "type": "pie",
         "values": [
          1452,
          957,
          900,
          857,
          570,
          558,
          404,
          360,
          318,
          282,
          227,
          179,
          128
         ]
        }
       ],
       "layout": {
        "height": 400,
        "legend": {
         "tracegroupgap": 0
        },
        "margin": {
         "t": 60
        },
        "template": {
         "data": {
          "bar": [
           {
            "error_x": {
             "color": "#2a3f5f"
            },
            "error_y": {
             "color": "#2a3f5f"
            },
            "marker": {
             "line": {
              "color": "#E5ECF6",
              "width": 0.5
             },
             "pattern": {
              "fillmode": "overlay",
              "size": 10,
              "solidity": 0.2
             }
            },
            "type": "bar"
           }
          ],
          "barpolar": [
           {
            "marker": {
             "line": {
              "color": "#E5ECF6",
              "width": 0.5
             },
             "pattern": {
              "fillmode": "overlay",
              "size": 10,
              "solidity": 0.2
             }
            },
            "type": "barpolar"
           }
          ],
          "carpet": [
           {
            "aaxis": {
             "endlinecolor": "#2a3f5f",
             "gridcolor": "white",
             "linecolor": "white",
             "minorgridcolor": "white",
             "startlinecolor": "#2a3f5f"
            },
            "baxis": {
             "endlinecolor": "#2a3f5f",
             "gridcolor": "white",
             "linecolor": "white",
             "minorgridcolor": "white",
             "startlinecolor": "#2a3f5f"
            },
            "type": "carpet"
           }
          ],
          "choropleth": [
           {
            "colorbar": {
             "outlinewidth": 0,
             "ticks": ""
            },
            "type": "choropleth"
           }
          ],
          "contour": [
           {
            "colorbar": {
             "outlinewidth": 0,
             "ticks": ""
            },
            "colorscale": [
             [
              0,
              "#0d0887"
             ],
             [
              0.1111111111111111,
              "#46039f"
             ],
             [
              0.2222222222222222,
              "#7201a8"
             ],
             [
              0.3333333333333333,
              "#9c179e"
             ],
             [
              0.4444444444444444,
              "#bd3786"
             ],
             [
              0.5555555555555556,
              "#d8576b"
             ],
             [
              0.6666666666666666,
              "#ed7953"
             ],
             [
              0.7777777777777778,
              "#fb9f3a"
             ],
             [
              0.8888888888888888,
              "#fdca26"
             ],
             [
              1,
              "#f0f921"
             ]
            ],
            "type": "contour"
           }
          ],
          "contourcarpet": [
           {
            "colorbar": {
             "outlinewidth": 0,
             "ticks": ""
            },
            "type": "contourcarpet"
           }
          ],
          "heatmap": [
           {
            "colorbar": {
             "outlinewidth": 0,
             "ticks": ""
            },
            "colorscale": [
             [
              0,
              "#0d0887"
             ],
             [
              0.1111111111111111,
              "#46039f"
             ],
             [
              0.2222222222222222,
              "#7201a8"
             ],
             [
              0.3333333333333333,
              "#9c179e"
             ],
             [
              0.4444444444444444,
              "#bd3786"
             ],
             [
              0.5555555555555556,
              "#d8576b"
             ],
             [
              0.6666666666666666,
              "#ed7953"
             ],
             [
              0.7777777777777778,
              "#fb9f3a"
             ],
             [
              0.8888888888888888,
              "#fdca26"
             ],
             [
              1,
              "#f0f921"
             ]
            ],
            "type": "heatmap"
           }
          ],
          "heatmapgl": [
           {
            "colorbar": {
             "outlinewidth": 0,
             "ticks": ""
            },
            "colorscale": [
             [
              0,
              "#0d0887"
             ],
             [
              0.1111111111111111,
              "#46039f"
             ],
             [
              0.2222222222222222,
              "#7201a8"
             ],
             [
              0.3333333333333333,
              "#9c179e"
             ],
             [
              0.4444444444444444,
              "#bd3786"
             ],
             [
              0.5555555555555556,
              "#d8576b"
             ],
             [
              0.6666666666666666,
              "#ed7953"
             ],
             [
              0.7777777777777778,
              "#fb9f3a"
             ],
             [
              0.8888888888888888,
              "#fdca26"
             ],
             [
              1,
              "#f0f921"
             ]
            ],
            "type": "heatmapgl"
           }
          ],
          "histogram": [
           {
            "marker": {
             "pattern": {
              "fillmode": "overlay",
              "size": 10,
              "solidity": 0.2
             }
            },
            "type": "histogram"
           }
          ],
          "histogram2d": [
           {
            "colorbar": {
             "outlinewidth": 0,
             "ticks": ""
            },
            "colorscale": [
             [
              0,
              "#0d0887"
             ],
             [
              0.1111111111111111,
              "#46039f"
             ],
             [
              0.2222222222222222,
              "#7201a8"
             ],
             [
              0.3333333333333333,
              "#9c179e"
             ],
             [
              0.4444444444444444,
              "#bd3786"
             ],
             [
              0.5555555555555556,
              "#d8576b"
             ],
             [
              0.6666666666666666,
              "#ed7953"
             ],
             [
              0.7777777777777778,
              "#fb9f3a"
             ],
             [
              0.8888888888888888,
              "#fdca26"
             ],
             [
              1,
              "#f0f921"
             ]
            ],
            "type": "histogram2d"
           }
          ],
          "histogram2dcontour": [
           {
            "colorbar": {
             "outlinewidth": 0,
             "ticks": ""
            },
            "colorscale": [
             [
              0,
              "#0d0887"
             ],
             [
              0.1111111111111111,
              "#46039f"
             ],
             [
              0.2222222222222222,
              "#7201a8"
             ],
             [
              0.3333333333333333,
              "#9c179e"
             ],
             [
              0.4444444444444444,
              "#bd3786"
             ],
             [
              0.5555555555555556,
              "#d8576b"
             ],
             [
              0.6666666666666666,
              "#ed7953"
             ],
             [
              0.7777777777777778,
              "#fb9f3a"
             ],
             [
              0.8888888888888888,
              "#fdca26"
             ],
             [
              1,
              "#f0f921"
             ]
            ],
            "type": "histogram2dcontour"
           }
          ],
          "mesh3d": [
           {
            "colorbar": {
             "outlinewidth": 0,
             "ticks": ""
            },
            "type": "mesh3d"
           }
          ],
          "parcoords": [
           {
            "line": {
             "colorbar": {
              "outlinewidth": 0,
              "ticks": ""
             }
            },
            "type": "parcoords"
           }
          ],
          "pie": [
           {
            "automargin": true,
            "type": "pie"
           }
          ],
          "scatter": [
           {
            "marker": {
             "colorbar": {
              "outlinewidth": 0,
              "ticks": ""
             }
            },
            "type": "scatter"
           }
          ],
          "scatter3d": [
           {
            "line": {
             "colorbar": {
              "outlinewidth": 0,
              "ticks": ""
             }
            },
            "marker": {
             "colorbar": {
              "outlinewidth": 0,
              "ticks": ""
             }
            },
            "type": "scatter3d"
           }
          ],
          "scattercarpet": [
           {
            "marker": {
             "colorbar": {
              "outlinewidth": 0,
              "ticks": ""
             }
            },
            "type": "scattercarpet"
           }
          ],
          "scattergeo": [
           {
            "marker": {
             "colorbar": {
              "outlinewidth": 0,
              "ticks": ""
             }
            },
            "type": "scattergeo"
           }
          ],
          "scattergl": [
           {
            "marker": {
             "colorbar": {
              "outlinewidth": 0,
              "ticks": ""
             }
            },
            "type": "scattergl"
           }
          ],
          "scattermapbox": [
           {
            "marker": {
             "colorbar": {
              "outlinewidth": 0,
              "ticks": ""
             }
            },
            "type": "scattermapbox"
           }
          ],
          "scatterpolar": [
           {
            "marker": {
             "colorbar": {
              "outlinewidth": 0,
              "ticks": ""
             }
            },
            "type": "scatterpolar"
           }
          ],
          "scatterpolargl": [
           {
            "marker": {
             "colorbar": {
              "outlinewidth": 0,
              "ticks": ""
             }
            },
            "type": "scatterpolargl"
           }
          ],
          "scatterternary": [
           {
            "marker": {
             "colorbar": {
              "outlinewidth": 0,
              "ticks": ""
             }
            },
            "type": "scatterternary"
           }
          ],
          "surface": [
           {
            "colorbar": {
             "outlinewidth": 0,
             "ticks": ""
            },
            "colorscale": [
             [
              0,
              "#0d0887"
             ],
             [
              0.1111111111111111,
              "#46039f"
             ],
             [
              0.2222222222222222,
              "#7201a8"
             ],
             [
              0.3333333333333333,
              "#9c179e"
             ],
             [
              0.4444444444444444,
              "#bd3786"
             ],
             [
              0.5555555555555556,
              "#d8576b"
             ],
             [
              0.6666666666666666,
              "#ed7953"
             ],
             [
              0.7777777777777778,
              "#fb9f3a"
             ],
             [
              0.8888888888888888,
              "#fdca26"
             ],
             [
              1,
              "#f0f921"
             ]
            ],
            "type": "surface"
           }
          ],
          "table": [
           {
            "cells": {
             "fill": {
              "color": "#EBF0F8"
             },
             "line": {
              "color": "white"
             }
            },
            "header": {
             "fill": {
              "color": "#C8D4E3"
             },
             "line": {
              "color": "white"
             }
            },
            "type": "table"
           }
          ]
         },
         "layout": {
          "annotationdefaults": {
           "arrowcolor": "#2a3f5f",
           "arrowhead": 0,
           "arrowwidth": 1
          },
          "autotypenumbers": "strict",
          "coloraxis": {
           "colorbar": {
            "outlinewidth": 0,
            "ticks": ""
           }
          },
          "colorscale": {
           "diverging": [
            [
             0,
             "#8e0152"
            ],
            [
             0.1,
             "#c51b7d"
            ],
            [
             0.2,
             "#de77ae"
            ],
            [
             0.3,
             "#f1b6da"
            ],
            [
             0.4,
             "#fde0ef"
            ],
            [
             0.5,
             "#f7f7f7"
            ],
            [
             0.6,
             "#e6f5d0"
            ],
            [
             0.7,
             "#b8e186"
            ],
            [
             0.8,
             "#7fbc41"
            ],
            [
             0.9,
             "#4d9221"
            ],
            [
             1,
             "#276419"
            ]
           ],
           "sequential": [
            [
             0,
             "#0d0887"
            ],
            [
             0.1111111111111111,
             "#46039f"
            ],
            [
             0.2222222222222222,
             "#7201a8"
            ],
            [
             0.3333333333333333,
             "#9c179e"
            ],
            [
             0.4444444444444444,
             "#bd3786"
            ],
            [
             0.5555555555555556,
             "#d8576b"
            ],
            [
             0.6666666666666666,
             "#ed7953"
            ],
            [
             0.7777777777777778,
             "#fb9f3a"
            ],
            [
             0.8888888888888888,
             "#fdca26"
            ],
            [
             1,
             "#f0f921"
            ]
           ],
           "sequentialminus": [
            [
             0,
             "#0d0887"
            ],
            [
             0.1111111111111111,
             "#46039f"
            ],
            [
             0.2222222222222222,
             "#7201a8"
            ],
            [
             0.3333333333333333,
             "#9c179e"
            ],
            [
             0.4444444444444444,
             "#bd3786"
            ],
            [
             0.5555555555555556,
             "#d8576b"
            ],
            [
             0.6666666666666666,
             "#ed7953"
            ],
            [
             0.7777777777777778,
             "#fb9f3a"
            ],
            [
             0.8888888888888888,
             "#fdca26"
            ],
            [
             1,
             "#f0f921"
            ]
           ]
          },
          "colorway": [
           "#636efa",
           "#EF553B",
           "#00cc96",
           "#ab63fa",
           "#FFA15A",
           "#19d3f3",
           "#FF6692",
           "#B6E880",
           "#FF97FF",
           "#FECB52"
          ],
          "font": {
           "color": "#2a3f5f"
          },
          "geo": {
           "bgcolor": "white",
           "lakecolor": "white",
           "landcolor": "#E5ECF6",
           "showlakes": true,
           "showland": true,
           "subunitcolor": "white"
          },
          "hoverlabel": {
           "align": "left"
          },
          "hovermode": "closest",
          "mapbox": {
           "style": "light"
          },
          "paper_bgcolor": "white",
          "plot_bgcolor": "#E5ECF6",
          "polar": {
           "angularaxis": {
            "gridcolor": "white",
            "linecolor": "white",
            "ticks": ""
           },
           "bgcolor": "#E5ECF6",
           "radialaxis": {
            "gridcolor": "white",
            "linecolor": "white",
            "ticks": ""
           }
          },
          "scene": {
           "xaxis": {
            "backgroundcolor": "#E5ECF6",
            "gridcolor": "white",
            "gridwidth": 2,
            "linecolor": "white",
            "showbackground": true,
            "ticks": "",
            "zerolinecolor": "white"
           },
           "yaxis": {
            "backgroundcolor": "#E5ECF6",
            "gridcolor": "white",
            "gridwidth": 2,
            "linecolor": "white",
            "showbackground": true,
            "ticks": "",
            "zerolinecolor": "white"
           },
           "zaxis": {
            "backgroundcolor": "#E5ECF6",
            "gridcolor": "white",
            "gridwidth": 2,
            "linecolor": "white",
            "showbackground": true,
            "ticks": "",
            "zerolinecolor": "white"
           }
          },
          "shapedefaults": {
           "line": {
            "color": "#2a3f5f"
           }
          },
          "ternary": {
           "aaxis": {
            "gridcolor": "white",
            "linecolor": "white",
            "ticks": ""
           },
           "baxis": {
            "gridcolor": "white",
            "linecolor": "white",
            "ticks": ""
           },
           "bgcolor": "#E5ECF6",
           "caxis": {
            "gridcolor": "white",
            "linecolor": "white",
            "ticks": ""
           }
          },
          "title": {
           "x": 0.05
          },
          "xaxis": {
           "automargin": true,
           "gridcolor": "white",
           "linecolor": "white",
           "ticks": "",
           "title": {
            "standoff": 15
           },
           "zerolinecolor": "white",
           "zerolinewidth": 2
          },
          "yaxis": {
           "automargin": true,
           "gridcolor": "white",
           "linecolor": "white",
           "ticks": "",
           "title": {
            "standoff": 15
           },
           "zerolinecolor": "white",
           "zerolinewidth": 2
          }
         }
        },
        "width": 800
       }
      }
     },
     "metadata": {},
     "output_type": "display_data"
    }
   ],
   "source": [
    "nearby_attraction_count = bucket_df['grouped_nearby_attraction'].value_counts(dropna=False)\n",
    "nearby_attraction_fig = px.pie(nearby_attraction_count, names=nearby_attraction_count.index, values='grouped_nearby_attraction', width=800, height=400)\n",
    "nearby_attraction_fig.show()"
   ]
  },
  {
   "cell_type": "markdown",
   "metadata": {},
   "source": [
    "#### 2.4 Proportion of Grouped Nearby Attraction [Excluding Null]"
   ]
  },
  {
   "cell_type": "code",
   "execution_count": 19,
   "metadata": {},
   "outputs": [
    {
     "data": {
      "application/vnd.plotly.v1+json": {
       "config": {
        "plotlyServerURL": "https://plot.ly"
       },
       "data": [
        {
         "domain": {
          "x": [
           0,
           1
          ],
          "y": [
           0,
           1
          ]
         },
         "hovertemplate": "index=%{label}<br>grouped_nearby_attraction=%{value}<extra></extra>",
         "labels": [
          "Chinatown",
          "Garden",
          "Little India",
          "East Coast Park",
          "Orchard Road",
          "Museum",
          "Observation",
          "Marina Bay",
          "Merlion Park",
          "Wildlife",
          "Arab Street",
          "Boat Quay"
         ],
         "legendgroup": "",
         "name": "",
         "showlegend": true,
         "type": "pie",
         "values": [
          957,
          900,
          857,
          570,
          558,
          404,
          360,
          318,
          282,
          227,
          179,
          128
         ]
        }
       ],
       "layout": {
        "height": 400,
        "legend": {
         "tracegroupgap": 0
        },
        "margin": {
         "t": 60
        },
        "template": {
         "data": {
          "bar": [
           {
            "error_x": {
             "color": "#2a3f5f"
            },
            "error_y": {
             "color": "#2a3f5f"
            },
            "marker": {
             "line": {
              "color": "#E5ECF6",
              "width": 0.5
             },
             "pattern": {
              "fillmode": "overlay",
              "size": 10,
              "solidity": 0.2
             }
            },
            "type": "bar"
           }
          ],
          "barpolar": [
           {
            "marker": {
             "line": {
              "color": "#E5ECF6",
              "width": 0.5
             },
             "pattern": {
              "fillmode": "overlay",
              "size": 10,
              "solidity": 0.2
             }
            },
            "type": "barpolar"
           }
          ],
          "carpet": [
           {
            "aaxis": {
             "endlinecolor": "#2a3f5f",
             "gridcolor": "white",
             "linecolor": "white",
             "minorgridcolor": "white",
             "startlinecolor": "#2a3f5f"
            },
            "baxis": {
             "endlinecolor": "#2a3f5f",
             "gridcolor": "white",
             "linecolor": "white",
             "minorgridcolor": "white",
             "startlinecolor": "#2a3f5f"
            },
            "type": "carpet"
           }
          ],
          "choropleth": [
           {
            "colorbar": {
             "outlinewidth": 0,
             "ticks": ""
            },
            "type": "choropleth"
           }
          ],
          "contour": [
           {
            "colorbar": {
             "outlinewidth": 0,
             "ticks": ""
            },
            "colorscale": [
             [
              0,
              "#0d0887"
             ],
             [
              0.1111111111111111,
              "#46039f"
             ],
             [
              0.2222222222222222,
              "#7201a8"
             ],
             [
              0.3333333333333333,
              "#9c179e"
             ],
             [
              0.4444444444444444,
              "#bd3786"
             ],
             [
              0.5555555555555556,
              "#d8576b"
             ],
             [
              0.6666666666666666,
              "#ed7953"
             ],
             [
              0.7777777777777778,
              "#fb9f3a"
             ],
             [
              0.8888888888888888,
              "#fdca26"
             ],
             [
              1,
              "#f0f921"
             ]
            ],
            "type": "contour"
           }
          ],
          "contourcarpet": [
           {
            "colorbar": {
             "outlinewidth": 0,
             "ticks": ""
            },
            "type": "contourcarpet"
           }
          ],
          "heatmap": [
           {
            "colorbar": {
             "outlinewidth": 0,
             "ticks": ""
            },
            "colorscale": [
             [
              0,
              "#0d0887"
             ],
             [
              0.1111111111111111,
              "#46039f"
             ],
             [
              0.2222222222222222,
              "#7201a8"
             ],
             [
              0.3333333333333333,
              "#9c179e"
             ],
             [
              0.4444444444444444,
              "#bd3786"
             ],
             [
              0.5555555555555556,
              "#d8576b"
             ],
             [
              0.6666666666666666,
              "#ed7953"
             ],
             [
              0.7777777777777778,
              "#fb9f3a"
             ],
             [
              0.8888888888888888,
              "#fdca26"
             ],
             [
              1,
              "#f0f921"
             ]
            ],
            "type": "heatmap"
           }
          ],
          "heatmapgl": [
           {
            "colorbar": {
             "outlinewidth": 0,
             "ticks": ""
            },
            "colorscale": [
             [
              0,
              "#0d0887"
             ],
             [
              0.1111111111111111,
              "#46039f"
             ],
             [
              0.2222222222222222,
              "#7201a8"
             ],
             [
              0.3333333333333333,
              "#9c179e"
             ],
             [
              0.4444444444444444,
              "#bd3786"
             ],
             [
              0.5555555555555556,
              "#d8576b"
             ],
             [
              0.6666666666666666,
              "#ed7953"
             ],
             [
              0.7777777777777778,
              "#fb9f3a"
             ],
             [
              0.8888888888888888,
              "#fdca26"
             ],
             [
              1,
              "#f0f921"
             ]
            ],
            "type": "heatmapgl"
           }
          ],
          "histogram": [
           {
            "marker": {
             "pattern": {
              "fillmode": "overlay",
              "size": 10,
              "solidity": 0.2
             }
            },
            "type": "histogram"
           }
          ],
          "histogram2d": [
           {
            "colorbar": {
             "outlinewidth": 0,
             "ticks": ""
            },
            "colorscale": [
             [
              0,
              "#0d0887"
             ],
             [
              0.1111111111111111,
              "#46039f"
             ],
             [
              0.2222222222222222,
              "#7201a8"
             ],
             [
              0.3333333333333333,
              "#9c179e"
             ],
             [
              0.4444444444444444,
              "#bd3786"
             ],
             [
              0.5555555555555556,
              "#d8576b"
             ],
             [
              0.6666666666666666,
              "#ed7953"
             ],
             [
              0.7777777777777778,
              "#fb9f3a"
             ],
             [
              0.8888888888888888,
              "#fdca26"
             ],
             [
              1,
              "#f0f921"
             ]
            ],
            "type": "histogram2d"
           }
          ],
          "histogram2dcontour": [
           {
            "colorbar": {
             "outlinewidth": 0,
             "ticks": ""
            },
            "colorscale": [
             [
              0,
              "#0d0887"
             ],
             [
              0.1111111111111111,
              "#46039f"
             ],
             [
              0.2222222222222222,
              "#7201a8"
             ],
             [
              0.3333333333333333,
              "#9c179e"
             ],
             [
              0.4444444444444444,
              "#bd3786"
             ],
             [
              0.5555555555555556,
              "#d8576b"
             ],
             [
              0.6666666666666666,
              "#ed7953"
             ],
             [
              0.7777777777777778,
              "#fb9f3a"
             ],
             [
              0.8888888888888888,
              "#fdca26"
             ],
             [
              1,
              "#f0f921"
             ]
            ],
            "type": "histogram2dcontour"
           }
          ],
          "mesh3d": [
           {
            "colorbar": {
             "outlinewidth": 0,
             "ticks": ""
            },
            "type": "mesh3d"
           }
          ],
          "parcoords": [
           {
            "line": {
             "colorbar": {
              "outlinewidth": 0,
              "ticks": ""
             }
            },
            "type": "parcoords"
           }
          ],
          "pie": [
           {
            "automargin": true,
            "type": "pie"
           }
          ],
          "scatter": [
           {
            "marker": {
             "colorbar": {
              "outlinewidth": 0,
              "ticks": ""
             }
            },
            "type": "scatter"
           }
          ],
          "scatter3d": [
           {
            "line": {
             "colorbar": {
              "outlinewidth": 0,
              "ticks": ""
             }
            },
            "marker": {
             "colorbar": {
              "outlinewidth": 0,
              "ticks": ""
             }
            },
            "type": "scatter3d"
           }
          ],
          "scattercarpet": [
           {
            "marker": {
             "colorbar": {
              "outlinewidth": 0,
              "ticks": ""
             }
            },
            "type": "scattercarpet"
           }
          ],
          "scattergeo": [
           {
            "marker": {
             "colorbar": {
              "outlinewidth": 0,
              "ticks": ""
             }
            },
            "type": "scattergeo"
           }
          ],
          "scattergl": [
           {
            "marker": {
             "colorbar": {
              "outlinewidth": 0,
              "ticks": ""
             }
            },
            "type": "scattergl"
           }
          ],
          "scattermapbox": [
           {
            "marker": {
             "colorbar": {
              "outlinewidth": 0,
              "ticks": ""
             }
            },
            "type": "scattermapbox"
           }
          ],
          "scatterpolar": [
           {
            "marker": {
             "colorbar": {
              "outlinewidth": 0,
              "ticks": ""
             }
            },
            "type": "scatterpolar"
           }
          ],
          "scatterpolargl": [
           {
            "marker": {
             "colorbar": {
              "outlinewidth": 0,
              "ticks": ""
             }
            },
            "type": "scatterpolargl"
           }
          ],
          "scatterternary": [
           {
            "marker": {
             "colorbar": {
              "outlinewidth": 0,
              "ticks": ""
             }
            },
            "type": "scatterternary"
           }
          ],
          "surface": [
           {
            "colorbar": {
             "outlinewidth": 0,
             "ticks": ""
            },
            "colorscale": [
             [
              0,
              "#0d0887"
             ],
             [
              0.1111111111111111,
              "#46039f"
             ],
             [
              0.2222222222222222,
              "#7201a8"
             ],
             [
              0.3333333333333333,
              "#9c179e"
             ],
             [
              0.4444444444444444,
              "#bd3786"
             ],
             [
              0.5555555555555556,
              "#d8576b"
             ],
             [
              0.6666666666666666,
              "#ed7953"
             ],
             [
              0.7777777777777778,
              "#fb9f3a"
             ],
             [
              0.8888888888888888,
              "#fdca26"
             ],
             [
              1,
              "#f0f921"
             ]
            ],
            "type": "surface"
           }
          ],
          "table": [
           {
            "cells": {
             "fill": {
              "color": "#EBF0F8"
             },
             "line": {
              "color": "white"
             }
            },
            "header": {
             "fill": {
              "color": "#C8D4E3"
             },
             "line": {
              "color": "white"
             }
            },
            "type": "table"
           }
          ]
         },
         "layout": {
          "annotationdefaults": {
           "arrowcolor": "#2a3f5f",
           "arrowhead": 0,
           "arrowwidth": 1
          },
          "autotypenumbers": "strict",
          "coloraxis": {
           "colorbar": {
            "outlinewidth": 0,
            "ticks": ""
           }
          },
          "colorscale": {
           "diverging": [
            [
             0,
             "#8e0152"
            ],
            [
             0.1,
             "#c51b7d"
            ],
            [
             0.2,
             "#de77ae"
            ],
            [
             0.3,
             "#f1b6da"
            ],
            [
             0.4,
             "#fde0ef"
            ],
            [
             0.5,
             "#f7f7f7"
            ],
            [
             0.6,
             "#e6f5d0"
            ],
            [
             0.7,
             "#b8e186"
            ],
            [
             0.8,
             "#7fbc41"
            ],
            [
             0.9,
             "#4d9221"
            ],
            [
             1,
             "#276419"
            ]
           ],
           "sequential": [
            [
             0,
             "#0d0887"
            ],
            [
             0.1111111111111111,
             "#46039f"
            ],
            [
             0.2222222222222222,
             "#7201a8"
            ],
            [
             0.3333333333333333,
             "#9c179e"
            ],
            [
             0.4444444444444444,
             "#bd3786"
            ],
            [
             0.5555555555555556,
             "#d8576b"
            ],
            [
             0.6666666666666666,
             "#ed7953"
            ],
            [
             0.7777777777777778,
             "#fb9f3a"
            ],
            [
             0.8888888888888888,
             "#fdca26"
            ],
            [
             1,
             "#f0f921"
            ]
           ],
           "sequentialminus": [
            [
             0,
             "#0d0887"
            ],
            [
             0.1111111111111111,
             "#46039f"
            ],
            [
             0.2222222222222222,
             "#7201a8"
            ],
            [
             0.3333333333333333,
             "#9c179e"
            ],
            [
             0.4444444444444444,
             "#bd3786"
            ],
            [
             0.5555555555555556,
             "#d8576b"
            ],
            [
             0.6666666666666666,
             "#ed7953"
            ],
            [
             0.7777777777777778,
             "#fb9f3a"
            ],
            [
             0.8888888888888888,
             "#fdca26"
            ],
            [
             1,
             "#f0f921"
            ]
           ]
          },
          "colorway": [
           "#636efa",
           "#EF553B",
           "#00cc96",
           "#ab63fa",
           "#FFA15A",
           "#19d3f3",
           "#FF6692",
           "#B6E880",
           "#FF97FF",
           "#FECB52"
          ],
          "font": {
           "color": "#2a3f5f"
          },
          "geo": {
           "bgcolor": "white",
           "lakecolor": "white",
           "landcolor": "#E5ECF6",
           "showlakes": true,
           "showland": true,
           "subunitcolor": "white"
          },
          "hoverlabel": {
           "align": "left"
          },
          "hovermode": "closest",
          "mapbox": {
           "style": "light"
          },
          "paper_bgcolor": "white",
          "plot_bgcolor": "#E5ECF6",
          "polar": {
           "angularaxis": {
            "gridcolor": "white",
            "linecolor": "white",
            "ticks": ""
           },
           "bgcolor": "#E5ECF6",
           "radialaxis": {
            "gridcolor": "white",
            "linecolor": "white",
            "ticks": ""
           }
          },
          "scene": {
           "xaxis": {
            "backgroundcolor": "#E5ECF6",
            "gridcolor": "white",
            "gridwidth": 2,
            "linecolor": "white",
            "showbackground": true,
            "ticks": "",
            "zerolinecolor": "white"
           },
           "yaxis": {
            "backgroundcolor": "#E5ECF6",
            "gridcolor": "white",
            "gridwidth": 2,
            "linecolor": "white",
            "showbackground": true,
            "ticks": "",
            "zerolinecolor": "white"
           },
           "zaxis": {
            "backgroundcolor": "#E5ECF6",
            "gridcolor": "white",
            "gridwidth": 2,
            "linecolor": "white",
            "showbackground": true,
            "ticks": "",
            "zerolinecolor": "white"
           }
          },
          "shapedefaults": {
           "line": {
            "color": "#2a3f5f"
           }
          },
          "ternary": {
           "aaxis": {
            "gridcolor": "white",
            "linecolor": "white",
            "ticks": ""
           },
           "baxis": {
            "gridcolor": "white",
            "linecolor": "white",
            "ticks": ""
           },
           "bgcolor": "#E5ECF6",
           "caxis": {
            "gridcolor": "white",
            "linecolor": "white",
            "ticks": ""
           }
          },
          "title": {
           "x": 0.05
          },
          "xaxis": {
           "automargin": true,
           "gridcolor": "white",
           "linecolor": "white",
           "ticks": "",
           "title": {
            "standoff": 15
           },
           "zerolinecolor": "white",
           "zerolinewidth": 2
          },
          "yaxis": {
           "automargin": true,
           "gridcolor": "white",
           "linecolor": "white",
           "ticks": "",
           "title": {
            "standoff": 15
           },
           "zerolinecolor": "white",
           "zerolinewidth": 2
          }
         }
        },
        "width": 800
       }
      }
     },
     "metadata": {},
     "output_type": "display_data"
    }
   ],
   "source": [
    "nearby_attraction_count = bucket_df['grouped_nearby_attraction'].value_counts()\n",
    "nearby_attraction_fig = px.pie(nearby_attraction_count, names=nearby_attraction_count.index, values='grouped_nearby_attraction', width=800, height=400)\n",
    "nearby_attraction_fig.show()"
   ]
  },
  {
   "cell_type": "markdown",
   "metadata": {},
   "source": [
    "#### 2.5 Mean Overall Rating across Grouped Nearby Attractions"
   ]
  },
  {
   "cell_type": "code",
   "execution_count": 20,
   "metadata": {},
   "outputs": [],
   "source": [
    "sub_df = bucket_df[['grouped_nearby_attraction', 'overall_rating']].copy()"
   ]
  },
  {
   "cell_type": "code",
   "execution_count": 21,
   "metadata": {},
   "outputs": [
    {
     "data": {
      "image/png": "[encoded data removed]",
      "text/plain": [
       "<Figure size 504x360 with 2 Axes>"
      ]
     },
     "metadata": {
      "needs_background": "light"
     },
     "output_type": "display_data"
    }
   ],
   "source": [
    "fig, ax = plt.subplots(figsize=(7,5))\n",
    "df_heatmap = sub_df.pivot_table(values='overall_rating',columns='grouped_nearby_attraction', aggfunc=np.mean)\n",
    "ax = sns.heatmap(df_heatmap.transpose())"
   ]
  },
  {
   "cell_type": "markdown",
   "metadata": {},
   "source": [
    "#### 2.6 Median Overall Rating across Grouped Nearby Attractions"
   ]
  },
  {
   "cell_type": "code",
   "execution_count": 22,
   "metadata": {},
   "outputs": [
    {
     "data": {
      "image/png": "[encoded data removed]",
      "text/plain": [
       "<Figure size 504x360 with 2 Axes>"
      ]
     },
     "metadata": {
      "needs_background": "light"
     },
     "output_type": "display_data"
    }
   ],
   "source": [
    "fig, ax = plt.subplots(figsize=(7,5))\n",
    "df_heatmap = sub_df.pivot_table(values='overall_rating',columns='grouped_nearby_attraction',aggfunc=np.median)\n",
    "ax = sns.heatmap(df_heatmap.transpose())"
   ]
  },
  {
   "cell_type": "markdown",
   "metadata": {},
   "source": [
    "#### 2.7 Percentage of restaurants with particular rating out of restaurants with that grouped nearby attraction\n",
    "- row-wise"
   ]
  },
  {
   "cell_type": "code",
   "execution_count": 23,
   "metadata": {},
   "outputs": [
    {
     "data": {
      "image/png": "[encoded data removed]",
      "text/plain": [
       "<Figure size 720x576 with 2 Axes>"
      ]
     },
     "metadata": {
      "needs_background": "light"
     },
     "output_type": "display_data"
    }
   ],
   "source": [
    "fig, ax = plt.subplots(figsize=(10,8))\n",
    "rating_nearby_count = bucket_df.groupby(['overall_rating', 'grouped_nearby_attraction'])['url'].count()\n",
    "nearby_count = bucket_df.groupby(['grouped_nearby_attraction'])['url'].count()\n",
    "df_heatmap = (rating_nearby_count.div(nearby_count, level='grouped_nearby_attraction') * 100).unstack(fill_value=0)\n",
    "ax = sns.heatmap(df_heatmap.transpose())"
   ]
  },
  {
   "cell_type": "markdown",
   "metadata": {},
   "source": [
    "#### 2.8 Percentage of restaurants with particular grouped nearby attraction out of restaurants with that rating\n",
    "- column-wise"
   ]
  },
  {
   "cell_type": "code",
   "execution_count": 24,
   "metadata": {},
   "outputs": [
    {
     "data": {
      "image/png": "[encoded data removed]",
      "text/plain": [
       "<Figure size 720x576 with 2 Axes>"
      ]
     },
     "metadata": {
      "needs_background": "light"
     },
     "output_type": "display_data"
    }
   ],
   "source": [
    "fig, ax = plt.subplots(figsize=(10,8))\n",
    "rating_nearby_count = bucket_df.groupby(['overall_rating', 'grouped_nearby_attraction'])['url'].count()\n",
    "nearby_count = bucket_df.groupby(['overall_rating'])['url'].count()\n",
    "df_heatmap = (rating_nearby_count.div(nearby_count, level='overall_rating') * 100).unstack(fill_value=0)\n",
    "ax = sns.heatmap(df_heatmap.transpose())"
   ]
  },
  {
   "cell_type": "markdown",
   "metadata": {},
   "source": [
    "#### 2.8 Number of restaurants by grouped nearby attraction and by rating"
   ]
  },
  {
   "cell_type": "code",
   "execution_count": 25,
   "metadata": {},
   "outputs": [
    {
     "data": {
      "image/png": "[encoded data removed]",
      "text/plain": [
       "<Figure size 720x576 with 2 Axes>"
      ]
     },
     "metadata": {
      "needs_background": "light"
     },
     "output_type": "display_data"
    }
   ],
   "source": [
    "fig, ax = plt.subplots(figsize=(10,8))\n",
    "df_heatmap = bucket_df.groupby(['overall_rating', 'grouped_nearby_attraction'])['url'].count().unstack(fill_value=0)\n",
    "ax = sns.heatmap(df_heatmap.transpose())"
   ]
  },
  {
   "cell_type": "markdown",
   "metadata": {},
   "source": [
    "### 3. EDA <-> Feature Engineering\n",
    "#### 3.0 Check feasibility of feature cross: Grouped Nearby Attraction, Distance From Attraction"
   ]
  },
  {
   "cell_type": "code",
   "execution_count": 26,
   "metadata": {},
   "outputs": [],
   "source": [
    "# group nearby attractions together, same as what is done in cell above except change in column name\n",
    "bucket_df = df_rating.copy()\n",
    "bucket_df[\"nearby_attraction\"] = bucket_df['nearby_attraction'].replace(to_replace =['Asian Civilisations Museum', 'National Museum of Singapore', 'City Hall Building'], value =\"Museum\")\n",
    "bucket_df[\"nearby_attraction\"] = bucket_df['nearby_attraction'].replace(to_replace =['National Orchid Garden', 'Singapore Botanic Gardens'], value =\"Garden\")\n",
    "bucket_df[\"nearby_attraction\"] = bucket_df['nearby_attraction'].replace(to_replace =['Singapore Cable Car', 'Singapore Flyer'], value =\"Observation\")\n",
    "bucket_df[\"nearby_attraction\"] = bucket_df['nearby_attraction'].replace(to_replace =['Night Safari', 'Singapore Zoo'], value =\"Wildlife\")"
   ]
  },
  {
   "cell_type": "code",
   "execution_count": 27,
   "metadata": {},
   "outputs": [],
   "source": [
    "bucket_df['nearby_attraction'] = bucket_df['nearby_attraction'].str.replace(\" \", \"_\")\n",
    "bucket_df['nearby_attraction'] = bucket_df['nearby_attraction'].str.lower()"
   ]
  },
  {
   "cell_type": "code",
   "execution_count": 28,
   "metadata": {},
   "outputs": [
    {
     "data": {
      "text/html": [
       "<div>\n",
       "<style scoped>\n",
       "    .dataframe tbody tr th:only-of-type {\n",
       "        vertical-align: middle;\n",
       "    }\n",
       "\n",
       "    .dataframe tbody tr th {\n",
       "        vertical-align: top;\n",
       "    }\n",
       "\n",
       "    .dataframe thead th {\n",
       "        text-align: right;\n",
       "    }\n",
       "</style>\n",
       "<table border=\"1\" class=\"dataframe\">\n",
       "  <thead>\n",
       "    <tr style=\"text-align: right;\">\n",
       "      <th></th>\n",
       "      <th></th>\n",
       "      <th>url</th>\n",
       "    </tr>\n",
       "    <tr>\n",
       "      <th>nearby_attraction</th>\n",
       "      <th>distance_from_attraction</th>\n",
       "      <th></th>\n",
       "    </tr>\n",
       "  </thead>\n",
       "  <tbody>\n",
       "    <tr>\n",
       "      <th rowspan=\"5\" valign=\"top\">arab_street</th>\n",
       "      <th>0.0</th>\n",
       "      <td>14</td>\n",
       "    </tr>\n",
       "    <tr>\n",
       "      <th>0.1</th>\n",
       "      <td>22</td>\n",
       "    </tr>\n",
       "    <tr>\n",
       "      <th>0.2</th>\n",
       "      <td>19</td>\n",
       "    </tr>\n",
       "    <tr>\n",
       "      <th>0.3</th>\n",
       "      <td>22</td>\n",
       "    </tr>\n",
       "    <tr>\n",
       "      <th>0.4</th>\n",
       "      <td>9</td>\n",
       "    </tr>\n",
       "    <tr>\n",
       "      <th>...</th>\n",
       "      <th>...</th>\n",
       "      <td>...</td>\n",
       "    </tr>\n",
       "    <tr>\n",
       "      <th rowspan=\"5\" valign=\"top\">wildlife</th>\n",
       "      <th>6.5</th>\n",
       "      <td>1</td>\n",
       "    </tr>\n",
       "    <tr>\n",
       "      <th>6.7</th>\n",
       "      <td>1</td>\n",
       "    </tr>\n",
       "    <tr>\n",
       "      <th>6.8</th>\n",
       "      <td>1</td>\n",
       "    </tr>\n",
       "    <tr>\n",
       "      <th>7.0</th>\n",
       "      <td>4</td>\n",
       "    </tr>\n",
       "    <tr>\n",
       "      <th>7.8</th>\n",
       "      <td>3</td>\n",
       "    </tr>\n",
       "  </tbody>\n",
       "</table>\n",
       "<p>322 rows × 1 columns</p>\n",
       "</div>"
      ],
      "text/plain": [
       "                                            url\n",
       "nearby_attraction distance_from_attraction     \n",
       "arab_street       0.0                        14\n",
       "                  0.1                        22\n",
       "                  0.2                        19\n",
       "                  0.3                        22\n",
       "                  0.4                         9\n",
       "...                                         ...\n",
       "wildlife          6.5                         1\n",
       "                  6.7                         1\n",
       "                  6.8                         1\n",
       "                  7.0                         4\n",
       "                  7.8                         3\n",
       "\n",
       "[322 rows x 1 columns]"
      ]
     },
     "execution_count": 28,
     "metadata": {},
     "output_type": "execute_result"
    }
   ],
   "source": [
    "# too little samples in each grouped_nearby_attraction X distance_from_attraction pairing\n",
    "bucket_df.groupby(['nearby_attraction', 'distance_from_attraction']).agg({'url': 'count'})"
   ]
  },
  {
   "cell_type": "code",
   "execution_count": 29,
   "metadata": {},
   "outputs": [
    {
     "data": {
      "text/html": [
       "<div>\n",
       "<style scoped>\n",
       "    .dataframe tbody tr th:only-of-type {\n",
       "        vertical-align: middle;\n",
       "    }\n",
       "\n",
       "    .dataframe tbody tr th {\n",
       "        vertical-align: top;\n",
       "    }\n",
       "\n",
       "    .dataframe thead tr th {\n",
       "        text-align: left;\n",
       "    }\n",
       "\n",
       "    .dataframe thead tr:last-of-type th {\n",
       "        text-align: right;\n",
       "    }\n",
       "</style>\n",
       "<table border=\"1\" class=\"dataframe\">\n",
       "  <thead>\n",
       "    <tr>\n",
       "      <th></th>\n",
       "      <th colspan=\"3\" halign=\"left\">distance_from_attraction</th>\n",
       "    </tr>\n",
       "    <tr>\n",
       "      <th></th>\n",
       "      <th>min</th>\n",
       "      <th>max</th>\n",
       "      <th>median</th>\n",
       "    </tr>\n",
       "    <tr>\n",
       "      <th>nearby_attraction</th>\n",
       "      <th></th>\n",
       "      <th></th>\n",
       "      <th></th>\n",
       "    </tr>\n",
       "  </thead>\n",
       "  <tbody>\n",
       "    <tr>\n",
       "      <th>arab_street</th>\n",
       "      <td>0.0</td>\n",
       "      <td>2.8</td>\n",
       "      <td>0.5</td>\n",
       "    </tr>\n",
       "    <tr>\n",
       "      <th>boat_quay</th>\n",
       "      <td>0.2</td>\n",
       "      <td>0.7</td>\n",
       "      <td>0.4</td>\n",
       "    </tr>\n",
       "    <tr>\n",
       "      <th>chinatown</th>\n",
       "      <td>0.0</td>\n",
       "      <td>1.9</td>\n",
       "      <td>0.5</td>\n",
       "    </tr>\n",
       "    <tr>\n",
       "      <th>east_coast_park</th>\n",
       "      <td>0.3</td>\n",
       "      <td>6.3</td>\n",
       "      <td>2.1</td>\n",
       "    </tr>\n",
       "    <tr>\n",
       "      <th>garden</th>\n",
       "      <td>0.0</td>\n",
       "      <td>5.8</td>\n",
       "      <td>1.9</td>\n",
       "    </tr>\n",
       "    <tr>\n",
       "      <th>little_india</th>\n",
       "      <td>0.0</td>\n",
       "      <td>3.1</td>\n",
       "      <td>0.8</td>\n",
       "    </tr>\n",
       "    <tr>\n",
       "      <th>marina_bay</th>\n",
       "      <td>0.1</td>\n",
       "      <td>2.0</td>\n",
       "      <td>0.6</td>\n",
       "    </tr>\n",
       "    <tr>\n",
       "      <th>merlion_park</th>\n",
       "      <td>0.0</td>\n",
       "      <td>1.1</td>\n",
       "      <td>0.6</td>\n",
       "    </tr>\n",
       "    <tr>\n",
       "      <th>museum</th>\n",
       "      <td>0.0</td>\n",
       "      <td>0.9</td>\n",
       "      <td>0.4</td>\n",
       "    </tr>\n",
       "    <tr>\n",
       "      <th>observation</th>\n",
       "      <td>0.0</td>\n",
       "      <td>4.2</td>\n",
       "      <td>0.9</td>\n",
       "    </tr>\n",
       "    <tr>\n",
       "      <th>orchard_road</th>\n",
       "      <td>0.0</td>\n",
       "      <td>2.3</td>\n",
       "      <td>0.4</td>\n",
       "    </tr>\n",
       "    <tr>\n",
       "      <th>wildlife</th>\n",
       "      <td>0.0</td>\n",
       "      <td>7.8</td>\n",
       "      <td>5.4</td>\n",
       "    </tr>\n",
       "    <tr>\n",
       "      <th>NaN</th>\n",
       "      <td>NaN</td>\n",
       "      <td>NaN</td>\n",
       "      <td>NaN</td>\n",
       "    </tr>\n",
       "  </tbody>\n",
       "</table>\n",
       "</div>"
      ],
      "text/plain": [
       "                  distance_from_attraction            \n",
       "                                       min  max median\n",
       "nearby_attraction                                     \n",
       "arab_street                            0.0  2.8    0.5\n",
       "boat_quay                              0.2  0.7    0.4\n",
       "chinatown                              0.0  1.9    0.5\n",
       "east_coast_park                        0.3  6.3    2.1\n",
       "garden                                 0.0  5.8    1.9\n",
       "little_india                           0.0  3.1    0.8\n",
       "marina_bay                             0.1  2.0    0.6\n",
       "merlion_park                           0.0  1.1    0.6\n",
       "museum                                 0.0  0.9    0.4\n",
       "observation                            0.0  4.2    0.9\n",
       "orchard_road                           0.0  2.3    0.4\n",
       "wildlife                               0.0  7.8    5.4\n",
       "NaN                                    NaN  NaN    NaN"
      ]
     },
     "execution_count": 29,
     "metadata": {},
     "output_type": "execute_result"
    }
   ],
   "source": [
    "# look at min, max, median \n",
    "bucket_df.groupby(['nearby_attraction'], dropna=False).agg({'distance_from_attraction': ['min', 'max', 'median']})"
   ]
  },
  {
   "cell_type": "code",
   "execution_count": 30,
   "metadata": {},
   "outputs": [
    {
     "data": {
      "text/plain": [
       "nearby_attraction\n",
       "arab_street         179\n",
       "boat_quay           128\n",
       "chinatown           957\n",
       "east_coast_park     570\n",
       "garden              900\n",
       "little_india        857\n",
       "marina_bay          318\n",
       "merlion_park        282\n",
       "museum              404\n",
       "observation         360\n",
       "orchard_road        558\n",
       "wildlife            227\n",
       "NaN                1452\n",
       "Name: url, dtype: int64"
      ]
     },
     "execution_count": 30,
     "metadata": {},
     "output_type": "execute_result"
    }
   ],
   "source": [
    "# count by nearby attraction\n",
    "bucket_df.groupby(['nearby_attraction'], dropna=False)['url'].count()"
   ]
  },
  {
   "cell_type": "markdown",
   "metadata": {},
   "source": [
    "#### 3.1 Feature cross: Grouped Nearby Attraction, Above Median Distance From Attraction"
   ]
  },
  {
   "cell_type": "code",
   "execution_count": 31,
   "metadata": {},
   "outputs": [],
   "source": [
    "median_by_attraction = bucket_df.groupby(['nearby_attraction']).agg({'distance_from_attraction': ['min', 'max', 'median']})['distance_from_attraction']['median'].to_dict()\n",
    "bucket_df[\"above_median\"] =  bucket_df[['distance_from_attraction', 'nearby_attraction']].apply(lambda x: x['distance_from_attraction'] > median_by_attraction[x['nearby_attraction']] if not pd.isna(x['nearby_attraction']) else np.nan, axis=1)\n",
    "bucket_df[\"above_median\"] = bucket_df[\"above_median\"].astype(float)"
   ]
  },
  {
   "cell_type": "code",
   "execution_count": 32,
   "metadata": {},
   "outputs": [
    {
     "data": {
      "text/plain": [
       "array([ 1.,  0., nan])"
      ]
     },
     "execution_count": 32,
     "metadata": {},
     "output_type": "execute_result"
    }
   ],
   "source": [
    "bucket_df[\"above_median\"].unique()"
   ]
  },
  {
   "cell_type": "code",
   "execution_count": 33,
   "metadata": {},
   "outputs": [
    {
     "data": {
      "text/html": [
       "<div>\n",
       "<style scoped>\n",
       "    .dataframe tbody tr th:only-of-type {\n",
       "        vertical-align: middle;\n",
       "    }\n",
       "\n",
       "    .dataframe tbody tr th {\n",
       "        vertical-align: top;\n",
       "    }\n",
       "\n",
       "    .dataframe thead th {\n",
       "        text-align: right;\n",
       "    }\n",
       "</style>\n",
       "<table border=\"1\" class=\"dataframe\">\n",
       "  <thead>\n",
       "    <tr style=\"text-align: right;\">\n",
       "      <th></th>\n",
       "      <th></th>\n",
       "      <th>url</th>\n",
       "    </tr>\n",
       "    <tr>\n",
       "      <th>nearby_attraction</th>\n",
       "      <th>above_median</th>\n",
       "      <th></th>\n",
       "    </tr>\n",
       "  </thead>\n",
       "  <tbody>\n",
       "    <tr>\n",
       "      <th rowspan=\"2\" valign=\"top\">arab_street</th>\n",
       "      <th>0.0</th>\n",
       "      <td>139</td>\n",
       "    </tr>\n",
       "    <tr>\n",
       "      <th>1.0</th>\n",
       "      <td>40</td>\n",
       "    </tr>\n",
       "    <tr>\n",
       "      <th rowspan=\"2\" valign=\"top\">boat_quay</th>\n",
       "      <th>0.0</th>\n",
       "      <td>76</td>\n",
       "    </tr>\n",
       "    <tr>\n",
       "      <th>1.0</th>\n",
       "      <td>52</td>\n",
       "    </tr>\n",
       "    <tr>\n",
       "      <th rowspan=\"2\" valign=\"top\">chinatown</th>\n",
       "      <th>0.0</th>\n",
       "      <td>591</td>\n",
       "    </tr>\n",
       "    <tr>\n",
       "      <th>1.0</th>\n",
       "      <td>366</td>\n",
       "    </tr>\n",
       "    <tr>\n",
       "      <th rowspan=\"2\" valign=\"top\">east_coast_park</th>\n",
       "      <th>0.0</th>\n",
       "      <td>299</td>\n",
       "    </tr>\n",
       "    <tr>\n",
       "      <th>1.0</th>\n",
       "      <td>271</td>\n",
       "    </tr>\n",
       "    <tr>\n",
       "      <th rowspan=\"2\" valign=\"top\">garden</th>\n",
       "      <th>0.0</th>\n",
       "      <td>463</td>\n",
       "    </tr>\n",
       "    <tr>\n",
       "      <th>1.0</th>\n",
       "      <td>437</td>\n",
       "    </tr>\n",
       "    <tr>\n",
       "      <th rowspan=\"2\" valign=\"top\">little_india</th>\n",
       "      <th>0.0</th>\n",
       "      <td>454</td>\n",
       "    </tr>\n",
       "    <tr>\n",
       "      <th>1.0</th>\n",
       "      <td>403</td>\n",
       "    </tr>\n",
       "    <tr>\n",
       "      <th rowspan=\"2\" valign=\"top\">marina_bay</th>\n",
       "      <th>0.0</th>\n",
       "      <td>226</td>\n",
       "    </tr>\n",
       "    <tr>\n",
       "      <th>1.0</th>\n",
       "      <td>92</td>\n",
       "    </tr>\n",
       "    <tr>\n",
       "      <th rowspan=\"2\" valign=\"top\">merlion_park</th>\n",
       "      <th>0.0</th>\n",
       "      <td>192</td>\n",
       "    </tr>\n",
       "    <tr>\n",
       "      <th>1.0</th>\n",
       "      <td>90</td>\n",
       "    </tr>\n",
       "    <tr>\n",
       "      <th rowspan=\"2\" valign=\"top\">museum</th>\n",
       "      <th>0.0</th>\n",
       "      <td>211</td>\n",
       "    </tr>\n",
       "    <tr>\n",
       "      <th>1.0</th>\n",
       "      <td>193</td>\n",
       "    </tr>\n",
       "    <tr>\n",
       "      <th rowspan=\"2\" valign=\"top\">observation</th>\n",
       "      <th>0.0</th>\n",
       "      <td>201</td>\n",
       "    </tr>\n",
       "    <tr>\n",
       "      <th>1.0</th>\n",
       "      <td>159</td>\n",
       "    </tr>\n",
       "    <tr>\n",
       "      <th rowspan=\"2\" valign=\"top\">orchard_road</th>\n",
       "      <th>0.0</th>\n",
       "      <td>323</td>\n",
       "    </tr>\n",
       "    <tr>\n",
       "      <th>1.0</th>\n",
       "      <td>235</td>\n",
       "    </tr>\n",
       "    <tr>\n",
       "      <th rowspan=\"2\" valign=\"top\">wildlife</th>\n",
       "      <th>0.0</th>\n",
       "      <td>125</td>\n",
       "    </tr>\n",
       "    <tr>\n",
       "      <th>1.0</th>\n",
       "      <td>102</td>\n",
       "    </tr>\n",
       "  </tbody>\n",
       "</table>\n",
       "</div>"
      ],
      "text/plain": [
       "                                url\n",
       "nearby_attraction above_median     \n",
       "arab_street       0.0           139\n",
       "                  1.0            40\n",
       "boat_quay         0.0            76\n",
       "                  1.0            52\n",
       "chinatown         0.0           591\n",
       "                  1.0           366\n",
       "east_coast_park   0.0           299\n",
       "                  1.0           271\n",
       "garden            0.0           463\n",
       "                  1.0           437\n",
       "little_india      0.0           454\n",
       "                  1.0           403\n",
       "marina_bay        0.0           226\n",
       "                  1.0            92\n",
       "merlion_park      0.0           192\n",
       "                  1.0            90\n",
       "museum            0.0           211\n",
       "                  1.0           193\n",
       "observation       0.0           201\n",
       "                  1.0           159\n",
       "orchard_road      0.0           323\n",
       "                  1.0           235\n",
       "wildlife          0.0           125\n",
       "                  1.0           102"
      ]
     },
     "execution_count": 33,
     "metadata": {},
     "output_type": "execute_result"
    }
   ],
   "source": [
    "# count by nearby attraction and above median distance\n",
    "bucket_df.groupby(['nearby_attraction', 'above_median']).agg({'url': 'count'})"
   ]
  },
  {
   "cell_type": "code",
   "execution_count": 34,
   "metadata": {},
   "outputs": [],
   "source": [
    "from sklearn.preprocessing import OneHotEncoder # categorical variable so do one hot encoding\n",
    "nearby_attraction_enc = OneHotEncoder(categories='auto')\n",
    "# One hot encoding for categorical variable\n",
    "features_nearby_attraction_train = nearby_attraction_enc.fit_transform(bucket_df[['nearby_attraction']])\n",
    "\n",
    "# TODO transform on test"
   ]
  },
  {
   "cell_type": "code",
   "execution_count": 35,
   "metadata": {},
   "outputs": [],
   "source": [
    "nearby_attraction_ohe_columns = nearby_attraction_enc.get_feature_names_out(['nearby_attraction'])\n",
    "nearby_attraction_ohe_df = pd.DataFrame(features_nearby_attraction_train.toarray(), columns=nearby_attraction_ohe_columns)\n",
    "bucket_ohe_df = pd.concat([bucket_df.drop(columns=['nearby_attraction']).reset_index(drop=True), nearby_attraction_ohe_df.reset_index(drop=True)], axis=1)"
   ]
  },
  {
   "cell_type": "code",
   "execution_count": 36,
   "metadata": {},
   "outputs": [
    {
     "data": {
      "text/plain": [
       "array(['nearby_attraction_arab_street', 'nearby_attraction_boat_quay',\n",
       "       'nearby_attraction_chinatown', 'nearby_attraction_east_coast_park',\n",
       "       'nearby_attraction_garden', 'nearby_attraction_little_india',\n",
       "       'nearby_attraction_marina_bay', 'nearby_attraction_merlion_park',\n",
       "       'nearby_attraction_museum', 'nearby_attraction_observation',\n",
       "       'nearby_attraction_orchard_road', 'nearby_attraction_wildlife',\n",
       "       'nearby_attraction_nan'], dtype=object)"
      ]
     },
     "execution_count": 36,
     "metadata": {},
     "output_type": "execute_result"
    }
   ],
   "source": [
    "nearby_attraction_ohe_columns"
   ]
  },
  {
   "cell_type": "code",
   "execution_count": 37,
   "metadata": {},
   "outputs": [],
   "source": [
    "cross_cols = []\n",
    "bucket_ohe_df[\"above_median\"] = bucket_ohe_df[\"above_median\"].replace(np.nan, 0)\n",
    "for col in nearby_attraction_ohe_columns:\n",
    "    if col == 'nearby_attraction_nan':\n",
    "        continue\n",
    "    cross = col + \"_above_median\"\n",
    "    bucket_ohe_df[cross] = bucket_ohe_df[col] * bucket_ohe_df[\"above_median\"]\n",
    "    cross_cols.append(cross)"
   ]
  },
  {
   "cell_type": "code",
   "execution_count": 38,
   "metadata": {},
   "outputs": [],
   "source": [
    "attraction_eda_cols = []\n",
    "attraction_eda_cols.extend(cross_cols)\n",
    "attraction_eda_cols.extend(nearby_attraction_ohe_columns)"
   ]
  },
  {
   "cell_type": "markdown",
   "metadata": {},
   "source": [
    "#### 3.2 EDA: Using feature cross columns only in Logistic Regression"
   ]
  },
  {
   "cell_type": "code",
   "execution_count": 39,
   "metadata": {},
   "outputs": [],
   "source": [
    "from sklearn.linear_model import LogisticRegression\n",
    "from sklearn.model_selection import train_test_split\n",
    "from sklearn import metrics"
   ]
  },
  {
   "cell_type": "code",
   "execution_count": 40,
   "metadata": {},
   "outputs": [
    {
     "data": {
      "text/plain": [
       "['nearby_attraction_arab_street_above_median',\n",
       " 'nearby_attraction_boat_quay_above_median',\n",
       " 'nearby_attraction_chinatown_above_median',\n",
       " 'nearby_attraction_east_coast_park_above_median',\n",
       " 'nearby_attraction_garden_above_median',\n",
       " 'nearby_attraction_little_india_above_median',\n",
       " 'nearby_attraction_marina_bay_above_median',\n",
       " 'nearby_attraction_merlion_park_above_median',\n",
       " 'nearby_attraction_museum_above_median',\n",
       " 'nearby_attraction_observation_above_median',\n",
       " 'nearby_attraction_orchard_road_above_median',\n",
       " 'nearby_attraction_wildlife_above_median']"
      ]
     },
     "execution_count": 40,
     "metadata": {},
     "output_type": "execute_result"
    }
   ],
   "source": [
    "cross_cols"
   ]
  },
  {
   "cell_type": "code",
   "execution_count": 41,
   "metadata": {},
   "outputs": [
    {
     "data": {
      "text/plain": [
       "7192"
      ]
     },
     "execution_count": 41,
     "metadata": {},
     "output_type": "execute_result"
    }
   ],
   "source": [
    "len(bucket_ohe_df)"
   ]
  },
  {
   "cell_type": "code",
   "execution_count": 42,
   "metadata": {},
   "outputs": [
    {
     "data": {
      "text/plain": [
       "array([4. , 5. , 4.5, 3.5, 3. , 2.5, 2. , 1.5, 1. ])"
      ]
     },
     "execution_count": 42,
     "metadata": {},
     "output_type": "execute_result"
    }
   ],
   "source": [
    "bucket_ohe_df['overall_rating'].unique()"
   ]
  },
  {
   "cell_type": "code",
   "execution_count": 43,
   "metadata": {},
   "outputs": [
    {
     "name": "stdout",
     "output_type": "stream",
     "text": [
      "training accuracy: 0.38023730070448647\n",
      "test accuracy: 0.38654060066740825\n",
      "training AUC: 0.5815510706821079\n",
      "test AUC: 0.5181323622195464\n"
     ]
    }
   ],
   "source": [
    "X = bucket_ohe_df[cross_cols]\n",
    "y = bucket_ohe_df['overall_rating'].astype(str)\n",
    "X_train, X_test, y_train, y_test = train_test_split(X, y, random_state=1)\n",
    "\n",
    "logreg = LogisticRegression(multi_class='multinomial')\n",
    "\n",
    "# fit the model with data\n",
    "logreg.fit(X_train, y_train)\n",
    "\n",
    "# predict the response for new observations\n",
    "y_pred_train = logreg.predict(X_train)\n",
    "\n",
    "# calculate accuracy\n",
    "print(\"training accuracy: {}\".format(metrics.accuracy_score(y_train, logreg.predict(X_train))))\n",
    "print(\"test accuracy: {}\".format(metrics.accuracy_score(y_test, logreg.predict(X_test))))\n",
    "\n",
    "# calculate AUC\n",
    "print(\"training AUC: {}\".format(metrics.roc_auc_score(y_train, logreg.predict_proba(X_train), multi_class=\"ovr\")))\n",
    "print(\"test AUC: {}\".format(metrics.roc_auc_score(y_test, logreg.predict_proba(X_test), multi_class=\"ovr\")))"
   ]
  },
  {
   "cell_type": "code",
   "execution_count": 44,
   "metadata": {},
   "outputs": [
    {
     "data": {
      "text/html": [
       "<div>\n",
       "<style scoped>\n",
       "    .dataframe tbody tr th:only-of-type {\n",
       "        vertical-align: middle;\n",
       "    }\n",
       "\n",
       "    .dataframe tbody tr th {\n",
       "        vertical-align: top;\n",
       "    }\n",
       "\n",
       "    .dataframe thead th {\n",
       "        text-align: right;\n",
       "    }\n",
       "</style>\n",
       "<table border=\"1\" class=\"dataframe\">\n",
       "  <thead>\n",
       "    <tr style=\"text-align: right;\">\n",
       "      <th></th>\n",
       "      <th>features</th>\n",
       "      <th>coef</th>\n",
       "      <th>coef_0</th>\n",
       "      <th>coef_1</th>\n",
       "      <th>coef_2</th>\n",
       "      <th>coef_3</th>\n",
       "      <th>coef_4</th>\n",
       "      <th>coef_5</th>\n",
       "      <th>coef_6</th>\n",
       "      <th>coef_7</th>\n",
       "      <th>coef_8</th>\n",
       "    </tr>\n",
       "  </thead>\n",
       "  <tbody>\n",
       "    <tr>\n",
       "      <th>0</th>\n",
       "      <td>nearby_attraction_arab_street_above_median</td>\n",
       "      <td>[-0.01468187364112731, -0.06892292819726215, -...</td>\n",
       "      <td>-0.014682</td>\n",
       "      <td>-0.068923</td>\n",
       "      <td>-0.178599</td>\n",
       "      <td>0.657115</td>\n",
       "      <td>-0.477373</td>\n",
       "      <td>-0.363766</td>\n",
       "      <td>-0.273661</td>\n",
       "      <td>0.752178</td>\n",
       "      <td>-0.032289</td>\n",
       "    </tr>\n",
       "    <tr>\n",
       "      <th>1</th>\n",
       "      <td>nearby_attraction_boat_quay_above_median</td>\n",
       "      <td>[-0.022928308150050453, -0.10527672679463988, ...</td>\n",
       "      <td>-0.022928</td>\n",
       "      <td>-0.105277</td>\n",
       "      <td>0.463848</td>\n",
       "      <td>-0.049576</td>\n",
       "      <td>-0.440267</td>\n",
       "      <td>0.171370</td>\n",
       "      <td>0.162403</td>\n",
       "      <td>-0.290035</td>\n",
       "      <td>0.110462</td>\n",
       "    </tr>\n",
       "    <tr>\n",
       "      <th>2</th>\n",
       "      <td>nearby_attraction_chinatown_above_median</td>\n",
       "      <td>[-0.11476839665863574, -0.4262473777441061, 0....</td>\n",
       "      <td>-0.114768</td>\n",
       "      <td>-0.426247</td>\n",
       "      <td>0.046018</td>\n",
       "      <td>0.129699</td>\n",
       "      <td>-0.188366</td>\n",
       "      <td>-0.048163</td>\n",
       "      <td>0.347567</td>\n",
       "      <td>0.383723</td>\n",
       "      <td>-0.129462</td>\n",
       "    </tr>\n",
       "    <tr>\n",
       "      <th>3</th>\n",
       "      <td>nearby_attraction_east_coast_park_above_median</td>\n",
       "      <td>[-0.08753248609225742, -0.3423386079114413, -0...</td>\n",
       "      <td>-0.087532</td>\n",
       "      <td>-0.342339</td>\n",
       "      <td>-0.165820</td>\n",
       "      <td>-0.302354</td>\n",
       "      <td>0.202297</td>\n",
       "      <td>0.105474</td>\n",
       "      <td>0.272146</td>\n",
       "      <td>0.180000</td>\n",
       "      <td>0.138128</td>\n",
       "    </tr>\n",
       "    <tr>\n",
       "      <th>4</th>\n",
       "      <td>nearby_attraction_garden_above_median</td>\n",
       "      <td>[-0.12843194773308117, -0.46528303395550946, -...</td>\n",
       "      <td>-0.128432</td>\n",
       "      <td>-0.465283</td>\n",
       "      <td>-0.038421</td>\n",
       "      <td>0.138112</td>\n",
       "      <td>0.384771</td>\n",
       "      <td>0.390036</td>\n",
       "      <td>0.152033</td>\n",
       "      <td>0.049287</td>\n",
       "      <td>-0.482102</td>\n",
       "    </tr>\n",
       "    <tr>\n",
       "      <th>5</th>\n",
       "      <td>nearby_attraction_little_india_above_median</td>\n",
       "      <td>[-0.14833809708705015, 0.8795946142474343, -0....</td>\n",
       "      <td>-0.148338</td>\n",
       "      <td>0.879595</td>\n",
       "      <td>-0.153327</td>\n",
       "      <td>-0.014698</td>\n",
       "      <td>-0.108451</td>\n",
       "      <td>0.004738</td>\n",
       "      <td>0.034351</td>\n",
       "      <td>0.013728</td>\n",
       "      <td>-0.507598</td>\n",
       "    </tr>\n",
       "    <tr>\n",
       "      <th>6</th>\n",
       "      <td>nearby_attraction_marina_bay_above_median</td>\n",
       "      <td>[-0.03850217774199579, -0.16993367085741765, 0...</td>\n",
       "      <td>-0.038502</td>\n",
       "      <td>-0.169934</td>\n",
       "      <td>0.757958</td>\n",
       "      <td>-0.339056</td>\n",
       "      <td>-0.388520</td>\n",
       "      <td>-0.183018</td>\n",
       "      <td>-0.113668</td>\n",
       "      <td>0.214048</td>\n",
       "      <td>0.260691</td>\n",
       "    </tr>\n",
       "    <tr>\n",
       "      <th>7</th>\n",
       "      <td>nearby_attraction_merlion_park_above_median</td>\n",
       "      <td>[-0.02856183387839351, -0.12765787852123095, -...</td>\n",
       "      <td>-0.028562</td>\n",
       "      <td>-0.127658</td>\n",
       "      <td>-0.307986</td>\n",
       "      <td>0.254314</td>\n",
       "      <td>0.059503</td>\n",
       "      <td>0.416255</td>\n",
       "      <td>0.320093</td>\n",
       "      <td>0.282456</td>\n",
       "      <td>-0.868415</td>\n",
       "    </tr>\n",
       "    <tr>\n",
       "      <th>8</th>\n",
       "      <td>nearby_attraction_museum_above_median</td>\n",
       "      <td>[-0.07134953394760454, 0.4160213884345144, -0....</td>\n",
       "      <td>-0.071350</td>\n",
       "      <td>0.416021</td>\n",
       "      <td>-0.055261</td>\n",
       "      <td>-0.139192</td>\n",
       "      <td>-0.197265</td>\n",
       "      <td>0.009939</td>\n",
       "      <td>0.184969</td>\n",
       "      <td>0.113819</td>\n",
       "      <td>-0.261681</td>\n",
       "    </tr>\n",
       "    <tr>\n",
       "      <th>9</th>\n",
       "      <td>nearby_attraction_observation_above_median</td>\n",
       "      <td>[-0.06494361294795653, -0.2688614759902957, 0....</td>\n",
       "      <td>-0.064944</td>\n",
       "      <td>-0.268861</td>\n",
       "      <td>0.785861</td>\n",
       "      <td>0.353950</td>\n",
       "      <td>-0.538799</td>\n",
       "      <td>-0.122653</td>\n",
       "      <td>0.065193</td>\n",
       "      <td>-0.208798</td>\n",
       "      <td>-0.000949</td>\n",
       "    </tr>\n",
       "    <tr>\n",
       "      <th>10</th>\n",
       "      <td>nearby_attraction_orchard_road_above_median</td>\n",
       "      <td>[0.7814997107339162, -0.3502070320481694, 0.54...</td>\n",
       "      <td>0.781500</td>\n",
       "      <td>-0.350207</td>\n",
       "      <td>0.541485</td>\n",
       "      <td>-0.328538</td>\n",
       "      <td>0.263239</td>\n",
       "      <td>0.132263</td>\n",
       "      <td>-0.044646</td>\n",
       "      <td>-0.097561</td>\n",
       "      <td>-0.897534</td>\n",
       "    </tr>\n",
       "    <tr>\n",
       "      <th>11</th>\n",
       "      <td>nearby_attraction_wildlife_above_median</td>\n",
       "      <td>[-0.04204043567883807, 0.599673193543695, -0.4...</td>\n",
       "      <td>-0.042040</td>\n",
       "      <td>0.599673</td>\n",
       "      <td>-0.420030</td>\n",
       "      <td>-0.391913</td>\n",
       "      <td>0.483471</td>\n",
       "      <td>0.424853</td>\n",
       "      <td>-0.433795</td>\n",
       "      <td>-0.178573</td>\n",
       "      <td>-0.041645</td>\n",
       "    </tr>\n",
       "  </tbody>\n",
       "</table>\n",
       "</div>"
      ],
      "text/plain": [
       "                                          features  \\\n",
       "0       nearby_attraction_arab_street_above_median   \n",
       "1         nearby_attraction_boat_quay_above_median   \n",
       "2         nearby_attraction_chinatown_above_median   \n",
       "3   nearby_attraction_east_coast_park_above_median   \n",
       "4            nearby_attraction_garden_above_median   \n",
       "5      nearby_attraction_little_india_above_median   \n",
       "6        nearby_attraction_marina_bay_above_median   \n",
       "7      nearby_attraction_merlion_park_above_median   \n",
       "8            nearby_attraction_museum_above_median   \n",
       "9       nearby_attraction_observation_above_median   \n",
       "10     nearby_attraction_orchard_road_above_median   \n",
       "11         nearby_attraction_wildlife_above_median   \n",
       "\n",
       "                                                 coef    coef_0    coef_1  \\\n",
       "0   [-0.01468187364112731, -0.06892292819726215, -... -0.014682 -0.068923   \n",
       "1   [-0.022928308150050453, -0.10527672679463988, ... -0.022928 -0.105277   \n",
       "2   [-0.11476839665863574, -0.4262473777441061, 0.... -0.114768 -0.426247   \n",
       "3   [-0.08753248609225742, -0.3423386079114413, -0... -0.087532 -0.342339   \n",
       "4   [-0.12843194773308117, -0.46528303395550946, -... -0.128432 -0.465283   \n",
       "5   [-0.14833809708705015, 0.8795946142474343, -0.... -0.148338  0.879595   \n",
       "6   [-0.03850217774199579, -0.16993367085741765, 0... -0.038502 -0.169934   \n",
       "7   [-0.02856183387839351, -0.12765787852123095, -... -0.028562 -0.127658   \n",
       "8   [-0.07134953394760454, 0.4160213884345144, -0.... -0.071350  0.416021   \n",
       "9   [-0.06494361294795653, -0.2688614759902957, 0.... -0.064944 -0.268861   \n",
       "10  [0.7814997107339162, -0.3502070320481694, 0.54...  0.781500 -0.350207   \n",
       "11  [-0.04204043567883807, 0.599673193543695, -0.4... -0.042040  0.599673   \n",
       "\n",
       "      coef_2    coef_3    coef_4    coef_5    coef_6    coef_7    coef_8  \n",
       "0  -0.178599  0.657115 -0.477373 -0.363766 -0.273661  0.752178 -0.032289  \n",
       "1   0.463848 -0.049576 -0.440267  0.171370  0.162403 -0.290035  0.110462  \n",
       "2   0.046018  0.129699 -0.188366 -0.048163  0.347567  0.383723 -0.129462  \n",
       "3  -0.165820 -0.302354  0.202297  0.105474  0.272146  0.180000  0.138128  \n",
       "4  -0.038421  0.138112  0.384771  0.390036  0.152033  0.049287 -0.482102  \n",
       "5  -0.153327 -0.014698 -0.108451  0.004738  0.034351  0.013728 -0.507598  \n",
       "6   0.757958 -0.339056 -0.388520 -0.183018 -0.113668  0.214048  0.260691  \n",
       "7  -0.307986  0.254314  0.059503  0.416255  0.320093  0.282456 -0.868415  \n",
       "8  -0.055261 -0.139192 -0.197265  0.009939  0.184969  0.113819 -0.261681  \n",
       "9   0.785861  0.353950 -0.538799 -0.122653  0.065193 -0.208798 -0.000949  \n",
       "10  0.541485 -0.328538  0.263239  0.132263 -0.044646 -0.097561 -0.897534  \n",
       "11 -0.420030 -0.391913  0.483471  0.424853 -0.433795 -0.178573 -0.041645  "
      ]
     },
     "execution_count": 44,
     "metadata": {},
     "output_type": "execute_result"
    }
   ],
   "source": [
    "df = pd.DataFrame(zip(X_train.columns, np.transpose(logreg.coef_)), columns=['features', 'coef']) \n",
    "df = pd.concat([df, df.coef.apply(pd.Series).add_prefix('coef_')], axis = 1)\n",
    "df"
   ]
  },
  {
   "cell_type": "code",
   "execution_count": 45,
   "metadata": {},
   "outputs": [
    {
     "data": {
      "text/plain": [
       "array(['1.0', '1.5', '2.0', '2.5', '3.0', '3.5', '4.0', '4.5', '5.0'],\n",
       "      dtype=object)"
      ]
     },
     "execution_count": 45,
     "metadata": {},
     "output_type": "execute_result"
    }
   ],
   "source": [
    "logreg.classes_"
   ]
  },
  {
   "cell_type": "markdown",
   "metadata": {},
   "source": [
    "#### 3.3 EDA: Using feature cross columns only and nearby_attraction_nan indicator in Logistic Regression"
   ]
  },
  {
   "cell_type": "code",
   "execution_count": 46,
   "metadata": {},
   "outputs": [
    {
     "data": {
      "text/plain": [
       "array([4. , 5. , 4.5, 3.5, 3. , 2.5, 2. , 1.5, 1. ])"
      ]
     },
     "execution_count": 46,
     "metadata": {},
     "output_type": "execute_result"
    }
   ],
   "source": [
    "bucket_ohe_df['overall_rating'].unique()"
   ]
  },
  {
   "cell_type": "code",
   "execution_count": 47,
   "metadata": {},
   "outputs": [
    {
     "name": "stdout",
     "output_type": "stream",
     "text": [
      "training accuracy: 0.38023730070448647\n",
      "test accuracy: 0.38654060066740825\n",
      "training AUC: 0.6174702465264323\n",
      "test AUC: 0.5700528820842904\n"
     ]
    }
   ],
   "source": [
    "X = bucket_ohe_df[cross_cols + [\"nearby_attraction_nan\"]]\n",
    "y = bucket_ohe_df['overall_rating'].astype(str)\n",
    "X_train, X_test, y_train, y_test = train_test_split(X, y, random_state=1)\n",
    "\n",
    "logreg = LogisticRegression(multi_class='multinomial', max_iter=200)\n",
    "\n",
    "# fit the model with data\n",
    "logreg.fit(X_train, y_train)\n",
    "\n",
    "# predict the response for new observations\n",
    "y_pred_train = logreg.predict(X_train)\n",
    "\n",
    "# calculate accuracy\n",
    "print(\"training accuracy: {}\".format(metrics.accuracy_score(y_train, logreg.predict(X_train))))\n",
    "print(\"test accuracy: {}\".format(metrics.accuracy_score(y_test, logreg.predict(X_test))))\n",
    "\n",
    "# calculate AUC\n",
    "print(\"training AUC: {}\".format(metrics.roc_auc_score(y_train, logreg.predict_proba(X_train), multi_class=\"ovr\")))\n",
    "print(\"test AUC: {}\".format(metrics.roc_auc_score(y_test, logreg.predict_proba(X_test), multi_class=\"ovr\")))"
   ]
  },
  {
   "cell_type": "code",
   "execution_count": 48,
   "metadata": {},
   "outputs": [
    {
     "data": {
      "text/html": [
       "<div>\n",
       "<style scoped>\n",
       "    .dataframe tbody tr th:only-of-type {\n",
       "        vertical-align: middle;\n",
       "    }\n",
       "\n",
       "    .dataframe tbody tr th {\n",
       "        vertical-align: top;\n",
       "    }\n",
       "\n",
       "    .dataframe thead th {\n",
       "        text-align: right;\n",
       "    }\n",
       "</style>\n",
       "<table border=\"1\" class=\"dataframe\">\n",
       "  <thead>\n",
       "    <tr style=\"text-align: right;\">\n",
       "      <th></th>\n",
       "      <th>features</th>\n",
       "      <th>coef</th>\n",
       "      <th>coef_0</th>\n",
       "      <th>coef_1</th>\n",
       "      <th>coef_2</th>\n",
       "      <th>coef_3</th>\n",
       "      <th>coef_4</th>\n",
       "      <th>coef_5</th>\n",
       "      <th>coef_6</th>\n",
       "      <th>coef_7</th>\n",
       "      <th>coef_8</th>\n",
       "    </tr>\n",
       "  </thead>\n",
       "  <tbody>\n",
       "    <tr>\n",
       "      <th>0</th>\n",
       "      <td>nearby_attraction_arab_street_above_median</td>\n",
       "      <td>[-0.01362286645496009, -0.04660498416962134, -...</td>\n",
       "      <td>-0.013623</td>\n",
       "      <td>-0.046605</td>\n",
       "      <td>-0.145386</td>\n",
       "      <td>0.755031</td>\n",
       "      <td>-0.443285</td>\n",
       "      <td>-0.331267</td>\n",
       "      <td>-0.322023</td>\n",
       "      <td>0.647472</td>\n",
       "      <td>-0.100313</td>\n",
       "    </tr>\n",
       "    <tr>\n",
       "      <th>1</th>\n",
       "      <td>nearby_attraction_boat_quay_above_median</td>\n",
       "      <td>[-0.021418987168667688, -0.07224752065381088, ...</td>\n",
       "      <td>-0.021419</td>\n",
       "      <td>-0.072248</td>\n",
       "      <td>0.542648</td>\n",
       "      <td>0.032245</td>\n",
       "      <td>-0.405134</td>\n",
       "      <td>0.201158</td>\n",
       "      <td>0.103193</td>\n",
       "      <td>-0.398814</td>\n",
       "      <td>0.018370</td>\n",
       "    </tr>\n",
       "    <tr>\n",
       "      <th>2</th>\n",
       "      <td>nearby_attraction_chinatown_above_median</td>\n",
       "      <td>[-0.10982615100048472, -0.3196033111507493, 0....</td>\n",
       "      <td>-0.109826</td>\n",
       "      <td>-0.319603</td>\n",
       "      <td>0.180412</td>\n",
       "      <td>0.246944</td>\n",
       "      <td>-0.166768</td>\n",
       "      <td>-0.043831</td>\n",
       "      <td>0.257908</td>\n",
       "      <td>0.234095</td>\n",
       "      <td>-0.279330</td>\n",
       "    </tr>\n",
       "    <tr>\n",
       "      <th>3</th>\n",
       "      <td>nearby_attraction_east_coast_park_above_median</td>\n",
       "      <td>[-0.08312563062182972, -0.25109483046886244, -...</td>\n",
       "      <td>-0.083126</td>\n",
       "      <td>-0.251095</td>\n",
       "      <td>-0.052187</td>\n",
       "      <td>-0.191762</td>\n",
       "      <td>0.232068</td>\n",
       "      <td>0.117856</td>\n",
       "      <td>0.191616</td>\n",
       "      <td>0.040502</td>\n",
       "      <td>-0.003873</td>\n",
       "    </tr>\n",
       "    <tr>\n",
       "      <th>4</th>\n",
       "      <td>nearby_attraction_garden_above_median</td>\n",
       "      <td>[-0.12314510808795581, -0.35184528248921637, 0...</td>\n",
       "      <td>-0.123145</td>\n",
       "      <td>-0.351845</td>\n",
       "      <td>0.096171</td>\n",
       "      <td>0.255209</td>\n",
       "      <td>0.404372</td>\n",
       "      <td>0.391878</td>\n",
       "      <td>0.060337</td>\n",
       "      <td>-0.102268</td>\n",
       "      <td>-0.630710</td>\n",
       "    </tr>\n",
       "    <tr>\n",
       "      <th>5</th>\n",
       "      <td>nearby_attraction_little_india_above_median</td>\n",
       "      <td>[-0.1449607319963747, 1.126735964146195, -0.03...</td>\n",
       "      <td>-0.144961</td>\n",
       "      <td>1.126736</td>\n",
       "      <td>-0.030490</td>\n",
       "      <td>0.084623</td>\n",
       "      <td>-0.108544</td>\n",
       "      <td>-0.013885</td>\n",
       "      <td>-0.077979</td>\n",
       "      <td>-0.158384</td>\n",
       "      <td>-0.677116</td>\n",
       "    </tr>\n",
       "    <tr>\n",
       "      <th>6</th>\n",
       "      <td>nearby_attraction_marina_bay_above_median</td>\n",
       "      <td>[-0.03629758267750437, -0.11935856420146665, 0...</td>\n",
       "      <td>-0.036298</td>\n",
       "      <td>-0.119359</td>\n",
       "      <td>0.881904</td>\n",
       "      <td>-0.254371</td>\n",
       "      <td>-0.354635</td>\n",
       "      <td>-0.162109</td>\n",
       "      <td>-0.182968</td>\n",
       "      <td>0.086886</td>\n",
       "      <td>0.140950</td>\n",
       "    </tr>\n",
       "    <tr>\n",
       "      <th>7</th>\n",
       "      <td>nearby_attraction_merlion_park_above_median</td>\n",
       "      <td>[-0.026820246140545206, -0.0887082297403388, -...</td>\n",
       "      <td>-0.026820</td>\n",
       "      <td>-0.088708</td>\n",
       "      <td>-0.257885</td>\n",
       "      <td>0.353170</td>\n",
       "      <td>0.097290</td>\n",
       "      <td>0.442193</td>\n",
       "      <td>0.255930</td>\n",
       "      <td>0.162103</td>\n",
       "      <td>-0.937273</td>\n",
       "    </tr>\n",
       "    <tr>\n",
       "      <th>8</th>\n",
       "      <td>nearby_attraction_museum_above_median</td>\n",
       "      <td>[-0.0681857743255238, 0.5521226718930221, 0.04...</td>\n",
       "      <td>-0.068186</td>\n",
       "      <td>0.552123</td>\n",
       "      <td>0.049460</td>\n",
       "      <td>-0.036734</td>\n",
       "      <td>-0.176350</td>\n",
       "      <td>0.013732</td>\n",
       "      <td>0.096734</td>\n",
       "      <td>-0.032928</td>\n",
       "      <td>-0.397851</td>\n",
       "    </tr>\n",
       "    <tr>\n",
       "      <th>9</th>\n",
       "      <td>nearby_attraction_observation_above_median</td>\n",
       "      <td>[-0.062024984089053777, -0.19516148820185902, ...</td>\n",
       "      <td>-0.062025</td>\n",
       "      <td>-0.195161</td>\n",
       "      <td>0.928820</td>\n",
       "      <td>0.467341</td>\n",
       "      <td>-0.515746</td>\n",
       "      <td>-0.115775</td>\n",
       "      <td>-0.019949</td>\n",
       "      <td>-0.350292</td>\n",
       "      <td>-0.137213</td>\n",
       "    </tr>\n",
       "    <tr>\n",
       "      <th>10</th>\n",
       "      <td>nearby_attraction_orchard_road_above_median</td>\n",
       "      <td>[0.7923328464881233, -0.25919439336397143, 0.6...</td>\n",
       "      <td>0.792333</td>\n",
       "      <td>-0.259194</td>\n",
       "      <td>0.684875</td>\n",
       "      <td>-0.226602</td>\n",
       "      <td>0.282509</td>\n",
       "      <td>0.133623</td>\n",
       "      <td>-0.135482</td>\n",
       "      <td>-0.247328</td>\n",
       "      <td>-1.024734</td>\n",
       "    </tr>\n",
       "    <tr>\n",
       "      <th>11</th>\n",
       "      <td>nearby_attraction_wildlife_above_median</td>\n",
       "      <td>[-0.03963901216176516, 0.7040883865714958, -0....</td>\n",
       "      <td>-0.039639</td>\n",
       "      <td>0.704088</td>\n",
       "      <td>-0.357466</td>\n",
       "      <td>-0.306090</td>\n",
       "      <td>0.519684</td>\n",
       "      <td>0.444205</td>\n",
       "      <td>-0.503891</td>\n",
       "      <td>-0.304902</td>\n",
       "      <td>-0.155990</td>\n",
       "    </tr>\n",
       "    <tr>\n",
       "      <th>12</th>\n",
       "      <td>nearby_attraction_nan</td>\n",
       "      <td>[0.1409259795141224, 0.9351552683539195, 0.481...</td>\n",
       "      <td>0.140926</td>\n",
       "      <td>0.935155</td>\n",
       "      <td>0.481770</td>\n",
       "      <td>0.272832</td>\n",
       "      <td>-0.031514</td>\n",
       "      <td>-0.085403</td>\n",
       "      <td>-0.380051</td>\n",
       "      <td>-0.616638</td>\n",
       "      <td>-0.717077</td>\n",
       "    </tr>\n",
       "  </tbody>\n",
       "</table>\n",
       "</div>"
      ],
      "text/plain": [
       "                                          features  \\\n",
       "0       nearby_attraction_arab_street_above_median   \n",
       "1         nearby_attraction_boat_quay_above_median   \n",
       "2         nearby_attraction_chinatown_above_median   \n",
       "3   nearby_attraction_east_coast_park_above_median   \n",
       "4            nearby_attraction_garden_above_median   \n",
       "5      nearby_attraction_little_india_above_median   \n",
       "6        nearby_attraction_marina_bay_above_median   \n",
       "7      nearby_attraction_merlion_park_above_median   \n",
       "8            nearby_attraction_museum_above_median   \n",
       "9       nearby_attraction_observation_above_median   \n",
       "10     nearby_attraction_orchard_road_above_median   \n",
       "11         nearby_attraction_wildlife_above_median   \n",
       "12                           nearby_attraction_nan   \n",
       "\n",
       "                                                 coef    coef_0    coef_1  \\\n",
       "0   [-0.01362286645496009, -0.04660498416962134, -... -0.013623 -0.046605   \n",
       "1   [-0.021418987168667688, -0.07224752065381088, ... -0.021419 -0.072248   \n",
       "2   [-0.10982615100048472, -0.3196033111507493, 0.... -0.109826 -0.319603   \n",
       "3   [-0.08312563062182972, -0.25109483046886244, -... -0.083126 -0.251095   \n",
       "4   [-0.12314510808795581, -0.35184528248921637, 0... -0.123145 -0.351845   \n",
       "5   [-0.1449607319963747, 1.126735964146195, -0.03... -0.144961  1.126736   \n",
       "6   [-0.03629758267750437, -0.11935856420146665, 0... -0.036298 -0.119359   \n",
       "7   [-0.026820246140545206, -0.0887082297403388, -... -0.026820 -0.088708   \n",
       "8   [-0.0681857743255238, 0.5521226718930221, 0.04... -0.068186  0.552123   \n",
       "9   [-0.062024984089053777, -0.19516148820185902, ... -0.062025 -0.195161   \n",
       "10  [0.7923328464881233, -0.25919439336397143, 0.6...  0.792333 -0.259194   \n",
       "11  [-0.03963901216176516, 0.7040883865714958, -0.... -0.039639  0.704088   \n",
       "12  [0.1409259795141224, 0.9351552683539195, 0.481...  0.140926  0.935155   \n",
       "\n",
       "      coef_2    coef_3    coef_4    coef_5    coef_6    coef_7    coef_8  \n",
       "0  -0.145386  0.755031 -0.443285 -0.331267 -0.322023  0.647472 -0.100313  \n",
       "1   0.542648  0.032245 -0.405134  0.201158  0.103193 -0.398814  0.018370  \n",
       "2   0.180412  0.246944 -0.166768 -0.043831  0.257908  0.234095 -0.279330  \n",
       "3  -0.052187 -0.191762  0.232068  0.117856  0.191616  0.040502 -0.003873  \n",
       "4   0.096171  0.255209  0.404372  0.391878  0.060337 -0.102268 -0.630710  \n",
       "5  -0.030490  0.084623 -0.108544 -0.013885 -0.077979 -0.158384 -0.677116  \n",
       "6   0.881904 -0.254371 -0.354635 -0.162109 -0.182968  0.086886  0.140950  \n",
       "7  -0.257885  0.353170  0.097290  0.442193  0.255930  0.162103 -0.937273  \n",
       "8   0.049460 -0.036734 -0.176350  0.013732  0.096734 -0.032928 -0.397851  \n",
       "9   0.928820  0.467341 -0.515746 -0.115775 -0.019949 -0.350292 -0.137213  \n",
       "10  0.684875 -0.226602  0.282509  0.133623 -0.135482 -0.247328 -1.024734  \n",
       "11 -0.357466 -0.306090  0.519684  0.444205 -0.503891 -0.304902 -0.155990  \n",
       "12  0.481770  0.272832 -0.031514 -0.085403 -0.380051 -0.616638 -0.717077  "
      ]
     },
     "execution_count": 48,
     "metadata": {},
     "output_type": "execute_result"
    }
   ],
   "source": [
    "df = pd.DataFrame(zip(X_train.columns, np.transpose(logreg.coef_)), columns=['features', 'coef']) \n",
    "df = pd.concat([df, df.coef.apply(pd.Series).add_prefix('coef_')], axis = 1)\n",
    "df"
   ]
  },
  {
   "cell_type": "markdown",
   "metadata": {},
   "source": [
    "#### 3.3 EDA: Using feature cross columns and all One-Hot Encoded nearby_attraction columns in Logistic Regression"
   ]
  },
  {
   "cell_type": "code",
   "execution_count": 49,
   "metadata": {},
   "outputs": [
    {
     "data": {
      "text/plain": [
       "['nearby_attraction_arab_street_above_median',\n",
       " 'nearby_attraction_boat_quay_above_median',\n",
       " 'nearby_attraction_chinatown_above_median',\n",
       " 'nearby_attraction_east_coast_park_above_median',\n",
       " 'nearby_attraction_garden_above_median',\n",
       " 'nearby_attraction_little_india_above_median',\n",
       " 'nearby_attraction_marina_bay_above_median',\n",
       " 'nearby_attraction_merlion_park_above_median',\n",
       " 'nearby_attraction_museum_above_median',\n",
       " 'nearby_attraction_observation_above_median',\n",
       " 'nearby_attraction_orchard_road_above_median',\n",
       " 'nearby_attraction_wildlife_above_median',\n",
       " 'nearby_attraction_arab_street',\n",
       " 'nearby_attraction_boat_quay',\n",
       " 'nearby_attraction_chinatown',\n",
       " 'nearby_attraction_east_coast_park',\n",
       " 'nearby_attraction_garden',\n",
       " 'nearby_attraction_little_india',\n",
       " 'nearby_attraction_marina_bay',\n",
       " 'nearby_attraction_merlion_park',\n",
       " 'nearby_attraction_museum',\n",
       " 'nearby_attraction_observation',\n",
       " 'nearby_attraction_orchard_road',\n",
       " 'nearby_attraction_wildlife',\n",
       " 'nearby_attraction_nan']"
      ]
     },
     "execution_count": 49,
     "metadata": {},
     "output_type": "execute_result"
    }
   ],
   "source": [
    "attraction_eda_cols"
   ]
  },
  {
   "cell_type": "code",
   "execution_count": 50,
   "metadata": {},
   "outputs": [
    {
     "name": "stdout",
     "output_type": "stream",
     "text": [
      "training accuracy: 0.38116425658138675\n",
      "test accuracy: 0.3832035595105673\n",
      "training AUC: 0.6703243918834482\n",
      "test AUC: 0.5844301693058322\n"
     ]
    }
   ],
   "source": [
    "X = bucket_ohe_df[attraction_eda_cols]\n",
    "y = bucket_ohe_df['overall_rating'].astype(str)\n",
    "X_train, X_test, y_train, y_test = train_test_split(X, y, random_state=1)\n",
    "\n",
    "logreg = LogisticRegression(multi_class='multinomial', max_iter=200)\n",
    "\n",
    "# fit the model with data\n",
    "logreg.fit(X_train, y_train)\n",
    "\n",
    "# predict the response for new observations\n",
    "y_pred_train = logreg.predict(X_train)\n",
    "\n",
    "# calculate accuracy\n",
    "print(\"training accuracy: {}\".format(metrics.accuracy_score(y_train, logreg.predict(X_train))))\n",
    "print(\"test accuracy: {}\".format(metrics.accuracy_score(y_test, logreg.predict(X_test))))\n",
    "\n",
    "# calculate AUC\n",
    "print(\"training AUC: {}\".format(metrics.roc_auc_score(y_train, logreg.predict_proba(X_train), multi_class=\"ovr\")))\n",
    "print(\"test AUC: {}\".format(metrics.roc_auc_score(y_test, logreg.predict_proba(X_test), multi_class=\"ovr\")))"
   ]
  },
  {
   "cell_type": "code",
   "execution_count": 51,
   "metadata": {},
   "outputs": [
    {
     "data": {
      "text/html": [
       "<div>\n",
       "<style scoped>\n",
       "    .dataframe tbody tr th:only-of-type {\n",
       "        vertical-align: middle;\n",
       "    }\n",
       "\n",
       "    .dataframe tbody tr th {\n",
       "        vertical-align: top;\n",
       "    }\n",
       "\n",
       "    .dataframe thead th {\n",
       "        text-align: right;\n",
       "    }\n",
       "</style>\n",
       "<table border=\"1\" class=\"dataframe\">\n",
       "  <thead>\n",
       "    <tr style=\"text-align: right;\">\n",
       "      <th></th>\n",
       "      <th>features</th>\n",
       "      <th>coef</th>\n",
       "      <th>coef_0</th>\n",
       "      <th>coef_1</th>\n",
       "      <th>coef_2</th>\n",
       "      <th>coef_3</th>\n",
       "      <th>coef_4</th>\n",
       "      <th>coef_5</th>\n",
       "      <th>coef_6</th>\n",
       "      <th>coef_7</th>\n",
       "      <th>coef_8</th>\n",
       "    </tr>\n",
       "  </thead>\n",
       "  <tbody>\n",
       "    <tr>\n",
       "      <th>0</th>\n",
       "      <td>nearby_attraction_arab_street_above_median</td>\n",
       "      <td>[-0.011550998243496756, -0.04028032397043773, ...</td>\n",
       "      <td>-0.011551</td>\n",
       "      <td>-0.040280</td>\n",
       "      <td>-0.162584</td>\n",
       "      <td>0.842025</td>\n",
       "      <td>-0.341797</td>\n",
       "      <td>-0.222009</td>\n",
       "      <td>-0.032721</td>\n",
       "      <td>0.435978</td>\n",
       "      <td>-0.467061</td>\n",
       "    </tr>\n",
       "    <tr>\n",
       "      <th>1</th>\n",
       "      <td>nearby_attraction_boat_quay_above_median</td>\n",
       "      <td>[-0.021267829030254974, -0.1540722322863616, 0...</td>\n",
       "      <td>-0.021268</td>\n",
       "      <td>-0.154072</td>\n",
       "      <td>0.252647</td>\n",
       "      <td>0.009194</td>\n",
       "      <td>0.109998</td>\n",
       "      <td>0.280601</td>\n",
       "      <td>0.358201</td>\n",
       "      <td>-0.742624</td>\n",
       "      <td>-0.092677</td>\n",
       "    </tr>\n",
       "    <tr>\n",
       "      <th>2</th>\n",
       "      <td>nearby_attraction_chinatown_above_median</td>\n",
       "      <td>[-0.0732468788129228, -0.18907610036145778, 0....</td>\n",
       "      <td>-0.073247</td>\n",
       "      <td>-0.189076</td>\n",
       "      <td>0.438756</td>\n",
       "      <td>0.198587</td>\n",
       "      <td>0.147682</td>\n",
       "      <td>0.159114</td>\n",
       "      <td>0.271071</td>\n",
       "      <td>-0.111572</td>\n",
       "      <td>-0.841316</td>\n",
       "    </tr>\n",
       "    <tr>\n",
       "      <th>3</th>\n",
       "      <td>nearby_attraction_east_coast_park_above_median</td>\n",
       "      <td>[-0.06315168318272855, -0.17658635246578175, -...</td>\n",
       "      <td>-0.063152</td>\n",
       "      <td>-0.176586</td>\n",
       "      <td>-0.440157</td>\n",
       "      <td>-0.281875</td>\n",
       "      <td>0.112096</td>\n",
       "      <td>0.170062</td>\n",
       "      <td>0.113844</td>\n",
       "      <td>0.271906</td>\n",
       "      <td>0.293861</td>\n",
       "    </tr>\n",
       "    <tr>\n",
       "      <th>4</th>\n",
       "      <td>nearby_attraction_garden_above_median</td>\n",
       "      <td>[-0.08520843580723873, -0.22600725197466712, 0...</td>\n",
       "      <td>-0.085208</td>\n",
       "      <td>-0.226007</td>\n",
       "      <td>0.457677</td>\n",
       "      <td>0.482599</td>\n",
       "      <td>0.300051</td>\n",
       "      <td>0.074469</td>\n",
       "      <td>-0.218534</td>\n",
       "      <td>-0.389806</td>\n",
       "      <td>-0.395240</td>\n",
       "    </tr>\n",
       "    <tr>\n",
       "      <th>5</th>\n",
       "      <td>nearby_attraction_little_india_above_median</td>\n",
       "      <td>[-0.10703975721982129, 0.701739403594773, -0.0...</td>\n",
       "      <td>-0.107040</td>\n",
       "      <td>0.701739</td>\n",
       "      <td>-0.027194</td>\n",
       "      <td>0.716064</td>\n",
       "      <td>-0.055021</td>\n",
       "      <td>0.063906</td>\n",
       "      <td>-0.307005</td>\n",
       "      <td>-0.145536</td>\n",
       "      <td>-0.839914</td>\n",
       "    </tr>\n",
       "    <tr>\n",
       "      <th>6</th>\n",
       "      <td>nearby_attraction_marina_bay_above_median</td>\n",
       "      <td>[-0.02854415629767398, -0.09032371889003958, 0...</td>\n",
       "      <td>-0.028544</td>\n",
       "      <td>-0.090324</td>\n",
       "      <td>0.915601</td>\n",
       "      <td>-0.361505</td>\n",
       "      <td>-0.423532</td>\n",
       "      <td>-0.106586</td>\n",
       "      <td>-0.225161</td>\n",
       "      <td>-0.190137</td>\n",
       "      <td>0.510188</td>\n",
       "    </tr>\n",
       "    <tr>\n",
       "      <th>7</th>\n",
       "      <td>nearby_attraction_merlion_park_above_median</td>\n",
       "      <td>[-0.023460242029494427, -0.1414122233931738, -...</td>\n",
       "      <td>-0.023460</td>\n",
       "      <td>-0.141412</td>\n",
       "      <td>-0.344396</td>\n",
       "      <td>0.346947</td>\n",
       "      <td>-0.000113</td>\n",
       "      <td>0.446150</td>\n",
       "      <td>0.551868</td>\n",
       "      <td>0.091342</td>\n",
       "      <td>-0.926926</td>\n",
       "    </tr>\n",
       "    <tr>\n",
       "      <th>8</th>\n",
       "      <td>nearby_attraction_museum_above_median</td>\n",
       "      <td>[-0.05441124167174201, 0.4854753823491286, 0.2...</td>\n",
       "      <td>-0.054411</td>\n",
       "      <td>0.485475</td>\n",
       "      <td>0.222217</td>\n",
       "      <td>-0.006622</td>\n",
       "      <td>-0.138378</td>\n",
       "      <td>-0.133795</td>\n",
       "      <td>-0.022665</td>\n",
       "      <td>0.022360</td>\n",
       "      <td>-0.374181</td>\n",
       "    </tr>\n",
       "    <tr>\n",
       "      <th>9</th>\n",
       "      <td>nearby_attraction_observation_above_median</td>\n",
       "      <td>[-0.04927494861358414, -0.14717657918036844, 0...</td>\n",
       "      <td>-0.049275</td>\n",
       "      <td>-0.147177</td>\n",
       "      <td>0.485622</td>\n",
       "      <td>0.069782</td>\n",
       "      <td>-0.968368</td>\n",
       "      <td>-0.380469</td>\n",
       "      <td>0.100940</td>\n",
       "      <td>0.351154</td>\n",
       "      <td>0.537789</td>\n",
       "    </tr>\n",
       "    <tr>\n",
       "      <th>10</th>\n",
       "      <td>nearby_attraction_orchard_road_above_median</td>\n",
       "      <td>[0.520405791445926, -0.1926565865748197, 0.825...</td>\n",
       "      <td>0.520406</td>\n",
       "      <td>-0.192657</td>\n",
       "      <td>0.825999</td>\n",
       "      <td>-0.337026</td>\n",
       "      <td>0.095875</td>\n",
       "      <td>-0.150198</td>\n",
       "      <td>-0.332997</td>\n",
       "      <td>0.086536</td>\n",
       "      <td>-0.515937</td>\n",
       "    </tr>\n",
       "    <tr>\n",
       "      <th>11</th>\n",
       "      <td>nearby_attraction_wildlife_above_median</td>\n",
       "      <td>[-0.03359447115062821, 0.6065003996008164, -0....</td>\n",
       "      <td>-0.033594</td>\n",
       "      <td>0.606500</td>\n",
       "      <td>-0.231968</td>\n",
       "      <td>-0.806291</td>\n",
       "      <td>0.091288</td>\n",
       "      <td>0.283514</td>\n",
       "      <td>-0.202918</td>\n",
       "      <td>0.421400</td>\n",
       "      <td>-0.127930</td>\n",
       "    </tr>\n",
       "    <tr>\n",
       "      <th>12</th>\n",
       "      <td>nearby_attraction_arab_street</td>\n",
       "      <td>[-0.060326471732155496, -0.21514985197581982, ...</td>\n",
       "      <td>-0.060326</td>\n",
       "      <td>-0.215150</td>\n",
       "      <td>0.049411</td>\n",
       "      <td>-0.236033</td>\n",
       "      <td>-0.195850</td>\n",
       "      <td>-0.175148</td>\n",
       "      <td>-0.270567</td>\n",
       "      <td>0.314590</td>\n",
       "      <td>0.789072</td>\n",
       "    </tr>\n",
       "    <tr>\n",
       "      <th>13</th>\n",
       "      <td>nearby_attraction_boat_quay</td>\n",
       "      <td>[-0.047219065812370745, 0.6380519103207958, 0....</td>\n",
       "      <td>-0.047219</td>\n",
       "      <td>0.638052</td>\n",
       "      <td>0.562362</td>\n",
       "      <td>-0.161815</td>\n",
       "      <td>-0.907132</td>\n",
       "      <td>-0.260022</td>\n",
       "      <td>-0.343780</td>\n",
       "      <td>0.351909</td>\n",
       "      <td>0.167646</td>\n",
       "    </tr>\n",
       "    <tr>\n",
       "      <th>14</th>\n",
       "      <td>nearby_attraction_chinatown</td>\n",
       "      <td>[-0.21801972553067958, -0.6062271592369597, -0...</td>\n",
       "      <td>-0.218020</td>\n",
       "      <td>-0.606227</td>\n",
       "      <td>-0.386207</td>\n",
       "      <td>0.076797</td>\n",
       "      <td>-0.254563</td>\n",
       "      <td>-0.149464</td>\n",
       "      <td>0.143242</td>\n",
       "      <td>0.534722</td>\n",
       "      <td>0.859720</td>\n",
       "    </tr>\n",
       "    <tr>\n",
       "      <th>15</th>\n",
       "      <td>nearby_attraction_east_coast_park</td>\n",
       "      <td>[-0.1520040838844269, -0.45368723871928074, 0....</td>\n",
       "      <td>-0.152004</td>\n",
       "      <td>-0.453687</td>\n",
       "      <td>0.645911</td>\n",
       "      <td>0.060416</td>\n",
       "      <td>0.127772</td>\n",
       "      <td>-0.073316</td>\n",
       "      <td>0.157041</td>\n",
       "      <td>-0.130573</td>\n",
       "      <td>-0.181559</td>\n",
       "    </tr>\n",
       "    <tr>\n",
       "      <th>16</th>\n",
       "      <td>nearby_attraction_garden</td>\n",
       "      <td>[-0.1805727378455311, -0.5155163853117618, -0....</td>\n",
       "      <td>-0.180573</td>\n",
       "      <td>-0.515516</td>\n",
       "      <td>-0.538337</td>\n",
       "      <td>-0.231080</td>\n",
       "      <td>0.191644</td>\n",
       "      <td>0.384005</td>\n",
       "      <td>0.442910</td>\n",
       "      <td>0.482522</td>\n",
       "      <td>-0.035574</td>\n",
       "    </tr>\n",
       "    <tr>\n",
       "      <th>17</th>\n",
       "      <td>nearby_attraction_little_india</td>\n",
       "      <td>[-0.22540800222733082, 0.579623025935749, -0.0...</td>\n",
       "      <td>-0.225408</td>\n",
       "      <td>0.579623</td>\n",
       "      <td>-0.073279</td>\n",
       "      <td>-0.787102</td>\n",
       "      <td>-0.070643</td>\n",
       "      <td>-0.114725</td>\n",
       "      <td>0.293518</td>\n",
       "      <td>0.077314</td>\n",
       "      <td>0.320702</td>\n",
       "    </tr>\n",
       "    <tr>\n",
       "      <th>18</th>\n",
       "      <td>nearby_attraction_marina_bay</td>\n",
       "      <td>[-0.0961550207295926, -0.3177471851671973, -0....</td>\n",
       "      <td>-0.096155</td>\n",
       "      <td>-0.317747</td>\n",
       "      <td>-0.089641</td>\n",
       "      <td>0.161077</td>\n",
       "      <td>0.111229</td>\n",
       "      <td>-0.052821</td>\n",
       "      <td>0.148505</td>\n",
       "      <td>0.425507</td>\n",
       "      <td>-0.289953</td>\n",
       "    </tr>\n",
       "    <tr>\n",
       "      <th>19</th>\n",
       "      <td>nearby_attraction_merlion_park</td>\n",
       "      <td>[-0.09595361851836187, 0.37665735861628835, 0....</td>\n",
       "      <td>-0.095954</td>\n",
       "      <td>0.376657</td>\n",
       "      <td>0.214320</td>\n",
       "      <td>-0.151368</td>\n",
       "      <td>0.013969</td>\n",
       "      <td>-0.128813</td>\n",
       "      <td>-0.334526</td>\n",
       "      <td>0.078109</td>\n",
       "      <td>0.027605</td>\n",
       "    </tr>\n",
       "    <tr>\n",
       "      <th>20</th>\n",
       "      <td>nearby_attraction_museum</td>\n",
       "      <td>[-0.11379855272332799, 0.15578555958342455, -0...</td>\n",
       "      <td>-0.113799</td>\n",
       "      <td>0.155786</td>\n",
       "      <td>-0.421741</td>\n",
       "      <td>-0.096358</td>\n",
       "      <td>-0.038132</td>\n",
       "      <td>0.134698</td>\n",
       "      <td>0.201885</td>\n",
       "      <td>0.051562</td>\n",
       "      <td>0.126098</td>\n",
       "    </tr>\n",
       "    <tr>\n",
       "      <th>21</th>\n",
       "      <td>nearby_attraction_observation</td>\n",
       "      <td>[-0.1133248662074315, -0.3578281753427079, 0.5...</td>\n",
       "      <td>-0.113325</td>\n",
       "      <td>-0.357828</td>\n",
       "      <td>0.589240</td>\n",
       "      <td>0.428270</td>\n",
       "      <td>0.522630</td>\n",
       "      <td>0.259066</td>\n",
       "      <td>-0.041649</td>\n",
       "      <td>-0.626718</td>\n",
       "      <td>-0.659686</td>\n",
       "    </tr>\n",
       "    <tr>\n",
       "      <th>22</th>\n",
       "      <td>nearby_attraction_orchard_road</td>\n",
       "      <td>[1.176634651685529, -0.476176051125911, -0.327...</td>\n",
       "      <td>1.176635</td>\n",
       "      <td>-0.476176</td>\n",
       "      <td>-0.327681</td>\n",
       "      <td>0.013130</td>\n",
       "      <td>0.126200</td>\n",
       "      <td>0.199029</td>\n",
       "      <td>0.208161</td>\n",
       "      <td>-0.308427</td>\n",
       "      <td>-0.610870</td>\n",
       "    </tr>\n",
       "    <tr>\n",
       "      <th>23</th>\n",
       "      <td>nearby_attraction_wildlife</td>\n",
       "      <td>[-0.08096758632453066, 0.31033953700004135, -0...</td>\n",
       "      <td>-0.080968</td>\n",
       "      <td>0.310340</td>\n",
       "      <td>-0.630108</td>\n",
       "      <td>0.736969</td>\n",
       "      <td>0.435634</td>\n",
       "      <td>0.116582</td>\n",
       "      <td>-0.268678</td>\n",
       "      <td>-0.706136</td>\n",
       "      <td>0.086365</td>\n",
       "    </tr>\n",
       "    <tr>\n",
       "      <th>24</th>\n",
       "      <td>nearby_attraction_nan</td>\n",
       "      <td>[0.17818853645453656, 0.8790949892502748, 0.40...</td>\n",
       "      <td>0.178189</td>\n",
       "      <td>0.879095</td>\n",
       "      <td>0.407087</td>\n",
       "      <td>0.190523</td>\n",
       "      <td>-0.057924</td>\n",
       "      <td>-0.133116</td>\n",
       "      <td>-0.329696</td>\n",
       "      <td>-0.538634</td>\n",
       "      <td>-0.595523</td>\n",
       "    </tr>\n",
       "  </tbody>\n",
       "</table>\n",
       "</div>"
      ],
      "text/plain": [
       "                                          features  \\\n",
       "0       nearby_attraction_arab_street_above_median   \n",
       "1         nearby_attraction_boat_quay_above_median   \n",
       "2         nearby_attraction_chinatown_above_median   \n",
       "3   nearby_attraction_east_coast_park_above_median   \n",
       "4            nearby_attraction_garden_above_median   \n",
       "5      nearby_attraction_little_india_above_median   \n",
       "6        nearby_attraction_marina_bay_above_median   \n",
       "7      nearby_attraction_merlion_park_above_median   \n",
       "8            nearby_attraction_museum_above_median   \n",
       "9       nearby_attraction_observation_above_median   \n",
       "10     nearby_attraction_orchard_road_above_median   \n",
       "11         nearby_attraction_wildlife_above_median   \n",
       "12                   nearby_attraction_arab_street   \n",
       "13                     nearby_attraction_boat_quay   \n",
       "14                     nearby_attraction_chinatown   \n",
       "15               nearby_attraction_east_coast_park   \n",
       "16                        nearby_attraction_garden   \n",
       "17                  nearby_attraction_little_india   \n",
       "18                    nearby_attraction_marina_bay   \n",
       "19                  nearby_attraction_merlion_park   \n",
       "20                        nearby_attraction_museum   \n",
       "21                   nearby_attraction_observation   \n",
       "22                  nearby_attraction_orchard_road   \n",
       "23                      nearby_attraction_wildlife   \n",
       "24                           nearby_attraction_nan   \n",
       "\n",
       "                                                 coef    coef_0    coef_1  \\\n",
       "0   [-0.011550998243496756, -0.04028032397043773, ... -0.011551 -0.040280   \n",
       "1   [-0.021267829030254974, -0.1540722322863616, 0... -0.021268 -0.154072   \n",
       "2   [-0.0732468788129228, -0.18907610036145778, 0.... -0.073247 -0.189076   \n",
       "3   [-0.06315168318272855, -0.17658635246578175, -... -0.063152 -0.176586   \n",
       "4   [-0.08520843580723873, -0.22600725197466712, 0... -0.085208 -0.226007   \n",
       "5   [-0.10703975721982129, 0.701739403594773, -0.0... -0.107040  0.701739   \n",
       "6   [-0.02854415629767398, -0.09032371889003958, 0... -0.028544 -0.090324   \n",
       "7   [-0.023460242029494427, -0.1414122233931738, -... -0.023460 -0.141412   \n",
       "8   [-0.05441124167174201, 0.4854753823491286, 0.2... -0.054411  0.485475   \n",
       "9   [-0.04927494861358414, -0.14717657918036844, 0... -0.049275 -0.147177   \n",
       "10  [0.520405791445926, -0.1926565865748197, 0.825...  0.520406 -0.192657   \n",
       "11  [-0.03359447115062821, 0.6065003996008164, -0.... -0.033594  0.606500   \n",
       "12  [-0.060326471732155496, -0.21514985197581982, ... -0.060326 -0.215150   \n",
       "13  [-0.047219065812370745, 0.6380519103207958, 0.... -0.047219  0.638052   \n",
       "14  [-0.21801972553067958, -0.6062271592369597, -0... -0.218020 -0.606227   \n",
       "15  [-0.1520040838844269, -0.45368723871928074, 0.... -0.152004 -0.453687   \n",
       "16  [-0.1805727378455311, -0.5155163853117618, -0.... -0.180573 -0.515516   \n",
       "17  [-0.22540800222733082, 0.579623025935749, -0.0... -0.225408  0.579623   \n",
       "18  [-0.0961550207295926, -0.3177471851671973, -0.... -0.096155 -0.317747   \n",
       "19  [-0.09595361851836187, 0.37665735861628835, 0.... -0.095954  0.376657   \n",
       "20  [-0.11379855272332799, 0.15578555958342455, -0... -0.113799  0.155786   \n",
       "21  [-0.1133248662074315, -0.3578281753427079, 0.5... -0.113325 -0.357828   \n",
       "22  [1.176634651685529, -0.476176051125911, -0.327...  1.176635 -0.476176   \n",
       "23  [-0.08096758632453066, 0.31033953700004135, -0... -0.080968  0.310340   \n",
       "24  [0.17818853645453656, 0.8790949892502748, 0.40...  0.178189  0.879095   \n",
       "\n",
       "      coef_2    coef_3    coef_4    coef_5    coef_6    coef_7    coef_8  \n",
       "0  -0.162584  0.842025 -0.341797 -0.222009 -0.032721  0.435978 -0.467061  \n",
       "1   0.252647  0.009194  0.109998  0.280601  0.358201 -0.742624 -0.092677  \n",
       "2   0.438756  0.198587  0.147682  0.159114  0.271071 -0.111572 -0.841316  \n",
       "3  -0.440157 -0.281875  0.112096  0.170062  0.113844  0.271906  0.293861  \n",
       "4   0.457677  0.482599  0.300051  0.074469 -0.218534 -0.389806 -0.395240  \n",
       "5  -0.027194  0.716064 -0.055021  0.063906 -0.307005 -0.145536 -0.839914  \n",
       "6   0.915601 -0.361505 -0.423532 -0.106586 -0.225161 -0.190137  0.510188  \n",
       "7  -0.344396  0.346947 -0.000113  0.446150  0.551868  0.091342 -0.926926  \n",
       "8   0.222217 -0.006622 -0.138378 -0.133795 -0.022665  0.022360 -0.374181  \n",
       "9   0.485622  0.069782 -0.968368 -0.380469  0.100940  0.351154  0.537789  \n",
       "10  0.825999 -0.337026  0.095875 -0.150198 -0.332997  0.086536 -0.515937  \n",
       "11 -0.231968 -0.806291  0.091288  0.283514 -0.202918  0.421400 -0.127930  \n",
       "12  0.049411 -0.236033 -0.195850 -0.175148 -0.270567  0.314590  0.789072  \n",
       "13  0.562362 -0.161815 -0.907132 -0.260022 -0.343780  0.351909  0.167646  \n",
       "14 -0.386207  0.076797 -0.254563 -0.149464  0.143242  0.534722  0.859720  \n",
       "15  0.645911  0.060416  0.127772 -0.073316  0.157041 -0.130573 -0.181559  \n",
       "16 -0.538337 -0.231080  0.191644  0.384005  0.442910  0.482522 -0.035574  \n",
       "17 -0.073279 -0.787102 -0.070643 -0.114725  0.293518  0.077314  0.320702  \n",
       "18 -0.089641  0.161077  0.111229 -0.052821  0.148505  0.425507 -0.289953  \n",
       "19  0.214320 -0.151368  0.013969 -0.128813 -0.334526  0.078109  0.027605  \n",
       "20 -0.421741 -0.096358 -0.038132  0.134698  0.201885  0.051562  0.126098  \n",
       "21  0.589240  0.428270  0.522630  0.259066 -0.041649 -0.626718 -0.659686  \n",
       "22 -0.327681  0.013130  0.126200  0.199029  0.208161 -0.308427 -0.610870  \n",
       "23 -0.630108  0.736969  0.435634  0.116582 -0.268678 -0.706136  0.086365  \n",
       "24  0.407087  0.190523 -0.057924 -0.133116 -0.329696 -0.538634 -0.595523  "
      ]
     },
     "execution_count": 51,
     "metadata": {},
     "output_type": "execute_result"
    }
   ],
   "source": [
    "df = pd.DataFrame(zip(X_train.columns, np.transpose(logreg.coef_)), columns=['features', 'coef']) \n",
    "df = pd.concat([df, df.coef.apply(pd.Series).add_prefix('coef_')], axis = 1)\n",
    "df"
   ]
  }
 ],
 "metadata": {
  "interpreter": {
   "hash": "f79c354a758cf5788966b052ccdc6a0564dad98118ae6114aefad974fb8127f0"
  },
  "kernelspec": {
   "display_name": "Python 3.7.11 ('bt4222_proj')",
   "language": "python",
   "name": "python3"
  },
  "language_info": {
   "codemirror_mode": {
    "name": "ipython",
    "version": 3
   },
   "file_extension": ".py",
   "mimetype": "text/x-python",
   "name": "python",
   "nbconvert_exporter": "python",
   "pygments_lexer": "ipython3",
   "version": "3.7.11"
  },
  "orig_nbformat": 4
 },
 "nbformat": 4,
 "nbformat_minor": 2
}
