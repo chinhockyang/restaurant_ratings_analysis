{
 "cells": [
  {
   "cell_type": "code",
   "execution_count": 1,
   "metadata": {},
   "outputs": [],
   "source": [
    "import pandas as pd\n",
    "import numpy as np\n",
    "import string\n",
    "import re"
   ]
  },
  {
   "cell_type": "code",
   "execution_count": 2,
   "metadata": {},
   "outputs": [],
   "source": [
    "df_reviews = pd.read_csv('final_restaurant_review_data.csv', lineterminator='\\n')"
   ]
  },
  {
   "cell_type": "markdown",
   "metadata": {},
   "source": [
    "#### Converting full_review column to str for pre-processing"
   ]
  },
  {
   "cell_type": "code",
   "execution_count": 3,
   "metadata": {},
   "outputs": [],
   "source": [
    "df_reviews['full_review'] = df_reviews['full_review'].astype(str)"
   ]
  },
  {
   "cell_type": "markdown",
   "metadata": {},
   "source": [
    "### Text Pre-processing"
   ]
  },
  {
   "cell_type": "markdown",
   "metadata": {},
   "source": [
    "#### Punctuation removal\n",
    "##### All the punctuations from the text are removed. string library of Python contains some pre-defined list of punctuations such as ‘!”#$%&'()*+,-./:;?@[\\]^_`{|}~’"
   ]
  },
  {
   "cell_type": "code",
   "execution_count": 4,
   "metadata": {},
   "outputs": [
    {
     "data": {
      "text/plain": [
       "'!\"#$%&\\'()*+,-./:;<=>?@[\\\\]^_`{|}~'"
      ]
     },
     "execution_count": 4,
     "metadata": {},
     "output_type": "execute_result"
    }
   ],
   "source": [
    "string.punctuation"
   ]
  },
  {
   "cell_type": "code",
   "execution_count": 5,
   "metadata": {},
   "outputs": [],
   "source": [
    "# function to remove punctuation\n",
    "def remove_punctuation(review):\n",
    "    review_without_punctuation = \"\".join([i for i in review if i not in string.punctuation])\n",
    "    return review_without_punctuation\n",
    "\n",
    "df_reviews['cleaned_review'] = df_reviews['full_review'].apply(lambda x: remove_punctuation(x))"
   ]
  },
  {
   "cell_type": "markdown",
   "metadata": {},
   "source": [
    "#### Removing numbers as they do not hold information"
   ]
  },
  {
   "cell_type": "code",
   "execution_count": 6,
   "metadata": {},
   "outputs": [],
   "source": [
    "df_reviews['cleaned_review'].replace('\\d', '', regex=True, inplace=True)"
   ]
  },
  {
   "cell_type": "markdown",
   "metadata": {},
   "source": [
    "#### Removing emojis as they do not hold information"
   ]
  },
  {
   "cell_type": "code",
   "execution_count": 7,
   "metadata": {},
   "outputs": [],
   "source": [
    "def remove_emojis(review):\n",
    "    return review.encode('ascii', 'ignore').decode('ascii')\n",
    "df_reviews['cleaned_review'] = df_reviews['cleaned_review'].apply(lambda x: remove_emojis(x))"
   ]
  },
  {
   "cell_type": "markdown",
   "metadata": {},
   "source": [
    "#### Removing nltk english stopwords"
   ]
  },
  {
   "cell_type": "code",
   "execution_count": 8,
   "metadata": {},
   "outputs": [
    {
     "name": "stderr",
     "output_type": "stream",
     "text": [
      "[nltk_data] Downloading package stopwords to /Users/dylan/nltk_data...\n",
      "[nltk_data]   Package stopwords is already up-to-date!\n"
     ]
    },
    {
     "data": {
      "text/html": [
       "<div>\n",
       "<style scoped>\n",
       "    .dataframe tbody tr th:only-of-type {\n",
       "        vertical-align: middle;\n",
       "    }\n",
       "\n",
       "    .dataframe tbody tr th {\n",
       "        vertical-align: top;\n",
       "    }\n",
       "\n",
       "    .dataframe thead th {\n",
       "        text-align: right;\n",
       "    }\n",
       "</style>\n",
       "<table border=\"1\" class=\"dataframe\">\n",
       "  <thead>\n",
       "    <tr style=\"text-align: right;\">\n",
       "      <th></th>\n",
       "      <th>cleaned_review</th>\n",
       "      <th>cleaned_sw_review</th>\n",
       "    </tr>\n",
       "  </thead>\n",
       "  <tbody>\n",
       "    <tr>\n",
       "      <th>0</th>\n",
       "      <td>Actually ordered online with Deliveroo disappo...</td>\n",
       "      <td>Actually ordered online Deliveroo disappointin...</td>\n",
       "    </tr>\n",
       "    <tr>\n",
       "      <th>1</th>\n",
       "      <td>Hate to write bad reviews but Bad service bad ...</td>\n",
       "      <td>Hate write bad reviews Bad service bad attitud...</td>\n",
       "    </tr>\n",
       "    <tr>\n",
       "      <th>2</th>\n",
       "      <td>Tempting pizzas I went with a couple a family ...</td>\n",
       "      <td>Tempting pizzas I went couple family friend pa...</td>\n",
       "    </tr>\n",
       "    <tr>\n",
       "      <th>3</th>\n",
       "      <td>Quick lunch pizza Great pizza Easy to order an...</td>\n",
       "      <td>Quick lunch pizza Great pizza Easy order deliv...</td>\n",
       "    </tr>\n",
       "    <tr>\n",
       "      <th>4</th>\n",
       "      <td>Nice italian thin crust pizzas Good for casual...</td>\n",
       "      <td>Nice italian thin crust pizzas Good casual din...</td>\n",
       "    </tr>\n",
       "    <tr>\n",
       "      <th>...</th>\n",
       "      <td>...</td>\n",
       "      <td>...</td>\n",
       "    </tr>\n",
       "    <tr>\n",
       "      <th>400936</th>\n",
       "      <td>Poor service and food is below average Wanted ...</td>\n",
       "      <td>Poor service food average Wanted try indian cu...</td>\n",
       "    </tr>\n",
       "    <tr>\n",
       "      <th>400937</th>\n",
       "      <td>Questionable Service Very poor service indeed ...</td>\n",
       "      <td>Questionable Service Very poor service indeed ...</td>\n",
       "    </tr>\n",
       "    <tr>\n",
       "      <th>400938</th>\n",
       "      <td>Terrible Experience Waited for  hours for my f...</td>\n",
       "      <td>Terrible Experience Waited hours food delivery...</td>\n",
       "    </tr>\n",
       "    <tr>\n",
       "      <th>400939</th>\n",
       "      <td>Not worth it Order via deliveroo Will be my fi...</td>\n",
       "      <td>Not worth Order via deliveroo Will first last ...</td>\n",
       "    </tr>\n",
       "    <tr>\n",
       "      <th>400940</th>\n",
       "      <td>A genuine review Guys never ever order online ...</td>\n",
       "      <td>A genuine review Guys never ever order online ...</td>\n",
       "    </tr>\n",
       "  </tbody>\n",
       "</table>\n",
       "<p>400941 rows × 2 columns</p>\n",
       "</div>"
      ],
      "text/plain": [
       "                                           cleaned_review  \\\n",
       "0       Actually ordered online with Deliveroo disappo...   \n",
       "1       Hate to write bad reviews but Bad service bad ...   \n",
       "2       Tempting pizzas I went with a couple a family ...   \n",
       "3       Quick lunch pizza Great pizza Easy to order an...   \n",
       "4       Nice italian thin crust pizzas Good for casual...   \n",
       "...                                                   ...   \n",
       "400936  Poor service and food is below average Wanted ...   \n",
       "400937  Questionable Service Very poor service indeed ...   \n",
       "400938  Terrible Experience Waited for  hours for my f...   \n",
       "400939  Not worth it Order via deliveroo Will be my fi...   \n",
       "400940  A genuine review Guys never ever order online ...   \n",
       "\n",
       "                                        cleaned_sw_review  \n",
       "0       Actually ordered online Deliveroo disappointin...  \n",
       "1       Hate write bad reviews Bad service bad attitud...  \n",
       "2       Tempting pizzas I went couple family friend pa...  \n",
       "3       Quick lunch pizza Great pizza Easy order deliv...  \n",
       "4       Nice italian thin crust pizzas Good casual din...  \n",
       "...                                                   ...  \n",
       "400936  Poor service food average Wanted try indian cu...  \n",
       "400937  Questionable Service Very poor service indeed ...  \n",
       "400938  Terrible Experience Waited hours food delivery...  \n",
       "400939  Not worth Order via deliveroo Will first last ...  \n",
       "400940  A genuine review Guys never ever order online ...  \n",
       "\n",
       "[400941 rows x 2 columns]"
      ]
     },
     "execution_count": 8,
     "metadata": {},
     "output_type": "execute_result"
    }
   ],
   "source": [
    "# import nltk library\n",
    "import nltk\n",
    "nltk.download('stopwords')\n",
    "# import stopwords fron nltk\n",
    "from nltk.corpus import stopwords\n",
    "stop_words = [sw for sw in stopwords.words('english') if sw not in ['not', 'no']]\n",
    "\n",
    "# function to remove nltk english stopwords \n",
    "def remove_stopwords(review):\n",
    "    review_words = review.split()\n",
    "    noise_free_words = [word for word in review_words if word not in stop_words]\n",
    "    noise_free_review = \" \".join(noise_free_words)\n",
    "    return noise_free_review\n",
    "\n",
    "df_reviews['cleaned_sw_review'] = df_reviews['cleaned_review'].apply(lambda x: remove_stopwords(x))\n",
    "df_reviews[['cleaned_review', 'cleaned_sw_review']]"
   ]
  },
  {
   "cell_type": "markdown",
   "metadata": {},
   "source": [
    "#### Stemming"
   ]
  },
  {
   "cell_type": "code",
   "execution_count": 9,
   "metadata": {},
   "outputs": [
    {
     "data": {
      "text/html": [
       "<div>\n",
       "<style scoped>\n",
       "    .dataframe tbody tr th:only-of-type {\n",
       "        vertical-align: middle;\n",
       "    }\n",
       "\n",
       "    .dataframe tbody tr th {\n",
       "        vertical-align: top;\n",
       "    }\n",
       "\n",
       "    .dataframe thead th {\n",
       "        text-align: right;\n",
       "    }\n",
       "</style>\n",
       "<table border=\"1\" class=\"dataframe\">\n",
       "  <thead>\n",
       "    <tr style=\"text-align: right;\">\n",
       "      <th></th>\n",
       "      <th>cleaned_review</th>\n",
       "      <th>cleaned_sw_review</th>\n",
       "      <th>cleaned_stem_review</th>\n",
       "    </tr>\n",
       "  </thead>\n",
       "  <tbody>\n",
       "    <tr>\n",
       "      <th>0</th>\n",
       "      <td>Actually ordered online with Deliveroo disappo...</td>\n",
       "      <td>Actually ordered online Deliveroo disappointin...</td>\n",
       "      <td>[actual, order, onlin, deliveroo, disappoint, ...</td>\n",
       "    </tr>\n",
       "    <tr>\n",
       "      <th>1</th>\n",
       "      <td>Hate to write bad reviews but Bad service bad ...</td>\n",
       "      <td>Hate write bad reviews Bad service bad attitud...</td>\n",
       "      <td>[hate, write, bad, review, bad, servic, bad, a...</td>\n",
       "    </tr>\n",
       "    <tr>\n",
       "      <th>2</th>\n",
       "      <td>Tempting pizzas I went with a couple a family ...</td>\n",
       "      <td>Tempting pizzas I went couple family friend pa...</td>\n",
       "      <td>[tempt, pizza, i, went, coupl, famili, friend,...</td>\n",
       "    </tr>\n",
       "    <tr>\n",
       "      <th>3</th>\n",
       "      <td>Quick lunch pizza Great pizza Easy to order an...</td>\n",
       "      <td>Quick lunch pizza Great pizza Easy order deliv...</td>\n",
       "      <td>[quick, lunch, pizza, great, pizza, easi, orde...</td>\n",
       "    </tr>\n",
       "    <tr>\n",
       "      <th>4</th>\n",
       "      <td>Nice italian thin crust pizzas Good for casual...</td>\n",
       "      <td>Nice italian thin crust pizzas Good casual din...</td>\n",
       "      <td>[nice, italian, thin, crust, pizza, good, casu...</td>\n",
       "    </tr>\n",
       "    <tr>\n",
       "      <th>...</th>\n",
       "      <td>...</td>\n",
       "      <td>...</td>\n",
       "      <td>...</td>\n",
       "    </tr>\n",
       "    <tr>\n",
       "      <th>400936</th>\n",
       "      <td>Poor service and food is below average Wanted ...</td>\n",
       "      <td>Poor service food average Wanted try indian cu...</td>\n",
       "      <td>[poor, servic, food, averag, want, tri, indian...</td>\n",
       "    </tr>\n",
       "    <tr>\n",
       "      <th>400937</th>\n",
       "      <td>Questionable Service Very poor service indeed ...</td>\n",
       "      <td>Questionable Service Very poor service indeed ...</td>\n",
       "      <td>[question, servic, veri, poor, servic, inde, w...</td>\n",
       "    </tr>\n",
       "    <tr>\n",
       "      <th>400938</th>\n",
       "      <td>Terrible Experience Waited for  hours for my f...</td>\n",
       "      <td>Terrible Experience Waited hours food delivery...</td>\n",
       "      <td>[terribl, experi, wait, hour, food, deliveri, ...</td>\n",
       "    </tr>\n",
       "    <tr>\n",
       "      <th>400939</th>\n",
       "      <td>Not worth it Order via deliveroo Will be my fi...</td>\n",
       "      <td>Not worth Order via deliveroo Will first last ...</td>\n",
       "      <td>[not, worth, order, via, deliveroo, will, firs...</td>\n",
       "    </tr>\n",
       "    <tr>\n",
       "      <th>400940</th>\n",
       "      <td>A genuine review Guys never ever order online ...</td>\n",
       "      <td>A genuine review Guys never ever order online ...</td>\n",
       "      <td>[a, genuin, review, guy, never, ever, order, o...</td>\n",
       "    </tr>\n",
       "  </tbody>\n",
       "</table>\n",
       "<p>400941 rows × 3 columns</p>\n",
       "</div>"
      ],
      "text/plain": [
       "                                           cleaned_review  \\\n",
       "0       Actually ordered online with Deliveroo disappo...   \n",
       "1       Hate to write bad reviews but Bad service bad ...   \n",
       "2       Tempting pizzas I went with a couple a family ...   \n",
       "3       Quick lunch pizza Great pizza Easy to order an...   \n",
       "4       Nice italian thin crust pizzas Good for casual...   \n",
       "...                                                   ...   \n",
       "400936  Poor service and food is below average Wanted ...   \n",
       "400937  Questionable Service Very poor service indeed ...   \n",
       "400938  Terrible Experience Waited for  hours for my f...   \n",
       "400939  Not worth it Order via deliveroo Will be my fi...   \n",
       "400940  A genuine review Guys never ever order online ...   \n",
       "\n",
       "                                        cleaned_sw_review  \\\n",
       "0       Actually ordered online Deliveroo disappointin...   \n",
       "1       Hate write bad reviews Bad service bad attitud...   \n",
       "2       Tempting pizzas I went couple family friend pa...   \n",
       "3       Quick lunch pizza Great pizza Easy order deliv...   \n",
       "4       Nice italian thin crust pizzas Good casual din...   \n",
       "...                                                   ...   \n",
       "400936  Poor service food average Wanted try indian cu...   \n",
       "400937  Questionable Service Very poor service indeed ...   \n",
       "400938  Terrible Experience Waited hours food delivery...   \n",
       "400939  Not worth Order via deliveroo Will first last ...   \n",
       "400940  A genuine review Guys never ever order online ...   \n",
       "\n",
       "                                      cleaned_stem_review  \n",
       "0       [actual, order, onlin, deliveroo, disappoint, ...  \n",
       "1       [hate, write, bad, review, bad, servic, bad, a...  \n",
       "2       [tempt, pizza, i, went, coupl, famili, friend,...  \n",
       "3       [quick, lunch, pizza, great, pizza, easi, orde...  \n",
       "4       [nice, italian, thin, crust, pizza, good, casu...  \n",
       "...                                                   ...  \n",
       "400936  [poor, servic, food, averag, want, tri, indian...  \n",
       "400937  [question, servic, veri, poor, servic, inde, w...  \n",
       "400938  [terribl, experi, wait, hour, food, deliveri, ...  \n",
       "400939  [not, worth, order, via, deliveroo, will, firs...  \n",
       "400940  [a, genuin, review, guy, never, ever, order, o...  \n",
       "\n",
       "[400941 rows x 3 columns]"
      ]
     },
     "execution_count": 9,
     "metadata": {},
     "output_type": "execute_result"
    }
   ],
   "source": [
    "# string split for Stemming\n",
    "df_reviews['cleaned_stem_review'] = df_reviews['cleaned_sw_review'].apply(lambda x: x.split())\n",
    "\n",
    "#importing the Stemming function from nltk library\n",
    "from nltk.stem import SnowballStemmer\n",
    "snowball_stemmer = SnowballStemmer(language='english')\n",
    "\n",
    "# function for snowball stemming\n",
    "def snowball_stemming(review):\n",
    "    stem_review = [snowball_stemmer.stem(word) for word in review]\n",
    "    return stem_review\n",
    "\n",
    "df_reviews['cleaned_stem_review'] = df_reviews['cleaned_stem_review'].apply(lambda x: snowball_stemming(x))\n",
    "df_reviews[['cleaned_review', 'cleaned_sw_review', 'cleaned_stem_review']]"
   ]
  },
  {
   "cell_type": "markdown",
   "metadata": {},
   "source": [
    "#### Lemmatization"
   ]
  },
  {
   "cell_type": "code",
   "execution_count": 10,
   "metadata": {},
   "outputs": [
    {
     "name": "stderr",
     "output_type": "stream",
     "text": [
      "[nltk_data] Downloading package wordnet to /Users/dylan/nltk_data...\n",
      "[nltk_data]   Package wordnet is already up-to-date!\n"
     ]
    },
    {
     "data": {
      "text/html": [
       "<div>\n",
       "<style scoped>\n",
       "    .dataframe tbody tr th:only-of-type {\n",
       "        vertical-align: middle;\n",
       "    }\n",
       "\n",
       "    .dataframe tbody tr th {\n",
       "        vertical-align: top;\n",
       "    }\n",
       "\n",
       "    .dataframe thead th {\n",
       "        text-align: right;\n",
       "    }\n",
       "</style>\n",
       "<table border=\"1\" class=\"dataframe\">\n",
       "  <thead>\n",
       "    <tr style=\"text-align: right;\">\n",
       "      <th></th>\n",
       "      <th>cleaned_sw_review</th>\n",
       "      <th>cleaned_stem_review</th>\n",
       "      <th>cleaned_lem_review</th>\n",
       "    </tr>\n",
       "  </thead>\n",
       "  <tbody>\n",
       "    <tr>\n",
       "      <th>0</th>\n",
       "      <td>Actually ordered online Deliveroo disappointin...</td>\n",
       "      <td>[actual, order, onlin, deliveroo, disappoint, ...</td>\n",
       "      <td>[Actually, ordered, online, Deliveroo, disappo...</td>\n",
       "    </tr>\n",
       "    <tr>\n",
       "      <th>1</th>\n",
       "      <td>Hate write bad reviews Bad service bad attitud...</td>\n",
       "      <td>[hate, write, bad, review, bad, servic, bad, a...</td>\n",
       "      <td>[Hate, write, bad, review, Bad, service, bad, ...</td>\n",
       "    </tr>\n",
       "    <tr>\n",
       "      <th>2</th>\n",
       "      <td>Tempting pizzas I went couple family friend pa...</td>\n",
       "      <td>[tempt, pizza, i, went, coupl, famili, friend,...</td>\n",
       "      <td>[Tempting, pizza, I, went, couple, family, fri...</td>\n",
       "    </tr>\n",
       "    <tr>\n",
       "      <th>3</th>\n",
       "      <td>Quick lunch pizza Great pizza Easy order deliv...</td>\n",
       "      <td>[quick, lunch, pizza, great, pizza, easi, orde...</td>\n",
       "      <td>[Quick, lunch, pizza, Great, pizza, Easy, orde...</td>\n",
       "    </tr>\n",
       "    <tr>\n",
       "      <th>4</th>\n",
       "      <td>Nice italian thin crust pizzas Good casual din...</td>\n",
       "      <td>[nice, italian, thin, crust, pizza, good, casu...</td>\n",
       "      <td>[Nice, italian, thin, crust, pizza, Good, casu...</td>\n",
       "    </tr>\n",
       "    <tr>\n",
       "      <th>...</th>\n",
       "      <td>...</td>\n",
       "      <td>...</td>\n",
       "      <td>...</td>\n",
       "    </tr>\n",
       "    <tr>\n",
       "      <th>400936</th>\n",
       "      <td>Poor service food average Wanted try indian cu...</td>\n",
       "      <td>[poor, servic, food, averag, want, tri, indian...</td>\n",
       "      <td>[Poor, service, food, average, Wanted, try, in...</td>\n",
       "    </tr>\n",
       "    <tr>\n",
       "      <th>400937</th>\n",
       "      <td>Questionable Service Very poor service indeed ...</td>\n",
       "      <td>[question, servic, veri, poor, servic, inde, w...</td>\n",
       "      <td>[Questionable, Service, Very, poor, service, i...</td>\n",
       "    </tr>\n",
       "    <tr>\n",
       "      <th>400938</th>\n",
       "      <td>Terrible Experience Waited hours food delivery...</td>\n",
       "      <td>[terribl, experi, wait, hour, food, deliveri, ...</td>\n",
       "      <td>[Terrible, Experience, Waited, hour, food, del...</td>\n",
       "    </tr>\n",
       "    <tr>\n",
       "      <th>400939</th>\n",
       "      <td>Not worth Order via deliveroo Will first last ...</td>\n",
       "      <td>[not, worth, order, via, deliveroo, will, firs...</td>\n",
       "      <td>[Not, worth, Order, via, deliveroo, Will, firs...</td>\n",
       "    </tr>\n",
       "    <tr>\n",
       "      <th>400940</th>\n",
       "      <td>A genuine review Guys never ever order online ...</td>\n",
       "      <td>[a, genuin, review, guy, never, ever, order, o...</td>\n",
       "      <td>[A, genuine, review, Guys, never, ever, order,...</td>\n",
       "    </tr>\n",
       "  </tbody>\n",
       "</table>\n",
       "<p>400941 rows × 3 columns</p>\n",
       "</div>"
      ],
      "text/plain": [
       "                                        cleaned_sw_review  \\\n",
       "0       Actually ordered online Deliveroo disappointin...   \n",
       "1       Hate write bad reviews Bad service bad attitud...   \n",
       "2       Tempting pizzas I went couple family friend pa...   \n",
       "3       Quick lunch pizza Great pizza Easy order deliv...   \n",
       "4       Nice italian thin crust pizzas Good casual din...   \n",
       "...                                                   ...   \n",
       "400936  Poor service food average Wanted try indian cu...   \n",
       "400937  Questionable Service Very poor service indeed ...   \n",
       "400938  Terrible Experience Waited hours food delivery...   \n",
       "400939  Not worth Order via deliveroo Will first last ...   \n",
       "400940  A genuine review Guys never ever order online ...   \n",
       "\n",
       "                                      cleaned_stem_review  \\\n",
       "0       [actual, order, onlin, deliveroo, disappoint, ...   \n",
       "1       [hate, write, bad, review, bad, servic, bad, a...   \n",
       "2       [tempt, pizza, i, went, coupl, famili, friend,...   \n",
       "3       [quick, lunch, pizza, great, pizza, easi, orde...   \n",
       "4       [nice, italian, thin, crust, pizza, good, casu...   \n",
       "...                                                   ...   \n",
       "400936  [poor, servic, food, averag, want, tri, indian...   \n",
       "400937  [question, servic, veri, poor, servic, inde, w...   \n",
       "400938  [terribl, experi, wait, hour, food, deliveri, ...   \n",
       "400939  [not, worth, order, via, deliveroo, will, firs...   \n",
       "400940  [a, genuin, review, guy, never, ever, order, o...   \n",
       "\n",
       "                                       cleaned_lem_review  \n",
       "0       [Actually, ordered, online, Deliveroo, disappo...  \n",
       "1       [Hate, write, bad, review, Bad, service, bad, ...  \n",
       "2       [Tempting, pizza, I, went, couple, family, fri...  \n",
       "3       [Quick, lunch, pizza, Great, pizza, Easy, orde...  \n",
       "4       [Nice, italian, thin, crust, pizza, Good, casu...  \n",
       "...                                                   ...  \n",
       "400936  [Poor, service, food, average, Wanted, try, in...  \n",
       "400937  [Questionable, Service, Very, poor, service, i...  \n",
       "400938  [Terrible, Experience, Waited, hour, food, del...  \n",
       "400939  [Not, worth, Order, via, deliveroo, Will, firs...  \n",
       "400940  [A, genuine, review, Guys, never, ever, order,...  \n",
       "\n",
       "[400941 rows x 3 columns]"
      ]
     },
     "execution_count": 10,
     "metadata": {},
     "output_type": "execute_result"
    }
   ],
   "source": [
    "# importing WordNetLemmatizer\n",
    "nltk.download('wordnet')\n",
    "from nltk.stem import WordNetLemmatizer\n",
    "wordnet_lemmatizer = WordNetLemmatizer()\n",
    "\n",
    "# string split for Stemming\n",
    "df_reviews['cleaned_lem_review'] = df_reviews['cleaned_sw_review'].apply(lambda x: x.split())\n",
    "\n",
    "#defining the function for lemmatization\n",
    "def lemmatizer(review):\n",
    "    lemm_review = [wordnet_lemmatizer.lemmatize(word) for word in review]\n",
    "    return lemm_review\n",
    "\n",
    "df_reviews['cleaned_lem_review'] = df_reviews['cleaned_lem_review'].apply(lambda x: lemmatizer(x))\n",
    "df_reviews[['cleaned_sw_review', 'cleaned_stem_review', 'cleaned_lem_review']]\n"
   ]
  },
  {
   "cell_type": "markdown",
   "metadata": {},
   "source": [
    "#### a) \n",
    "#### Naive Bayes Model, using CountVectorizer and TFIDVectorizer\n",
    "#### Model Training & Prediction on cleaned_review  "
   ]
  },
  {
   "cell_type": "code",
   "execution_count": 11,
   "metadata": {},
   "outputs": [
    {
     "data": {
      "text/plain": [
       "False"
      ]
     },
     "execution_count": 11,
     "metadata": {},
     "output_type": "execute_result"
    }
   ],
   "source": [
    "df_reviews = df_reviews[df_reviews['review_sentiment_category'].notna()]\n",
    "df_reviews['review_sentiment_category'].astype(int)\n",
    "df_reviews['rating'].isnull().values.any()"
   ]
  },
  {
   "cell_type": "code",
   "execution_count": 12,
   "metadata": {},
   "outputs": [],
   "source": [
    "# define X and y\n",
    "X = df_reviews['cleaned_review']\n",
    "y = df_reviews['review_sentiment_category']\n",
    "\n",
    "# split X and y into training and testing sets\n",
    "from sklearn.model_selection import train_test_split\n",
    "X_train, X_test, y_train, y_test = train_test_split(X, y, random_state=1, test_size=0.2, shuffle=True)"
   ]
  },
  {
   "cell_type": "code",
   "execution_count": 13,
   "metadata": {},
   "outputs": [],
   "source": [
    "from sklearn.feature_extraction.text import CountVectorizer\n",
    "from sklearn.feature_extraction.text import TfidfVectorizer\n",
    "from sklearn.naive_bayes import MultinomialNB\n",
    "from sklearn import metrics\n",
    "from sklearn.metrics import confusion_matrix, accuracy_score, precision_score, recall_score\n",
    "\n",
    "# define a function that accepts a vectorizer and calculates the accuracy\n",
    "def nb_tokenize_test(vect, X_train, y_train, X_test, y_test):\n",
    "    \n",
    "    # create document-term matrices using the vectorizer\n",
    "    X_train_dtm = vect.fit_transform(X_train)\n",
    "    X_test_dtm = vect.transform(X_test)\n",
    "    \n",
    "    # use Multinomial Naive Bayes to predict the review_sentiment_category\n",
    "    nb = MultinomialNB()\n",
    "    nb.fit(X_train_dtm, y_train)\n",
    "    predictions = nb.predict(X_test_dtm)\n",
    "    \n",
    "    # print the training accuracy\n",
    "    print('Training Accuracy: ', metrics.accuracy_score(y_train, nb.predict(X_train_dtm)))\n",
    "\n",
    "    # print the accuracy of its predictions\n",
    "    print('Accuracy: ', metrics.accuracy_score(y_test, predictions))\n",
    "\n",
    "    # print the precision of the model\n",
    "    print('Precision: ', precision_score(y_test, predictions, average=\"weighted\"))\n",
    "\n",
    "    # print the recall of the model\n",
    "    print('Recall: ', recall_score(y_test, predictions, average=\"weighted\"))\n",
    "\n",
    "    # print confusion matrix\n",
    "    print('Confusion Matrix: ', confusion_matrix(y_test, predictions))\n",
    "\n",
    "    # print AUC\n",
    "    print('AUC: ', metrics.roc_auc_score(y_test, predictions))"
   ]
  },
  {
   "cell_type": "code",
   "execution_count": 14,
   "metadata": {},
   "outputs": [
    {
     "name": "stdout",
     "output_type": "stream",
     "text": [
      "Training Accuracy:  0.8949125804359754\n",
      "Accuracy:  0.887427046440864\n",
      "Precision:  0.8845227665757122\n",
      "Recall:  0.887427046440864\n",
      "Confusion Matrix:  [[ 6796  4892]\n",
      " [ 4135 64365]]\n",
      "AUC:  0.7605430487067653\n"
     ]
    }
   ],
   "source": [
    "countvect = CountVectorizer()\n",
    "nb_tokenize_test(countvect, X_train, y_train, X_test, y_test)"
   ]
  },
  {
   "cell_type": "code",
   "execution_count": 15,
   "metadata": {},
   "outputs": [
    {
     "name": "stdout",
     "output_type": "stream",
     "text": [
      "Training Accuracy:  0.8571357310320746\n",
      "Accuracy:  0.8548910061355813\n",
      "Precision:  0.8662743849876113\n",
      "Recall:  0.8548910061355813\n",
      "Confusion Matrix:  [[   56 11632]\n",
      " [    4 68496]]\n",
      "AUC:  0.5023664223584486\n"
     ]
    }
   ],
   "source": [
    "tfidvect = TfidfVectorizer()\n",
    "nb_tokenize_test(tfidvect, X_train, y_train, X_test, y_test)"
   ]
  },
  {
   "cell_type": "markdown",
   "metadata": {},
   "source": [
    "#### Naive Bayes Model, using CountVectorizer and TFIDVectorizer\n",
    "#### Model Training & Prediction on cleaned_sw_review (cleaned reviews that have stop words removed)  "
   ]
  },
  {
   "cell_type": "code",
   "execution_count": 16,
   "metadata": {},
   "outputs": [],
   "source": [
    "# define X and y\n",
    "X = df_reviews['cleaned_sw_review']\n",
    "y = df_reviews['review_sentiment_category']\n",
    "\n",
    "# split X and y into training and testing sets\n",
    "X_train, X_test, y_train, y_test = train_test_split(X, y, random_state=1, test_size=0.2, shuffle=True)"
   ]
  },
  {
   "cell_type": "code",
   "execution_count": 17,
   "metadata": {},
   "outputs": [
    {
     "name": "stdout",
     "output_type": "stream",
     "text": [
      "Training Accuracy:  0.8970762458223176\n",
      "Accuracy:  0.8896468299496184\n",
      "Precision:  0.8857684984197629\n",
      "Recall:  0.8896468299496184\n",
      "Confusion Matrix:  [[ 6737  4951]\n",
      " [ 3898 64602]]\n",
      "AUC:  0.759749019519677\n"
     ]
    }
   ],
   "source": [
    "countvect = CountVectorizer()\n",
    "nb_tokenize_test(countvect, X_train, y_train, X_test, y_test)"
   ]
  },
  {
   "cell_type": "code",
   "execution_count": 18,
   "metadata": {},
   "outputs": [
    {
     "name": "stdout",
     "output_type": "stream",
     "text": [
      "Training Accuracy:  0.8589907467451489\n",
      "Accuracy:  0.8556018356861376\n",
      "Precision:  0.8662200357219307\n",
      "Recall:  0.8556018356861376\n",
      "Confusion Matrix:  [[  118 11570]\n",
      " [    9 68491]]\n",
      "AUC:  0.5049822189581179\n"
     ]
    }
   ],
   "source": [
    "tfidvect = TfidfVectorizer()\n",
    "nb_tokenize_test(tfidvect, X_train, y_train, X_test, y_test)"
   ]
  },
  {
   "cell_type": "markdown",
   "metadata": {},
   "source": [
    "#### Naive Bayes Model, using CountVectorizer and TFIDVectorizer\n",
    "#### Model Training & Prediction on cleaned_stem_review (cleaned reviews that have stop words removed and stemmatized)  "
   ]
  },
  {
   "cell_type": "code",
   "execution_count": 19,
   "metadata": {},
   "outputs": [],
   "source": [
    "# define X and y\n",
    "X = df_reviews['cleaned_stem_review'].apply(lambda x: ' '.join(x) )\n",
    "y = df_reviews['review_sentiment_category']\n",
    "\n",
    "# split X and y into training and testing sets\n",
    "X_train, X_test, y_train, y_test = train_test_split(X, y, random_state=1, test_size=0.2, shuffle=True)"
   ]
  },
  {
   "cell_type": "code",
   "execution_count": 20,
   "metadata": {},
   "outputs": [
    {
     "name": "stdout",
     "output_type": "stream",
     "text": [
      "Training Accuracy:  0.8952492891704494\n",
      "Accuracy:  0.8889734124806704\n",
      "Precision:  0.8852547891967806\n",
      "Recall:  0.8889734124806704\n",
      "Confusion Matrix:  [[ 6737  4951]\n",
      " [ 3952 64548]]\n",
      "AUC:  0.7593548589357354\n"
     ]
    }
   ],
   "source": [
    "countvect = CountVectorizer()\n",
    "nb_tokenize_test(countvect, X_train, y_train, X_test, y_test)"
   ]
  },
  {
   "cell_type": "code",
   "execution_count": 21,
   "metadata": {},
   "outputs": [
    {
     "name": "stdout",
     "output_type": "stream",
     "text": [
      "Training Accuracy:  0.8587413328677608\n",
      "Accuracy:  0.8554771287474435\n",
      "Precision:  0.8642170933226381\n",
      "Recall:  0.8554771287474435\n",
      "Confusion Matrix:  [[  109 11579]\n",
      " [   10 68490]]\n",
      "AUC:  0.5045899094211045\n"
     ]
    }
   ],
   "source": [
    "tfidvect = TfidfVectorizer()\n",
    "nb_tokenize_test(tfidvect, X_train, y_train, X_test, y_test)"
   ]
  },
  {
   "cell_type": "markdown",
   "metadata": {},
   "source": [
    "#### Naive Bayes Model, using CountVectorizer and TFIDVectorizer\n",
    "#### Model Training & Prediction on cleaned_lem_review (cleaned reviews that have stop words removed and lemmatized)  "
   ]
  },
  {
   "cell_type": "code",
   "execution_count": 22,
   "metadata": {},
   "outputs": [],
   "source": [
    "# define X and y\n",
    "X = df_reviews['cleaned_lem_review'].apply(lambda x: ' '.join(x) )\n",
    "y = df_reviews['review_sentiment_category']\n",
    "\n",
    "# split X and y into training and testing sets\n",
    "X_train, X_test, y_train, y_test = train_test_split(X, y, random_state=1, test_size=0.2, shuffle=True)"
   ]
  },
  {
   "cell_type": "code",
   "execution_count": 23,
   "metadata": {},
   "outputs": [
    {
     "name": "stdout",
     "output_type": "stream",
     "text": [
      "Training Accuracy:  0.8972820122711628\n",
      "Accuracy:  0.8899585972963535\n",
      "Precision:  0.8860147328118709\n",
      "Recall:  0.8899585972963535\n",
      "Confusion Matrix:  [[ 6738  4950]\n",
      " [ 3874 64626]]\n",
      "AUC:  0.7599669809199778\n"
     ]
    }
   ],
   "source": [
    "countvect = CountVectorizer()\n",
    "nb_tokenize_test(countvect, X_train, y_train, X_test, y_test)"
   ]
  },
  {
   "cell_type": "code",
   "execution_count": 24,
   "metadata": {},
   "outputs": [
    {
     "name": "stdout",
     "output_type": "stream",
     "text": [
      "Training Accuracy:  0.8590437471940939\n",
      "Accuracy:  0.8556641891554846\n",
      "Precision:  0.8686086617180951\n",
      "Recall:  0.8556641891554846\n",
      "Confusion Matrix:  [[  121 11567]\n",
      " [    7 68493]]\n",
      "AUC:  0.5051251542539107\n"
     ]
    }
   ],
   "source": [
    "tfidvect = TfidfVectorizer()\n",
    "nb_tokenize_test(tfidvect, X_train, y_train, X_test, y_test)"
   ]
  },
  {
   "cell_type": "markdown",
   "metadata": {},
   "source": [
    "#### Naive Bayes Model, using CountVectorizer and TFIDVectorizer\n",
    "#### Model Training & Prediction on cleaned_review with ngram tuning"
   ]
  },
  {
   "cell_type": "code",
   "execution_count": 25,
   "metadata": {},
   "outputs": [],
   "source": [
    "# define X and y\n",
    "X = df_reviews['cleaned_review']\n",
    "y = df_reviews['review_sentiment_category']\n",
    "\n",
    "# split X and y into training and testing sets\n",
    "from sklearn.model_selection import train_test_split\n",
    "X_train, X_test, y_train, y_test = train_test_split(X, y, random_state=1, test_size=0.2, shuffle=True)"
   ]
  },
  {
   "cell_type": "code",
   "execution_count": 26,
   "metadata": {},
   "outputs": [
    {
     "name": "stdout",
     "output_type": "stream",
     "text": [
      "Training Accuracy:  0.9335093779617898\n",
      "Accuracy:  0.8920162617848058\n",
      "Precision:  0.8820716260318907\n",
      "Recall:  0.8920162617848058\n",
      "Confusion Matrix:  [[ 4319  7369]\n",
      " [ 1290 67210]]\n",
      "AUC:  0.6753460908187072\n"
     ]
    }
   ],
   "source": [
    "# include 1-grams and 2-grams (include unigram and bi-gram)\n",
    "countvect = CountVectorizer(ngram_range=(1, 2))\n",
    "nb_tokenize_test(countvect, X_train, y_train, X_test, y_test)"
   ]
  },
  {
   "cell_type": "code",
   "execution_count": 27,
   "metadata": {},
   "outputs": [
    {
     "name": "stdout",
     "output_type": "stream",
     "text": [
      "Training Accuracy:  0.8543485309522622\n",
      "Accuracy:  0.854267471442111\n",
      "Precision:  0.8755059710396406\n",
      "Recall:  0.854267471442111\n",
      "Confusion Matrix:  [[    2 11686]\n",
      " [    0 68500]]\n",
      "AUC:  0.500085557837098\n"
     ]
    }
   ],
   "source": [
    "# include 1-grams and 2-grams (include unigram and bi-gram)\n",
    "tfidvect = TfidfVectorizer(ngram_range=(1,2))\n",
    "nb_tokenize_test(tfidvect, X_train, y_train, X_test, y_test)"
   ]
  },
  {
   "cell_type": "markdown",
   "metadata": {},
   "source": [
    "#### Naive Bayes Model, using CountVectorizer and TFIDVectorizer\n",
    "#### Model Training & Prediction on cleaned_review ignoring terms that appear in more than 50% of the document"
   ]
  },
  {
   "cell_type": "code",
   "execution_count": 28,
   "metadata": {},
   "outputs": [],
   "source": [
    "# define X and y\n",
    "X = df_reviews['cleaned_review']\n",
    "y = df_reviews['review_sentiment_category']\n",
    "\n",
    "# split X and y into training and testing sets\n",
    "from sklearn.model_selection import train_test_split\n",
    "X_train, X_test, y_train, y_test = train_test_split(X, y, random_state=1, test_size=0.2, shuffle=True)"
   ]
  },
  {
   "cell_type": "code",
   "execution_count": 29,
   "metadata": {},
   "outputs": [
    {
     "name": "stdout",
     "output_type": "stream",
     "text": [
      "Training Accuracy:  0.8960505312515589\n",
      "Accuracy:  0.8881129346036813\n",
      "Precision:  0.884971067128709\n",
      "Recall:  0.8881129346036813\n",
      "Confusion Matrix:  [[ 6788  4900]\n",
      " [ 4072 64428]]\n",
      "AUC:  0.7606606713729723\n"
     ]
    }
   ],
   "source": [
    "# ignoring terms that appear in more than 50% of the document\n",
    "countvect = CountVectorizer(max_df=0.5)\n",
    "nb_tokenize_test(countvect, X_train, y_train, X_test, y_test)"
   ]
  },
  {
   "cell_type": "code",
   "execution_count": 30,
   "metadata": {},
   "outputs": [
    {
     "name": "stdout",
     "output_type": "stream",
     "text": [
      "Training Accuracy:  0.8576595001745897\n",
      "Accuracy:  0.8551154786252307\n",
      "Precision:  0.8670533565415227\n",
      "Recall:  0.8551154786252307\n",
      "Confusion Matrix:  [[   75 11613]\n",
      " [    5 68495]]\n",
      "AUC:  0.5031719225408054\n"
     ]
    }
   ],
   "source": [
    "# ignoring terms that appear in more than 50% of the document\n",
    "tfidvect = TfidfVectorizer(max_df=0.5)\n",
    "nb_tokenize_test(tfidvect, X_train, y_train, X_test, y_test)"
   ]
  },
  {
   "cell_type": "markdown",
   "metadata": {},
   "source": [
    "#### b) \n",
    "#### Logistic Regression, using CountVectorizer and TFIDVectorizer\n",
    "#### Model Training & Prediction on cleaned_review "
   ]
  },
  {
   "cell_type": "code",
   "execution_count": 31,
   "metadata": {},
   "outputs": [],
   "source": [
    "# define X and y\n",
    "X = df_reviews['cleaned_review']\n",
    "y = df_reviews['review_sentiment_category']\n",
    "\n",
    "# split X and y into training and testing sets\n",
    "X_train, X_test, y_train, y_test = train_test_split(X, y, random_state=1, test_size=0.2, shuffle=True)"
   ]
  },
  {
   "cell_type": "code",
   "execution_count": 32,
   "metadata": {},
   "outputs": [],
   "source": [
    "from sklearn.feature_extraction.text import CountVectorizer\n",
    "from sklearn.feature_extraction.text import TfidfVectorizer\n",
    "from sklearn.linear_model import LogisticRegression\n",
    "from sklearn import metrics\n",
    "from sklearn.metrics import confusion_matrix, accuracy_score, precision_score, recall_score\n",
    "\n",
    "# define a function that accepts a vectorizer and calculates the accuracy\n",
    "def lr_tokenize_test(vect, X_train, y_train, X_test, y_test):\n",
    "    \n",
    "    # create document-term matrices using the vectorizer\n",
    "    X_train_dtm = vect.fit_transform(X_train)\n",
    "    X_test_dtm = vect.transform(X_test)\n",
    "    \n",
    "    # use Multinomial Naive Bayes to predict the review_sentiment_category\n",
    "    lr = LogisticRegression(max_iter=3000)\n",
    "    lr.fit(X_train_dtm, y_train)\n",
    "    predictions = lr.predict(X_test_dtm)\n",
    "    \n",
    "    # print the training accuracy\n",
    "    print('Training Accuracy: ', metrics.accuracy_score(y_train, lr.predict(X_train_dtm)))\n",
    "\n",
    "    # print the accuracy of its predictions\n",
    "    print('Accuracy: ', metrics.accuracy_score(y_test, predictions))\n",
    "\n",
    "    # print the precision of the model\n",
    "    print('Precision: ', precision_score(y_test, predictions, average=\"weighted\"))\n",
    "\n",
    "    # print the recall of the model\n",
    "    print('Recall: ', recall_score(y_test, predictions, average=\"weighted\"))\n",
    "\n",
    "    # print confusion matrix\n",
    "    print('Confusion Matrix: ', confusion_matrix(y_test, predictions))\n",
    "\n",
    "    # print AUC\n",
    "    print('AUC: ', metrics.roc_auc_score(y_test, predictions))\n"
   ]
  },
  {
   "cell_type": "code",
   "execution_count": 33,
   "metadata": {},
   "outputs": [
    {
     "name": "stdout",
     "output_type": "stream",
     "text": [
      "Training Accuracy:  0.9654873547164164\n",
      "Accuracy:  0.9350526263281289\n",
      "Precision:  0.9331026114692008\n",
      "Recall:  0.9350526263281289\n",
      "Confusion Matrix:  [[ 8566  3122]\n",
      " [ 2086 66414]]\n",
      "AUC:  0.8512179389179494\n"
     ]
    }
   ],
   "source": [
    "countvect = CountVectorizer()\n",
    "lr_tokenize_test(countvect, X_train, y_train, X_test, y_test)"
   ]
  },
  {
   "cell_type": "code",
   "execution_count": 34,
   "metadata": {},
   "outputs": [
    {
     "name": "stdout",
     "output_type": "stream",
     "text": [
      "Training Accuracy:  0.9452723599541079\n",
      "Accuracy:  0.9342046191450092\n",
      "Precision:  0.9312205653307022\n",
      "Recall:  0.9342046191450092\n",
      "Confusion Matrix:  [[ 7976  3712]\n",
      " [ 1564 66936]]\n",
      "AUC:  0.8297885959521775\n"
     ]
    }
   ],
   "source": [
    "tfidvect = TfidfVectorizer()\n",
    "lr_tokenize_test(tfidvect, X_train, y_train, X_test, y_test)"
   ]
  },
  {
   "cell_type": "markdown",
   "metadata": {},
   "source": [
    "#### Logistic Regression, using CountVectorizer and TFIDVectorizer\n",
    "#### Model Training & Prediction on cleaned_sw_review (cleaned reviews that have stop words removed)  "
   ]
  },
  {
   "cell_type": "code",
   "execution_count": 35,
   "metadata": {},
   "outputs": [],
   "source": [
    "# define X and y\n",
    "X = df_reviews['cleaned_sw_review']\n",
    "y = df_reviews['review_sentiment_category']\n",
    "\n",
    "# split X and y into training and testing sets\n",
    "X_train, X_test, y_train, y_test = train_test_split(X, y, random_state=1, test_size=0.2, shuffle=True)"
   ]
  },
  {
   "cell_type": "code",
   "execution_count": 36,
   "metadata": {},
   "outputs": [
    {
     "name": "stdout",
     "output_type": "stream",
     "text": [
      "Training Accuracy:  0.9623540928817279\n",
      "Accuracy:  0.9305132937596647\n",
      "Precision:  0.9281539749735616\n",
      "Recall:  0.9305132937596647\n",
      "Confusion Matrix:  [[ 8313  3375]\n",
      " [ 2197 66303]]\n",
      "AUC:  0.8395846535469657\n"
     ]
    }
   ],
   "source": [
    "countvect = CountVectorizer()\n",
    "lr_tokenize_test(countvect, X_train, y_train, X_test, y_test)"
   ]
  },
  {
   "cell_type": "code",
   "execution_count": 37,
   "metadata": {},
   "outputs": [
    {
     "name": "stdout",
     "output_type": "stream",
     "text": [
      "Training Accuracy:  0.9421827455479623\n",
      "Accuracy:  0.9306504713922282\n",
      "Precision:  0.9272723616040345\n",
      "Recall:  0.9306504713922282\n",
      "Confusion Matrix:  [[ 7775  3913]\n",
      " [ 1648 66852]]\n",
      "AUC:  0.8205768946377094\n"
     ]
    }
   ],
   "source": [
    "tfidvect = TfidfVectorizer()\n",
    "lr_tokenize_test(tfidvect, X_train, y_train, X_test, y_test)"
   ]
  },
  {
   "cell_type": "markdown",
   "metadata": {},
   "source": [
    "#### Logistic Regression, using CountVectorizer and TFIDVectorizer\n",
    "#### Model Training & Prediction on cleaned_stem_review (cleaned reviews that have stop words removed and stemmatized)  "
   ]
  },
  {
   "cell_type": "code",
   "execution_count": 38,
   "metadata": {},
   "outputs": [],
   "source": [
    "# define X and y\n",
    "X = df_reviews['cleaned_stem_review'].apply(lambda x: ' '.join(x) )\n",
    "y = df_reviews['review_sentiment_category']\n",
    "\n",
    "# split X and y into training and testing sets\n",
    "X_train, X_test, y_train, y_test = train_test_split(X, y, random_state=1, test_size=0.2, shuffle=True)"
   ]
  },
  {
   "cell_type": "code",
   "execution_count": 39,
   "metadata": {},
   "outputs": [
    {
     "name": "stdout",
     "output_type": "stream",
     "text": [
      "Training Accuracy:  0.954856088192747\n",
      "Accuracy:  0.9271711478026637\n",
      "Precision:  0.9242563054447539\n",
      "Recall:  0.9271711478026637\n",
      "Confusion Matrix:  [[ 8050  3638]\n",
      " [ 2202 66298]]\n",
      "AUC:  0.8282973016182296\n"
     ]
    }
   ],
   "source": [
    "countvect = CountVectorizer()\n",
    "lr_tokenize_test(countvect, X_train, y_train, X_test, y_test)"
   ]
  },
  {
   "cell_type": "code",
   "execution_count": 40,
   "metadata": {},
   "outputs": [
    {
     "name": "stdout",
     "output_type": "stream",
     "text": [
      "Training Accuracy:  0.9383760662443258\n",
      "Accuracy:  0.9279692722103058\n",
      "Precision:  0.9243064312194134\n",
      "Recall:  0.9279692722103058\n",
      "Confusion Matrix:  [[ 7662  4026]\n",
      " [ 1750 66750]]\n",
      "AUC:  0.814998351294234\n"
     ]
    }
   ],
   "source": [
    "tfidvect = TfidfVectorizer()\n",
    "lr_tokenize_test(tfidvect, X_train, y_train, X_test, y_test)"
   ]
  },
  {
   "cell_type": "markdown",
   "metadata": {},
   "source": [
    "#### Logistic Regression, using CountVectorizer and TFIDVectorizer\n",
    "#### Model Training & Prediction on cleaned_lem_review (cleaned reviews that have stop words removed and lemmatized)  "
   ]
  },
  {
   "cell_type": "code",
   "execution_count": 41,
   "metadata": {},
   "outputs": [],
   "source": [
    "# define X and y\n",
    "X = df_reviews['cleaned_lem_review'].apply(lambda x: ' '.join(x) )\n",
    "y = df_reviews['review_sentiment_category']\n",
    "\n",
    "# split X and y into training and testing sets\n",
    "X_train, X_test, y_train, y_test = train_test_split(X, y, random_state=1, test_size=0.2, shuffle=True)"
   ]
  },
  {
   "cell_type": "code",
   "execution_count": 42,
   "metadata": {},
   "outputs": [
    {
     "name": "stdout",
     "output_type": "stream",
     "text": [
      "Training Accuracy:  0.9614156731680551\n",
      "Accuracy:  0.9304384695964484\n",
      "Precision:  0.9279725665202667\n",
      "Recall:  0.9304384695964484\n",
      "Confusion Matrix:  [[ 8275  3413]\n",
      " [ 2165 66335]]\n",
      "AUC:  0.8381926312844419\n"
     ]
    }
   ],
   "source": [
    "countvect = CountVectorizer()\n",
    "lr_tokenize_test(countvect, X_train, y_train, X_test, y_test)"
   ]
  },
  {
   "cell_type": "code",
   "execution_count": 43,
   "metadata": {},
   "outputs": [
    {
     "name": "stdout",
     "output_type": "stream",
     "text": [
      "Training Accuracy:  0.9419021549359007\n",
      "Accuracy:  0.9302389384945379\n",
      "Precision:  0.9268205301843858\n",
      "Recall:  0.9302389384945379\n",
      "Confusion Matrix:  [[ 7762  3926]\n",
      " [ 1668 66832]]\n",
      "AUC:  0.8198747832951134\n"
     ]
    }
   ],
   "source": [
    "tfidvect = TfidfVectorizer()\n",
    "lr_tokenize_test(tfidvect, X_train, y_train, X_test, y_test)"
   ]
  },
  {
   "cell_type": "markdown",
   "metadata": {},
   "source": [
    "#### Logistic Regression, using CountVectorizer and TFIDVectorizer\n",
    "#### Model Training & Prediction on cleaned_review with ngram tuning"
   ]
  },
  {
   "cell_type": "code",
   "execution_count": 44,
   "metadata": {},
   "outputs": [],
   "source": [
    "# define X and y\n",
    "X = df_reviews['cleaned_review']\n",
    "y = df_reviews['review_sentiment_category']\n",
    "\n",
    "# split X and y into training and testing sets\n",
    "from sklearn.model_selection import train_test_split\n",
    "X_train, X_test, y_train, y_test = train_test_split(X, y, random_state=1, test_size=0.2, shuffle=True)"
   ]
  },
  {
   "cell_type": "code",
   "execution_count": 45,
   "metadata": {},
   "outputs": [
    {
     "name": "stdout",
     "output_type": "stream",
     "text": [
      "Training Accuracy:  0.9997630568164813\n",
      "Accuracy:  0.9432084601187211\n",
      "Precision:  0.9418558454479422\n",
      "Recall:  0.9432084601187211\n",
      "Confusion Matrix:  [[ 9004  2684]\n",
      " [ 1870 66630]]\n",
      "AUC:  0.8715317475781512\n"
     ]
    }
   ],
   "source": [
    "countvect = CountVectorizer(ngram_range=(1,2))\n",
    "lr_tokenize_test(countvect, X_train, y_train, X_test, y_test)"
   ]
  },
  {
   "cell_type": "code",
   "execution_count": 46,
   "metadata": {},
   "outputs": [
    {
     "name": "stdout",
     "output_type": "stream",
     "text": [
      "Training Accuracy:  0.9548404998254103\n",
      "Accuracy:  0.9330199032274156\n",
      "Precision:  0.9302713132063961\n",
      "Recall:  0.9330199032274156\n",
      "Confusion Matrix:  [[ 7416  4272]\n",
      " [ 1099 67401]]\n",
      "AUC:  0.8092265621487132\n"
     ]
    }
   ],
   "source": [
    "tfidvect = TfidfVectorizer(ngram_range=(1,2))\n",
    "lr_tokenize_test(tfidvect, X_train, y_train, X_test, y_test)"
   ]
  },
  {
   "cell_type": "markdown",
   "metadata": {},
   "source": [
    "#### Logistic Regression, using CountVectorizer and TFIDVectorizer\n",
    "#### Model Training & Prediction on cleaned_review ignoring terms that appear in more than 50% of the document"
   ]
  },
  {
   "cell_type": "code",
   "execution_count": 47,
   "metadata": {},
   "outputs": [],
   "source": [
    "# define X and y\n",
    "X = df_reviews['cleaned_review']\n",
    "y = df_reviews['review_sentiment_category']\n",
    "\n",
    "# split X and y into training and testing sets\n",
    "from sklearn.model_selection import train_test_split\n",
    "X_train, X_test, y_train, y_test = train_test_split(X, y, random_state=1, test_size=0.2, shuffle=True)"
   ]
  },
  {
   "cell_type": "code",
   "execution_count": 48,
   "metadata": {},
   "outputs": [
    {
     "name": "stdout",
     "output_type": "stream",
     "text": [
      "Training Accuracy:  0.9655154137776226\n",
      "Accuracy:  0.935302040205517\n",
      "Precision:  0.9333651334891635\n",
      "Recall:  0.935302040205517\n",
      "Confusion Matrix:  [[ 8577  3111]\n",
      " [ 2077 66423]]\n",
      "AUC:  0.8517542004526447\n"
     ]
    }
   ],
   "source": [
    "countvect = CountVectorizer(max_df=0.5)\n",
    "lr_tokenize_test(countvect, X_train, y_train, X_test, y_test)"
   ]
  },
  {
   "cell_type": "markdown",
   "metadata": {},
   "source": [
    "#### Further Inspection (Top/Bottom Words) for the above model"
   ]
  },
  {
   "cell_type": "code",
   "execution_count": 49,
   "metadata": {},
   "outputs": [],
   "source": [
    "def get_most_important_features(vectorizer, model, n=5):\n",
    "    index_to_word = {v:k for k,v in vectorizer.vocabulary_.items()}\n",
    "    \n",
    "    # loop for each class\n",
    "    classes ={}\n",
    "    for class_index in range(model.coef_.shape[0]):\n",
    "        word_importances = [(el, index_to_word[i]) for i,el in enumerate(model.coef_[class_index])]\n",
    "        sorted_coeff = sorted(word_importances, key = lambda x : x[0], reverse=True)\n",
    "        tops = sorted(sorted_coeff[:n], key = lambda x : x[0])\n",
    "        bottom = sorted_coeff[-n:]\n",
    "        classes[class_index] = {\n",
    "            'tops':tops,\n",
    "            'bottom':bottom\n",
    "        }\n",
    "    return classes\n",
    "\n",
    "X_train_dtm = countvect.fit_transform(X_train)    \n",
    "lr = LogisticRegression(max_iter=3000)\n",
    "lr.fit(X_train_dtm, y_train)\n",
    "importance = get_most_important_features(countvect, lr, 20)"
   ]
  },
  {
   "cell_type": "code",
   "execution_count": 50,
   "metadata": {},
   "outputs": [
    {
     "data": {
      "text/plain": [
       "{0: {'tops': [(2.3259234384396326, 'attractive'),\n",
       "   (2.3268017420496774, 'impeccable'),\n",
       "   (2.3339377559576384, 'nicely'),\n",
       "   (2.354468152982337, 'marvelous'),\n",
       "   (2.3570555971131415, 'beautiful'),\n",
       "   (2.3646079801754363, 'courteous'),\n",
       "   (2.3703851608012796, 'remarkable'),\n",
       "   (2.384468254486218, 'loved'),\n",
       "   (2.444442579820595, 'beautifully'),\n",
       "   (2.471313934249035, 'brightly'),\n",
       "   (2.475830324056989, 'excellent'),\n",
       "   (2.5090178276622765, 'superb'),\n",
       "   (2.521960252017206, 'perfectly'),\n",
       "   (2.5601622147384386, 'delighted'),\n",
       "   (2.5774248236335526, 'delicious'),\n",
       "   (2.5996901881672105, 'wonderful'),\n",
       "   (2.6122089570995604, 'perfect'),\n",
       "   (2.6295979141605494, 'lol'),\n",
       "   (2.694080793960453, 'wise'),\n",
       "   (2.7468329857988754, 'best')],\n",
       "  'bottom': [(-2.443345651659248, 'thinly'),\n",
       "   (-2.458648923321804, 'uncomfortable'),\n",
       "   (-2.458755780377473, 'awful'),\n",
       "   (-2.4832336460891313, 'dreadful'),\n",
       "   (-2.497684074159415, 'outrageous'),\n",
       "   (-2.5127466230756, 'worst'),\n",
       "   (-2.5820103476500114, 'pathetic'),\n",
       "   (-2.6806800773539217, 'rank'),\n",
       "   (-2.724146351992922, 'bloody'),\n",
       "   (-2.8158814600418576, 'shocked'),\n",
       "   (-2.817484505454634, 'meager'),\n",
       "   (-2.844932018877211, 'sick'),\n",
       "   (-2.8555505129404515, 'ugly'),\n",
       "   (-2.936939584509589, 'nasty'),\n",
       "   (-2.9565397828702946, 'hate'),\n",
       "   (-3.087820362912699, 'annoying'),\n",
       "   (-3.2306155577803963, 'boring'),\n",
       "   (-3.261188376976437, 'insane'),\n",
       "   (-3.438364187664602, 'base'),\n",
       "   (-3.4602980899810203, 'miserable')]}}"
      ]
     },
     "execution_count": 50,
     "metadata": {},
     "output_type": "execute_result"
    }
   ],
   "source": [
    "importance"
   ]
  },
  {
   "cell_type": "code",
   "execution_count": 51,
   "metadata": {},
   "outputs": [
    {
     "data": {
      "image/png": "[encoded data removed]",
      "text/plain": [
       "<Figure size 720x720 with 2 Axes>"
      ]
     },
     "metadata": {
      "needs_background": "light"
     },
     "output_type": "display_data"
    }
   ],
   "source": [
    "import matplotlib.pyplot as plt\n",
    "\n",
    "def plot_important_words(top_scores, top_words, bottom_scores, bottom_words, name):\n",
    "    y_pos = np.arange(len(top_words))\n",
    "    top_pairs = [(a,b) for a,b in zip(top_words, top_scores)]\n",
    "    top_pairs = sorted(top_pairs, key=lambda x: x[1])\n",
    "    \n",
    "    bottom_pairs = [(a,b) for a,b in zip(bottom_words, bottom_scores)]\n",
    "    bottom_pairs = sorted(bottom_pairs, key=lambda x: x[1], reverse=True)\n",
    "    \n",
    "    top_words = [a[0] for a in top_pairs]\n",
    "    top_scores = [a[1] for a in top_pairs]\n",
    "    \n",
    "    bottom_words = [a[0] for a in bottom_pairs]\n",
    "    bottom_scores = [a[1] for a in bottom_pairs]\n",
    "    \n",
    "    fig = plt.figure(figsize=(10, 10))  \n",
    "\n",
    "    plt.subplot(121)\n",
    "    plt.barh(y_pos,top_scores, align='center', alpha=0.5)\n",
    "    plt.title('Top Words', fontsize=20)\n",
    "    plt.yticks(y_pos, top_words, fontsize=14)\n",
    "    plt.suptitle(name, fontsize=16)\n",
    "    plt.xlabel('Importance', fontsize=20)\n",
    "    \n",
    "    plt.subplot(122)\n",
    "    plt.barh(y_pos,bottom_scores, align='center', alpha=0.5)\n",
    "    plt.title('Bottom Words', fontsize=20)\n",
    "    plt.yticks(y_pos, bottom_words, fontsize=14)\n",
    "    plt.suptitle('Key words', fontsize=16)\n",
    "    plt.xlabel('Importance', fontsize=20)\n",
    "    \n",
    "    plt.subplots_adjust(wspace=0.8)\n",
    "    plt.show()\n",
    "\n",
    "top_scores = [a[0] for a in importance[0]['tops']]\n",
    "top_words = [a[1] for a in importance[0]['tops']]\n",
    "bottom_scores = [a[0] for a in importance[0]['bottom']]\n",
    "bottom_words = [a[1] for a in importance[0]['bottom']]\n",
    "\n",
    "plot_important_words(top_scores, top_words, bottom_scores, bottom_words, \"Top and Bottom Words\")"
   ]
  },
  {
   "cell_type": "code",
   "execution_count": 52,
   "metadata": {},
   "outputs": [
    {
     "name": "stdout",
     "output_type": "stream",
     "text": [
      "Training Accuracy:  0.9457774230558188\n",
      "Accuracy:  0.9342170898388786\n",
      "Precision:  0.9312379323144729\n",
      "Recall:  0.9342170898388786\n",
      "Confusion Matrix:  [[ 7983  3705]\n",
      " [ 1570 66930]]\n",
      "AUC:  0.8300442527615822\n"
     ]
    }
   ],
   "source": [
    "tfidvect = TfidfVectorizer(max_df=0.5)\n",
    "lr_tokenize_test(tfidvect, X_train, y_train, X_test, y_test)"
   ]
  }
 ],
 "metadata": {
  "interpreter": {
   "hash": "aee8b7b246df8f9039afb4144a1f6fd8d2ca17a180786b69acc140d282b71a49"
  },
  "kernelspec": {
   "display_name": "Python 3.9.2 64-bit",
   "language": "python",
   "name": "python3"
  },
  "language_info": {
   "codemirror_mode": {
    "name": "ipython",
    "version": 3
   },
   "file_extension": ".py",
   "mimetype": "text/x-python",
   "name": "python",
   "nbconvert_exporter": "python",
   "pygments_lexer": "ipython3",
   "version": "3.9.7"
  },
  "orig_nbformat": 4
 },
 "nbformat": 4,
 "nbformat_minor": 2
}
