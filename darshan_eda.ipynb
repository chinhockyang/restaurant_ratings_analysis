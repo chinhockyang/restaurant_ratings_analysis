{
 "cells": [
  {
   "cell_type": "code",
   "execution_count": 162,
   "metadata": {},
   "outputs": [],
   "source": [
    "import pandas as pd\n",
    "\n",
    "import warnings\n",
    "warnings.filterwarnings(\"ignore\")"
   ]
  },
  {
   "cell_type": "markdown",
   "metadata": {},
   "source": [
    "## Loading Data"
   ]
  },
  {
   "cell_type": "code",
   "execution_count": 163,
   "metadata": {},
   "outputs": [],
   "source": [
    "data = pd.read_csv(\"data/full_restaurant_rating_data.csv\")"
   ]
  },
  {
   "cell_type": "code",
   "execution_count": 164,
   "metadata": {},
   "outputs": [],
   "source": [
    "data.columns\n",
    "data = data[['url', 'list_of_meals', 'list_of_cuisines',\n",
    "       'list_of_features', 'list_of_special_diets']]"
   ]
  },
  {
   "cell_type": "markdown",
   "metadata": {},
   "source": [
    "## Cleaning lists"
   ]
  },
  {
   "cell_type": "code",
   "execution_count": 165,
   "metadata": {},
   "outputs": [],
   "source": [
    "def clean_list(list_):\n",
    "    list_ = list_.replace(', ', '\",\"')\n",
    "    if list_ != '[]':\n",
    "        list_ = '[\"' + list_ + '\"]'\n",
    "    return list_"
   ]
  },
  {
   "cell_type": "code",
   "execution_count": 166,
   "metadata": {},
   "outputs": [],
   "source": [
    "data[\"list_of_meals\"] = data[\"list_of_meals\"].apply(clean_list).apply(eval)\n",
    "data[\"list_of_cuisines\"] = data[\"list_of_cuisines\"].apply(clean_list).apply(eval)\n",
    "data[\"list_of_features\"] = data[\"list_of_features\"].apply(clean_list).apply(eval)\n",
    "data[\"list_of_special_diets\"] = data[\"list_of_special_diets\"].apply(clean_list).apply(eval)"
   ]
  },
  {
   "cell_type": "code",
   "execution_count": 167,
   "metadata": {},
   "outputs": [],
   "source": [
    "meals_dict = {}\n",
    "for i in data[\"list_of_meals\"]:\n",
    "    for j in i:\n",
    "        if j not in meals_dict:\n",
    "            meals_dict[j] = 1\n",
    "        else:\n",
    "            meals_dict[j] += 1\n",
    "\n",
    "cuisines_dict = {}\n",
    "for i in data[\"list_of_cuisines\"]:\n",
    "    for j in i:\n",
    "        if j not in cuisines_dict:\n",
    "            cuisines_dict[j] = 1\n",
    "        else:\n",
    "            cuisines_dict[j] += 1\n",
    "\n",
    "features_dict = {}\n",
    "for i in data[\"list_of_features\"]:\n",
    "    for j in i:\n",
    "        if j not in features_dict:\n",
    "            features_dict[j] = 1\n",
    "        else:\n",
    "            features_dict[j] += 1\n",
    "\n",
    "diets_dict = {}\n",
    "for i in data[\"list_of_special_diets\"]:\n",
    "    for j in i:\n",
    "        if j not in diets_dict:\n",
    "            diets_dict[j] = 1\n",
    "        else:\n",
    "            diets_dict[j] += 1"
   ]
  },
  {
   "cell_type": "markdown",
   "metadata": {},
   "source": [
    "## Preproccessing Meals"
   ]
  },
  {
   "cell_type": "code",
   "execution_count": 168,
   "metadata": {},
   "outputs": [],
   "source": [
    "def ohc(key,list):\n",
    "    if key in list:\n",
    "        return 1\n",
    "    return 0"
   ]
  },
  {
   "cell_type": "code",
   "execution_count": 169,
   "metadata": {},
   "outputs": [],
   "source": [
    "def exists(list):\n",
    "    if bool(list):\n",
    "        return 1\n",
    "    return 0"
   ]
  },
  {
   "cell_type": "code",
   "execution_count": 170,
   "metadata": {},
   "outputs": [],
   "source": [
    "for key in meals_dict:\n",
    "    data[key] = data[\"list_of_meals\"].apply(lambda x: ohc(key,x))\n",
    "data['has_meals'] = data[\"list_of_meals\"].apply(exists)"
   ]
  },
  {
   "cell_type": "code",
   "execution_count": 171,
   "metadata": {},
   "outputs": [
    {
     "data": {
      "text/html": [
       "<div>\n",
       "<style scoped>\n",
       "    .dataframe tbody tr th:only-of-type {\n",
       "        vertical-align: middle;\n",
       "    }\n",
       "\n",
       "    .dataframe tbody tr th {\n",
       "        vertical-align: top;\n",
       "    }\n",
       "\n",
       "    .dataframe thead th {\n",
       "        text-align: right;\n",
       "    }\n",
       "</style>\n",
       "<table border=\"1\" class=\"dataframe\">\n",
       "  <thead>\n",
       "    <tr style=\"text-align: right;\">\n",
       "      <th></th>\n",
       "      <th>url</th>\n",
       "      <th>list_of_meals</th>\n",
       "      <th>list_of_cuisines</th>\n",
       "      <th>list_of_features</th>\n",
       "      <th>list_of_special_diets</th>\n",
       "      <th>Lunch</th>\n",
       "      <th>Dinner</th>\n",
       "      <th>Drinks</th>\n",
       "      <th>Breakfast</th>\n",
       "      <th>Brunch</th>\n",
       "      <th>After-hours</th>\n",
       "      <th>has_meals</th>\n",
       "    </tr>\n",
       "  </thead>\n",
       "  <tbody>\n",
       "    <tr>\n",
       "      <th>0</th>\n",
       "      <td>https://www.tripadvisor.com.sg/Restaurant_Revi...</td>\n",
       "      <td>[Lunch, Dinner, Drinks]</td>\n",
       "      <td>[Pizza, Italian]</td>\n",
       "      <td>[Delivery, Takeout, Reservations, Outdoor Seat...</td>\n",
       "      <td>[]</td>\n",
       "      <td>1</td>\n",
       "      <td>1</td>\n",
       "      <td>1</td>\n",
       "      <td>0</td>\n",
       "      <td>0</td>\n",
       "      <td>0</td>\n",
       "      <td>1</td>\n",
       "    </tr>\n",
       "    <tr>\n",
       "      <th>1</th>\n",
       "      <td>https://www.tripadvisor.com.sg/Restaurant_Revi...</td>\n",
       "      <td>[Lunch, Dinner, Drinks]</td>\n",
       "      <td>[French, European, Healthy]</td>\n",
       "      <td>[Takeout, Reservations, Outdoor Seating, Seati...</td>\n",
       "      <td>[Vegetarian Friendly, Vegan Options, Gluten Fr...</td>\n",
       "      <td>1</td>\n",
       "      <td>1</td>\n",
       "      <td>1</td>\n",
       "      <td>0</td>\n",
       "      <td>0</td>\n",
       "      <td>0</td>\n",
       "      <td>1</td>\n",
       "    </tr>\n",
       "    <tr>\n",
       "      <th>2</th>\n",
       "      <td>https://www.tripadvisor.com.sg/Restaurant_Revi...</td>\n",
       "      <td>[Drinks, Breakfast, Lunch, Brunch, Dinner, Aft...</td>\n",
       "      <td>[Japanese, Indian, International]</td>\n",
       "      <td>[Valet Parking, Full Bar, Reservations, Buffet...</td>\n",
       "      <td>[Vegetarian Friendly, Gluten Free Options, Veg...</td>\n",
       "      <td>1</td>\n",
       "      <td>1</td>\n",
       "      <td>1</td>\n",
       "      <td>1</td>\n",
       "      <td>1</td>\n",
       "      <td>1</td>\n",
       "      <td>1</td>\n",
       "    </tr>\n",
       "    <tr>\n",
       "      <th>3</th>\n",
       "      <td>https://www.tripadvisor.com.sg/Restaurant_Revi...</td>\n",
       "      <td>[Breakfast, Lunch, Dinner, Brunch, After-hours...</td>\n",
       "      <td>[Bar, Cafe, International, Singaporean, Wine Bar]</td>\n",
       "      <td>[Reservations, Seating, Serves Alcohol, Full B...</td>\n",
       "      <td>[Vegan Options]</td>\n",
       "      <td>1</td>\n",
       "      <td>1</td>\n",
       "      <td>1</td>\n",
       "      <td>1</td>\n",
       "      <td>1</td>\n",
       "      <td>1</td>\n",
       "      <td>1</td>\n",
       "    </tr>\n",
       "    <tr>\n",
       "      <th>4</th>\n",
       "      <td>https://www.tripadvisor.com.sg/Restaurant_Revi...</td>\n",
       "      <td>[Lunch, Dinner, Brunch]</td>\n",
       "      <td>[Chinese, Asian]</td>\n",
       "      <td>[Delivery, Reservations, Private Dining, Seati...</td>\n",
       "      <td>[Vegetarian Friendly, Vegan Options, Gluten Fr...</td>\n",
       "      <td>1</td>\n",
       "      <td>1</td>\n",
       "      <td>0</td>\n",
       "      <td>0</td>\n",
       "      <td>1</td>\n",
       "      <td>0</td>\n",
       "      <td>1</td>\n",
       "    </tr>\n",
       "  </tbody>\n",
       "</table>\n",
       "</div>"
      ],
      "text/plain": [
       "                                                 url  \\\n",
       "0  https://www.tripadvisor.com.sg/Restaurant_Revi...   \n",
       "1  https://www.tripadvisor.com.sg/Restaurant_Revi...   \n",
       "2  https://www.tripadvisor.com.sg/Restaurant_Revi...   \n",
       "3  https://www.tripadvisor.com.sg/Restaurant_Revi...   \n",
       "4  https://www.tripadvisor.com.sg/Restaurant_Revi...   \n",
       "\n",
       "                                       list_of_meals  \\\n",
       "0                            [Lunch, Dinner, Drinks]   \n",
       "1                            [Lunch, Dinner, Drinks]   \n",
       "2  [Drinks, Breakfast, Lunch, Brunch, Dinner, Aft...   \n",
       "3  [Breakfast, Lunch, Dinner, Brunch, After-hours...   \n",
       "4                            [Lunch, Dinner, Brunch]   \n",
       "\n",
       "                                    list_of_cuisines  \\\n",
       "0                                   [Pizza, Italian]   \n",
       "1                        [French, European, Healthy]   \n",
       "2                  [Japanese, Indian, International]   \n",
       "3  [Bar, Cafe, International, Singaporean, Wine Bar]   \n",
       "4                                   [Chinese, Asian]   \n",
       "\n",
       "                                    list_of_features  \\\n",
       "0  [Delivery, Takeout, Reservations, Outdoor Seat...   \n",
       "1  [Takeout, Reservations, Outdoor Seating, Seati...   \n",
       "2  [Valet Parking, Full Bar, Reservations, Buffet...   \n",
       "3  [Reservations, Seating, Serves Alcohol, Full B...   \n",
       "4  [Delivery, Reservations, Private Dining, Seati...   \n",
       "\n",
       "                               list_of_special_diets  Lunch  Dinner  Drinks  \\\n",
       "0                                                 []      1       1       1   \n",
       "1  [Vegetarian Friendly, Vegan Options, Gluten Fr...      1       1       1   \n",
       "2  [Vegetarian Friendly, Gluten Free Options, Veg...      1       1       1   \n",
       "3                                    [Vegan Options]      1       1       1   \n",
       "4  [Vegetarian Friendly, Vegan Options, Gluten Fr...      1       1       0   \n",
       "\n",
       "   Breakfast  Brunch  After-hours  has_meals  \n",
       "0          0       0            0          1  \n",
       "1          0       0            0          1  \n",
       "2          1       1            1          1  \n",
       "3          1       1            1          1  \n",
       "4          0       1            0          1  "
      ]
     },
     "execution_count": 171,
     "metadata": {},
     "output_type": "execute_result"
    }
   ],
   "source": [
    "data.head()"
   ]
  },
  {
   "cell_type": "markdown",
   "metadata": {},
   "source": [
    "## Preprocessing Cuisines"
   ]
  },
  {
   "cell_type": "code",
   "execution_count": 172,
   "metadata": {},
   "outputs": [],
   "source": [
    "establishment_types = {'Bar': 620,\n",
    " 'Cafe': 812,\n",
    "  'Wine Bar': 132,\n",
    "   'Brew Pub': 26,\n",
    "    'Steakhouse': 140,\n",
    " 'Grill': 165,\n",
    "  'Pub': 442,\n",
    "   'Dining bars': 49,\n",
    "    'Diner': 55,\n",
    "     'Gastropub': 53,\n",
    "      'Fast food': 279,\n",
    " 'Deli': 49,\n",
    "  'Beer restaurants': 31,\n",
    "   'Fruit parlours': 7,\n",
    "}.keys()\n",
    "establishment_types = list(establishment_types)"
   ]
  },
  {
   "cell_type": "code",
   "execution_count": 173,
   "metadata": {},
   "outputs": [],
   "source": [
    "def find(to_find, list):\n",
    "    try:\n",
    "        return list.index(to_find), to_find\n",
    "    except ValueError:\n",
    "        return 10000, None\n"
   ]
  },
  {
   "cell_type": "code",
   "execution_count": 174,
   "metadata": {},
   "outputs": [],
   "source": [
    "establishment = []\n",
    "for index, row in data.iterrows():\n",
    "    estab = (min(find(establishment_type,row[\"list_of_cuisines\"]) for establishment_type in establishment_types))\n",
    "    establishment.append(estab[1])\n",
    "data[\"establishment_type\"] = establishment"
   ]
  },
  {
   "cell_type": "code",
   "execution_count": 175,
   "metadata": {},
   "outputs": [
    {
     "data": {
      "text/html": [
       "<div>\n",
       "<style scoped>\n",
       "    .dataframe tbody tr th:only-of-type {\n",
       "        vertical-align: middle;\n",
       "    }\n",
       "\n",
       "    .dataframe tbody tr th {\n",
       "        vertical-align: top;\n",
       "    }\n",
       "\n",
       "    .dataframe thead th {\n",
       "        text-align: right;\n",
       "    }\n",
       "</style>\n",
       "<table border=\"1\" class=\"dataframe\">\n",
       "  <thead>\n",
       "    <tr style=\"text-align: right;\">\n",
       "      <th></th>\n",
       "      <th>url</th>\n",
       "      <th>list_of_meals</th>\n",
       "      <th>list_of_cuisines</th>\n",
       "      <th>list_of_features</th>\n",
       "      <th>list_of_special_diets</th>\n",
       "      <th>Lunch</th>\n",
       "      <th>Dinner</th>\n",
       "      <th>Drinks</th>\n",
       "      <th>Breakfast</th>\n",
       "      <th>Brunch</th>\n",
       "      <th>After-hours</th>\n",
       "      <th>has_meals</th>\n",
       "      <th>establishment_type</th>\n",
       "    </tr>\n",
       "  </thead>\n",
       "  <tbody>\n",
       "    <tr>\n",
       "      <th>0</th>\n",
       "      <td>https://www.tripadvisor.com.sg/Restaurant_Revi...</td>\n",
       "      <td>[Lunch, Dinner, Drinks]</td>\n",
       "      <td>[Pizza, Italian]</td>\n",
       "      <td>[Delivery, Takeout, Reservations, Outdoor Seat...</td>\n",
       "      <td>[]</td>\n",
       "      <td>1</td>\n",
       "      <td>1</td>\n",
       "      <td>1</td>\n",
       "      <td>0</td>\n",
       "      <td>0</td>\n",
       "      <td>0</td>\n",
       "      <td>1</td>\n",
       "      <td>None</td>\n",
       "    </tr>\n",
       "    <tr>\n",
       "      <th>1</th>\n",
       "      <td>https://www.tripadvisor.com.sg/Restaurant_Revi...</td>\n",
       "      <td>[Lunch, Dinner, Drinks]</td>\n",
       "      <td>[French, European, Healthy]</td>\n",
       "      <td>[Takeout, Reservations, Outdoor Seating, Seati...</td>\n",
       "      <td>[Vegetarian Friendly, Vegan Options, Gluten Fr...</td>\n",
       "      <td>1</td>\n",
       "      <td>1</td>\n",
       "      <td>1</td>\n",
       "      <td>0</td>\n",
       "      <td>0</td>\n",
       "      <td>0</td>\n",
       "      <td>1</td>\n",
       "      <td>None</td>\n",
       "    </tr>\n",
       "    <tr>\n",
       "      <th>2</th>\n",
       "      <td>https://www.tripadvisor.com.sg/Restaurant_Revi...</td>\n",
       "      <td>[Drinks, Breakfast, Lunch, Brunch, Dinner, Aft...</td>\n",
       "      <td>[Japanese, Indian, International]</td>\n",
       "      <td>[Valet Parking, Full Bar, Reservations, Buffet...</td>\n",
       "      <td>[Vegetarian Friendly, Gluten Free Options, Veg...</td>\n",
       "      <td>1</td>\n",
       "      <td>1</td>\n",
       "      <td>1</td>\n",
       "      <td>1</td>\n",
       "      <td>1</td>\n",
       "      <td>1</td>\n",
       "      <td>1</td>\n",
       "      <td>None</td>\n",
       "    </tr>\n",
       "    <tr>\n",
       "      <th>3</th>\n",
       "      <td>https://www.tripadvisor.com.sg/Restaurant_Revi...</td>\n",
       "      <td>[Breakfast, Lunch, Dinner, Brunch, After-hours...</td>\n",
       "      <td>[Bar, Cafe, International, Singaporean, Wine Bar]</td>\n",
       "      <td>[Reservations, Seating, Serves Alcohol, Full B...</td>\n",
       "      <td>[Vegan Options]</td>\n",
       "      <td>1</td>\n",
       "      <td>1</td>\n",
       "      <td>1</td>\n",
       "      <td>1</td>\n",
       "      <td>1</td>\n",
       "      <td>1</td>\n",
       "      <td>1</td>\n",
       "      <td>Bar</td>\n",
       "    </tr>\n",
       "    <tr>\n",
       "      <th>4</th>\n",
       "      <td>https://www.tripadvisor.com.sg/Restaurant_Revi...</td>\n",
       "      <td>[Lunch, Dinner, Brunch]</td>\n",
       "      <td>[Chinese, Asian]</td>\n",
       "      <td>[Delivery, Reservations, Private Dining, Seati...</td>\n",
       "      <td>[Vegetarian Friendly, Vegan Options, Gluten Fr...</td>\n",
       "      <td>1</td>\n",
       "      <td>1</td>\n",
       "      <td>0</td>\n",
       "      <td>0</td>\n",
       "      <td>1</td>\n",
       "      <td>0</td>\n",
       "      <td>1</td>\n",
       "      <td>None</td>\n",
       "    </tr>\n",
       "  </tbody>\n",
       "</table>\n",
       "</div>"
      ],
      "text/plain": [
       "                                                 url  \\\n",
       "0  https://www.tripadvisor.com.sg/Restaurant_Revi...   \n",
       "1  https://www.tripadvisor.com.sg/Restaurant_Revi...   \n",
       "2  https://www.tripadvisor.com.sg/Restaurant_Revi...   \n",
       "3  https://www.tripadvisor.com.sg/Restaurant_Revi...   \n",
       "4  https://www.tripadvisor.com.sg/Restaurant_Revi...   \n",
       "\n",
       "                                       list_of_meals  \\\n",
       "0                            [Lunch, Dinner, Drinks]   \n",
       "1                            [Lunch, Dinner, Drinks]   \n",
       "2  [Drinks, Breakfast, Lunch, Brunch, Dinner, Aft...   \n",
       "3  [Breakfast, Lunch, Dinner, Brunch, After-hours...   \n",
       "4                            [Lunch, Dinner, Brunch]   \n",
       "\n",
       "                                    list_of_cuisines  \\\n",
       "0                                   [Pizza, Italian]   \n",
       "1                        [French, European, Healthy]   \n",
       "2                  [Japanese, Indian, International]   \n",
       "3  [Bar, Cafe, International, Singaporean, Wine Bar]   \n",
       "4                                   [Chinese, Asian]   \n",
       "\n",
       "                                    list_of_features  \\\n",
       "0  [Delivery, Takeout, Reservations, Outdoor Seat...   \n",
       "1  [Takeout, Reservations, Outdoor Seating, Seati...   \n",
       "2  [Valet Parking, Full Bar, Reservations, Buffet...   \n",
       "3  [Reservations, Seating, Serves Alcohol, Full B...   \n",
       "4  [Delivery, Reservations, Private Dining, Seati...   \n",
       "\n",
       "                               list_of_special_diets  Lunch  Dinner  Drinks  \\\n",
       "0                                                 []      1       1       1   \n",
       "1  [Vegetarian Friendly, Vegan Options, Gluten Fr...      1       1       1   \n",
       "2  [Vegetarian Friendly, Gluten Free Options, Veg...      1       1       1   \n",
       "3                                    [Vegan Options]      1       1       1   \n",
       "4  [Vegetarian Friendly, Vegan Options, Gluten Fr...      1       1       0   \n",
       "\n",
       "   Breakfast  Brunch  After-hours  has_meals establishment_type  \n",
       "0          0       0            0          1               None  \n",
       "1          0       0            0          1               None  \n",
       "2          1       1            1          1               None  \n",
       "3          1       1            1          1                Bar  \n",
       "4          0       1            0          1               None  "
      ]
     },
     "execution_count": 175,
     "metadata": {},
     "output_type": "execute_result"
    }
   ],
   "source": [
    "data.head()"
   ]
  },
  {
   "cell_type": "code",
   "execution_count": 176,
   "metadata": {},
   "outputs": [],
   "source": [
    "cuisines = {'Pizza': 263,\n",
    " 'Italian': 453,\n",
    " 'French': 192,\n",
    " 'European': 501,\n",
    " #'Healthy': 218,\n",
    " 'Japanese': 1070,\n",
    " 'Indian': 480,\n",
    " 'International': 355,\n",
    " 'Singaporean': 1405,\n",
    " 'Chinese': 1798,\n",
    " 'Asian': 3837,\n",
    " 'Mediterranean': 157,\n",
    " 'Turkish': 36,\n",
    " 'Middle Eastern': 82,\n",
    " 'German': 23,\n",
    " 'Central European': 16,\n",
    " 'Sicilian': 2,\n",
    " 'Southern-Italian': 9,\n",
    " 'Northern-Italian': 3,\n",
    " 'Central-Italian': 9,\n",
    " #'Seafood': 591,\n",
    " 'Lebanese': 29,\n",
    " #'Barbecue': 197,\n",
    " 'Arabic': 16,\n",
    " 'Sushi': 330,\n",
    " 'Japanese Fusion': 42,\n",
    " #'Fusion': 373,\n",
    " 'Caucasian': 15,\n",
    " 'Contemporary': 129,\n",
    " 'American': 441,\n",
    " #'Street Food': 71,\n",
    " 'Thai': 383,\n",
    " #'Soups': 170,\n",
    " 'Neapolitan': 5,\n",
    " 'Campania': 5,\n",
    " 'Southwestern': 57,\n",
    " 'Egyptian': 4,\n",
    " 'Irish': 10,\n",
    " 'Spanish': 71,\n",
    " 'Greek': 18,\n",
    " 'British': 47,\n",
    " 'Russian': 4,\n",
    " 'Eastern European': 6,\n",
    " 'Ukrainian': 1,\n",
    " 'Tuscan': 4,\n",
    " 'New Zealand': 5,\n",
    " 'Vietnamese': 112,\n",
    " 'Indonesian': 125,\n",
    " 'Taiwanese': 83,\n",
    " 'Korean': 254,\n",
    " 'Kaiseki': 7,\n",
    " 'Persian': 7,\n",
    " 'Swiss': 13,\n",
    " 'Australian': 56,\n",
    " 'Mexican': 61,\n",
    " 'Cajun & Creole': 6,\n",
    " 'Peruvian': 3,\n",
    " 'South American': 18,\n",
    " 'Brazilian': 7,\n",
    " 'Pakistani': 13,\n",
    " 'Malaysian': 226,\n",
    " 'Latin': 17,\n",
    " 'Dutch': 2,\n",
    " 'Caribbean': 5,\n",
    " 'Jamaican': 1,\n",
    " 'Central Asian': 23,\n",
    " 'Yunnan': 4,\n",
    " 'Central American': 14,\n",
    "     'Medicinal foods': 2,\n",
    " 'Nepalese': 7,\n",
    " 'Argentinian': 2,\n",
    " 'Austrian': 3,\n",
    " 'Sri Lankan': 3,\n",
    " 'Israeli': 5,\n",
    " 'Scandinavian': 6,\n",
    " 'Swedish': 8,\n",
    " 'Portuguese': 10,\n",
    " 'Catalan': 1,\n",
    " 'Scottish': 2,\n",
    " 'Tibetan': 1,\n",
    " 'Hawaiian': 10,\n",
    " 'Hokkaido cuisine': 5,\n",
    " 'Belgian': 3,\n",
    " 'Czech': 1,\n",
    " 'Afghani': 4,\n",
    " 'Burmese': 2,\n",
    " 'African': 3,\n",
    " 'Japanese sweets parlour': 6,\n",
    " 'Cuban': 4,\n",
    " 'Philippine': 12,\n",
    " 'Chilean': 1,\n",
    " 'Moroccan': 3,\n",
    " 'Bangladeshi': 2,\n",
    " 'Albanian': 1,\n",
    " 'Mongolian': 2,\n",
    " 'Fujian': 4,\n",
    " 'Kappo': 3,\n",
    " 'Beijing cuisine': 3,\n",
    " 'Danish': 1,\n",
    " 'Canadian': 2,\n",
    " 'Azerbaijani': 1,\n",
    " 'Kyoto cuisine': 1,\n",
    " 'Armenian': 1,\n",
    " 'Norwegian': 1,\n",
    " 'Native American': 1,\n",
    " 'Xinjiang': 2}\n",
    "cuisines = list(cuisines.keys())"
   ]
  },
  {
   "cell_type": "code",
   "execution_count": 177,
   "metadata": {},
   "outputs": [],
   "source": [
    "cuisine = []\n",
    "for index, row in data.iterrows():\n",
    "    cui = (min(find(cuisine,row[\"list_of_cuisines\"]) for cuisine in cuisines))\n",
    "    cuisine.append(cui[1])\n",
    "data[\"cuisine\"] = cuisine"
   ]
  },
  {
   "cell_type": "code",
   "execution_count": 178,
   "metadata": {},
   "outputs": [],
   "source": [
    "replace = {\n",
    "'Asian': 'asian',\n",
    "  'Korean': 'asian',\n",
    "   'Taiwanese': 'asian',\n",
    "    'Central Asian': 'asian',\n",
    "     'Pakistani': 'asian',\n",
    " 'Nepalese': 'asian',\n",
    " 'Tibetan': 'asian',\n",
    " 'Japanese': \"japanese\",\n",
    "  'Sushi': \"japanese\",\n",
    "   'Japanese Fusion': \"japanese\",\n",
    " 'Italian': \"italian\",\n",
    " 'Pizza': \"italian\",\n",
    "  'Central-Italian': \"italian\",\n",
    " 'American': \"north_american\",\n",
    " 'Cajun & Creole': \"north_american\",\n",
    "  'Canadian': \"north_american\",\n",
    "   'Southwestern':\"north_american\",\n",
    "   'Hawaiian': \"north_american\",\n",
    "    'Contemporary':\"north_american\",\n",
    "    \"Caucasian\":\"european\",\n",
    " 'European': \"european\",\n",
    "  'Eastern European': \"european\",\n",
    " 'Dutch': \"european\",\n",
    " 'Belgian': \"european\",\n",
    "  'German': \"european\",\n",
    "   'British': \"european\",\n",
    "    'Portuguese':\"european\",\n",
    "     'Irish':\"european\",\n",
    "       'Swiss': \"european\",\n",
    "       'Greek': \"european\",\n",
    "        'Swedish': \"european\",\n",
    "         'Austrian': \"european\",\n",
    " 'Russian': \"european\",\n",
    "  'Czech': \"european\",\n",
    "   'Scottish': \"european\",\n",
    " 'Scandinavian': \"european\",\n",
    " 'Central European': \"european\",\n",
    "  'Spanish': \"european\",\n",
    "   'French': \"european\",\n",
    "  'Singaporean': \"sea\",\n",
    "  'Philippine': \"sea\",\n",
    " 'Malaysian': \"sea\",\n",
    "   'Indonesian': \"sea\",\n",
    "    'Vietnamese': \"sea\",\n",
    "     'Thai': \"sea\",\n",
    "    'Mediterranean': \"arabic\",\n",
    "  'Arabic': \"arabic\",\n",
    " 'Middle Eastern': \"arabic\",\n",
    " 'Persian': \"arabic\",\n",
    " 'Lebanese': \"arabic\",\n",
    "  'Israeli': \"arabic\",\n",
    "   'Moroccan': \"arabic\",\n",
    "    'Turkish': \"arabic\",\n",
    "    'Egyptian': \"arabic\",\n",
    " 'South American': \"south_american\",\n",
    " 'Brazilian': \"south_american\",\n",
    "  'Argentinian': \"south_american\",\n",
    "   'Caribbean': \"south_american\",\n",
    "   'Latin': \"south_american\",\n",
    " 'Peruvian': \"south_american\",\n",
    "  'Mexican': \"south_american\",\n",
    "  'New Zealand': \"others\",\n",
    " 'African': \"others\",\n",
    "  'Australian': \"others\",\n",
    "  \"Chinese\":\"chinese\",\n",
    "  \"indian\":\"indian\",\n",
    "  \"international\":\"international\"}\n",
    " \n",
    "\n",
    "\n",
    "\n",
    "\n",
    "\n",
    "data.cuisine.replace(replace,inplace=True)\n",
    "\n",
    "\n",
    "\n",
    " \n",
    " "
   ]
  },
  {
   "cell_type": "code",
   "execution_count": 179,
   "metadata": {},
   "outputs": [
    {
     "data": {
      "text/plain": [
       "asian             1812\n",
       "chinese           1587\n",
       "japanese          1058\n",
       "italian            515\n",
       "european           458\n",
       "north_american     453\n",
       "Indian             429\n",
       "sea                347\n",
       "International      222\n",
       "arabic             133\n",
       "south_american      74\n",
       "others              30\n",
       "Name: cuisine, dtype: int64"
      ]
     },
     "execution_count": 179,
     "metadata": {},
     "output_type": "execute_result"
    }
   ],
   "source": [
    "data.cuisine.value_counts()"
   ]
  },
  {
   "cell_type": "markdown",
   "metadata": {},
   "source": [
    "## Preprocessing Features"
   ]
  },
  {
   "cell_type": "code",
   "execution_count": 180,
   "metadata": {},
   "outputs": [],
   "source": [
    "features_dict = {\n",
    " 'Delivery': 684,\n",
    " 'Reservations': 3627,\n",
    " 'Outdoor Seating': 850,\n",
    " 'Seating': 3814,\n",
    " 'Highchairs Available': 894,\n",
    " 'Digital Payments': 399,\n",
    " 'Free Wifi': 713,\n",
    " 'Cash Only': 193,\n",
    " 'Wheelchair Accessible': 1626,\n",
    " 'Table Service': 3088,\n",
    "  'Live Music': 122,\n",
    "\n",
    "# PARKING AVAIL\n",
    " 'Valet Parking': 88,\n",
    " 'Free off-street parking': 73,\n",
    " 'Street Parking': 324,\n",
    " 'Parking Available': 793,\n",
    " 'Validated Parking': 174,\n",
    "#####\n",
    "\n",
    "# Alcohol Available\n",
    " 'Full Bar': 640,\n",
    " 'Serves Alcohol': 1929,\n",
    " 'Wine and Beer': 652,\n",
    "####\n",
    "\n",
    "# Credit cards\n",
    " 'Accepts Credit Cards': 1083,\n",
    " 'Accepts American Express': 354,\n",
    " 'Accepts Mastercard': 487,\n",
    " 'Accepts Visa': 489,\n",
    "####\n",
    "\n",
    "\n",
    "# 'Non-smoking restaurants': 160,\n",
    "# 'Private Dining': 260,\n",
    "# 'Drive Thru': 9,\n",
    "# 'Family style': 168,\n",
    "# 'Gift Cards Available': 676,\n",
    "# 'Television': 186,\n",
    "# 'Takeout': 2241,\n",
    "# 'Dog Friendly': 36,\n",
    "# 'BYOB': 35,\n",
    "\n",
    "# 'Buffet': 145,\n",
    "# 'Waterfront': 20,\n",
    "# 'Jazz Bar': 13,\n",
    "# 'Playgrounds': 20,\n",
    "# 'Accepts Discover': 17,\n",
    "# 'Sports bars': 16,\n",
    "# 'Beach': 1\n",
    " }"
   ]
  },
  {
   "cell_type": "code",
   "execution_count": 181,
   "metadata": {},
   "outputs": [],
   "source": [
    "for key in features_dict:\n",
    "    data[key] = data[\"list_of_features\"].apply(lambda x: ohc(key,x))\n",
    "data['has_features'] = data[\"list_of_features\"].apply(exists) "
   ]
  },
  {
   "cell_type": "code",
   "execution_count": 182,
   "metadata": {},
   "outputs": [
    {
     "data": {
      "text/html": [
       "<div>\n",
       "<style scoped>\n",
       "    .dataframe tbody tr th:only-of-type {\n",
       "        vertical-align: middle;\n",
       "    }\n",
       "\n",
       "    .dataframe tbody tr th {\n",
       "        vertical-align: top;\n",
       "    }\n",
       "\n",
       "    .dataframe thead th {\n",
       "        text-align: right;\n",
       "    }\n",
       "</style>\n",
       "<table border=\"1\" class=\"dataframe\">\n",
       "  <thead>\n",
       "    <tr style=\"text-align: right;\">\n",
       "      <th></th>\n",
       "      <th>url</th>\n",
       "      <th>list_of_meals</th>\n",
       "      <th>list_of_cuisines</th>\n",
       "      <th>list_of_features</th>\n",
       "      <th>list_of_special_diets</th>\n",
       "      <th>Lunch</th>\n",
       "      <th>Dinner</th>\n",
       "      <th>Drinks</th>\n",
       "      <th>Breakfast</th>\n",
       "      <th>Brunch</th>\n",
       "      <th>...</th>\n",
       "      <th>Parking Available</th>\n",
       "      <th>Validated Parking</th>\n",
       "      <th>Full Bar</th>\n",
       "      <th>Serves Alcohol</th>\n",
       "      <th>Wine and Beer</th>\n",
       "      <th>Accepts Credit Cards</th>\n",
       "      <th>Accepts American Express</th>\n",
       "      <th>Accepts Mastercard</th>\n",
       "      <th>Accepts Visa</th>\n",
       "      <th>has_features</th>\n",
       "    </tr>\n",
       "  </thead>\n",
       "  <tbody>\n",
       "    <tr>\n",
       "      <th>0</th>\n",
       "      <td>https://www.tripadvisor.com.sg/Restaurant_Revi...</td>\n",
       "      <td>[Lunch, Dinner, Drinks]</td>\n",
       "      <td>[Pizza, Italian]</td>\n",
       "      <td>[Delivery, Takeout, Reservations, Outdoor Seat...</td>\n",
       "      <td>[]</td>\n",
       "      <td>1</td>\n",
       "      <td>1</td>\n",
       "      <td>1</td>\n",
       "      <td>0</td>\n",
       "      <td>0</td>\n",
       "      <td>...</td>\n",
       "      <td>0</td>\n",
       "      <td>0</td>\n",
       "      <td>0</td>\n",
       "      <td>1</td>\n",
       "      <td>1</td>\n",
       "      <td>1</td>\n",
       "      <td>0</td>\n",
       "      <td>0</td>\n",
       "      <td>0</td>\n",
       "      <td>1</td>\n",
       "    </tr>\n",
       "    <tr>\n",
       "      <th>1</th>\n",
       "      <td>https://www.tripadvisor.com.sg/Restaurant_Revi...</td>\n",
       "      <td>[Lunch, Dinner, Drinks]</td>\n",
       "      <td>[French, European, Healthy]</td>\n",
       "      <td>[Takeout, Reservations, Outdoor Seating, Seati...</td>\n",
       "      <td>[Vegetarian Friendly, Vegan Options, Gluten Fr...</td>\n",
       "      <td>1</td>\n",
       "      <td>1</td>\n",
       "      <td>1</td>\n",
       "      <td>0</td>\n",
       "      <td>0</td>\n",
       "      <td>...</td>\n",
       "      <td>0</td>\n",
       "      <td>0</td>\n",
       "      <td>0</td>\n",
       "      <td>1</td>\n",
       "      <td>1</td>\n",
       "      <td>0</td>\n",
       "      <td>0</td>\n",
       "      <td>0</td>\n",
       "      <td>0</td>\n",
       "      <td>1</td>\n",
       "    </tr>\n",
       "    <tr>\n",
       "      <th>2</th>\n",
       "      <td>https://www.tripadvisor.com.sg/Restaurant_Revi...</td>\n",
       "      <td>[Drinks, Breakfast, Lunch, Brunch, Dinner, Aft...</td>\n",
       "      <td>[Japanese, Indian, International]</td>\n",
       "      <td>[Valet Parking, Full Bar, Reservations, Buffet...</td>\n",
       "      <td>[Vegetarian Friendly, Gluten Free Options, Veg...</td>\n",
       "      <td>1</td>\n",
       "      <td>1</td>\n",
       "      <td>1</td>\n",
       "      <td>1</td>\n",
       "      <td>1</td>\n",
       "      <td>...</td>\n",
       "      <td>1</td>\n",
       "      <td>1</td>\n",
       "      <td>1</td>\n",
       "      <td>1</td>\n",
       "      <td>1</td>\n",
       "      <td>1</td>\n",
       "      <td>1</td>\n",
       "      <td>1</td>\n",
       "      <td>1</td>\n",
       "      <td>1</td>\n",
       "    </tr>\n",
       "    <tr>\n",
       "      <th>3</th>\n",
       "      <td>https://www.tripadvisor.com.sg/Restaurant_Revi...</td>\n",
       "      <td>[Breakfast, Lunch, Dinner, Brunch, After-hours...</td>\n",
       "      <td>[Bar, Cafe, International, Singaporean, Wine Bar]</td>\n",
       "      <td>[Reservations, Seating, Serves Alcohol, Full B...</td>\n",
       "      <td>[Vegan Options]</td>\n",
       "      <td>1</td>\n",
       "      <td>1</td>\n",
       "      <td>1</td>\n",
       "      <td>1</td>\n",
       "      <td>1</td>\n",
       "      <td>...</td>\n",
       "      <td>0</td>\n",
       "      <td>0</td>\n",
       "      <td>1</td>\n",
       "      <td>1</td>\n",
       "      <td>1</td>\n",
       "      <td>1</td>\n",
       "      <td>0</td>\n",
       "      <td>0</td>\n",
       "      <td>0</td>\n",
       "      <td>1</td>\n",
       "    </tr>\n",
       "    <tr>\n",
       "      <th>4</th>\n",
       "      <td>https://www.tripadvisor.com.sg/Restaurant_Revi...</td>\n",
       "      <td>[Lunch, Dinner, Brunch]</td>\n",
       "      <td>[Chinese, Asian]</td>\n",
       "      <td>[Delivery, Reservations, Private Dining, Seati...</td>\n",
       "      <td>[Vegetarian Friendly, Vegan Options, Gluten Fr...</td>\n",
       "      <td>1</td>\n",
       "      <td>1</td>\n",
       "      <td>0</td>\n",
       "      <td>0</td>\n",
       "      <td>1</td>\n",
       "      <td>...</td>\n",
       "      <td>1</td>\n",
       "      <td>1</td>\n",
       "      <td>1</td>\n",
       "      <td>1</td>\n",
       "      <td>0</td>\n",
       "      <td>1</td>\n",
       "      <td>0</td>\n",
       "      <td>0</td>\n",
       "      <td>0</td>\n",
       "      <td>1</td>\n",
       "    </tr>\n",
       "  </tbody>\n",
       "</table>\n",
       "<p>5 rows × 38 columns</p>\n",
       "</div>"
      ],
      "text/plain": [
       "                                                 url  \\\n",
       "0  https://www.tripadvisor.com.sg/Restaurant_Revi...   \n",
       "1  https://www.tripadvisor.com.sg/Restaurant_Revi...   \n",
       "2  https://www.tripadvisor.com.sg/Restaurant_Revi...   \n",
       "3  https://www.tripadvisor.com.sg/Restaurant_Revi...   \n",
       "4  https://www.tripadvisor.com.sg/Restaurant_Revi...   \n",
       "\n",
       "                                       list_of_meals  \\\n",
       "0                            [Lunch, Dinner, Drinks]   \n",
       "1                            [Lunch, Dinner, Drinks]   \n",
       "2  [Drinks, Breakfast, Lunch, Brunch, Dinner, Aft...   \n",
       "3  [Breakfast, Lunch, Dinner, Brunch, After-hours...   \n",
       "4                            [Lunch, Dinner, Brunch]   \n",
       "\n",
       "                                    list_of_cuisines  \\\n",
       "0                                   [Pizza, Italian]   \n",
       "1                        [French, European, Healthy]   \n",
       "2                  [Japanese, Indian, International]   \n",
       "3  [Bar, Cafe, International, Singaporean, Wine Bar]   \n",
       "4                                   [Chinese, Asian]   \n",
       "\n",
       "                                    list_of_features  \\\n",
       "0  [Delivery, Takeout, Reservations, Outdoor Seat...   \n",
       "1  [Takeout, Reservations, Outdoor Seating, Seati...   \n",
       "2  [Valet Parking, Full Bar, Reservations, Buffet...   \n",
       "3  [Reservations, Seating, Serves Alcohol, Full B...   \n",
       "4  [Delivery, Reservations, Private Dining, Seati...   \n",
       "\n",
       "                               list_of_special_diets  Lunch  Dinner  Drinks  \\\n",
       "0                                                 []      1       1       1   \n",
       "1  [Vegetarian Friendly, Vegan Options, Gluten Fr...      1       1       1   \n",
       "2  [Vegetarian Friendly, Gluten Free Options, Veg...      1       1       1   \n",
       "3                                    [Vegan Options]      1       1       1   \n",
       "4  [Vegetarian Friendly, Vegan Options, Gluten Fr...      1       1       0   \n",
       "\n",
       "   Breakfast  Brunch  ...  Parking Available  Validated Parking Full Bar  \\\n",
       "0          0       0  ...                  0                  0        0   \n",
       "1          0       0  ...                  0                  0        0   \n",
       "2          1       1  ...                  1                  1        1   \n",
       "3          1       1  ...                  0                  0        1   \n",
       "4          0       1  ...                  1                  1        1   \n",
       "\n",
       "  Serves Alcohol  Wine and Beer  Accepts Credit Cards  \\\n",
       "0              1              1                     1   \n",
       "1              1              1                     0   \n",
       "2              1              1                     1   \n",
       "3              1              1                     1   \n",
       "4              1              0                     1   \n",
       "\n",
       "   Accepts American Express  Accepts Mastercard  Accepts Visa  has_features  \n",
       "0                         0                   0             0             1  \n",
       "1                         0                   0             0             1  \n",
       "2                         1                   1             1             1  \n",
       "3                         0                   0             0             1  \n",
       "4                         0                   0             0             1  \n",
       "\n",
       "[5 rows x 38 columns]"
      ]
     },
     "execution_count": 182,
     "metadata": {},
     "output_type": "execute_result"
    }
   ],
   "source": [
    "data.head()"
   ]
  },
  {
   "cell_type": "code",
   "execution_count": 183,
   "metadata": {},
   "outputs": [],
   "source": [
    "parking_avail = {\n",
    " 'Valet Parking': 88,\n",
    " 'Free off-street parking': 73,\n",
    " 'Street Parking': 324,\n",
    " 'Parking Available': 793,\n",
    " 'Validated Parking': 174,}\n",
    "#####\n",
    "\n",
    "alcohol_avail = {\n",
    " 'Full Bar': 640,\n",
    " 'Serves Alcohol': 1929,\n",
    " 'Wine and Beer': 652,}\n",
    "####\n",
    "\n",
    "credit_cards = {\n",
    " 'Accepts Credit Cards': 1083,\n",
    " 'Accepts American Express': 354,\n",
    " 'Accepts Mastercard': 487,\n",
    " 'Accepts Visa': 489,}"
   ]
  },
  {
   "cell_type": "code",
   "execution_count": 184,
   "metadata": {},
   "outputs": [],
   "source": [
    "arr = []\n",
    "for index, row in data.iterrows():\n",
    "    counter = 0\n",
    "    for key in parking_avail:\n",
    "        if row[key] == 1:\n",
    "            counter += 1\n",
    "    arr.append(int(bool(counter)))\n",
    "data[\"parking_avail\"] = arr\n",
    "data.drop(list(parking_avail.keys()),axis=1, inplace=True)"
   ]
  },
  {
   "cell_type": "code",
   "execution_count": 185,
   "metadata": {},
   "outputs": [],
   "source": [
    "arr = []\n",
    "for index, row in data.iterrows():\n",
    "    counter = 0\n",
    "    for key in alcohol_avail:\n",
    "        if row[key] == 1:\n",
    "            counter += 1\n",
    "    arr.append(int(bool(counter)))\n",
    "data[\"alcohol_avail\"] = arr\n",
    "data.drop(list(alcohol_avail.keys()),axis=1, inplace=True)"
   ]
  },
  {
   "cell_type": "code",
   "execution_count": 186,
   "metadata": {},
   "outputs": [],
   "source": [
    "arr = []\n",
    "for index, row in data.iterrows():\n",
    "    counter = 0\n",
    "    for key in credit_cards:\n",
    "        if row[key] == 1:\n",
    "            counter += 1\n",
    "    arr.append(int(bool(counter)))\n",
    "data[\"creditcard_avail\"] = arr\n",
    "data.drop(list(credit_cards.keys()),axis=1, inplace=True)"
   ]
  },
  {
   "cell_type": "code",
   "execution_count": 187,
   "metadata": {},
   "outputs": [
    {
     "data": {
      "text/plain": [
       "0        1\n",
       "1        0\n",
       "2        1\n",
       "3        1\n",
       "4        1\n",
       "        ..\n",
       "11156    0\n",
       "11157    0\n",
       "11158    0\n",
       "11159    0\n",
       "11160    0\n",
       "Name: creditcard_avail, Length: 11161, dtype: int64"
      ]
     },
     "execution_count": 187,
     "metadata": {},
     "output_type": "execute_result"
    }
   ],
   "source": [
    "data.creditcard_avail"
   ]
  },
  {
   "cell_type": "code",
   "execution_count": 188,
   "metadata": {},
   "outputs": [
    {
     "data": {
      "text/html": [
       "<div>\n",
       "<style scoped>\n",
       "    .dataframe tbody tr th:only-of-type {\n",
       "        vertical-align: middle;\n",
       "    }\n",
       "\n",
       "    .dataframe tbody tr th {\n",
       "        vertical-align: top;\n",
       "    }\n",
       "\n",
       "    .dataframe thead th {\n",
       "        text-align: right;\n",
       "    }\n",
       "</style>\n",
       "<table border=\"1\" class=\"dataframe\">\n",
       "  <thead>\n",
       "    <tr style=\"text-align: right;\">\n",
       "      <th></th>\n",
       "      <th>url</th>\n",
       "      <th>list_of_meals</th>\n",
       "      <th>list_of_cuisines</th>\n",
       "      <th>list_of_features</th>\n",
       "      <th>list_of_special_diets</th>\n",
       "      <th>Lunch</th>\n",
       "      <th>Dinner</th>\n",
       "      <th>Drinks</th>\n",
       "      <th>Breakfast</th>\n",
       "      <th>Brunch</th>\n",
       "      <th>...</th>\n",
       "      <th>Digital Payments</th>\n",
       "      <th>Free Wifi</th>\n",
       "      <th>Cash Only</th>\n",
       "      <th>Wheelchair Accessible</th>\n",
       "      <th>Table Service</th>\n",
       "      <th>Live Music</th>\n",
       "      <th>has_features</th>\n",
       "      <th>parking_avail</th>\n",
       "      <th>alcohol_avail</th>\n",
       "      <th>creditcard_avail</th>\n",
       "    </tr>\n",
       "  </thead>\n",
       "  <tbody>\n",
       "    <tr>\n",
       "      <th>0</th>\n",
       "      <td>https://www.tripadvisor.com.sg/Restaurant_Revi...</td>\n",
       "      <td>[Lunch, Dinner, Drinks]</td>\n",
       "      <td>[Pizza, Italian]</td>\n",
       "      <td>[Delivery, Takeout, Reservations, Outdoor Seat...</td>\n",
       "      <td>[]</td>\n",
       "      <td>1</td>\n",
       "      <td>1</td>\n",
       "      <td>1</td>\n",
       "      <td>0</td>\n",
       "      <td>0</td>\n",
       "      <td>...</td>\n",
       "      <td>1</td>\n",
       "      <td>1</td>\n",
       "      <td>0</td>\n",
       "      <td>0</td>\n",
       "      <td>0</td>\n",
       "      <td>0</td>\n",
       "      <td>1</td>\n",
       "      <td>0</td>\n",
       "      <td>1</td>\n",
       "      <td>1</td>\n",
       "    </tr>\n",
       "    <tr>\n",
       "      <th>1</th>\n",
       "      <td>https://www.tripadvisor.com.sg/Restaurant_Revi...</td>\n",
       "      <td>[Lunch, Dinner, Drinks]</td>\n",
       "      <td>[French, European, Healthy]</td>\n",
       "      <td>[Takeout, Reservations, Outdoor Seating, Seati...</td>\n",
       "      <td>[Vegetarian Friendly, Vegan Options, Gluten Fr...</td>\n",
       "      <td>1</td>\n",
       "      <td>1</td>\n",
       "      <td>1</td>\n",
       "      <td>0</td>\n",
       "      <td>0</td>\n",
       "      <td>...</td>\n",
       "      <td>1</td>\n",
       "      <td>0</td>\n",
       "      <td>0</td>\n",
       "      <td>1</td>\n",
       "      <td>1</td>\n",
       "      <td>0</td>\n",
       "      <td>1</td>\n",
       "      <td>0</td>\n",
       "      <td>1</td>\n",
       "      <td>0</td>\n",
       "    </tr>\n",
       "    <tr>\n",
       "      <th>2</th>\n",
       "      <td>https://www.tripadvisor.com.sg/Restaurant_Revi...</td>\n",
       "      <td>[Drinks, Breakfast, Lunch, Brunch, Dinner, Aft...</td>\n",
       "      <td>[Japanese, Indian, International]</td>\n",
       "      <td>[Valet Parking, Full Bar, Reservations, Buffet...</td>\n",
       "      <td>[Vegetarian Friendly, Gluten Free Options, Veg...</td>\n",
       "      <td>1</td>\n",
       "      <td>1</td>\n",
       "      <td>1</td>\n",
       "      <td>1</td>\n",
       "      <td>1</td>\n",
       "      <td>...</td>\n",
       "      <td>1</td>\n",
       "      <td>1</td>\n",
       "      <td>0</td>\n",
       "      <td>1</td>\n",
       "      <td>1</td>\n",
       "      <td>1</td>\n",
       "      <td>1</td>\n",
       "      <td>1</td>\n",
       "      <td>1</td>\n",
       "      <td>1</td>\n",
       "    </tr>\n",
       "    <tr>\n",
       "      <th>3</th>\n",
       "      <td>https://www.tripadvisor.com.sg/Restaurant_Revi...</td>\n",
       "      <td>[Breakfast, Lunch, Dinner, Brunch, After-hours...</td>\n",
       "      <td>[Bar, Cafe, International, Singaporean, Wine Bar]</td>\n",
       "      <td>[Reservations, Seating, Serves Alcohol, Full B...</td>\n",
       "      <td>[Vegan Options]</td>\n",
       "      <td>1</td>\n",
       "      <td>1</td>\n",
       "      <td>1</td>\n",
       "      <td>1</td>\n",
       "      <td>1</td>\n",
       "      <td>...</td>\n",
       "      <td>0</td>\n",
       "      <td>0</td>\n",
       "      <td>0</td>\n",
       "      <td>0</td>\n",
       "      <td>1</td>\n",
       "      <td>0</td>\n",
       "      <td>1</td>\n",
       "      <td>0</td>\n",
       "      <td>1</td>\n",
       "      <td>1</td>\n",
       "    </tr>\n",
       "    <tr>\n",
       "      <th>4</th>\n",
       "      <td>https://www.tripadvisor.com.sg/Restaurant_Revi...</td>\n",
       "      <td>[Lunch, Dinner, Brunch]</td>\n",
       "      <td>[Chinese, Asian]</td>\n",
       "      <td>[Delivery, Reservations, Private Dining, Seati...</td>\n",
       "      <td>[Vegetarian Friendly, Vegan Options, Gluten Fr...</td>\n",
       "      <td>1</td>\n",
       "      <td>1</td>\n",
       "      <td>0</td>\n",
       "      <td>0</td>\n",
       "      <td>1</td>\n",
       "      <td>...</td>\n",
       "      <td>0</td>\n",
       "      <td>0</td>\n",
       "      <td>0</td>\n",
       "      <td>1</td>\n",
       "      <td>1</td>\n",
       "      <td>1</td>\n",
       "      <td>1</td>\n",
       "      <td>1</td>\n",
       "      <td>1</td>\n",
       "      <td>1</td>\n",
       "    </tr>\n",
       "  </tbody>\n",
       "</table>\n",
       "<p>5 rows × 29 columns</p>\n",
       "</div>"
      ],
      "text/plain": [
       "                                                 url  \\\n",
       "0  https://www.tripadvisor.com.sg/Restaurant_Revi...   \n",
       "1  https://www.tripadvisor.com.sg/Restaurant_Revi...   \n",
       "2  https://www.tripadvisor.com.sg/Restaurant_Revi...   \n",
       "3  https://www.tripadvisor.com.sg/Restaurant_Revi...   \n",
       "4  https://www.tripadvisor.com.sg/Restaurant_Revi...   \n",
       "\n",
       "                                       list_of_meals  \\\n",
       "0                            [Lunch, Dinner, Drinks]   \n",
       "1                            [Lunch, Dinner, Drinks]   \n",
       "2  [Drinks, Breakfast, Lunch, Brunch, Dinner, Aft...   \n",
       "3  [Breakfast, Lunch, Dinner, Brunch, After-hours...   \n",
       "4                            [Lunch, Dinner, Brunch]   \n",
       "\n",
       "                                    list_of_cuisines  \\\n",
       "0                                   [Pizza, Italian]   \n",
       "1                        [French, European, Healthy]   \n",
       "2                  [Japanese, Indian, International]   \n",
       "3  [Bar, Cafe, International, Singaporean, Wine Bar]   \n",
       "4                                   [Chinese, Asian]   \n",
       "\n",
       "                                    list_of_features  \\\n",
       "0  [Delivery, Takeout, Reservations, Outdoor Seat...   \n",
       "1  [Takeout, Reservations, Outdoor Seating, Seati...   \n",
       "2  [Valet Parking, Full Bar, Reservations, Buffet...   \n",
       "3  [Reservations, Seating, Serves Alcohol, Full B...   \n",
       "4  [Delivery, Reservations, Private Dining, Seati...   \n",
       "\n",
       "                               list_of_special_diets  Lunch  Dinner  Drinks  \\\n",
       "0                                                 []      1       1       1   \n",
       "1  [Vegetarian Friendly, Vegan Options, Gluten Fr...      1       1       1   \n",
       "2  [Vegetarian Friendly, Gluten Free Options, Veg...      1       1       1   \n",
       "3                                    [Vegan Options]      1       1       1   \n",
       "4  [Vegetarian Friendly, Vegan Options, Gluten Fr...      1       1       0   \n",
       "\n",
       "   Breakfast  Brunch  ...  Digital Payments  Free Wifi Cash Only  \\\n",
       "0          0       0  ...                 1          1         0   \n",
       "1          0       0  ...                 1          0         0   \n",
       "2          1       1  ...                 1          1         0   \n",
       "3          1       1  ...                 0          0         0   \n",
       "4          0       1  ...                 0          0         0   \n",
       "\n",
       "  Wheelchair Accessible  Table Service  Live Music  has_features  \\\n",
       "0                     0              0           0             1   \n",
       "1                     1              1           0             1   \n",
       "2                     1              1           1             1   \n",
       "3                     0              1           0             1   \n",
       "4                     1              1           1             1   \n",
       "\n",
       "   parking_avail  alcohol_avail  creditcard_avail  \n",
       "0              0              1                 1  \n",
       "1              0              1                 0  \n",
       "2              1              1                 1  \n",
       "3              0              1                 1  \n",
       "4              1              1                 1  \n",
       "\n",
       "[5 rows x 29 columns]"
      ]
     },
     "execution_count": 188,
     "metadata": {},
     "output_type": "execute_result"
    }
   ],
   "source": [
    "data.head()"
   ]
  },
  {
   "cell_type": "markdown",
   "metadata": {},
   "source": [
    "## Preprocessing Diets"
   ]
  },
  {
   "cell_type": "code",
   "execution_count": 189,
   "metadata": {},
   "outputs": [],
   "source": [
    "diets_dict = {'Vegetarian Friendly': 1220,\n",
    " 'Vegan Options': 671,\n",
    " 'Gluten Free Options': 342,\n",
    " 'Halal': 249,\n",
    " #'Kosher': 1\n",
    " }\n"
   ]
  },
  {
   "cell_type": "code",
   "execution_count": 190,
   "metadata": {},
   "outputs": [],
   "source": [
    "for key in diets_dict:\n",
    "    data[key] = data[\"list_of_special_diets\"].apply(lambda x: ohc(key,x))\n",
    "#data['has_features'] = data[\"list_of_features\"].apply(exists) "
   ]
  },
  {
   "cell_type": "code",
   "execution_count": 191,
   "metadata": {},
   "outputs": [
    {
     "data": {
      "text/html": [
       "<div>\n",
       "<style scoped>\n",
       "    .dataframe tbody tr th:only-of-type {\n",
       "        vertical-align: middle;\n",
       "    }\n",
       "\n",
       "    .dataframe tbody tr th {\n",
       "        vertical-align: top;\n",
       "    }\n",
       "\n",
       "    .dataframe thead th {\n",
       "        text-align: right;\n",
       "    }\n",
       "</style>\n",
       "<table border=\"1\" class=\"dataframe\">\n",
       "  <thead>\n",
       "    <tr style=\"text-align: right;\">\n",
       "      <th></th>\n",
       "      <th>url</th>\n",
       "      <th>list_of_meals</th>\n",
       "      <th>list_of_cuisines</th>\n",
       "      <th>list_of_features</th>\n",
       "      <th>list_of_special_diets</th>\n",
       "      <th>Lunch</th>\n",
       "      <th>Dinner</th>\n",
       "      <th>Drinks</th>\n",
       "      <th>Breakfast</th>\n",
       "      <th>Brunch</th>\n",
       "      <th>...</th>\n",
       "      <th>Table Service</th>\n",
       "      <th>Live Music</th>\n",
       "      <th>has_features</th>\n",
       "      <th>parking_avail</th>\n",
       "      <th>alcohol_avail</th>\n",
       "      <th>creditcard_avail</th>\n",
       "      <th>Vegetarian Friendly</th>\n",
       "      <th>Vegan Options</th>\n",
       "      <th>Gluten Free Options</th>\n",
       "      <th>Halal</th>\n",
       "    </tr>\n",
       "  </thead>\n",
       "  <tbody>\n",
       "    <tr>\n",
       "      <th>0</th>\n",
       "      <td>https://www.tripadvisor.com.sg/Restaurant_Revi...</td>\n",
       "      <td>[Lunch, Dinner, Drinks]</td>\n",
       "      <td>[Pizza, Italian]</td>\n",
       "      <td>[Delivery, Takeout, Reservations, Outdoor Seat...</td>\n",
       "      <td>[]</td>\n",
       "      <td>1</td>\n",
       "      <td>1</td>\n",
       "      <td>1</td>\n",
       "      <td>0</td>\n",
       "      <td>0</td>\n",
       "      <td>...</td>\n",
       "      <td>0</td>\n",
       "      <td>0</td>\n",
       "      <td>1</td>\n",
       "      <td>0</td>\n",
       "      <td>1</td>\n",
       "      <td>1</td>\n",
       "      <td>0</td>\n",
       "      <td>0</td>\n",
       "      <td>0</td>\n",
       "      <td>0</td>\n",
       "    </tr>\n",
       "    <tr>\n",
       "      <th>1</th>\n",
       "      <td>https://www.tripadvisor.com.sg/Restaurant_Revi...</td>\n",
       "      <td>[Lunch, Dinner, Drinks]</td>\n",
       "      <td>[French, European, Healthy]</td>\n",
       "      <td>[Takeout, Reservations, Outdoor Seating, Seati...</td>\n",
       "      <td>[Vegetarian Friendly, Vegan Options, Gluten Fr...</td>\n",
       "      <td>1</td>\n",
       "      <td>1</td>\n",
       "      <td>1</td>\n",
       "      <td>0</td>\n",
       "      <td>0</td>\n",
       "      <td>...</td>\n",
       "      <td>1</td>\n",
       "      <td>0</td>\n",
       "      <td>1</td>\n",
       "      <td>0</td>\n",
       "      <td>1</td>\n",
       "      <td>0</td>\n",
       "      <td>1</td>\n",
       "      <td>1</td>\n",
       "      <td>1</td>\n",
       "      <td>0</td>\n",
       "    </tr>\n",
       "    <tr>\n",
       "      <th>2</th>\n",
       "      <td>https://www.tripadvisor.com.sg/Restaurant_Revi...</td>\n",
       "      <td>[Drinks, Breakfast, Lunch, Brunch, Dinner, Aft...</td>\n",
       "      <td>[Japanese, Indian, International]</td>\n",
       "      <td>[Valet Parking, Full Bar, Reservations, Buffet...</td>\n",
       "      <td>[Vegetarian Friendly, Gluten Free Options, Veg...</td>\n",
       "      <td>1</td>\n",
       "      <td>1</td>\n",
       "      <td>1</td>\n",
       "      <td>1</td>\n",
       "      <td>1</td>\n",
       "      <td>...</td>\n",
       "      <td>1</td>\n",
       "      <td>1</td>\n",
       "      <td>1</td>\n",
       "      <td>1</td>\n",
       "      <td>1</td>\n",
       "      <td>1</td>\n",
       "      <td>1</td>\n",
       "      <td>1</td>\n",
       "      <td>1</td>\n",
       "      <td>0</td>\n",
       "    </tr>\n",
       "    <tr>\n",
       "      <th>3</th>\n",
       "      <td>https://www.tripadvisor.com.sg/Restaurant_Revi...</td>\n",
       "      <td>[Breakfast, Lunch, Dinner, Brunch, After-hours...</td>\n",
       "      <td>[Bar, Cafe, International, Singaporean, Wine Bar]</td>\n",
       "      <td>[Reservations, Seating, Serves Alcohol, Full B...</td>\n",
       "      <td>[Vegan Options]</td>\n",
       "      <td>1</td>\n",
       "      <td>1</td>\n",
       "      <td>1</td>\n",
       "      <td>1</td>\n",
       "      <td>1</td>\n",
       "      <td>...</td>\n",
       "      <td>1</td>\n",
       "      <td>0</td>\n",
       "      <td>1</td>\n",
       "      <td>0</td>\n",
       "      <td>1</td>\n",
       "      <td>1</td>\n",
       "      <td>0</td>\n",
       "      <td>1</td>\n",
       "      <td>0</td>\n",
       "      <td>0</td>\n",
       "    </tr>\n",
       "    <tr>\n",
       "      <th>4</th>\n",
       "      <td>https://www.tripadvisor.com.sg/Restaurant_Revi...</td>\n",
       "      <td>[Lunch, Dinner, Brunch]</td>\n",
       "      <td>[Chinese, Asian]</td>\n",
       "      <td>[Delivery, Reservations, Private Dining, Seati...</td>\n",
       "      <td>[Vegetarian Friendly, Vegan Options, Gluten Fr...</td>\n",
       "      <td>1</td>\n",
       "      <td>1</td>\n",
       "      <td>0</td>\n",
       "      <td>0</td>\n",
       "      <td>1</td>\n",
       "      <td>...</td>\n",
       "      <td>1</td>\n",
       "      <td>1</td>\n",
       "      <td>1</td>\n",
       "      <td>1</td>\n",
       "      <td>1</td>\n",
       "      <td>1</td>\n",
       "      <td>1</td>\n",
       "      <td>1</td>\n",
       "      <td>1</td>\n",
       "      <td>0</td>\n",
       "    </tr>\n",
       "  </tbody>\n",
       "</table>\n",
       "<p>5 rows × 33 columns</p>\n",
       "</div>"
      ],
      "text/plain": [
       "                                                 url  \\\n",
       "0  https://www.tripadvisor.com.sg/Restaurant_Revi...   \n",
       "1  https://www.tripadvisor.com.sg/Restaurant_Revi...   \n",
       "2  https://www.tripadvisor.com.sg/Restaurant_Revi...   \n",
       "3  https://www.tripadvisor.com.sg/Restaurant_Revi...   \n",
       "4  https://www.tripadvisor.com.sg/Restaurant_Revi...   \n",
       "\n",
       "                                       list_of_meals  \\\n",
       "0                            [Lunch, Dinner, Drinks]   \n",
       "1                            [Lunch, Dinner, Drinks]   \n",
       "2  [Drinks, Breakfast, Lunch, Brunch, Dinner, Aft...   \n",
       "3  [Breakfast, Lunch, Dinner, Brunch, After-hours...   \n",
       "4                            [Lunch, Dinner, Brunch]   \n",
       "\n",
       "                                    list_of_cuisines  \\\n",
       "0                                   [Pizza, Italian]   \n",
       "1                        [French, European, Healthy]   \n",
       "2                  [Japanese, Indian, International]   \n",
       "3  [Bar, Cafe, International, Singaporean, Wine Bar]   \n",
       "4                                   [Chinese, Asian]   \n",
       "\n",
       "                                    list_of_features  \\\n",
       "0  [Delivery, Takeout, Reservations, Outdoor Seat...   \n",
       "1  [Takeout, Reservations, Outdoor Seating, Seati...   \n",
       "2  [Valet Parking, Full Bar, Reservations, Buffet...   \n",
       "3  [Reservations, Seating, Serves Alcohol, Full B...   \n",
       "4  [Delivery, Reservations, Private Dining, Seati...   \n",
       "\n",
       "                               list_of_special_diets  Lunch  Dinner  Drinks  \\\n",
       "0                                                 []      1       1       1   \n",
       "1  [Vegetarian Friendly, Vegan Options, Gluten Fr...      1       1       1   \n",
       "2  [Vegetarian Friendly, Gluten Free Options, Veg...      1       1       1   \n",
       "3                                    [Vegan Options]      1       1       1   \n",
       "4  [Vegetarian Friendly, Vegan Options, Gluten Fr...      1       1       0   \n",
       "\n",
       "   Breakfast  Brunch  ...  Table Service  Live Music has_features  \\\n",
       "0          0       0  ...              0           0            1   \n",
       "1          0       0  ...              1           0            1   \n",
       "2          1       1  ...              1           1            1   \n",
       "3          1       1  ...              1           0            1   \n",
       "4          0       1  ...              1           1            1   \n",
       "\n",
       "  parking_avail  alcohol_avail  creditcard_avail  Vegetarian Friendly  \\\n",
       "0             0              1                 1                    0   \n",
       "1             0              1                 0                    1   \n",
       "2             1              1                 1                    1   \n",
       "3             0              1                 1                    0   \n",
       "4             1              1                 1                    1   \n",
       "\n",
       "   Vegan Options  Gluten Free Options  Halal  \n",
       "0              0                    0      0  \n",
       "1              1                    1      0  \n",
       "2              1                    1      0  \n",
       "3              1                    0      0  \n",
       "4              1                    1      0  \n",
       "\n",
       "[5 rows x 33 columns]"
      ]
     },
     "execution_count": 191,
     "metadata": {},
     "output_type": "execute_result"
    }
   ],
   "source": [
    "data.head()"
   ]
  },
  {
   "cell_type": "code",
   "execution_count": 192,
   "metadata": {},
   "outputs": [
    {
     "data": {
      "text/plain": [
       "Index(['url', 'list_of_meals', 'list_of_cuisines', 'list_of_features',\n",
       "       'list_of_special_diets', 'Lunch', 'Dinner', 'Drinks', 'Breakfast',\n",
       "       'Brunch', 'After-hours', 'has_meals', 'establishment_type', 'cuisine',\n",
       "       'Delivery', 'Reservations', 'Outdoor Seating', 'Seating',\n",
       "       'Highchairs Available', 'Digital Payments', 'Free Wifi', 'Cash Only',\n",
       "       'Wheelchair Accessible', 'Table Service', 'Live Music', 'has_features',\n",
       "       'parking_avail', 'alcohol_avail', 'creditcard_avail',\n",
       "       'Vegetarian Friendly', 'Vegan Options', 'Gluten Free Options', 'Halal'],\n",
       "      dtype='object')"
      ]
     },
     "execution_count": 192,
     "metadata": {},
     "output_type": "execute_result"
    }
   ],
   "source": [
    "data.columns"
   ]
  },
  {
   "cell_type": "code",
   "execution_count": 193,
   "metadata": {},
   "outputs": [],
   "source": [
    "import matplotlib.pyplot as plt\n"
   ]
  },
  {
   "cell_type": "markdown",
   "metadata": {},
   "source": [
    "## Meals Visualization"
   ]
  },
  {
   "cell_type": "code",
   "execution_count": 194,
   "metadata": {},
   "outputs": [
    {
     "data": {
      "text/plain": [
       "([<matplotlib.patches.Wedge at 0x1d4a1eb9208>,\n",
       "  <matplotlib.patches.Wedge at 0x1d4a1eb9a88>],\n",
       " [Text(-0.13481262751579817, 1.0917076327764164, 'Lunch not available'),\n",
       "  Text(0.13481262751579778, -1.0917076327764166, 'Lunch available')])"
      ]
     },
     "execution_count": 194,
     "metadata": {},
     "output_type": "execute_result"
    },
    {
     "data": {
      "image/png": "[encoded data removed]",
      "text/plain": [
       "<Figure size 432x288 with 1 Axes>"
      ]
     },
     "metadata": {},
     "output_type": "display_data"
    }
   ],
   "source": [
    "plt.pie(data.Lunch.value_counts(),labels=[\"Lunch not available\",\"Lunch available\"])\n"
   ]
  },
  {
   "cell_type": "code",
   "execution_count": 195,
   "metadata": {},
   "outputs": [
    {
     "data": {
      "text/plain": [
       "([<matplotlib.patches.Wedge at 0x1d4a1efbec8>,\n",
       "  <matplotlib.patches.Wedge at 0x1d4a1f06788>],\n",
       " [Text(-0.0472036837448864, 1.098986720684519, 'Dinner not available'),\n",
       "  Text(0.04720368374488675, -1.098986720684519, 'Dinner available')])"
      ]
     },
     "execution_count": 195,
     "metadata": {},
     "output_type": "execute_result"
    },
    {
     "data": {
      "image/png": "[encoded data removed]",
      "text/plain": [
       "<Figure size 432x288 with 1 Axes>"
      ]
     },
     "metadata": {},
     "output_type": "display_data"
    }
   ],
   "source": [
    "plt.pie(data.Dinner.value_counts(),labels=[\"Dinner not available\",\"Dinner available\"])"
   ]
  },
  {
   "cell_type": "code",
   "execution_count": 196,
   "metadata": {},
   "outputs": [
    {
     "data": {
      "text/plain": [
       "([<matplotlib.patches.Wedge at 0x1d4a1f40588>,\n",
       "  <matplotlib.patches.Wedge at 0x1d4a1f553c8>],\n",
       " [Text(-1.0577361122754008, 0.30198396776736525, 'Drinks not available'),\n",
       "  Text(1.0577360910700633, -0.30198404204166635, 'Drinks available')])"
      ]
     },
     "execution_count": 196,
     "metadata": {},
     "output_type": "execute_result"
    },
    {
     "data": {
      "image/png": "[encoded data removed]",
      "text/plain": [
       "<Figure size 432x288 with 1 Axes>"
      ]
     },
     "metadata": {},
     "output_type": "display_data"
    }
   ],
   "source": [
    "plt.pie(data.Drinks.value_counts(),labels=[\"Drinks not available\",\"Drinks available\"])"
   ]
  },
  {
   "cell_type": "code",
   "execution_count": 197,
   "metadata": {},
   "outputs": [
    {
     "data": {
      "text/plain": [
       "([<matplotlib.patches.Wedge at 0x1d4b9aba748>,\n",
       "  <matplotlib.patches.Wedge at 0x1d4b9abaf08>],\n",
       " [Text(-1.0474084425447465, 0.33605885568749494, 'Breakfast not available'),\n",
       "  Text(1.0474084189466684, -0.3360589292365858, 'Breakfast available')])"
      ]
     },
     "execution_count": 197,
     "metadata": {},
     "output_type": "execute_result"
    },
    {
     "data": {
      "image/png": "[encoded data removed]",
      "text/plain": [
       "<Figure size 432x288 with 1 Axes>"
      ]
     },
     "metadata": {},
     "output_type": "display_data"
    }
   ],
   "source": [
    "plt.pie(data.Breakfast.value_counts(),labels=[\"Breakfast not available\",\"Breakfast available\"])"
   ]
  },
  {
   "cell_type": "code",
   "execution_count": 198,
   "metadata": {},
   "outputs": [
    {
     "data": {
      "text/plain": [
       "([<matplotlib.patches.Wedge at 0x1d4b9b0f548>,\n",
       "  <matplotlib.patches.Wedge at 0x1d4b9b0fdc8>],\n",
       " [Text(-1.0491907470351656, 0.3304523813438049, 'Brunch not available'),\n",
       "  Text(1.049190739300369, -0.33045240590188696, 'Brunch available')])"
      ]
     },
     "execution_count": 198,
     "metadata": {},
     "output_type": "execute_result"
    },
    {
     "data": {
      "image/png": "[encoded data removed]",
      "text/plain": [
       "<Figure size 432x288 with 1 Axes>"
      ]
     },
     "metadata": {},
     "output_type": "display_data"
    }
   ],
   "source": [
    "plt.pie(data.Brunch.value_counts(),labels=[\"Brunch not available\",\"Brunch available\"])"
   ]
  },
  {
   "cell_type": "code",
   "execution_count": 199,
   "metadata": {},
   "outputs": [
    {
     "data": {
      "text/plain": [
       "([<matplotlib.patches.Wedge at 0x1d4b9b653c8>,\n",
       "  <matplotlib.patches.Wedge at 0x1d4b9b65bc8>],\n",
       " [Text(-1.0830216366572296, 0.1925204782154245, 'After-hours not available'),\n",
       "  Text(1.083021638910363, -0.1925204655404493, 'After-hours available')])"
      ]
     },
     "execution_count": 199,
     "metadata": {},
     "output_type": "execute_result"
    },
    {
     "data": {
      "image/png": "[encoded data removed]",
      "text/plain": [
       "<Figure size 432x288 with 1 Axes>"
      ]
     },
     "metadata": {},
     "output_type": "display_data"
    }
   ],
   "source": [
    "plt.pie(data[\"After-hours\"].value_counts(),labels=[\"After-hours not available\",\"After-hours available\"])"
   ]
  },
  {
   "cell_type": "markdown",
   "metadata": {},
   "source": [
    "## Establishment Type"
   ]
  },
  {
   "cell_type": "code",
   "execution_count": 200,
   "metadata": {},
   "outputs": [
    {
     "data": {
      "text/plain": [
       "<AxesSubplot:>"
      ]
     },
     "execution_count": 200,
     "metadata": {},
     "output_type": "execute_result"
    },
    {
     "data": {
      "image/png": "[encoded data removed]",
      "text/plain": [
       "<Figure size 432x288 with 1 Axes>"
      ]
     },
     "metadata": {
      "needs_background": "light"
     },
     "output_type": "display_data"
    }
   ],
   "source": [
    "data.establishment_type.value_counts().plot(kind=\"bar\")"
   ]
  },
  {
   "cell_type": "markdown",
   "metadata": {},
   "source": [
    "## Cuisines"
   ]
  },
  {
   "cell_type": "code",
   "execution_count": 201,
   "metadata": {},
   "outputs": [
    {
     "data": {
      "text/plain": [
       "<AxesSubplot:>"
      ]
     },
     "execution_count": 201,
     "metadata": {},
     "output_type": "execute_result"
    },
    {
     "data": {
      "image/png": "[encoded data removed]",
      "text/plain": [
       "<Figure size 432x288 with 1 Axes>"
      ]
     },
     "metadata": {
      "needs_background": "light"
     },
     "output_type": "display_data"
    }
   ],
   "source": [
    "data.cuisine.value_counts().plot(kind=\"bar\")"
   ]
  },
  {
   "cell_type": "markdown",
   "metadata": {},
   "source": [
    "## Features"
   ]
  },
  {
   "cell_type": "code",
   "execution_count": 202,
   "metadata": {},
   "outputs": [
    {
     "data": {
      "text/plain": [
       "<AxesSubplot:ylabel='Delivery'>"
      ]
     },
     "execution_count": 202,
     "metadata": {},
     "output_type": "execute_result"
    },
    {
     "data": {
      "image/png": "[encoded data removed]",
      "text/plain": [
       "<Figure size 432x288 with 1 Axes>"
      ]
     },
     "metadata": {},
     "output_type": "display_data"
    }
   ],
   "source": [
    "data.Delivery.value_counts().plot(kind=\"pie\")"
   ]
  },
  {
   "cell_type": "code",
   "execution_count": 203,
   "metadata": {},
   "outputs": [
    {
     "data": {
      "text/plain": [
       "<AxesSubplot:ylabel='Reservations'>"
      ]
     },
     "execution_count": 203,
     "metadata": {},
     "output_type": "execute_result"
    },
    {
     "data": {
      "image/png": "[encoded data removed]",
      "text/plain": [
       "<Figure size 432x288 with 1 Axes>"
      ]
     },
     "metadata": {},
     "output_type": "display_data"
    }
   ],
   "source": [
    "data.Reservations.value_counts().plot(kind=\"pie\")"
   ]
  },
  {
   "cell_type": "code",
   "execution_count": 204,
   "metadata": {},
   "outputs": [
    {
     "data": {
      "text/plain": [
       "<AxesSubplot:ylabel='Outdoor Seating'>"
      ]
     },
     "execution_count": 204,
     "metadata": {},
     "output_type": "execute_result"
    },
    {
     "data": {
      "image/png": "[encoded data removed]",
      "text/plain": [
       "<Figure size 432x288 with 1 Axes>"
      ]
     },
     "metadata": {},
     "output_type": "display_data"
    }
   ],
   "source": [
    "data['Outdoor Seating'].value_counts().plot(kind=\"pie\")"
   ]
  },
  {
   "cell_type": "code",
   "execution_count": 205,
   "metadata": {},
   "outputs": [
    {
     "data": {
      "text/plain": [
       "<AxesSubplot:ylabel='Seating'>"
      ]
     },
     "execution_count": 205,
     "metadata": {},
     "output_type": "execute_result"
    },
    {
     "data": {
      "image/png": "[encoded data removed]",
      "text/plain": [
       "<Figure size 432x288 with 1 Axes>"
      ]
     },
     "metadata": {},
     "output_type": "display_data"
    }
   ],
   "source": [
    "data.Seating.value_counts().plot(kind=\"pie\")"
   ]
  },
  {
   "cell_type": "code",
   "execution_count": 206,
   "metadata": {},
   "outputs": [
    {
     "data": {
      "text/plain": [
       "<AxesSubplot:ylabel='Highchairs Available'>"
      ]
     },
     "execution_count": 206,
     "metadata": {},
     "output_type": "execute_result"
    },
    {
     "data": {
      "image/png": "[encoded data removed]",
      "text/plain": [
       "<Figure size 432x288 with 1 Axes>"
      ]
     },
     "metadata": {},
     "output_type": "display_data"
    }
   ],
   "source": [
    "data['Highchairs Available'].value_counts().plot(kind=\"pie\")"
   ]
  },
  {
   "cell_type": "code",
   "execution_count": 207,
   "metadata": {},
   "outputs": [
    {
     "data": {
      "text/plain": [
       "<AxesSubplot:ylabel='Digital Payments'>"
      ]
     },
     "execution_count": 207,
     "metadata": {},
     "output_type": "execute_result"
    },
    {
     "data": {
      "image/png": "[encoded data removed]",
      "text/plain": [
       "<Figure size 432x288 with 1 Axes>"
      ]
     },
     "metadata": {},
     "output_type": "display_data"
    }
   ],
   "source": [
    "data['Digital Payments'].value_counts().plot(kind=\"pie\")"
   ]
  },
  {
   "cell_type": "code",
   "execution_count": 208,
   "metadata": {},
   "outputs": [
    {
     "data": {
      "text/plain": [
       "<AxesSubplot:ylabel='Free Wifi'>"
      ]
     },
     "execution_count": 208,
     "metadata": {},
     "output_type": "execute_result"
    },
    {
     "data": {
      "image/png": "[encoded data removed]",
      "text/plain": [
       "<Figure size 432x288 with 1 Axes>"
      ]
     },
     "metadata": {},
     "output_type": "display_data"
    }
   ],
   "source": [
    "data['Free Wifi'].value_counts().plot(kind=\"pie\")"
   ]
  },
  {
   "cell_type": "code",
   "execution_count": 209,
   "metadata": {},
   "outputs": [
    {
     "data": {
      "text/plain": [
       "<AxesSubplot:ylabel='Cash Only'>"
      ]
     },
     "execution_count": 209,
     "metadata": {},
     "output_type": "execute_result"
    },
    {
     "data": {
      "image/png": "[encoded data removed]",
      "text/plain": [
       "<Figure size 432x288 with 1 Axes>"
      ]
     },
     "metadata": {},
     "output_type": "display_data"
    }
   ],
   "source": [
    "data['Cash Only'].value_counts().plot(kind=\"pie\")"
   ]
  },
  {
   "cell_type": "code",
   "execution_count": 210,
   "metadata": {},
   "outputs": [
    {
     "data": {
      "text/plain": [
       "<AxesSubplot:ylabel='Wheelchair Accessible'>"
      ]
     },
     "execution_count": 210,
     "metadata": {},
     "output_type": "execute_result"
    },
    {
     "data": {
      "image/png": "[encoded data removed]",
      "text/plain": [
       "<Figure size 432x288 with 1 Axes>"
      ]
     },
     "metadata": {},
     "output_type": "display_data"
    }
   ],
   "source": [
    "data['Wheelchair Accessible'].value_counts().plot(kind=\"pie\")"
   ]
  },
  {
   "cell_type": "code",
   "execution_count": 211,
   "metadata": {},
   "outputs": [
    {
     "data": {
      "text/plain": [
       "<AxesSubplot:ylabel='Table Service'>"
      ]
     },
     "execution_count": 211,
     "metadata": {},
     "output_type": "execute_result"
    },
    {
     "data": {
      "image/png": "[encoded data removed]",
      "text/plain": [
       "<Figure size 432x288 with 1 Axes>"
      ]
     },
     "metadata": {},
     "output_type": "display_data"
    }
   ],
   "source": [
    "data['Table Service'].value_counts().plot(kind=\"pie\")"
   ]
  },
  {
   "cell_type": "code",
   "execution_count": 212,
   "metadata": {},
   "outputs": [
    {
     "data": {
      "text/plain": [
       "<AxesSubplot:ylabel='Live Music'>"
      ]
     },
     "execution_count": 212,
     "metadata": {},
     "output_type": "execute_result"
    },
    {
     "data": {
      "image/png": "[encoded data removed]",
      "text/plain": [
       "<Figure size 432x288 with 1 Axes>"
      ]
     },
     "metadata": {},
     "output_type": "display_data"
    }
   ],
   "source": [
    "data['Live Music'].value_counts().plot(kind=\"pie\")"
   ]
  },
  {
   "cell_type": "code",
   "execution_count": 213,
   "metadata": {},
   "outputs": [
    {
     "data": {
      "text/plain": [
       "<AxesSubplot:ylabel='has_features'>"
      ]
     },
     "execution_count": 213,
     "metadata": {},
     "output_type": "execute_result"
    },
    {
     "data": {
      "image/png": "[encoded data removed]",
      "text/plain": [
       "<Figure size 432x288 with 1 Axes>"
      ]
     },
     "metadata": {},
     "output_type": "display_data"
    }
   ],
   "source": [
    "data['has_features'].value_counts().plot(kind=\"pie\")"
   ]
  },
  {
   "cell_type": "code",
   "execution_count": 214,
   "metadata": {},
   "outputs": [
    {
     "data": {
      "text/plain": [
       "<AxesSubplot:ylabel='parking_avail'>"
      ]
     },
     "execution_count": 214,
     "metadata": {},
     "output_type": "execute_result"
    },
    {
     "data": {
      "image/png": "[encoded data removed]",
      "text/plain": [
       "<Figure size 432x288 with 1 Axes>"
      ]
     },
     "metadata": {},
     "output_type": "display_data"
    }
   ],
   "source": [
    "data.parking_avail.value_counts().plot(kind=\"pie\")"
   ]
  },
  {
   "cell_type": "code",
   "execution_count": 215,
   "metadata": {},
   "outputs": [
    {
     "data": {
      "text/plain": [
       "<AxesSubplot:ylabel='alcohol_avail'>"
      ]
     },
     "execution_count": 215,
     "metadata": {},
     "output_type": "execute_result"
    },
    {
     "data": {
      "image/png": "[encoded data removed]",
      "text/plain": [
       "<Figure size 432x288 with 1 Axes>"
      ]
     },
     "metadata": {},
     "output_type": "display_data"
    }
   ],
   "source": [
    "data.alcohol_avail.value_counts().plot(kind=\"pie\")"
   ]
  },
  {
   "cell_type": "code",
   "execution_count": 216,
   "metadata": {},
   "outputs": [
    {
     "data": {
      "text/plain": [
       "<AxesSubplot:ylabel='creditcard_avail'>"
      ]
     },
     "execution_count": 216,
     "metadata": {},
     "output_type": "execute_result"
    },
    {
     "data": {
      "image/png": "[encoded data removed]",
      "text/plain": [
       "<Figure size 432x288 with 1 Axes>"
      ]
     },
     "metadata": {},
     "output_type": "display_data"
    }
   ],
   "source": [
    "data.creditcard_avail.value_counts().plot(kind=\"pie\")"
   ]
  },
  {
   "cell_type": "code",
   "execution_count": 217,
   "metadata": {},
   "outputs": [
    {
     "data": {
      "text/plain": [
       "Index(['url', 'list_of_meals', 'list_of_cuisines', 'list_of_features',\n",
       "       'list_of_special_diets', 'Lunch', 'Dinner', 'Drinks', 'Breakfast',\n",
       "       'Brunch', 'After-hours', 'has_meals', 'establishment_type', 'cuisine',\n",
       "       'Delivery', 'Reservations', 'Outdoor Seating', 'Seating',\n",
       "       'Highchairs Available', 'Digital Payments', 'Free Wifi', 'Cash Only',\n",
       "       'Wheelchair Accessible', 'Table Service', 'Live Music', 'has_features',\n",
       "       'parking_avail', 'alcohol_avail', 'creditcard_avail',\n",
       "       'Vegetarian Friendly', 'Vegan Options', 'Gluten Free Options', 'Halal'],\n",
       "      dtype='object')"
      ]
     },
     "execution_count": 217,
     "metadata": {},
     "output_type": "execute_result"
    }
   ],
   "source": [
    "data.columns"
   ]
  },
  {
   "cell_type": "markdown",
   "metadata": {},
   "source": [
    "## Diets"
   ]
  },
  {
   "cell_type": "code",
   "execution_count": 218,
   "metadata": {},
   "outputs": [
    {
     "data": {
      "text/plain": [
       "<AxesSubplot:ylabel='Vegetarian Friendly'>"
      ]
     },
     "execution_count": 218,
     "metadata": {},
     "output_type": "execute_result"
    },
    {
     "data": {
      "image/png": "[encoded data removed]",
      "text/plain": [
       "<Figure size 432x288 with 1 Axes>"
      ]
     },
     "metadata": {},
     "output_type": "display_data"
    }
   ],
   "source": [
    "data['Vegetarian Friendly'].value_counts().plot(kind=\"pie\")"
   ]
  },
  {
   "cell_type": "code",
   "execution_count": 219,
   "metadata": {},
   "outputs": [
    {
     "data": {
      "text/plain": [
       "<AxesSubplot:ylabel='Vegan Options'>"
      ]
     },
     "execution_count": 219,
     "metadata": {},
     "output_type": "execute_result"
    },
    {
     "data": {
      "image/png": "[encoded data removed]",
      "text/plain": [
       "<Figure size 432x288 with 1 Axes>"
      ]
     },
     "metadata": {},
     "output_type": "display_data"
    }
   ],
   "source": [
    "data[ 'Vegan Options'].value_counts().plot(kind=\"pie\")"
   ]
  },
  {
   "cell_type": "code",
   "execution_count": 220,
   "metadata": {},
   "outputs": [
    {
     "data": {
      "text/plain": [
       "<AxesSubplot:ylabel='Gluten Free Options'>"
      ]
     },
     "execution_count": 220,
     "metadata": {},
     "output_type": "execute_result"
    },
    {
     "data": {
      "image/png": "[encoded data removed]",
      "text/plain": [
       "<Figure size 432x288 with 1 Axes>"
      ]
     },
     "metadata": {},
     "output_type": "display_data"
    }
   ],
   "source": [
    "data['Gluten Free Options'].value_counts().plot(kind=\"pie\")"
   ]
  },
  {
   "cell_type": "code",
   "execution_count": 221,
   "metadata": {},
   "outputs": [
    {
     "data": {
      "text/plain": [
       "<AxesSubplot:ylabel='Halal'>"
      ]
     },
     "execution_count": 221,
     "metadata": {},
     "output_type": "execute_result"
    },
    {
     "data": {
      "image/png": "[encoded data removed]",
      "text/plain": [
       "<Figure size 432x288 with 1 Axes>"
      ]
     },
     "metadata": {},
     "output_type": "display_data"
    }
   ],
   "source": [
    "data.Halal.value_counts().plot(kind=\"pie\")"
   ]
  }
 ],
 "metadata": {
  "interpreter": {
   "hash": "203ec769c026c4eb78879c08fc6b4028d75f964c3e1c2f3c465d2a162248b04d"
  },
  "kernelspec": {
   "display_name": "Python 3.7.11 ('bt4222')",
   "language": "python",
   "name": "python3"
  },
  "language_info": {
   "codemirror_mode": {
    "name": "ipython",
    "version": 3
   },
   "file_extension": ".py",
   "mimetype": "text/x-python",
   "name": "python",
   "nbconvert_exporter": "python",
   "pygments_lexer": "ipython3",
   "version": "3.7.11"
  },
  "orig_nbformat": 4
 },
 "nbformat": 4,
 "nbformat_minor": 2
}
