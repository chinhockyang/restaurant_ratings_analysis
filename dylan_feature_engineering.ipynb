{
 "cells": [
  {
   "cell_type": "code",
   "execution_count": 1,
   "metadata": {},
   "outputs": [],
   "source": [
    "import pandas as pd\n",
    "import numpy as np\n",
    "import seaborn as sns\n",
    "import matplotlib.pyplot as plt"
   ]
  },
  {
   "cell_type": "code",
   "execution_count": 2,
   "metadata": {},
   "outputs": [],
   "source": [
    "restaurant_df = pd.read_csv('data/full_restaurant_rating_data.csv')\n",
    "restaurant_df.shape"
   ]
  },
  {
   "cell_type": "markdown",
   "metadata": {},
   "source": [
    "### Number of reviews histogram"
   ]
  },
  {
   "cell_type": "code",
   "execution_count": 3,
   "metadata": {},
   "outputs": [
    {
     "name": "stdout",
     "output_type": "stream",
     "text": [
      "0-2         3935\n",
      "3-5         1578\n",
      "6-10        1348\n",
      "11-15        754\n",
      "16-20        477\n",
      "21-100      2062\n",
      "101-200      497\n",
      "201-300      177\n",
      "301-400      109\n",
      "401-500       67\n",
      "501-600       50\n",
      "601-700       39\n",
      "701-800       14\n",
      "801-900       14\n",
      "901-1000       9\n",
      ">1000         31\n",
      "Name: reviews_bins, dtype: int64\n"
     ]
    },
    {
     "data": {
      "text/plain": [
       "<AxesSubplot:>"
      ]
     },
     "execution_count": 3,
     "metadata": {},
     "output_type": "execute_result"
    },
    {
     "data": {
      "image/png": "[encoded data removed]",
      "text/plain": [
       "<Figure size 432x288 with 1 Axes>"
      ]
     },
     "metadata": {
      "needs_background": "light"
     },
     "output_type": "display_data"
    }
   ],
   "source": [
    "# this is to see how many 0 reviews are there in the dataset\n",
    "# e.g. (-1, 2] = value of -1 is not included in this bin but a value of 0, 1 and 2 is included\n",
    "reviews_bins = [-1, 2, 5, 10, 15, 20, 100, 200, 300, 400, 500, 600, 700, 800, 900, 1000, 10000]\n",
    "reviews_bins_labels = ['0-2', '3-5', '6-10', '11-15', '16-20', '21-100', '101-200', '201-300', '301-400', '401-500', '501-600', '601-700', '701-800', '801-900', '901-1000', '>1000']\n",
    "\n",
    "restaurant_df['reviews_bins'] = pd.cut(restaurant_df['num_of_reviews'], reviews_bins, labels = reviews_bins_labels)\n",
    "\n",
    "# distribution of number_of_review in bins\n",
    "print(restaurant_df['reviews_bins'].value_counts().sort_index())\n",
    "\n",
    "# histogram of reviews\n",
    "restaurant_df['reviews_bins'].value_counts().sort_index().plot.bar()"
   ]
  },
  {
   "cell_type": "markdown",
   "metadata": {},
   "source": [
    "### Dropping rows with reviews <= 2 (dropping 3935 rows of data)"
   ]
  },
  {
   "cell_type": "code",
   "execution_count": 5,
   "metadata": {},
   "outputs": [
    {
     "data": {
      "text/plain": [
       "(7226, 36)"
      ]
     },
     "execution_count": 5,
     "metadata": {},
     "output_type": "execute_result"
    }
   ],
   "source": [
    "# dropping rows with reviews <= 2: dropping 3935 rows of data\n",
    "\n",
    "restaurant_df = restaurant_df[restaurant_df['num_of_reviews'] >= 3]\n",
    "restaurant_df.shape"
   ]
  },
  {
   "cell_type": "markdown",
   "metadata": {},
   "source": [
    "### Creating a new column in the dataframe called 'total_ratings' that is calculated from the summation of fields from 'num_of_ratings'"
   ]
  },
  {
   "cell_type": "code",
   "execution_count": 6,
   "metadata": {},
   "outputs": [],
   "source": [
    "restaurant_df['total_ratings'] = restaurant_df['num_of_rating_1'] + restaurant_df['num_of_rating_2'] + restaurant_df['num_of_rating_3'] + restaurant_df['num_of_rating_4'] + restaurant_df['num_of_rating_5']"
   ]
  },
  {
   "cell_type": "markdown",
   "metadata": {},
   "source": [
    "### Creating a new column in the dataframe called 'total_stars' that is calculated from the multiplication of fields from 'num_of_ratings'"
   ]
  },
  {
   "cell_type": "code",
   "execution_count": 7,
   "metadata": {},
   "outputs": [],
   "source": [
    "restaurant_df['total_stars'] = (restaurant_df['num_of_rating_1'] * 1) + (restaurant_df['num_of_rating_2'] * 2) + (restaurant_df['num_of_rating_3'] * 3) + (restaurant_df['num_of_rating_4'] * 4) + (restaurant_df['num_of_rating_5'] * 5)   "
   ]
  },
  {
   "cell_type": "markdown",
   "metadata": {},
   "source": [
    "### Creating a new column in the dataframe called 'average_rating' that is calculated from 'total_stars' / 'total_ratings'"
   ]
  },
  {
   "cell_type": "code",
   "execution_count": 8,
   "metadata": {},
   "outputs": [],
   "source": [
    "restaurant_df['average_rating'] = round(restaurant_df['total_stars'] / restaurant_df['total_ratings'], 1)\n"
   ]
  },
  {
   "cell_type": "markdown",
   "metadata": {},
   "source": [
    "### Visualizing the distribution of average_rating"
   ]
  },
  {
   "cell_type": "code",
   "execution_count": 10,
   "metadata": {},
   "outputs": [
    {
     "data": {
      "text/plain": [
       "<AxesSubplot:>"
      ]
     },
     "execution_count": 10,
     "metadata": {},
     "output_type": "execute_result"
    },
    {
     "data": {
      "image/png": "[encoded data removed]",
      "text/plain": [
       "<Figure size 432x288 with 1 Axes>"
      ]
     },
     "metadata": {
      "needs_background": "light"
     },
     "output_type": "display_data"
    }
   ],
   "source": [
    "restaurant_df['average_rating'].value_counts().sort_index().plot()"
   ]
  },
  {
   "cell_type": "markdown",
   "metadata": {},
   "source": [
    "### Viewing 'average_rating' in percentile order"
   ]
  },
  {
   "cell_type": "code",
   "execution_count": 11,
   "metadata": {},
   "outputs": [
    {
     "name": "stdout",
     "output_type": "stream",
     "text": [
      "Average Rating at 10 percentile: 3.0\n",
      "Average Rating at 20 percentile: 3.4\n",
      "Average Rating at 30 percentile: 3.6\n",
      "Average Rating at 40 percentile: 3.8\n",
      "Average Rating at 50 percentile: 3.9\n",
      "Average Rating at 60 percentile: 4.0\n",
      "Average Rating at 70 percentile: 4.2\n",
      "Average Rating at 80 percentile: 4.3\n",
      "Average Rating at 90 percentile: 4.6\n",
      "Average Rating at 100 percentile: 5.0\n"
     ]
    }
   ],
   "source": [
    "for i in np.arange(0.1, 1.1, 0.1):\n",
    "    print(f'Average Rating at {round(int(i*100), 2)} percentile: ' + str(round(restaurant_df['average_rating'].quantile(i), 2))) "
   ]
  },
  {
   "cell_type": "markdown",
   "metadata": {},
   "source": [
    "### Creating a new column in the dataframe called 'average_rating_category' to bin/categorise 'average_rating' as 0 for ratings below the 50th percentile and 1 for ratings above the 50th percentile"
   ]
  },
  {
   "cell_type": "code",
   "execution_count": 21,
   "metadata": {},
   "outputs": [
    {
     "data": {
      "text/plain": [
       "0    3796\n",
       "1    3430\n",
       "Name: average_rating_category, dtype: int64"
      ]
     },
     "execution_count": 21,
     "metadata": {},
     "output_type": "execute_result"
    }
   ],
   "source": [
    "def rating_categories(df) :\n",
    "    if df['average_rating'] <= 3.9:\n",
    "        val = 0\n",
    "    else:\n",
    "        val = 1\n",
    "    return val \n",
    "\n",
    "restaurant_df['average_rating_category'] = restaurant_df.apply(rating_categories, axis=1)\n",
    "\n",
    "# Viewing the frequency count for the 'average_rating_category'\n",
    "restaurant_df['average_rating_category'].value_counts()"
   ]
  }
 ],
 "metadata": {
  "interpreter": {
   "hash": "aee8b7b246df8f9039afb4144a1f6fd8d2ca17a180786b69acc140d282b71a49"
  },
  "kernelspec": {
   "display_name": "Python 3.9.2 64-bit",
   "language": "python",
   "name": "python3"
  },
  "language_info": {
   "codemirror_mode": {
    "name": "ipython",
    "version": 3
   },
   "file_extension": ".py",
   "mimetype": "text/x-python",
   "name": "python",
   "nbconvert_exporter": "python",
   "pygments_lexer": "ipython3",
   "version": "3.9.7"
  },
  "orig_nbformat": 4
 },
 "nbformat": 4,
 "nbformat_minor": 2
}
