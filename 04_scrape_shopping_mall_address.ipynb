{
 "cells": [
  {
   "cell_type": "markdown",
   "metadata": {},
   "source": [
    "# Finding the Restaurants that are within Shopping Malls\n",
    "Notebook used to extract Shopping Mall data, and check if Restaurants exist in Shopping Malls"
   ]
  },
  {
   "cell_type": "code",
   "execution_count": 2,
   "metadata": {},
   "outputs": [],
   "source": [
    "# conda install -c anaconda beautifulsoup4\n",
    "from bs4 import BeautifulSoup, SoupStrainer\n",
    "import requests\n",
    "import re\n",
    "\n",
    "import pandas as pd\n",
    "from fuzzywuzzy import fuzz\n",
    "import numpy as np\n",
    "\n",
    "from selenium import webdriver      # conda install -c conda-forge selenium\n",
    "from time import sleep\n",
    "from selenium.webdriver.chrome.options import Options\n",
    "from selenium.webdriver.common.keys import Keys\n",
    "\n",
    "import warnings\n",
    "warnings.filterwarnings(\"ignore\")"
   ]
  },
  {
   "cell_type": "markdown",
   "metadata": {},
   "source": [
    "## 1. Web Scraping the list of Shopping Mall names from Wikipedia (using BeautifulSoup)"
   ]
  },
  {
   "cell_type": "code",
   "execution_count": 77,
   "metadata": {},
   "outputs": [],
   "source": [
    "url = 'https://en.wikipedia.org/wiki/List_of_shopping_malls_in_Singapore'\n",
    "resp = requests.get(url)\n",
    "list_of_mall_names = SoupStrainer('div', class_='div-col')\n",
    "soup = BeautifulSoup(resp.text, 'html.parser', parse_only=list_of_mall_names)"
   ]
  },
  {
   "cell_type": "code",
   "execution_count": 78,
   "metadata": {},
   "outputs": [],
   "source": [
    "list_of_scraped_names = []"
   ]
  },
  {
   "cell_type": "code",
   "execution_count": 79,
   "metadata": {},
   "outputs": [],
   "source": [
    "for li_tag in soup.find_all('li'):\n",
    "    li_tag_text = li_tag.text\n",
    "    extra_bracket_match = re.search('\\[\\d*\\d]', li_tag_text)\n",
    "    if extra_bracket_match:\n",
    "        extra_bracket = extra_bracket_match.group()\n",
    "        li_tag_text = li_tag_text.replace(extra_bracket, '').strip()\n",
    "    list_of_scraped_names.append(li_tag_text)"
   ]
  },
  {
   "cell_type": "code",
   "execution_count": 80,
   "metadata": {},
   "outputs": [],
   "source": [
    "df_malls = pd.DataFrame({'mall_names': list_of_scraped_names})\n",
    "df_malls.drop_duplicates(inplace=True)"
   ]
  },
  {
   "cell_type": "code",
   "execution_count": 81,
   "metadata": {},
   "outputs": [
    {
     "data": {
      "text/html": [
       "<div>\n",
       "<style scoped>\n",
       "    .dataframe tbody tr th:only-of-type {\n",
       "        vertical-align: middle;\n",
       "    }\n",
       "\n",
       "    .dataframe tbody tr th {\n",
       "        vertical-align: top;\n",
       "    }\n",
       "\n",
       "    .dataframe thead th {\n",
       "        text-align: right;\n",
       "    }\n",
       "</style>\n",
       "<table border=\"1\" class=\"dataframe\">\n",
       "  <thead>\n",
       "    <tr style=\"text-align: right;\">\n",
       "      <th></th>\n",
       "      <th>mall_names</th>\n",
       "    </tr>\n",
       "  </thead>\n",
       "  <tbody>\n",
       "    <tr>\n",
       "      <th>0</th>\n",
       "      <td>100 AM</td>\n",
       "    </tr>\n",
       "    <tr>\n",
       "      <th>1</th>\n",
       "      <td>313@Somerset</td>\n",
       "    </tr>\n",
       "    <tr>\n",
       "      <th>2</th>\n",
       "      <td>Aperia</td>\n",
       "    </tr>\n",
       "    <tr>\n",
       "      <th>3</th>\n",
       "      <td>Balestier Hill Shopping Centre</td>\n",
       "    </tr>\n",
       "    <tr>\n",
       "      <th>4</th>\n",
       "      <td>Bugis Cube</td>\n",
       "    </tr>\n",
       "    <tr>\n",
       "      <th>...</th>\n",
       "      <td>...</td>\n",
       "    </tr>\n",
       "    <tr>\n",
       "      <th>157</th>\n",
       "      <td>Gek Poh Shopping Centre</td>\n",
       "    </tr>\n",
       "    <tr>\n",
       "      <th>158</th>\n",
       "      <td>Rochester Mall</td>\n",
       "    </tr>\n",
       "    <tr>\n",
       "      <th>159</th>\n",
       "      <td>Taman Jurong Shopping Centre</td>\n",
       "    </tr>\n",
       "    <tr>\n",
       "      <th>160</th>\n",
       "      <td>West Coast Plaza</td>\n",
       "    </tr>\n",
       "    <tr>\n",
       "      <th>161</th>\n",
       "      <td>Queensway Shopping Centre</td>\n",
       "    </tr>\n",
       "  </tbody>\n",
       "</table>\n",
       "<p>161 rows × 1 columns</p>\n",
       "</div>"
      ],
      "text/plain": [
       "                         mall_names\n",
       "0                            100 AM\n",
       "1                      313@Somerset\n",
       "2                            Aperia\n",
       "3    Balestier Hill Shopping Centre\n",
       "4                        Bugis Cube\n",
       "..                              ...\n",
       "157         Gek Poh Shopping Centre\n",
       "158                  Rochester Mall\n",
       "159    Taman Jurong Shopping Centre\n",
       "160                West Coast Plaza\n",
       "161       Queensway Shopping Centre\n",
       "\n",
       "[161 rows x 1 columns]"
      ]
     },
     "execution_count": 81,
     "metadata": {},
     "output_type": "execute_result"
    }
   ],
   "source": [
    "df_malls"
   ]
  },
  {
   "cell_type": "markdown",
   "metadata": {},
   "source": [
    "## 2. Geocoding for Shopping Mall addresses"
   ]
  },
  {
   "cell_type": "code",
   "execution_count": 109,
   "metadata": {},
   "outputs": [
    {
     "name": "stdout",
     "output_type": "stream",
     "text": [
      "To manually verify:\n",
      "\n",
      "Bugis Junction\n",
      "Cathay Cineleisure Orchard\n",
      "Duo\n",
      "Holland Village Shopping Mall\n",
      "ION Orchard\n",
      "Knightsbridge\n",
      "Lucky Plaza\n",
      "Marina Bay Sands\n",
      "Millenia Walk\n",
      "People's Park Centre\n",
      "Shaw House and Centre\n",
      "Suntec City\n",
      "The Poiz\n",
      "United Square\n",
      "Zhongshan Mall\n",
      "Our Tampines Hub\n",
      "Downtown East\n",
      "Paya Lebar Quarter (PLQ)\n",
      "Roxy Square\n",
      "Loyang Point\n",
      "Admiralty Place\n",
      "Djitsun Mall\n",
      "Sun Plaza\n",
      "Vista Point\n",
      "Rivervale Mall\n",
      "Upper Serangoon Shopping Centre\n",
      "Beauty World Plaza\n",
      "Yew Tee Square\n",
      "Boon Lay Shopping Centre\n",
      "Fairprice Hub\n"
     ]
    }
   ],
   "source": [
    "driver = webdriver.Chrome()\n",
    "driver.get(\"https://www.google.com/maps\")\n",
    "dct_info = {}\n",
    "\n",
    "for idx, row in df_malls.iterrows():\n",
    "    mall = row['mall_names']\n",
    "    input_element = driver.find_element_by_xpath('//*[@id=\"searchboxinput\"]')\n",
    "    input_element.clear()\n",
    "    input_element.send_keys(f\"{mall} location\")\n",
    "    input_element.send_keys(Keys.ENTER)\n",
    "    sleep(5)\n",
    "    try:\n",
    "        first_reco = driver.find_element_by_class_name(\"a4gq8e-aVTXAb-haAclf-jRmmHf-hSRGPd\")\n",
    "        first_reco.click()\n",
    "        sleep(5)\n",
    "        print(mall)\n",
    "    except:\n",
    "        pass\n",
    "\n",
    "    address_elements = driver.find_elements_by_class_name(\"QSFF4-text\")\n",
    "    if len(address_elements) > 0:\n",
    "        address = address_elements[0].text\n",
    "    else:\n",
    "        address = \"\"\n",
    "\n",
    "    url_current = driver.current_url\n",
    "    match = re.search('@(-?\\d+\\.?\\d*),(-?\\d+\\.?\\d*)', url_current)\n",
    "    lat = round(float(match.group(1).replace('@','').strip()), 6)\n",
    "    lon = round(float(match.group(2)), 6)\n",
    "    dct_info[mall] = [lat, lon, address]"
   ]
  },
  {
   "cell_type": "code",
   "execution_count": 127,
   "metadata": {},
   "outputs": [],
   "source": [
    "dct_info['Marina Bay Sands'] = [1.2840501, 103.858707, '10 Bayfront Ave, Singapore 018956']\n",
    "dct_info['The South Beach'] = [1.2957395, 103.8544249, '38 Beach Rd, Singapore 189767']\n",
    "dct_info['Northshore Plaza'] = [1.4168672, 103.8996155, '407 Northshore Dr, Singapore 820407']\n",
    "dct_info['Bedok Point'] = [1.3249305, 103.9301924, 'SG, New Upper Changi Rd, 799, 467351']\n",
    "dct_info['Jurong Point'] = [1.3397443, 103.704541, '1 Jurong West Central 2, Singapore 648886']\n",
    "dct_info['Anchorpoint'] = [1.2887706, 103.8028875, '370 Alexandra Rd, Singapore 159953']\n",
    "dct_info['Pioneer Mall'] = [1.3418699, 103.6951971, '638 Jurong West Street 61, Singapore 640638']\n",
    "dct_info[\"People's Park Complex\"] = [1.2841977, 103.8403601, '1 Park Rd, Singapore 059108']\n",
    "dct_info['Orchard Plaza'] = [1.301077, 103.8387947, '150 Orchard Rd, Orchard Plaza, Singapore 238841']\n",
    "dct_info['Tekka Centre'] = [1.306256, 103.848471, '665 Buffalo Road, Singapore 210665']"
   ]
  },
  {
   "cell_type": "code",
   "execution_count": 128,
   "metadata": {},
   "outputs": [],
   "source": [
    "df_malls['address'] = df_malls['mall_names'].apply(lambda x: dct_info[x][0])\n",
    "df_malls['latitude'] = df_malls['mall_names'].apply(lambda x: dct_info[x][1])\n",
    "df_malls['longitude'] = df_malls['mall_names'].apply(lambda x: dct_info[x][2])"
   ]
  },
  {
   "cell_type": "code",
   "execution_count": 34,
   "metadata": {},
   "outputs": [],
   "source": [
    "df_malls.to_csv('data/singapore_mall_locations.csv', encoding='utf-8-sig', index=False)"
   ]
  },
  {
   "cell_type": "markdown",
   "metadata": {},
   "source": [
    "## 3. Use Regular Expressions to identify Restaurants in Malls\n",
    "Based on address and postal code"
   ]
  },
  {
   "cell_type": "code",
   "execution_count": 3,
   "metadata": {},
   "outputs": [],
   "source": [
    "df_malls = pd.read_csv('data/singapore_mall_locations.csv')"
   ]
  },
  {
   "cell_type": "code",
   "execution_count": 6,
   "metadata": {},
   "outputs": [
    {
     "data": {
      "text/html": [
       "<div>\n",
       "<style scoped>\n",
       "    .dataframe tbody tr th:only-of-type {\n",
       "        vertical-align: middle;\n",
       "    }\n",
       "\n",
       "    .dataframe tbody tr th {\n",
       "        vertical-align: top;\n",
       "    }\n",
       "\n",
       "    .dataframe thead th {\n",
       "        text-align: right;\n",
       "    }\n",
       "</style>\n",
       "<table border=\"1\" class=\"dataframe\">\n",
       "  <thead>\n",
       "    <tr style=\"text-align: right;\">\n",
       "      <th></th>\n",
       "      <th>mall_names</th>\n",
       "      <th>latitude</th>\n",
       "      <th>longitude</th>\n",
       "      <th>address</th>\n",
       "      <th>postal_code</th>\n",
       "      <th>cleaned_mall_names</th>\n",
       "    </tr>\n",
       "  </thead>\n",
       "  <tbody>\n",
       "    <tr>\n",
       "      <th>0</th>\n",
       "      <td>100 AM</td>\n",
       "      <td>1.275012</td>\n",
       "      <td>103.841382</td>\n",
       "      <td>100 Tras St, Singapore 079027</td>\n",
       "      <td>079027</td>\n",
       "      <td>100 am</td>\n",
       "    </tr>\n",
       "    <tr>\n",
       "      <th>1</th>\n",
       "      <td>313@Somerset</td>\n",
       "      <td>1.300903</td>\n",
       "      <td>103.836178</td>\n",
       "      <td>313 Orchard Rd, Singapore 238895</td>\n",
       "      <td>238895</td>\n",
       "      <td>313@somerset</td>\n",
       "    </tr>\n",
       "    <tr>\n",
       "      <th>2</th>\n",
       "      <td>Aperia</td>\n",
       "      <td>1.310463</td>\n",
       "      <td>103.861984</td>\n",
       "      <td>12 Kallang Ave, Singapore 339511</td>\n",
       "      <td>339511</td>\n",
       "      <td>aperia</td>\n",
       "    </tr>\n",
       "    <tr>\n",
       "      <th>3</th>\n",
       "      <td>Balestier Hill Shopping Centre</td>\n",
       "      <td>1.325860</td>\n",
       "      <td>103.840678</td>\n",
       "      <td>2 Balestier Rd, Singapore 320002</td>\n",
       "      <td>320002</td>\n",
       "      <td>balestier hill shopping centre</td>\n",
       "    </tr>\n",
       "    <tr>\n",
       "      <th>4</th>\n",
       "      <td>Bugis Cube</td>\n",
       "      <td>1.298197</td>\n",
       "      <td>103.853474</td>\n",
       "      <td>470 North Bridge Rd, Singapore 188735</td>\n",
       "      <td>188735</td>\n",
       "      <td>bugis cube</td>\n",
       "    </tr>\n",
       "    <tr>\n",
       "      <th>...</th>\n",
       "      <td>...</td>\n",
       "      <td>...</td>\n",
       "      <td>...</td>\n",
       "      <td>...</td>\n",
       "      <td>...</td>\n",
       "      <td>...</td>\n",
       "    </tr>\n",
       "    <tr>\n",
       "      <th>156</th>\n",
       "      <td>Gek Poh Shopping Centre</td>\n",
       "      <td>1.348765</td>\n",
       "      <td>103.695288</td>\n",
       "      <td>762 Jurong West Street 75, Singapore 640762</td>\n",
       "      <td>640762</td>\n",
       "      <td>gek poh shopping centre</td>\n",
       "    </tr>\n",
       "    <tr>\n",
       "      <th>157</th>\n",
       "      <td>Rochester Mall</td>\n",
       "      <td>1.305584</td>\n",
       "      <td>103.786017</td>\n",
       "      <td>35 Rochester Dr, Singapore 138639</td>\n",
       "      <td>138639</td>\n",
       "      <td>rochester mall</td>\n",
       "    </tr>\n",
       "    <tr>\n",
       "      <th>158</th>\n",
       "      <td>Taman Jurong Shopping Centre</td>\n",
       "      <td>1.334648</td>\n",
       "      <td>103.718311</td>\n",
       "      <td>399 Yung Sheng Rd, Singapore 610399</td>\n",
       "      <td>610399</td>\n",
       "      <td>taman jurong shopping centre</td>\n",
       "    </tr>\n",
       "    <tr>\n",
       "      <th>159</th>\n",
       "      <td>West Coast Plaza</td>\n",
       "      <td>1.303707</td>\n",
       "      <td>103.763748</td>\n",
       "      <td>154 West Coast Rd, Singapore 127371</td>\n",
       "      <td>127371</td>\n",
       "      <td>west coast plaza</td>\n",
       "    </tr>\n",
       "    <tr>\n",
       "      <th>160</th>\n",
       "      <td>Queensway Shopping Centre</td>\n",
       "      <td>1.287558</td>\n",
       "      <td>103.801285</td>\n",
       "      <td>1 Queensway, Singapore 149053</td>\n",
       "      <td>149053</td>\n",
       "      <td>queensway shopping centre</td>\n",
       "    </tr>\n",
       "  </tbody>\n",
       "</table>\n",
       "<p>161 rows × 6 columns</p>\n",
       "</div>"
      ],
      "text/plain": [
       "                         mall_names  latitude   longitude  \\\n",
       "0                            100 AM  1.275012  103.841382   \n",
       "1                      313@Somerset  1.300903  103.836178   \n",
       "2                            Aperia  1.310463  103.861984   \n",
       "3    Balestier Hill Shopping Centre  1.325860  103.840678   \n",
       "4                        Bugis Cube  1.298197  103.853474   \n",
       "..                              ...       ...         ...   \n",
       "156         Gek Poh Shopping Centre  1.348765  103.695288   \n",
       "157                  Rochester Mall  1.305584  103.786017   \n",
       "158    Taman Jurong Shopping Centre  1.334648  103.718311   \n",
       "159                West Coast Plaza  1.303707  103.763748   \n",
       "160       Queensway Shopping Centre  1.287558  103.801285   \n",
       "\n",
       "                                         address postal_code  \\\n",
       "0                  100 Tras St, Singapore 079027      079027   \n",
       "1               313 Orchard Rd, Singapore 238895      238895   \n",
       "2               12 Kallang Ave, Singapore 339511      339511   \n",
       "3               2 Balestier Rd, Singapore 320002      320002   \n",
       "4          470 North Bridge Rd, Singapore 188735      188735   \n",
       "..                                           ...         ...   \n",
       "156  762 Jurong West Street 75, Singapore 640762      640762   \n",
       "157            35 Rochester Dr, Singapore 138639      138639   \n",
       "158          399 Yung Sheng Rd, Singapore 610399      610399   \n",
       "159          154 West Coast Rd, Singapore 127371      127371   \n",
       "160                1 Queensway, Singapore 149053      149053   \n",
       "\n",
       "                 cleaned_mall_names  \n",
       "0                            100 am  \n",
       "1                      313@somerset  \n",
       "2                            aperia  \n",
       "3    balestier hill shopping centre  \n",
       "4                        bugis cube  \n",
       "..                              ...  \n",
       "156         gek poh shopping centre  \n",
       "157                  rochester mall  \n",
       "158    taman jurong shopping centre  \n",
       "159                west coast plaza  \n",
       "160       queensway shopping centre  \n",
       "\n",
       "[161 rows x 6 columns]"
      ]
     },
     "execution_count": 6,
     "metadata": {},
     "output_type": "execute_result"
    }
   ],
   "source": [
    "df_malls"
   ]
  },
  {
   "cell_type": "code",
   "execution_count": 4,
   "metadata": {},
   "outputs": [],
   "source": [
    "# extract postal code\n",
    "df_malls['postal_code'] = df_malls['address'].apply(\n",
    "    lambda x: re.search('\\d{3}\\s*\\d{3}', x).group() if re.search('\\d{3}\\s*\\d{3}', x) else np.nan\n",
    ")"
   ]
  },
  {
   "cell_type": "code",
   "execution_count": 5,
   "metadata": {},
   "outputs": [],
   "source": [
    "def split_sticked_postal_code(x):\n",
    "    match = re.search('(\\w*[\\d{3}])(\\d{3}\\w*)', x)\n",
    "    if match:\n",
    "        first = match.groups()[0]\n",
    "        second = match.groups()[1]\n",
    "        new = first + ' ' + second\n",
    "        x = x.replace(first+second, new)\n",
    "        return x\n",
    "    return x"
   ]
  },
  {
   "cell_type": "code",
   "execution_count": 6,
   "metadata": {},
   "outputs": [],
   "source": [
    "df_restaurant = pd.read_csv(\"data/full_restaurant_rating_data.csv\")"
   ]
  },
  {
   "cell_type": "markdown",
   "metadata": {},
   "source": [
    "### Check if Mall Name Exist in Restaurant"
   ]
  },
  {
   "cell_type": "code",
   "execution_count": 7,
   "metadata": {},
   "outputs": [],
   "source": [
    "df_restaurant['cleaned_address'] = df_restaurant['address'].str.lower()\n",
    "df_restaurant['cleaned_address'] = df_restaurant['cleaned_address'].apply(split_sticked_postal_code)\n",
    "\n",
    "df_malls['cleaned_mall_names'] = df_malls['mall_names'].str.lower()\n",
    "df_malls['postal_code'] = df_malls['postal_code'].apply(split_sticked_postal_code)"
   ]
  },
  {
   "cell_type": "code",
   "execution_count": 8,
   "metadata": {},
   "outputs": [],
   "source": [
    "def create_dict_from_df(df, col_key, col_value):\n",
    "    df = df[[col_key, col_value]].drop_duplicates()\n",
    "    return df.set_index([col_key])[col_value].to_dict()"
   ]
  },
  {
   "cell_type": "code",
   "execution_count": 9,
   "metadata": {},
   "outputs": [],
   "source": [
    "dct_postal_code_mall = create_dict_from_df(df_malls, 'postal_code', 'mall_names')"
   ]
  },
  {
   "cell_type": "code",
   "execution_count": 10,
   "metadata": {},
   "outputs": [],
   "source": [
    "def matches_shopping_mall(mall, restaurant):\n",
    "    malls_to_fully_match = ['nex', 'imm', 'duo', 'jurong point', 'singpost centre']\n",
    "    if mall in ['nex', 'imm', 'duo']:\n",
    "        ### for these mall names, require them to be an individual word (not part of a bigger word like 'next' containing 'nex')\n",
    "        tokens = restaurant.split(' ')\n",
    "        return any([k == mall for k in tokens])\n",
    "    elif mall in ['jurong point', 'singpost centre'] or re.search('\\d+', mall):\n",
    "        # mall names that is harder to be identified by FuzzyWuzzy\n",
    "        return mall in restaurant\n",
    "    else:\n",
    "        # FuzzyWuzzy partio ratio returns String Matching scores (account for different variations of a mall name)\n",
    "        return fuzz.partial_ratio(mall, restaurant) > 90"
   ]
  },
  {
   "cell_type": "code",
   "execution_count": 11,
   "metadata": {},
   "outputs": [],
   "source": [
    "for idx, row in df_restaurant.iterrows():\n",
    "    x = row['cleaned_address']\n",
    "    name_match = [k for k in df_malls['cleaned_mall_names'] if matches_shopping_mall(k, x)]\n",
    "    postal_code_match = [dct_postal_code_mall[k] for k in df_malls['postal_code'] if k in x]\n",
    "    \n",
    "    if any(name_match) or any(postal_code_match):\n",
    "        df_restaurant.loc[idx, 'is_in_mall'] = 1\n",
    "    else:\n",
    "        df_restaurant.loc[idx, 'is_in_mall'] = 0\n",
    "\n",
    "    if len(name_match) > 0:\n",
    "        df_restaurant.loc[idx, 'mall'] = name_match[0].title()\n",
    "        continue\n",
    "    if len(postal_code_match) > 0:\n",
    "        df_restaurant.loc[idx, 'mall'] = postal_code_match[0].title()"
   ]
  },
  {
   "cell_type": "markdown",
   "metadata": {},
   "source": [
    "## 4. Inspect New Features Generated"
   ]
  },
  {
   "cell_type": "code",
   "execution_count": 18,
   "metadata": {},
   "outputs": [],
   "source": [
    "df_subset = df_restaurant[['url', 'is_in_mall', 'mall']]"
   ]
  },
  {
   "cell_type": "code",
   "execution_count": 19,
   "metadata": {},
   "outputs": [
    {
     "data": {
      "text/html": [
       "<div>\n",
       "<style scoped>\n",
       "    .dataframe tbody tr th:only-of-type {\n",
       "        vertical-align: middle;\n",
       "    }\n",
       "\n",
       "    .dataframe tbody tr th {\n",
       "        vertical-align: top;\n",
       "    }\n",
       "\n",
       "    .dataframe thead th {\n",
       "        text-align: right;\n",
       "    }\n",
       "</style>\n",
       "<table border=\"1\" class=\"dataframe\">\n",
       "  <thead>\n",
       "    <tr style=\"text-align: right;\">\n",
       "      <th></th>\n",
       "      <th>url</th>\n",
       "      <th>is_in_mall</th>\n",
       "      <th>mall</th>\n",
       "    </tr>\n",
       "  </thead>\n",
       "  <tbody>\n",
       "    <tr>\n",
       "      <th>0</th>\n",
       "      <td>https://www.tripadvisor.com.sg/Restaurant_Revi...</td>\n",
       "      <td>0.0</td>\n",
       "      <td>NaN</td>\n",
       "    </tr>\n",
       "    <tr>\n",
       "      <th>1</th>\n",
       "      <td>https://www.tripadvisor.com.sg/Restaurant_Revi...</td>\n",
       "      <td>0.0</td>\n",
       "      <td>NaN</td>\n",
       "    </tr>\n",
       "    <tr>\n",
       "      <th>2</th>\n",
       "      <td>https://www.tripadvisor.com.sg/Restaurant_Revi...</td>\n",
       "      <td>0.0</td>\n",
       "      <td>NaN</td>\n",
       "    </tr>\n",
       "    <tr>\n",
       "      <th>3</th>\n",
       "      <td>https://www.tripadvisor.com.sg/Restaurant_Revi...</td>\n",
       "      <td>1.0</td>\n",
       "      <td>Marina Square</td>\n",
       "    </tr>\n",
       "    <tr>\n",
       "      <th>4</th>\n",
       "      <td>https://www.tripadvisor.com.sg/Restaurant_Revi...</td>\n",
       "      <td>0.0</td>\n",
       "      <td>NaN</td>\n",
       "    </tr>\n",
       "    <tr>\n",
       "      <th>...</th>\n",
       "      <td>...</td>\n",
       "      <td>...</td>\n",
       "      <td>...</td>\n",
       "    </tr>\n",
       "    <tr>\n",
       "      <th>11156</th>\n",
       "      <td>https://www.tripadvisor.com.sg/Restaurant_Revi...</td>\n",
       "      <td>0.0</td>\n",
       "      <td>NaN</td>\n",
       "    </tr>\n",
       "    <tr>\n",
       "      <th>11157</th>\n",
       "      <td>https://www.tripadvisor.com.sg/Restaurant_Revi...</td>\n",
       "      <td>1.0</td>\n",
       "      <td>Jcube</td>\n",
       "    </tr>\n",
       "    <tr>\n",
       "      <th>11158</th>\n",
       "      <td>https://www.tripadvisor.com.sg/Restaurant_Revi...</td>\n",
       "      <td>1.0</td>\n",
       "      <td>Yew Tee Point</td>\n",
       "    </tr>\n",
       "    <tr>\n",
       "      <th>11159</th>\n",
       "      <td>https://www.tripadvisor.com.sg/Restaurant_Revi...</td>\n",
       "      <td>0.0</td>\n",
       "      <td>NaN</td>\n",
       "    </tr>\n",
       "    <tr>\n",
       "      <th>11160</th>\n",
       "      <td>https://www.tripadvisor.com.sg/Restaurant_Revi...</td>\n",
       "      <td>0.0</td>\n",
       "      <td>NaN</td>\n",
       "    </tr>\n",
       "  </tbody>\n",
       "</table>\n",
       "<p>11161 rows × 3 columns</p>\n",
       "</div>"
      ],
      "text/plain": [
       "                                                     url  is_in_mall  \\\n",
       "0      https://www.tripadvisor.com.sg/Restaurant_Revi...         0.0   \n",
       "1      https://www.tripadvisor.com.sg/Restaurant_Revi...         0.0   \n",
       "2      https://www.tripadvisor.com.sg/Restaurant_Revi...         0.0   \n",
       "3      https://www.tripadvisor.com.sg/Restaurant_Revi...         1.0   \n",
       "4      https://www.tripadvisor.com.sg/Restaurant_Revi...         0.0   \n",
       "...                                                  ...         ...   \n",
       "11156  https://www.tripadvisor.com.sg/Restaurant_Revi...         0.0   \n",
       "11157  https://www.tripadvisor.com.sg/Restaurant_Revi...         1.0   \n",
       "11158  https://www.tripadvisor.com.sg/Restaurant_Revi...         1.0   \n",
       "11159  https://www.tripadvisor.com.sg/Restaurant_Revi...         0.0   \n",
       "11160  https://www.tripadvisor.com.sg/Restaurant_Revi...         0.0   \n",
       "\n",
       "                mall  \n",
       "0                NaN  \n",
       "1                NaN  \n",
       "2                NaN  \n",
       "3      Marina Square  \n",
       "4                NaN  \n",
       "...              ...  \n",
       "11156            NaN  \n",
       "11157          Jcube  \n",
       "11158  Yew Tee Point  \n",
       "11159            NaN  \n",
       "11160            NaN  \n",
       "\n",
       "[11161 rows x 3 columns]"
      ]
     },
     "execution_count": 19,
     "metadata": {},
     "output_type": "execute_result"
    }
   ],
   "source": [
    "df_subset"
   ]
  },
  {
   "cell_type": "code",
   "execution_count": null,
   "metadata": {},
   "outputs": [],
   "source": [
    "df_subset.to_csv('data/restaurant_is_in_mall.csv', index=False, encoding='utf-8-sig')"
   ]
  }
 ],
 "metadata": {
  "interpreter": {
   "hash": "30ff77935d88e97afa092cd4650bfc57f1ea43861cf33cd7da098dbb62a53bbb"
  },
  "kernelspec": {
   "display_name": "Python 3.7.11 ('bt4222_practice')",
   "language": "python",
   "name": "python3"
  },
  "language_info": {
   "codemirror_mode": {
    "name": "ipython",
    "version": 3
   },
   "file_extension": ".py",
   "mimetype": "text/x-python",
   "name": "python",
   "nbconvert_exporter": "python",
   "pygments_lexer": "ipython3",
   "version": "3.7.11"
  },
  "orig_nbformat": 4
 },
 "nbformat": 4,
 "nbformat_minor": 2
}
