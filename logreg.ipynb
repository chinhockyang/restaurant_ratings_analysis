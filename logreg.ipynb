{
 "cells": [
  {
   "cell_type": "markdown",
   "metadata": {},
   "source": [
    "## LogReg"
   ]
  },
  {
   "cell_type": "code",
   "execution_count": 2,
   "metadata": {},
   "outputs": [],
   "source": [
    "from sklearn.linear_model import LogisticRegression\n",
    "from sklearn.linear_model import LogisticRegressionCV\n",
    "from sklearn.model_selection import train_test_split\n",
    "from sklearn.model_selection import StratifiedKFold\n",
    "from sklearn.model_selection import GridSearchCV\n",
    "from sklearn.preprocessing import MinMaxScaler\n",
    "from sklearn.metrics import accuracy_score,roc_auc_score,precision_score,f1_score,confusion_matrix,recall_score\n",
    "import pandas as pd\n",
    "import numpy as np\n",
    "import matplotlib.pyplot as plt\n",
    "from sklearn.metrics import accuracy_score, precision_score, recall_score, \\\n",
    "                            f1_score, roc_auc_score\n",
    "from sklearn.metrics import confusion_matrix, classification_report, \\\n",
    "                            ConfusionMatrixDisplay, RocCurveDisplay\n",
    "import re"
   ]
  },
  {
   "cell_type": "markdown",
   "metadata": {},
   "source": [
    "## Loading & Manipulating Data"
   ]
  },
  {
   "cell_type": "code",
   "execution_count": 3,
   "metadata": {},
   "outputs": [
    {
     "data": {
      "text/html": [
       "<div>\n",
       "<style scoped>\n",
       "    .dataframe tbody tr th:only-of-type {\n",
       "        vertical-align: middle;\n",
       "    }\n",
       "\n",
       "    .dataframe tbody tr th {\n",
       "        vertical-align: top;\n",
       "    }\n",
       "\n",
       "    .dataframe thead th {\n",
       "        text-align: right;\n",
       "    }\n",
       "</style>\n",
       "<table border=\"1\" class=\"dataframe\">\n",
       "  <thead>\n",
       "    <tr style=\"text-align: right;\">\n",
       "      <th></th>\n",
       "      <th>overall_rating</th>\n",
       "      <th>average_rating</th>\n",
       "      <th>average_rating_category</th>\n",
       "      <th>is_travellors_choice</th>\n",
       "      <th>is_michellin</th>\n",
       "      <th>is_in_mall</th>\n",
       "      <th>walking_distance</th>\n",
       "      <th>region_bedok</th>\n",
       "      <th>region_bishan_toa_payoh</th>\n",
       "      <th>region_bugis_city_hall</th>\n",
       "      <th>...</th>\n",
       "      <th>operates_on_sat_or_sun</th>\n",
       "      <th>average_sentiment_score</th>\n",
       "      <th>img_uploaded_per_review</th>\n",
       "      <th>proportion_of_positive_sentiment</th>\n",
       "      <th>nearest_train_line_color_blue</th>\n",
       "      <th>nearest_train_line_color_green</th>\n",
       "      <th>nearest_train_line_color_others</th>\n",
       "      <th>nearest_train_line_color_purple</th>\n",
       "      <th>nearest_train_line_color_red</th>\n",
       "      <th>nearest_train_line_color_yellow</th>\n",
       "    </tr>\n",
       "  </thead>\n",
       "  <tbody>\n",
       "    <tr>\n",
       "      <th>0</th>\n",
       "      <td>4.0</td>\n",
       "      <td>3.8</td>\n",
       "      <td>0</td>\n",
       "      <td>0</td>\n",
       "      <td>0</td>\n",
       "      <td>0.0</td>\n",
       "      <td>744.5</td>\n",
       "      <td>0.0</td>\n",
       "      <td>0.0</td>\n",
       "      <td>0.0</td>\n",
       "      <td>...</td>\n",
       "      <td>1</td>\n",
       "      <td>0.276577</td>\n",
       "      <td>0.071429</td>\n",
       "      <td>0.857143</td>\n",
       "      <td>1.0</td>\n",
       "      <td>0.0</td>\n",
       "      <td>0.0</td>\n",
       "      <td>0.0</td>\n",
       "      <td>0.0</td>\n",
       "      <td>0.0</td>\n",
       "    </tr>\n",
       "    <tr>\n",
       "      <th>1</th>\n",
       "      <td>5.0</td>\n",
       "      <td>4.8</td>\n",
       "      <td>1</td>\n",
       "      <td>1</td>\n",
       "      <td>0</td>\n",
       "      <td>0.0</td>\n",
       "      <td>373.3</td>\n",
       "      <td>0.0</td>\n",
       "      <td>0.0</td>\n",
       "      <td>1.0</td>\n",
       "      <td>...</td>\n",
       "      <td>1</td>\n",
       "      <td>0.405635</td>\n",
       "      <td>0.292683</td>\n",
       "      <td>0.982927</td>\n",
       "      <td>0.0</td>\n",
       "      <td>0.0</td>\n",
       "      <td>0.0</td>\n",
       "      <td>0.0</td>\n",
       "      <td>0.0</td>\n",
       "      <td>1.0</td>\n",
       "    </tr>\n",
       "    <tr>\n",
       "      <th>2</th>\n",
       "      <td>4.5</td>\n",
       "      <td>4.7</td>\n",
       "      <td>1</td>\n",
       "      <td>1</td>\n",
       "      <td>0</td>\n",
       "      <td>0.0</td>\n",
       "      <td>227.9</td>\n",
       "      <td>0.0</td>\n",
       "      <td>0.0</td>\n",
       "      <td>0.0</td>\n",
       "      <td>...</td>\n",
       "      <td>1</td>\n",
       "      <td>0.424801</td>\n",
       "      <td>0.517665</td>\n",
       "      <td>0.971582</td>\n",
       "      <td>0.0</td>\n",
       "      <td>1.0</td>\n",
       "      <td>0.0</td>\n",
       "      <td>0.0</td>\n",
       "      <td>0.0</td>\n",
       "      <td>0.0</td>\n",
       "    </tr>\n",
       "    <tr>\n",
       "      <th>3</th>\n",
       "      <td>5.0</td>\n",
       "      <td>4.9</td>\n",
       "      <td>1</td>\n",
       "      <td>0</td>\n",
       "      <td>0</td>\n",
       "      <td>1.0</td>\n",
       "      <td>318.7</td>\n",
       "      <td>0.0</td>\n",
       "      <td>0.0</td>\n",
       "      <td>0.0</td>\n",
       "      <td>...</td>\n",
       "      <td>1</td>\n",
       "      <td>0.499230</td>\n",
       "      <td>0.909465</td>\n",
       "      <td>0.987654</td>\n",
       "      <td>0.0</td>\n",
       "      <td>0.0</td>\n",
       "      <td>0.0</td>\n",
       "      <td>0.0</td>\n",
       "      <td>0.0</td>\n",
       "      <td>1.0</td>\n",
       "    </tr>\n",
       "    <tr>\n",
       "      <th>4</th>\n",
       "      <td>5.0</td>\n",
       "      <td>4.8</td>\n",
       "      <td>1</td>\n",
       "      <td>1</td>\n",
       "      <td>0</td>\n",
       "      <td>0.0</td>\n",
       "      <td>1399.9</td>\n",
       "      <td>0.0</td>\n",
       "      <td>0.0</td>\n",
       "      <td>0.0</td>\n",
       "      <td>...</td>\n",
       "      <td>1</td>\n",
       "      <td>0.487331</td>\n",
       "      <td>0.605475</td>\n",
       "      <td>0.977456</td>\n",
       "      <td>0.0</td>\n",
       "      <td>0.0</td>\n",
       "      <td>0.0</td>\n",
       "      <td>1.0</td>\n",
       "      <td>0.0</td>\n",
       "      <td>0.0</td>\n",
       "    </tr>\n",
       "  </tbody>\n",
       "</table>\n",
       "<p>5 rows × 111 columns</p>\n",
       "</div>"
      ],
      "text/plain": [
       "   overall_rating  average_rating  average_rating_category  \\\n",
       "0             4.0             3.8                        0   \n",
       "1             5.0             4.8                        1   \n",
       "2             4.5             4.7                        1   \n",
       "3             5.0             4.9                        1   \n",
       "4             5.0             4.8                        1   \n",
       "\n",
       "   is_travellors_choice  is_michellin  is_in_mall  walking_distance  \\\n",
       "0                     0             0         0.0             744.5   \n",
       "1                     1             0         0.0             373.3   \n",
       "2                     1             0         0.0             227.9   \n",
       "3                     0             0         1.0             318.7   \n",
       "4                     1             0         0.0            1399.9   \n",
       "\n",
       "   region_bedok  region_bishan_toa_payoh  region_bugis_city_hall  ...  \\\n",
       "0           0.0                      0.0                     0.0  ...   \n",
       "1           0.0                      0.0                     1.0  ...   \n",
       "2           0.0                      0.0                     0.0  ...   \n",
       "3           0.0                      0.0                     0.0  ...   \n",
       "4           0.0                      0.0                     0.0  ...   \n",
       "\n",
       "   operates_on_sat_or_sun  average_sentiment_score  img_uploaded_per_review  \\\n",
       "0                       1                 0.276577                 0.071429   \n",
       "1                       1                 0.405635                 0.292683   \n",
       "2                       1                 0.424801                 0.517665   \n",
       "3                       1                 0.499230                 0.909465   \n",
       "4                       1                 0.487331                 0.605475   \n",
       "\n",
       "   proportion_of_positive_sentiment  nearest_train_line_color_blue  \\\n",
       "0                          0.857143                            1.0   \n",
       "1                          0.982927                            0.0   \n",
       "2                          0.971582                            0.0   \n",
       "3                          0.987654                            0.0   \n",
       "4                          0.977456                            0.0   \n",
       "\n",
       "   nearest_train_line_color_green  nearest_train_line_color_others  \\\n",
       "0                             0.0                              0.0   \n",
       "1                             0.0                              0.0   \n",
       "2                             1.0                              0.0   \n",
       "3                             0.0                              0.0   \n",
       "4                             0.0                              0.0   \n",
       "\n",
       "   nearest_train_line_color_purple  nearest_train_line_color_red  \\\n",
       "0                              0.0                           0.0   \n",
       "1                              0.0                           0.0   \n",
       "2                              0.0                           0.0   \n",
       "3                              0.0                           0.0   \n",
       "4                              1.0                           0.0   \n",
       "\n",
       "   nearest_train_line_color_yellow  \n",
       "0                              0.0  \n",
       "1                              1.0  \n",
       "2                              0.0  \n",
       "3                              1.0  \n",
       "4                              0.0  \n",
       "\n",
       "[5 rows x 111 columns]"
      ]
     },
     "execution_count": 3,
     "metadata": {},
     "output_type": "execute_result"
    }
   ],
   "source": [
    "## Loading in data\n",
    "data = pd.read_csv(\"data/final_restaurant_rating_data.csv\")\n",
    "data.head()"
   ]
  },
  {
   "cell_type": "code",
   "execution_count": 4,
   "metadata": {},
   "outputs": [],
   "source": [
    "## Datapoint with no sentiment score\n",
    "data = data.drop([4765],axis=0) ##7191"
   ]
  },
  {
   "cell_type": "code",
   "execution_count": 5,
   "metadata": {},
   "outputs": [
    {
     "data": {
      "text/plain": [
       "(7191, 111)"
      ]
     },
     "execution_count": 5,
     "metadata": {},
     "output_type": "execute_result"
    }
   ],
   "source": [
    "data.shape"
   ]
  },
  {
   "cell_type": "code",
   "execution_count": 6,
   "metadata": {},
   "outputs": [
    {
     "name": "stdout",
     "output_type": "stream",
     "text": [
      "average_rating\n"
     ]
    }
   ],
   "source": [
    "## Finding columns with nulls\n",
    "for col in data.columns:\n",
    "    if (data[col].isnull().values.any()):\n",
    "        print(col)"
   ]
  },
  {
   "cell_type": "code",
   "execution_count": 7,
   "metadata": {},
   "outputs": [],
   "source": [
    "X = data.drop(columns=[\"overall_rating\",\"average_rating\",\"average_rating_category\"])\n",
    "y = data[\"average_rating_category\"]"
   ]
  },
  {
   "cell_type": "code",
   "execution_count": 8,
   "metadata": {},
   "outputs": [],
   "source": [
    "X['average_sentiment_score'] = (X['average_sentiment_score'] + 1)/2"
   ]
  },
  {
   "cell_type": "code",
   "execution_count": 9,
   "metadata": {},
   "outputs": [],
   "source": [
    "X, X_holdout, y, y_holdout = train_test_split(X, y, test_size=0.15, random_state=2022, stratify=y)"
   ]
  },
  {
   "cell_type": "code",
   "execution_count": 10,
   "metadata": {},
   "outputs": [
    {
     "data": {
      "text/html": [
       "<div>\n",
       "<style scoped>\n",
       "    .dataframe tbody tr th:only-of-type {\n",
       "        vertical-align: middle;\n",
       "    }\n",
       "\n",
       "    .dataframe tbody tr th {\n",
       "        vertical-align: top;\n",
       "    }\n",
       "\n",
       "    .dataframe thead th {\n",
       "        text-align: right;\n",
       "    }\n",
       "</style>\n",
       "<table border=\"1\" class=\"dataframe\">\n",
       "  <thead>\n",
       "    <tr style=\"text-align: right;\">\n",
       "      <th></th>\n",
       "      <th>is_travellors_choice</th>\n",
       "      <th>is_michellin</th>\n",
       "      <th>is_in_mall</th>\n",
       "      <th>walking_distance</th>\n",
       "      <th>region_bedok</th>\n",
       "      <th>region_bishan_toa_payoh</th>\n",
       "      <th>region_bugis_city_hall</th>\n",
       "      <th>region_bukit_merah_southern_islands</th>\n",
       "      <th>region_bukit_timah</th>\n",
       "      <th>region_changi</th>\n",
       "      <th>...</th>\n",
       "      <th>operates_on_sat_or_sun</th>\n",
       "      <th>average_sentiment_score</th>\n",
       "      <th>img_uploaded_per_review</th>\n",
       "      <th>proportion_of_positive_sentiment</th>\n",
       "      <th>nearest_train_line_color_blue</th>\n",
       "      <th>nearest_train_line_color_green</th>\n",
       "      <th>nearest_train_line_color_others</th>\n",
       "      <th>nearest_train_line_color_purple</th>\n",
       "      <th>nearest_train_line_color_red</th>\n",
       "      <th>nearest_train_line_color_yellow</th>\n",
       "    </tr>\n",
       "  </thead>\n",
       "  <tbody>\n",
       "    <tr>\n",
       "      <th>827</th>\n",
       "      <td>0</td>\n",
       "      <td>0</td>\n",
       "      <td>1.0</td>\n",
       "      <td>858.4</td>\n",
       "      <td>0.0</td>\n",
       "      <td>0.0</td>\n",
       "      <td>0.0</td>\n",
       "      <td>0.0</td>\n",
       "      <td>0.0</td>\n",
       "      <td>0.0</td>\n",
       "      <td>...</td>\n",
       "      <td>1</td>\n",
       "      <td>0.671413</td>\n",
       "      <td>0.359375</td>\n",
       "      <td>0.906250</td>\n",
       "      <td>0.0</td>\n",
       "      <td>0.0</td>\n",
       "      <td>1.0</td>\n",
       "      <td>0.0</td>\n",
       "      <td>0.0</td>\n",
       "      <td>0.0</td>\n",
       "    </tr>\n",
       "    <tr>\n",
       "      <th>1426</th>\n",
       "      <td>0</td>\n",
       "      <td>0</td>\n",
       "      <td>0.0</td>\n",
       "      <td>278.1</td>\n",
       "      <td>0.0</td>\n",
       "      <td>0.0</td>\n",
       "      <td>0.0</td>\n",
       "      <td>0.0</td>\n",
       "      <td>0.0</td>\n",
       "      <td>0.0</td>\n",
       "      <td>...</td>\n",
       "      <td>0</td>\n",
       "      <td>0.671044</td>\n",
       "      <td>0.222222</td>\n",
       "      <td>0.888889</td>\n",
       "      <td>1.0</td>\n",
       "      <td>0.0</td>\n",
       "      <td>0.0</td>\n",
       "      <td>0.0</td>\n",
       "      <td>0.0</td>\n",
       "      <td>0.0</td>\n",
       "    </tr>\n",
       "    <tr>\n",
       "      <th>2134</th>\n",
       "      <td>0</td>\n",
       "      <td>0</td>\n",
       "      <td>0.0</td>\n",
       "      <td>360.3</td>\n",
       "      <td>0.0</td>\n",
       "      <td>0.0</td>\n",
       "      <td>1.0</td>\n",
       "      <td>0.0</td>\n",
       "      <td>0.0</td>\n",
       "      <td>0.0</td>\n",
       "      <td>...</td>\n",
       "      <td>1</td>\n",
       "      <td>0.621857</td>\n",
       "      <td>0.239130</td>\n",
       "      <td>0.782609</td>\n",
       "      <td>0.0</td>\n",
       "      <td>0.0</td>\n",
       "      <td>0.0</td>\n",
       "      <td>0.0</td>\n",
       "      <td>0.0</td>\n",
       "      <td>1.0</td>\n",
       "    </tr>\n",
       "    <tr>\n",
       "      <th>4922</th>\n",
       "      <td>0</td>\n",
       "      <td>0</td>\n",
       "      <td>0.0</td>\n",
       "      <td>684.7</td>\n",
       "      <td>0.0</td>\n",
       "      <td>0.0</td>\n",
       "      <td>0.0</td>\n",
       "      <td>0.0</td>\n",
       "      <td>0.0</td>\n",
       "      <td>0.0</td>\n",
       "      <td>...</td>\n",
       "      <td>1</td>\n",
       "      <td>0.611436</td>\n",
       "      <td>1.000000</td>\n",
       "      <td>0.750000</td>\n",
       "      <td>0.0</td>\n",
       "      <td>0.0</td>\n",
       "      <td>0.0</td>\n",
       "      <td>0.0</td>\n",
       "      <td>0.0</td>\n",
       "      <td>1.0</td>\n",
       "    </tr>\n",
       "    <tr>\n",
       "      <th>4676</th>\n",
       "      <td>0</td>\n",
       "      <td>0</td>\n",
       "      <td>0.0</td>\n",
       "      <td>3096.4</td>\n",
       "      <td>0.0</td>\n",
       "      <td>0.0</td>\n",
       "      <td>0.0</td>\n",
       "      <td>0.0</td>\n",
       "      <td>0.0</td>\n",
       "      <td>0.0</td>\n",
       "      <td>...</td>\n",
       "      <td>0</td>\n",
       "      <td>0.597541</td>\n",
       "      <td>0.888889</td>\n",
       "      <td>0.833333</td>\n",
       "      <td>0.0</td>\n",
       "      <td>0.0</td>\n",
       "      <td>0.0</td>\n",
       "      <td>0.0</td>\n",
       "      <td>1.0</td>\n",
       "      <td>0.0</td>\n",
       "    </tr>\n",
       "  </tbody>\n",
       "</table>\n",
       "<p>5 rows × 108 columns</p>\n",
       "</div>"
      ],
      "text/plain": [
       "      is_travellors_choice  is_michellin  is_in_mall  walking_distance  \\\n",
       "827                      0             0         1.0             858.4   \n",
       "1426                     0             0         0.0             278.1   \n",
       "2134                     0             0         0.0             360.3   \n",
       "4922                     0             0         0.0             684.7   \n",
       "4676                     0             0         0.0            3096.4   \n",
       "\n",
       "      region_bedok  region_bishan_toa_payoh  region_bugis_city_hall  \\\n",
       "827            0.0                      0.0                     0.0   \n",
       "1426           0.0                      0.0                     0.0   \n",
       "2134           0.0                      0.0                     1.0   \n",
       "4922           0.0                      0.0                     0.0   \n",
       "4676           0.0                      0.0                     0.0   \n",
       "\n",
       "      region_bukit_merah_southern_islands  region_bukit_timah  region_changi  \\\n",
       "827                                   0.0                 0.0            0.0   \n",
       "1426                                  0.0                 0.0            0.0   \n",
       "2134                                  0.0                 0.0            0.0   \n",
       "4922                                  0.0                 0.0            0.0   \n",
       "4676                                  0.0                 0.0            0.0   \n",
       "\n",
       "      ...  operates_on_sat_or_sun  average_sentiment_score  \\\n",
       "827   ...                       1                 0.671413   \n",
       "1426  ...                       0                 0.671044   \n",
       "2134  ...                       1                 0.621857   \n",
       "4922  ...                       1                 0.611436   \n",
       "4676  ...                       0                 0.597541   \n",
       "\n",
       "      img_uploaded_per_review  proportion_of_positive_sentiment  \\\n",
       "827                  0.359375                          0.906250   \n",
       "1426                 0.222222                          0.888889   \n",
       "2134                 0.239130                          0.782609   \n",
       "4922                 1.000000                          0.750000   \n",
       "4676                 0.888889                          0.833333   \n",
       "\n",
       "      nearest_train_line_color_blue  nearest_train_line_color_green  \\\n",
       "827                             0.0                             0.0   \n",
       "1426                            1.0                             0.0   \n",
       "2134                            0.0                             0.0   \n",
       "4922                            0.0                             0.0   \n",
       "4676                            0.0                             0.0   \n",
       "\n",
       "      nearest_train_line_color_others  nearest_train_line_color_purple  \\\n",
       "827                               1.0                              0.0   \n",
       "1426                              0.0                              0.0   \n",
       "2134                              0.0                              0.0   \n",
       "4922                              0.0                              0.0   \n",
       "4676                              0.0                              0.0   \n",
       "\n",
       "      nearest_train_line_color_red  nearest_train_line_color_yellow  \n",
       "827                            0.0                              0.0  \n",
       "1426                           0.0                              0.0  \n",
       "2134                           0.0                              1.0  \n",
       "4922                           0.0                              1.0  \n",
       "4676                           1.0                              0.0  \n",
       "\n",
       "[5 rows x 108 columns]"
      ]
     },
     "execution_count": 10,
     "metadata": {},
     "output_type": "execute_result"
    }
   ],
   "source": [
    "X.head()"
   ]
  },
  {
   "cell_type": "markdown",
   "metadata": {},
   "source": [
    "## Helper Functions"
   ]
  },
  {
   "cell_type": "code",
   "execution_count": 11,
   "metadata": {},
   "outputs": [],
   "source": [
    "def evaluate_results(y_test, y_pred, y_proba, plot_confusion_matrix=True, plot_roc=False, title=\"Classification Results\"):\n",
    "    '''\n",
    "    This is a helper function that we will call to print basic results statistics.\n",
    "    '''\n",
    "    # Create confusion matrix of validation data\n",
    "    cm = confusion_matrix(y_test, y_pred)\n",
    "    TN, FP, FN, TP = cm.ravel()\n",
    "    print(\"Confusion Matrix:\")\n",
    "    if plot_confusion_matrix:\n",
    "        disp = ConfusionMatrixDisplay(cm, display_labels=[\"Poor [0]\", \"Excellent [1]\"])\n",
    "        disp.plot(cmap=plt.cm.OrRd)\n",
    "        plt.title(title,pad=5)\n",
    "        plt.show()\n",
    "    else:\n",
    "        print(cm)\n",
    "    print(\"TN: %s, FP: %s, FN: %s, TP: %s\" %(TN, FP, FN, TP))\n",
    "\n",
    "    # Evaluation Statistics\n",
    "    # Performance of decision tree model on validation data\n",
    "    print(\"Accuracy: {:.5f}\".format(accuracy_score(y_test, y_pred)))\n",
    "    print(\"Recall: {:.5f}\".format(recall_score(y_test, y_pred)))\n",
    "    print(\"Precision: {:.5f}\".format(precision_score(y_test, y_pred)))\n",
    "    print(\"F1: {:.5f}\".format(f1_score(y_test, y_pred)))\n",
    "    print(\"ROC_AUC: {:.5f}\".format(roc_auc_score(y_test, y_proba)))      # pass in probability\n",
    "    \n",
    "    if plot_roc:\n",
    "        disp = RocCurveDisplay.from_predictions(y_test,y_proba)\n",
    "        plt.show()\n",
    "def stratified_k_fold_model_fit(X, Y, model, splits=5, shuffle=False, verbose=True, plot_confusion_matrix=True, plot_roc=True, hide_fold_result=False, title=None):\n",
    "    X = np.array(X)\n",
    "    Y = np.array(Y)\n",
    "\n",
    "    if shuffle:\n",
    "        kf = StratifiedKFold(n_splits=splits, shuffle=shuffle, random_state=2022)\n",
    "        kf.get_n_splits(X, Y)\n",
    "    else:\n",
    "        kf = StratifiedKFold(n_splits=splits, shuffle=shuffle)\n",
    "        kf.get_n_splits(X, Y)\n",
    "    \n",
    "    # ----- Test ----- #\n",
    "    auc_scores = [] # AUC scores\n",
    "    all_y_preds = [] # predictions\n",
    "    all_y_proba = [] # probabilities\n",
    "    all_y_true = [] # true labels\n",
    "\n",
    "    # ----- Train ----- #\n",
    "    train_auc_scores = [] # AUC scores\n",
    "    train_y_preds = [] # predictions\n",
    "    train_y_proba = [] # probabilities\n",
    "    train_true = [] # true labels\n",
    "\n",
    "    for train, test in kf.split(X, Y):\n",
    "        # get the current train and test sets (for this particular fold)\n",
    "        X_train, Y_train = X[train], Y[train]\n",
    "        X_test, Y_test = X[test], Y[test]\n",
    "        \n",
    "        model_fit = model.fit(X_train, Y_train.ravel())\n",
    "\n",
    "        # predict on training set\n",
    "        y_pred_train = model_fit.predict(X_train)\n",
    "        y_proba_train = model_fit.predict_proba(X_train)\n",
    "        train_y_preds.extend(y_pred_train)\n",
    "        train_y_proba.extend(y_proba_train[:, 1])\n",
    "        train_true.extend(Y_train)\n",
    "        \n",
    "        # predict on validation set\n",
    "        # y_pred = model_fit.predict(X_test)\n",
    "        y_proba = model_fit.predict_proba(X_test)\n",
    "        y_pred = [1 if y_prob >= 0.5 else 0 for y_prob in y_proba[:, 1]]\n",
    "\n",
    "        if verbose and not hide_fold_result:\n",
    "            print('-'*20 + ' Fold Result' + '-'*20)\n",
    "            evaluate_results(Y_test, y_pred, y_proba[:, 1], plot_confusion_matrix=False, plot_roc=False, title=title)\n",
    "\n",
    "        all_y_preds.extend(y_pred)\n",
    "        all_y_proba.extend(y_proba[:, 1])\n",
    "        all_y_true.extend(Y_test)\n",
    "    \n",
    "    # Evaluate results\n",
    "    if verbose:\n",
    "        print('-'*20 + ' Overall Train Result' + '-'*20)\n",
    "        evaluate_results(train_true, train_y_preds, train_y_proba, plot_confusion_matrix=plot_confusion_matrix, plot_roc=plot_roc, title=title)\n",
    "        print('-'*20 + ' Overall Test Result' + '-'*20)\n",
    "        evaluate_results(all_y_true, all_y_preds, all_y_proba, plot_confusion_matrix=plot_confusion_matrix, plot_roc=plot_roc, title=title)\n",
    "        \n",
    "    return roc_auc_score(train_true, train_y_proba), roc_auc_score(all_y_true, all_y_proba)"
   ]
  },
  {
   "cell_type": "markdown",
   "metadata": {},
   "source": [
    "## Model 0"
   ]
  },
  {
   "cell_type": "code",
   "execution_count": 12,
   "metadata": {},
   "outputs": [
    {
     "name": "stdout",
     "output_type": "stream",
     "text": [
      "-------------------- Overall Train Result--------------------\n",
      "Confusion Matrix:\n"
     ]
    },
    {
     "data": {
      "image/png": "[encoded data removed]",
      "text/plain": [
       "<Figure size 432x288 with 2 Axes>"
      ]
     },
     "metadata": {
      "needs_background": "light"
     },
     "output_type": "display_data"
    },
    {
     "name": "stdout",
     "output_type": "stream",
     "text": [
      "TN: 10423, FP: 2437, FN: 2577, TP: 9011\n",
      "Accuracy: 0.79491\n",
      "Recall: 0.77761\n",
      "Precision: 0.78712\n",
      "F1: 0.78234\n",
      "ROC_AUC: 0.86803\n"
     ]
    },
    {
     "data": {
      "image/png": "[encoded data removed]",
      "text/plain": [
       "<Figure size 432x288 with 1 Axes>"
      ]
     },
     "metadata": {
      "needs_background": "light"
     },
     "output_type": "display_data"
    },
    {
     "name": "stdout",
     "output_type": "stream",
     "text": [
      "-------------------- Overall Test Result--------------------\n",
      "Confusion Matrix:\n"
     ]
    },
    {
     "data": {
      "image/png": "[encoded data removed]",
      "text/plain": [
       "<Figure size 432x288 with 2 Axes>"
      ]
     },
     "metadata": {
      "needs_background": "light"
     },
     "output_type": "display_data"
    },
    {
     "name": "stdout",
     "output_type": "stream",
     "text": [
      "TN: 2562, FP: 653, FN: 693, TP: 2204\n",
      "Accuracy: 0.77978\n",
      "Recall: 0.76079\n",
      "Precision: 0.77144\n",
      "F1: 0.76608\n",
      "ROC_AUC: 0.85581\n"
     ]
    },
    {
     "data": {
      "image/png": "[encoded data removed]",
      "text/plain": [
       "<Figure size 432x288 with 1 Axes>"
      ]
     },
     "metadata": {
      "needs_background": "light"
     },
     "output_type": "display_data"
    }
   ],
   "source": [
    "lr_model = LogisticRegression(penalty=\"l1\" ,solver='liblinear',max_iter=2000)\n",
    "\n",
    "roc_auc_train_model0, roc_auc_test_mode0 = stratified_k_fold_model_fit(X,y, lr_model, 5, shuffle=True, hide_fold_result=True)"
   ]
  },
  {
   "cell_type": "markdown",
   "metadata": {},
   "source": [
    "## Model 1"
   ]
  },
  {
   "cell_type": "code",
   "execution_count": 13,
   "metadata": {},
   "outputs": [
    {
     "data": {
      "text/plain": [
       "array([2.48714111e-49, 2.00037733e-10, 6.33241489e-28, 0.00000000e+00,\n",
       "       2.82419950e-01, 3.86699383e-01, 8.57228232e-01, 8.87877128e-01,\n",
       "       6.54739440e-01, 1.62057852e-01, 5.60451463e-03, 1.29671806e-01,\n",
       "       8.71915925e-02, 2.27920920e-01, 1.61755789e-02, 2.39617017e-01,\n",
       "       3.31819032e-04, 2.22642805e-06, 4.61166469e-01, 1.82412735e-16,\n",
       "       3.10707138e-05, 3.67019454e-02, 6.02168797e-04, 5.09700604e-01,\n",
       "       7.27298529e-01, 1.64841679e-05, 5.36581476e-01, 5.94161194e-02,\n",
       "       1.25022343e-01, 1.24705434e-02, 5.96894307e-02, 1.08756691e-14,\n",
       "       1.98491922e-01, 7.23922745e-01, 1.62867561e-03, 1.51951757e-02,\n",
       "       5.79043220e-01, 8.37239273e-01, 4.04681329e-03, 2.38613329e-04,\n",
       "       6.28321276e-04, 1.52386007e-12, 6.33017462e-01, 8.50145366e-01,\n",
       "       1.36376572e-04, 1.87004723e-01, 5.90233272e-01, 1.32119116e-02,\n",
       "       9.09708960e-01, 2.09639619e-01, 3.66475567e-01, 4.60737585e-01,\n",
       "       4.87122048e-02, 2.79515293e-02, 5.51178330e-01, 6.02839256e-01,\n",
       "       2.18057559e-18, 3.24360103e-01, 1.00101800e-04, 7.49480561e-08,\n",
       "       7.99673196e-01, 7.26218768e-01, 4.71227476e-02, 2.99249450e-01,\n",
       "       3.85434072e-04, 2.42833190e-01, 3.66197910e-03, 4.65714664e-01,\n",
       "       2.22506466e-01, 4.94061627e-01, 3.46308381e-03, 1.52965727e-01,\n",
       "       8.59642245e-01, 4.96112632e-01, 1.66895521e-06, 7.18077314e-01,\n",
       "       2.89108187e-04, 2.23444241e-01, 1.10967085e-09, 2.85693541e-06,\n",
       "       7.66124778e-17, 8.69691644e-02, 5.00890884e-01, 4.80080837e-01,\n",
       "       9.08785934e-01, 7.74420267e-02, 4.74498697e-22, 2.38355924e-10,\n",
       "       6.17363432e-24, 1.64894595e-19, 4.02354587e-24, 3.21864751e-34,\n",
       "       8.04382928e-02, 3.19205984e-05, 8.97378260e-27, 5.47128764e-04,\n",
       "       1.28057915e-06, 5.24272957e-02, 4.57526499e-07, 3.84906214e-03,\n",
       "       8.73886723e-08, 1.23226056e-12, 3.41736777e-09, 3.07244777e-01,\n",
       "       2.29586146e-02, 8.27441732e-01, 1.32911821e-03, 7.50660579e-03])"
      ]
     },
     "execution_count": 13,
     "metadata": {},
     "output_type": "execute_result"
    }
   ],
   "source": [
    "## P-val > 0.05, can use for model\n",
    "from sklearn.feature_selection import chi2\n",
    "scores, pvalues = chi2(X, y)\n",
    "pvalues"
   ]
  },
  {
   "cell_type": "code",
   "execution_count": 14,
   "metadata": {},
   "outputs": [],
   "source": [
    "pvals_df = pd.DataFrame(pvalues,index=X.columns).rename(columns={0:'Pval'})\n",
    "pvals_df = pvals_df[pvals_df.Pval > 0.05] ## Variables that are dependent."
   ]
  },
  {
   "cell_type": "code",
   "execution_count": 15,
   "metadata": {},
   "outputs": [],
   "source": [
    "X_m1_train = X[pvals_df.index]"
   ]
  },
  {
   "cell_type": "code",
   "execution_count": null,
   "metadata": {},
   "outputs": [],
   "source": []
  },
  {
   "cell_type": "code",
   "execution_count": 16,
   "metadata": {},
   "outputs": [
    {
     "name": "stdout",
     "output_type": "stream",
     "text": [
      "-------------------- Overall Train Result--------------------\n",
      "Confusion Matrix:\n"
     ]
    },
    {
     "data": {
      "image/png": "[encoded data removed]",
      "text/plain": [
       "<Figure size 432x288 with 2 Axes>"
      ]
     },
     "metadata": {
      "needs_background": "light"
     },
     "output_type": "display_data"
    },
    {
     "name": "stdout",
     "output_type": "stream",
     "text": [
      "TN: 9136, FP: 3724, FN: 7003, TP: 4585\n",
      "Accuracy: 0.56123\n",
      "Recall: 0.39567\n",
      "Precision: 0.55181\n",
      "F1: 0.46087\n",
      "ROC_AUC: 0.58398\n"
     ]
    },
    {
     "data": {
      "image/png": "[encoded data removed]",
      "text/plain": [
       "<Figure size 432x288 with 1 Axes>"
      ]
     },
     "metadata": {
      "needs_background": "light"
     },
     "output_type": "display_data"
    },
    {
     "name": "stdout",
     "output_type": "stream",
     "text": [
      "-------------------- Overall Test Result--------------------\n",
      "Confusion Matrix:\n"
     ]
    },
    {
     "data": {
      "image/png": "[encoded data removed]",
      "text/plain": [
       "<Figure size 432x288 with 2 Axes>"
      ]
     },
     "metadata": {
      "needs_background": "light"
     },
     "output_type": "display_data"
    },
    {
     "name": "stdout",
     "output_type": "stream",
     "text": [
      "TN: 2203, FP: 1012, FN: 1850, TP: 1047\n",
      "Accuracy: 0.53174\n",
      "Recall: 0.36141\n",
      "Precision: 0.50850\n",
      "F1: 0.42252\n",
      "ROC_AUC: 0.54329\n"
     ]
    },
    {
     "data": {
      "image/png": "[encoded data removed]",
      "text/plain": [
       "<Figure size 432x288 with 1 Axes>"
      ]
     },
     "metadata": {
      "needs_background": "light"
     },
     "output_type": "display_data"
    }
   ],
   "source": [
    "lr_model = LogisticRegression(penalty=\"l1\" ,solver='liblinear',max_iter=2000)\n",
    "\n",
    "roc_auc_train_model1, roc_auc_test_model1 = stratified_k_fold_model_fit(X_m1_train,y, lr_model, 5, shuffle=True, hide_fold_result=True)"
   ]
  },
  {
   "cell_type": "markdown",
   "metadata": {},
   "source": [
    "## Model 2"
   ]
  },
  {
   "cell_type": "code",
   "execution_count": 17,
   "metadata": {},
   "outputs": [
    {
     "data": {
      "text/plain": [
       "LogisticRegression(C=1, max_iter=2000, penalty='l1', solver='liblinear')"
      ]
     },
     "execution_count": 17,
     "metadata": {},
     "output_type": "execute_result"
    }
   ],
   "source": [
    "param = {'C': [0.01,0.1,1,10,100,1000], 'penalty': ['l1']}\n",
    "\n",
    "lr_model = LogisticRegression( solver='liblinear',max_iter=2000)\n",
    "gs_model = GridSearchCV(estimator=lr_model, param_grid=param)\n",
    "gs_model.fit(X,y)\n",
    "\n",
    "# Train a LR model with best parameters\n",
    "model = LogisticRegression(**gs_model.best_params_,max_iter=2000,solver='liblinear')\n",
    "model.fit(X,y)"
   ]
  },
  {
   "cell_type": "code",
   "execution_count": 18,
   "metadata": {},
   "outputs": [],
   "source": [
    "coef = model.coef_[0]\n",
    "imp_features = pd.Series(X.columns)[list(coef!=0)]\n",
    "X_m2_train = X[imp_features]"
   ]
  },
  {
   "cell_type": "code",
   "execution_count": 19,
   "metadata": {},
   "outputs": [
    {
     "name": "stdout",
     "output_type": "stream",
     "text": [
      "-------------------- Overall Train Result--------------------\n",
      "Confusion Matrix:\n"
     ]
    },
    {
     "data": {
      "image/png": "[encoded data removed]",
      "text/plain": [
       "<Figure size 432x288 with 2 Axes>"
      ]
     },
     "metadata": {
      "needs_background": "light"
     },
     "output_type": "display_data"
    },
    {
     "name": "stdout",
     "output_type": "stream",
     "text": [
      "TN: 10423, FP: 2437, FN: 2578, TP: 9010\n",
      "Accuracy: 0.79487\n",
      "Recall: 0.77753\n",
      "Precision: 0.78711\n",
      "F1: 0.78229\n",
      "ROC_AUC: 0.86790\n"
     ]
    },
    {
     "data": {
      "image/png": "[encoded data removed]",
      "text/plain": [
       "<Figure size 432x288 with 1 Axes>"
      ]
     },
     "metadata": {
      "needs_background": "light"
     },
     "output_type": "display_data"
    },
    {
     "name": "stdout",
     "output_type": "stream",
     "text": [
      "-------------------- Overall Test Result--------------------\n",
      "Confusion Matrix:\n"
     ]
    },
    {
     "data": {
      "image/png": "[encoded data removed]",
      "text/plain": [
       "<Figure size 432x288 with 2 Axes>"
      ]
     },
     "metadata": {
      "needs_background": "light"
     },
     "output_type": "display_data"
    },
    {
     "name": "stdout",
     "output_type": "stream",
     "text": [
      "TN: 2566, FP: 649, FN: 685, TP: 2212\n",
      "Accuracy: 0.78174\n",
      "Recall: 0.76355\n",
      "Precision: 0.77316\n",
      "F1: 0.76832\n",
      "ROC_AUC: 0.85694\n"
     ]
    },
    {
     "data": {
      "image/png": "[encoded data removed]",
      "text/plain": [
       "<Figure size 432x288 with 1 Axes>"
      ]
     },
     "metadata": {
      "needs_background": "light"
     },
     "output_type": "display_data"
    }
   ],
   "source": [
    "lr_model =  LogisticRegression(**gs_model.best_params_,max_iter=2000,solver='liblinear')\n",
    "\n",
    "roc_auc_train_model2, roc_auc_test_model2 = stratified_k_fold_model_fit(X_m2_train,y, lr_model, 5, shuffle=True, hide_fold_result=True)"
   ]
  },
  {
   "cell_type": "markdown",
   "metadata": {},
   "source": [
    "## Feature Importance"
   ]
  },
  {
   "cell_type": "code",
   "execution_count": 20,
   "metadata": {},
   "outputs": [],
   "source": [
    "import seaborn as sns\n",
    "\n",
    "sns.set_palette(\"rocket\")\n",
    "pal = sns.color_palette(\"rocket\")\n",
    "hex_colors = pal.as_hex()"
   ]
  },
  {
   "cell_type": "code",
   "execution_count": 21,
   "metadata": {},
   "outputs": [],
   "source": [
    "target_rating_variable = [\n",
    "    # 'overall_rating',\n",
    "    # 'average_rating',\n",
    "    'average_rating_category',\n",
    "]\n",
    "\n",
    "region_ohe = [\n",
    "    'region_bedok',\n",
    "    'region_bishan_toa_payoh',\n",
    "    'region_bugis_city_hall',\n",
    "    'region_bukit_merah_southern_islands',\n",
    "    'region_bukit_timah',\n",
    "    'region_changi',\n",
    "    'region_downtown',\n",
    "    'region_geylang',\n",
    "    'region_kallang',\n",
    "    'region_marina_bay',\n",
    "    'region_marina_centre',\n",
    "    'region_newton_orchard',\n",
    "    'region_north_region',\n",
    "    'region_northeast_region',\n",
    "    'region_novena',\n",
    "    'region_outram',\n",
    "    'region_paya_lebar_tampines_pasir_ris',\n",
    "    'region_queenstown',\n",
    "    'region_rochor',\n",
    "    'region_singapore_river',\n",
    "    'region_tanglin',\n",
    "    'region_west_region',\n",
    "]\n",
    "\n",
    "nearby_attraction_ohe = [\n",
    "    'nearby_attraction_arab_street',\n",
    "    'nearby_attraction_boat_quay',\n",
    "    'nearby_attraction_chinatown',\n",
    "    'nearby_attraction_east_coast_park',\n",
    "    'nearby_attraction_garden',\n",
    "    'nearby_attraction_little_india',\n",
    "    'nearby_attraction_marina_bay',\n",
    "    'nearby_attraction_merlion_park',\n",
    "    'nearby_attraction_museum',\n",
    "    'nearby_attraction_observation',\n",
    "    'nearby_attraction_orchard_road',\n",
    "    'nearby_attraction_wildlife',\n",
    "    'nearby_attraction_nan',\n",
    "]\n",
    "\n",
    "nearby_attraction_feature_cross = [\n",
    "    'nearby_attraction_arab_street_above_median',\n",
    "    'nearby_attraction_boat_quay_above_median',\n",
    "    'nearby_attraction_chinatown_above_median',\n",
    "    'nearby_attraction_east_coast_park_above_median',\n",
    "    'nearby_attraction_garden_above_median',\n",
    "    'nearby_attraction_little_india_above_median',\n",
    "    'nearby_attraction_marina_bay_above_median',\n",
    "    'nearby_attraction_merlion_park_above_median',\n",
    "    'nearby_attraction_museum_above_median',\n",
    "    'nearby_attraction_observation_above_median',\n",
    "    'nearby_attraction_orchard_road_above_median',\n",
    "    'nearby_attraction_wildlife_above_median',\n",
    "]\n",
    "\n",
    "meal_ohe = [\n",
    "    'meal_lunch',\n",
    "    'meal_dinner',\n",
    "    'meal_drinks',\n",
    "    'meal_breakfast',\n",
    "    'meal_brunch',\n",
    "    'meal_after_hours',\n",
    "    'has_meals',\n",
    "]\n",
    "\n",
    "cuisine_ohe = [\n",
    "    'cuisine_arabic',\n",
    "    'cuisine_asian',\n",
    "    'cuisine_chinese',\n",
    "    'cuisine_european',\n",
    "    'cuisine_indian',\n",
    "    'cuisine_international',\n",
    "    'cuisine_italian',\n",
    "    'cuisine_japanese',\n",
    "    'cuisine_south_american',\n",
    "    'cuisine_north_american',\n",
    "    'cuisine_others',\n",
    "    'cuisine_sea',\n",
    "    'has_cuisines',\n",
    "]\n",
    "\n",
    "feature_ohe = [\n",
    "    'feature_delivery',\n",
    "    'feature_reservations',\n",
    "    'feature_outdoor_seating',\n",
    "    'feature_seating',\n",
    "    'feature_highchairs_available',\n",
    "    'feature_digital_payments',\n",
    "    'feature_free_wifi',\n",
    "    'feature_cash_only',\n",
    "    'feature_wheelchair_accessible',\n",
    "    'feature_table_service',\n",
    "    'feature_live_music',\n",
    "    'feature_parking_avail',\n",
    "    'feature_alcohol_avail',\n",
    "    'feature_creditcard_avail',\n",
    "    'has_features',    \n",
    "]\n",
    "\n",
    "diet_ohe = [\n",
    "    'diet_vegetarian_friendly',\n",
    "    'diet_vegan_options',\n",
    "    'diet_gluten_free_options',\n",
    "    'diet_halal',    \n",
    "]\n",
    "\n",
    "train_station_ohe = [\n",
    "    'nearest_train_line_color_blue',\n",
    "    'nearest_train_line_color_green',\n",
    "    'nearest_train_line_color_others',\n",
    "    'nearest_train_line_color_purple',\n",
    "    'nearest_train_line_color_red',\n",
    "    'nearest_train_line_color_yellow',    \n",
    "]\n",
    "\n",
    "price_features=  [\n",
    "    'has_price_category',\n",
    "    'price_category',\n",
    "]\n",
    "\n",
    "other_features = [\n",
    "    'average_sentiment_score',\n",
    "    'img_uploaded_per_review',\n",
    "    'proportion_of_positive_sentiment',\n",
    "    'is_travellors_choice',\n",
    "    'is_michellin',\n",
    "    'is_in_mall',\n",
    "    'walking_distance',\n",
    "    'above_median_dist_from_nearby_attraction'\n",
    "]\n",
    "\n",
    "operating_hours_featueres = [\n",
    "    'total_operating_hours',\n",
    "    'num_of_days_open',\n",
    "    'average_daily_operating_hours',\n",
    "    'operates_on_weekends',\n",
    "    'operates_on_sat_or_sun',\n",
    "    'has_operating_hours'\n",
    "]\n",
    "\n",
    "dct_feature_category = {}\n",
    "\n",
    "for col in region_ohe:\n",
    "    dct_feature_category[col] = \"Region OHE\"\n",
    "\n",
    "for col in nearby_attraction_ohe:\n",
    "    dct_feature_category[col] = \"Nearby Attraction OHE\"\n",
    "\n",
    "for col in nearby_attraction_feature_cross:\n",
    "    dct_feature_category[col] = \"Nearby Attraction Feature Cross\"\n",
    "\n",
    "for col in meal_ohe:\n",
    "    dct_feature_category[col] = \"Meal OHE\"\n",
    "\n",
    "for col in cuisine_ohe:\n",
    "    dct_feature_category[col] = \"Cuisine OHE\"\n",
    "\n",
    "for col in feature_ohe:\n",
    "    dct_feature_category[col] = \"Feature OHE\"\n",
    "\n",
    "for col in diet_ohe:\n",
    "    dct_feature_category[col] = \"Diet OHE\"\n",
    "\n",
    "for col in train_station_ohe:\n",
    "    dct_feature_category[col] = \"Nearest Train Station Color OHE\"    \n",
    "\n",
    "for col in train_station_ohe:\n",
    "    dct_feature_category[col] = \"Nearest Train Station Color OHE\"    \n",
    "\n",
    "for col in price_features:\n",
    "    dct_feature_category[col] = \"Price Features\"\n",
    "\n",
    "for col in operating_hours_featueres:\n",
    "    dct_feature_category[col] = \"Operating Hours Features\"\n",
    "\n",
    "for col in other_features:\n",
    "    dct_feature_category[col] = re.sub(\"_\", \" \", col).title()\n"
   ]
  },
  {
   "cell_type": "code",
   "execution_count": 22,
   "metadata": {},
   "outputs": [
    {
     "data": {
      "text/html": [
       "<div>\n",
       "<style scoped>\n",
       "    .dataframe tbody tr th:only-of-type {\n",
       "        vertical-align: middle;\n",
       "    }\n",
       "\n",
       "    .dataframe tbody tr th {\n",
       "        vertical-align: top;\n",
       "    }\n",
       "\n",
       "    .dataframe thead th {\n",
       "        text-align: right;\n",
       "    }\n",
       "</style>\n",
       "<table border=\"1\" class=\"dataframe\">\n",
       "  <thead>\n",
       "    <tr style=\"text-align: right;\">\n",
       "      <th></th>\n",
       "      <th>features</th>\n",
       "      <th>coef</th>\n",
       "      <th>feature_category</th>\n",
       "    </tr>\n",
       "  </thead>\n",
       "  <tbody>\n",
       "    <tr>\n",
       "      <th>0</th>\n",
       "      <td>is_travellors_choice</td>\n",
       "      <td>1.118745</td>\n",
       "      <td>Is Travellors Choice</td>\n",
       "    </tr>\n",
       "    <tr>\n",
       "      <th>1</th>\n",
       "      <td>is_michellin</td>\n",
       "      <td>0.320577</td>\n",
       "      <td>Is Michellin</td>\n",
       "    </tr>\n",
       "    <tr>\n",
       "      <th>2</th>\n",
       "      <td>is_in_mall</td>\n",
       "      <td>-0.485381</td>\n",
       "      <td>Is In Mall</td>\n",
       "    </tr>\n",
       "    <tr>\n",
       "      <th>3</th>\n",
       "      <td>walking_distance</td>\n",
       "      <td>-0.000005</td>\n",
       "      <td>Walking Distance</td>\n",
       "    </tr>\n",
       "    <tr>\n",
       "      <th>4</th>\n",
       "      <td>region_bedok</td>\n",
       "      <td>0.000000</td>\n",
       "      <td>Region OHE</td>\n",
       "    </tr>\n",
       "    <tr>\n",
       "      <th>...</th>\n",
       "      <td>...</td>\n",
       "      <td>...</td>\n",
       "      <td>...</td>\n",
       "    </tr>\n",
       "    <tr>\n",
       "      <th>82</th>\n",
       "      <td>img_uploaded_per_review</td>\n",
       "      <td>0.456831</td>\n",
       "      <td>Img Uploaded Per Review</td>\n",
       "    </tr>\n",
       "    <tr>\n",
       "      <th>83</th>\n",
       "      <td>proportion_of_positive_sentiment</td>\n",
       "      <td>3.218129</td>\n",
       "      <td>Proportion Of Positive Sentiment</td>\n",
       "    </tr>\n",
       "    <tr>\n",
       "      <th>84</th>\n",
       "      <td>nearest_train_line_color_green</td>\n",
       "      <td>-0.083995</td>\n",
       "      <td>Nearest Train Station Color OHE</td>\n",
       "    </tr>\n",
       "    <tr>\n",
       "      <th>85</th>\n",
       "      <td>nearest_train_line_color_purple</td>\n",
       "      <td>-0.073250</td>\n",
       "      <td>Nearest Train Station Color OHE</td>\n",
       "    </tr>\n",
       "    <tr>\n",
       "      <th>86</th>\n",
       "      <td>nearest_train_line_color_yellow</td>\n",
       "      <td>-0.151768</td>\n",
       "      <td>Nearest Train Station Color OHE</td>\n",
       "    </tr>\n",
       "  </tbody>\n",
       "</table>\n",
       "<p>87 rows × 3 columns</p>\n",
       "</div>"
      ],
      "text/plain": [
       "                            features      coef  \\\n",
       "0               is_travellors_choice  1.118745   \n",
       "1                       is_michellin  0.320577   \n",
       "2                         is_in_mall -0.485381   \n",
       "3                   walking_distance -0.000005   \n",
       "4                       region_bedok  0.000000   \n",
       "..                               ...       ...   \n",
       "82           img_uploaded_per_review  0.456831   \n",
       "83  proportion_of_positive_sentiment  3.218129   \n",
       "84    nearest_train_line_color_green -0.083995   \n",
       "85   nearest_train_line_color_purple -0.073250   \n",
       "86   nearest_train_line_color_yellow -0.151768   \n",
       "\n",
       "                    feature_category  \n",
       "0               Is Travellors Choice  \n",
       "1                       Is Michellin  \n",
       "2                         Is In Mall  \n",
       "3                   Walking Distance  \n",
       "4                         Region OHE  \n",
       "..                               ...  \n",
       "82           Img Uploaded Per Review  \n",
       "83  Proportion Of Positive Sentiment  \n",
       "84   Nearest Train Station Color OHE  \n",
       "85   Nearest Train Station Color OHE  \n",
       "86   Nearest Train Station Color OHE  \n",
       "\n",
       "[87 rows x 3 columns]"
      ]
     },
     "execution_count": 22,
     "metadata": {},
     "output_type": "execute_result"
    }
   ],
   "source": [
    "df_coef = pd.DataFrame(list(zip(X_m2_train.columns, lr_model.coef_[0])), columns=['features', 'coef'])\n",
    "df_coef[\"feature_category\"] = df_coef[\"features\"].map(dct_feature_category)\n",
    "df_coef"
   ]
  },
  {
   "cell_type": "code",
   "execution_count": 29,
   "metadata": {},
   "outputs": [
    {
     "data": {
      "text/html": [
       "<div>\n",
       "<style scoped>\n",
       "    .dataframe tbody tr th:only-of-type {\n",
       "        vertical-align: middle;\n",
       "    }\n",
       "\n",
       "    .dataframe tbody tr th {\n",
       "        vertical-align: top;\n",
       "    }\n",
       "\n",
       "    .dataframe thead th {\n",
       "        text-align: right;\n",
       "    }\n",
       "</style>\n",
       "<table border=\"1\" class=\"dataframe\">\n",
       "  <thead>\n",
       "    <tr style=\"text-align: right;\">\n",
       "      <th></th>\n",
       "      <th>features</th>\n",
       "      <th>coef</th>\n",
       "      <th>feature_category</th>\n",
       "    </tr>\n",
       "  </thead>\n",
       "  <tbody>\n",
       "    <tr>\n",
       "      <th>81</th>\n",
       "      <td>average_sentiment_score</td>\n",
       "      <td>22.214153</td>\n",
       "      <td>Average Sentiment Score</td>\n",
       "    </tr>\n",
       "    <tr>\n",
       "      <th>83</th>\n",
       "      <td>proportion_of_positive_sentiment</td>\n",
       "      <td>3.218129</td>\n",
       "      <td>Proportion Of Positive Sentiment</td>\n",
       "    </tr>\n",
       "    <tr>\n",
       "      <th>80</th>\n",
       "      <td>operates_on_sat_or_sun</td>\n",
       "      <td>1.222209</td>\n",
       "      <td>Operating Hours Features</td>\n",
       "    </tr>\n",
       "    <tr>\n",
       "      <th>0</th>\n",
       "      <td>is_travellors_choice</td>\n",
       "      <td>1.118745</td>\n",
       "      <td>Is Travellors Choice</td>\n",
       "    </tr>\n",
       "    <tr>\n",
       "      <th>56</th>\n",
       "      <td>cuisine_others</td>\n",
       "      <td>0.714890</td>\n",
       "      <td>Cuisine OHE</td>\n",
       "    </tr>\n",
       "    <tr>\n",
       "      <th>74</th>\n",
       "      <td>diet_gluten_free_options</td>\n",
       "      <td>0.618864</td>\n",
       "      <td>Diet OHE</td>\n",
       "    </tr>\n",
       "    <tr>\n",
       "      <th>82</th>\n",
       "      <td>img_uploaded_per_review</td>\n",
       "      <td>0.456831</td>\n",
       "      <td>Img Uploaded Per Review</td>\n",
       "    </tr>\n",
       "    <tr>\n",
       "      <th>69</th>\n",
       "      <td>feature_parking_avail</td>\n",
       "      <td>0.449871</td>\n",
       "      <td>Feature OHE</td>\n",
       "    </tr>\n",
       "    <tr>\n",
       "      <th>27</th>\n",
       "      <td>nearby_attraction_east_coast_park</td>\n",
       "      <td>0.417857</td>\n",
       "      <td>Nearby Attraction OHE</td>\n",
       "    </tr>\n",
       "    <tr>\n",
       "      <th>23</th>\n",
       "      <td>has_price_category</td>\n",
       "      <td>0.391449</td>\n",
       "      <td>Price Features</td>\n",
       "    </tr>\n",
       "    <tr>\n",
       "      <th>35</th>\n",
       "      <td>nearby_attraction_chinatown_above_median</td>\n",
       "      <td>0.338045</td>\n",
       "      <td>Nearby Attraction Feature Cross</td>\n",
       "    </tr>\n",
       "    <tr>\n",
       "      <th>1</th>\n",
       "      <td>is_michellin</td>\n",
       "      <td>0.320577</td>\n",
       "      <td>Is Michellin</td>\n",
       "    </tr>\n",
       "    <tr>\n",
       "      <th>10</th>\n",
       "      <td>region_kallang</td>\n",
       "      <td>0.297278</td>\n",
       "      <td>Region OHE</td>\n",
       "    </tr>\n",
       "    <tr>\n",
       "      <th>19</th>\n",
       "      <td>region_rochor</td>\n",
       "      <td>0.276059</td>\n",
       "      <td>Region OHE</td>\n",
       "    </tr>\n",
       "    <tr>\n",
       "      <th>57</th>\n",
       "      <td>cuisine_sea</td>\n",
       "      <td>0.263238</td>\n",
       "      <td>Cuisine OHE</td>\n",
       "    </tr>\n",
       "    <tr>\n",
       "      <th>53</th>\n",
       "      <td>cuisine_japanese</td>\n",
       "      <td>0.263085</td>\n",
       "      <td>Cuisine OHE</td>\n",
       "    </tr>\n",
       "    <tr>\n",
       "      <th>16</th>\n",
       "      <td>region_outram</td>\n",
       "      <td>0.260803</td>\n",
       "      <td>Region OHE</td>\n",
       "    </tr>\n",
       "    <tr>\n",
       "      <th>51</th>\n",
       "      <td>cuisine_international</td>\n",
       "      <td>0.238802</td>\n",
       "      <td>Cuisine OHE</td>\n",
       "    </tr>\n",
       "    <tr>\n",
       "      <th>48</th>\n",
       "      <td>cuisine_chinese</td>\n",
       "      <td>0.234251</td>\n",
       "      <td>Cuisine OHE</td>\n",
       "    </tr>\n",
       "    <tr>\n",
       "      <th>59</th>\n",
       "      <td>feature_delivery</td>\n",
       "      <td>0.191537</td>\n",
       "      <td>Feature OHE</td>\n",
       "    </tr>\n",
       "  </tbody>\n",
       "</table>\n",
       "</div>"
      ],
      "text/plain": [
       "                                    features       coef  \\\n",
       "81                   average_sentiment_score  22.214153   \n",
       "83          proportion_of_positive_sentiment   3.218129   \n",
       "80                    operates_on_sat_or_sun   1.222209   \n",
       "0                       is_travellors_choice   1.118745   \n",
       "56                            cuisine_others   0.714890   \n",
       "74                  diet_gluten_free_options   0.618864   \n",
       "82                   img_uploaded_per_review   0.456831   \n",
       "69                     feature_parking_avail   0.449871   \n",
       "27         nearby_attraction_east_coast_park   0.417857   \n",
       "23                        has_price_category   0.391449   \n",
       "35  nearby_attraction_chinatown_above_median   0.338045   \n",
       "1                               is_michellin   0.320577   \n",
       "10                            region_kallang   0.297278   \n",
       "19                             region_rochor   0.276059   \n",
       "57                               cuisine_sea   0.263238   \n",
       "53                          cuisine_japanese   0.263085   \n",
       "16                             region_outram   0.260803   \n",
       "51                     cuisine_international   0.238802   \n",
       "48                           cuisine_chinese   0.234251   \n",
       "59                          feature_delivery   0.191537   \n",
       "\n",
       "                    feature_category  \n",
       "81           Average Sentiment Score  \n",
       "83  Proportion Of Positive Sentiment  \n",
       "80          Operating Hours Features  \n",
       "0               Is Travellors Choice  \n",
       "56                       Cuisine OHE  \n",
       "74                          Diet OHE  \n",
       "82           Img Uploaded Per Review  \n",
       "69                       Feature OHE  \n",
       "27             Nearby Attraction OHE  \n",
       "23                    Price Features  \n",
       "35   Nearby Attraction Feature Cross  \n",
       "1                       Is Michellin  \n",
       "10                        Region OHE  \n",
       "19                        Region OHE  \n",
       "57                       Cuisine OHE  \n",
       "53                       Cuisine OHE  \n",
       "16                        Region OHE  \n",
       "51                       Cuisine OHE  \n",
       "48                       Cuisine OHE  \n",
       "59                       Feature OHE  "
      ]
     },
     "execution_count": 29,
     "metadata": {},
     "output_type": "execute_result"
    }
   ],
   "source": [
    "df_coef.sort_values('coef', ascending=False).iloc[:20,:]"
   ]
  },
  {
   "cell_type": "code",
   "execution_count": 30,
   "metadata": {},
   "outputs": [
    {
     "data": {
      "image/png": "[encoded data removed]",
      "text/plain": [
       "<Figure size 360x360 with 1 Axes>"
      ]
     },
     "metadata": {
      "needs_background": "light"
     },
     "output_type": "display_data"
    }
   ],
   "source": [
    "ax = sns.catplot(\n",
    "    y = 'features',\n",
    "    x = 'coef',\n",
    "    data = df_coef.sort_values(by=['coef'], ascending=False).head(10),\n",
    "    kind='bar',\n",
    "    # hue='feature_category',\n",
    "    color=hex_colors[1]\n",
    ")\n",
    "\n",
    "# ax.fig.gca().set(xlim=(3.5,4.1))\n",
    "ax.fig.gca().set_title(\"Feature Coef\")\n",
    "ax.fig.gca().set_ylabel(\"Feautures\")\n",
    "ax.fig.gca().set_xlabel(\"Feature Coef\")\n",
    "plt.show()"
   ]
  },
  {
   "cell_type": "code",
   "execution_count": 32,
   "metadata": {},
   "outputs": [
    {
     "data": {
      "text/html": [
       "<div>\n",
       "<style scoped>\n",
       "    .dataframe tbody tr th:only-of-type {\n",
       "        vertical-align: middle;\n",
       "    }\n",
       "\n",
       "    .dataframe tbody tr th {\n",
       "        vertical-align: top;\n",
       "    }\n",
       "\n",
       "    .dataframe thead tr th {\n",
       "        text-align: left;\n",
       "    }\n",
       "\n",
       "    .dataframe thead tr:last-of-type th {\n",
       "        text-align: right;\n",
       "    }\n",
       "</style>\n",
       "<table border=\"1\" class=\"dataframe\">\n",
       "  <thead>\n",
       "    <tr>\n",
       "      <th></th>\n",
       "      <th colspan=\"3\" halign=\"left\">coef</th>\n",
       "      <th>features</th>\n",
       "    </tr>\n",
       "    <tr>\n",
       "      <th></th>\n",
       "      <th>min</th>\n",
       "      <th>max</th>\n",
       "      <th>mean</th>\n",
       "      <th>count</th>\n",
       "    </tr>\n",
       "    <tr>\n",
       "      <th>feature_category</th>\n",
       "      <th></th>\n",
       "      <th></th>\n",
       "      <th></th>\n",
       "      <th></th>\n",
       "    </tr>\n",
       "  </thead>\n",
       "  <tbody>\n",
       "    <tr>\n",
       "      <th>Average Sentiment Score</th>\n",
       "      <td>22.214153</td>\n",
       "      <td>22.214153</td>\n",
       "      <td>22.214153</td>\n",
       "      <td>1</td>\n",
       "    </tr>\n",
       "    <tr>\n",
       "      <th>Proportion Of Positive Sentiment</th>\n",
       "      <td>3.218129</td>\n",
       "      <td>3.218129</td>\n",
       "      <td>3.218129</td>\n",
       "      <td>1</td>\n",
       "    </tr>\n",
       "    <tr>\n",
       "      <th>Is Travellors Choice</th>\n",
       "      <td>1.118745</td>\n",
       "      <td>1.118745</td>\n",
       "      <td>1.118745</td>\n",
       "      <td>1</td>\n",
       "    </tr>\n",
       "    <tr>\n",
       "      <th>Img Uploaded Per Review</th>\n",
       "      <td>0.456831</td>\n",
       "      <td>0.456831</td>\n",
       "      <td>0.456831</td>\n",
       "      <td>1</td>\n",
       "    </tr>\n",
       "    <tr>\n",
       "      <th>Is Michellin</th>\n",
       "      <td>0.320577</td>\n",
       "      <td>0.320577</td>\n",
       "      <td>0.320577</td>\n",
       "      <td>1</td>\n",
       "    </tr>\n",
       "    <tr>\n",
       "      <th>Diet OHE</th>\n",
       "      <td>-0.108655</td>\n",
       "      <td>0.618864</td>\n",
       "      <td>0.211193</td>\n",
       "      <td>4</td>\n",
       "    </tr>\n",
       "    <tr>\n",
       "      <th>Operating Hours Features</th>\n",
       "      <td>-0.478002</td>\n",
       "      <td>1.222209</td>\n",
       "      <td>0.137277</td>\n",
       "      <td>5</td>\n",
       "    </tr>\n",
       "    <tr>\n",
       "      <th>Price Features</th>\n",
       "      <td>-0.226557</td>\n",
       "      <td>0.391449</td>\n",
       "      <td>0.082446</td>\n",
       "      <td>2</td>\n",
       "    </tr>\n",
       "    <tr>\n",
       "      <th>Nearby Attraction Feature Cross</th>\n",
       "      <td>-0.378086</td>\n",
       "      <td>0.338045</td>\n",
       "      <td>0.015254</td>\n",
       "      <td>6</td>\n",
       "    </tr>\n",
       "    <tr>\n",
       "      <th>Above Median Dist From Nearby Attraction</th>\n",
       "      <td>0.003095</td>\n",
       "      <td>0.003095</td>\n",
       "      <td>0.003095</td>\n",
       "      <td>1</td>\n",
       "    </tr>\n",
       "    <tr>\n",
       "      <th>Walking Distance</th>\n",
       "      <td>-0.000005</td>\n",
       "      <td>-0.000005</td>\n",
       "      <td>-0.000005</td>\n",
       "      <td>1</td>\n",
       "    </tr>\n",
       "    <tr>\n",
       "      <th>Meal OHE</th>\n",
       "      <td>-0.218042</td>\n",
       "      <td>0.186696</td>\n",
       "      <td>-0.004015</td>\n",
       "      <td>7</td>\n",
       "    </tr>\n",
       "    <tr>\n",
       "      <th>Cuisine OHE</th>\n",
       "      <td>-0.618359</td>\n",
       "      <td>0.714890</td>\n",
       "      <td>-0.016461</td>\n",
       "      <td>12</td>\n",
       "    </tr>\n",
       "    <tr>\n",
       "      <th>Region OHE</th>\n",
       "      <td>-0.583451</td>\n",
       "      <td>0.297278</td>\n",
       "      <td>-0.058716</td>\n",
       "      <td>19</td>\n",
       "    </tr>\n",
       "    <tr>\n",
       "      <th>Feature OHE</th>\n",
       "      <td>-0.306337</td>\n",
       "      <td>0.449871</td>\n",
       "      <td>-0.064280</td>\n",
       "      <td>13</td>\n",
       "    </tr>\n",
       "    <tr>\n",
       "      <th>Nearby Attraction OHE</th>\n",
       "      <td>-0.412994</td>\n",
       "      <td>0.417857</td>\n",
       "      <td>-0.093725</td>\n",
       "      <td>8</td>\n",
       "    </tr>\n",
       "    <tr>\n",
       "      <th>Nearest Train Station Color OHE</th>\n",
       "      <td>-0.151768</td>\n",
       "      <td>-0.073250</td>\n",
       "      <td>-0.103005</td>\n",
       "      <td>3</td>\n",
       "    </tr>\n",
       "    <tr>\n",
       "      <th>Is In Mall</th>\n",
       "      <td>-0.485381</td>\n",
       "      <td>-0.485381</td>\n",
       "      <td>-0.485381</td>\n",
       "      <td>1</td>\n",
       "    </tr>\n",
       "  </tbody>\n",
       "</table>\n",
       "</div>"
      ],
      "text/plain": [
       "                                               coef                        \\\n",
       "                                                min        max       mean   \n",
       "feature_category                                                            \n",
       "Average Sentiment Score                   22.214153  22.214153  22.214153   \n",
       "Proportion Of Positive Sentiment           3.218129   3.218129   3.218129   \n",
       "Is Travellors Choice                       1.118745   1.118745   1.118745   \n",
       "Img Uploaded Per Review                    0.456831   0.456831   0.456831   \n",
       "Is Michellin                               0.320577   0.320577   0.320577   \n",
       "Diet OHE                                  -0.108655   0.618864   0.211193   \n",
       "Operating Hours Features                  -0.478002   1.222209   0.137277   \n",
       "Price Features                            -0.226557   0.391449   0.082446   \n",
       "Nearby Attraction Feature Cross           -0.378086   0.338045   0.015254   \n",
       "Above Median Dist From Nearby Attraction   0.003095   0.003095   0.003095   \n",
       "Walking Distance                          -0.000005  -0.000005  -0.000005   \n",
       "Meal OHE                                  -0.218042   0.186696  -0.004015   \n",
       "Cuisine OHE                               -0.618359   0.714890  -0.016461   \n",
       "Region OHE                                -0.583451   0.297278  -0.058716   \n",
       "Feature OHE                               -0.306337   0.449871  -0.064280   \n",
       "Nearby Attraction OHE                     -0.412994   0.417857  -0.093725   \n",
       "Nearest Train Station Color OHE           -0.151768  -0.073250  -0.103005   \n",
       "Is In Mall                                -0.485381  -0.485381  -0.485381   \n",
       "\n",
       "                                         features  \n",
       "                                            count  \n",
       "feature_category                                   \n",
       "Average Sentiment Score                         1  \n",
       "Proportion Of Positive Sentiment                1  \n",
       "Is Travellors Choice                            1  \n",
       "Img Uploaded Per Review                         1  \n",
       "Is Michellin                                    1  \n",
       "Diet OHE                                        4  \n",
       "Operating Hours Features                        5  \n",
       "Price Features                                  2  \n",
       "Nearby Attraction Feature Cross                 6  \n",
       "Above Median Dist From Nearby Attraction        1  \n",
       "Walking Distance                                1  \n",
       "Meal OHE                                        7  \n",
       "Cuisine OHE                                    12  \n",
       "Region OHE                                     19  \n",
       "Feature OHE                                    13  \n",
       "Nearby Attraction OHE                           8  \n",
       "Nearest Train Station Color OHE                 3  \n",
       "Is In Mall                                      1  "
      ]
     },
     "execution_count": 32,
     "metadata": {},
     "output_type": "execute_result"
    }
   ],
   "source": [
    "df_coef.groupby([\"feature_category\"]).agg({\"coef\": [\"min\", \"max\", \"mean\"], \"features\": [\"count\"]}).sort_values(by=[(\"coef\", \"mean\")], ascending=False)"
   ]
  },
  {
   "cell_type": "code",
   "execution_count": 33,
   "metadata": {},
   "outputs": [
    {
     "data": {
      "image/png": "[encoded data removed]",
      "text/plain": [
       "<Figure size 1080x144 with 1 Axes>"
      ]
     },
     "metadata": {
      "needs_background": "light"
     },
     "output_type": "display_data"
    },
    {
     "data": {
      "image/png": "[encoded data removed]",
      "text/plain": [
       "<Figure size 1080x144 with 1 Axes>"
      ]
     },
     "metadata": {
      "needs_background": "light"
     },
     "output_type": "display_data"
    },
    {
     "data": {
      "image/png": "[encoded data removed]",
      "text/plain": [
       "<Figure size 1080x144 with 1 Axes>"
      ]
     },
     "metadata": {
      "needs_background": "light"
     },
     "output_type": "display_data"
    },
    {
     "data": {
      "image/png": "[encoded data removed]",
      "text/plain": [
       "<Figure size 1080x144 with 1 Axes>"
      ]
     },
     "metadata": {
      "needs_background": "light"
     },
     "output_type": "display_data"
    },
    {
     "data": {
      "image/png": "[encoded data removed]",
      "text/plain": [
       "<Figure size 1080x144 with 1 Axes>"
      ]
     },
     "metadata": {
      "needs_background": "light"
     },
     "output_type": "display_data"
    },
    {
     "data": {
      "image/png": "[encoded data removed]",
      "text/plain": [
       "<Figure size 1080x144 with 1 Axes>"
      ]
     },
     "metadata": {
      "needs_background": "light"
     },
     "output_type": "display_data"
    },
    {
     "data": {
      "image/png": "[encoded data removed]",
      "text/plain": [
       "<Figure size 1080x144 with 1 Axes>"
      ]
     },
     "metadata": {
      "needs_background": "light"
     },
     "output_type": "display_data"
    }
   ],
   "source": [
    "for i in [\"Diet OHE\", \"Nearest Train Station Color OHE\", \"Feature OHE\", \"Meal OHE\", \"Cuisine OHE\", \"Nearby Attraction OHE\", \"Region OHE\"]:\n",
    "    ax = sns.catplot(\n",
    "        y = 'features',\n",
    "        x = 'coef',\n",
    "        data = df_coef[df_coef[\"feature_category\"]==i].sort_values(by=['coef'], ascending=False).head(8),\n",
    "        kind='bar',\n",
    "        # hue='feature_category',\n",
    "        color=hex_colors[1]\n",
    "    )\n",
    "\n",
    "    # ax.fig.gca().set(xlim=(3.5,4.1))\n",
    "    ax.fig.set_figheight(2)\n",
    "    ax.fig.set_figwidth(15)\n",
    "    ax.fig.gca().set_title(\"Feature Coef\")\n",
    "    ax.fig.gca().set_ylabel(\"Feautures\")\n",
    "    ax.fig.gca().set_xlabel(\"Feature Coef\")\n",
    "    plt.show()"
   ]
  }
 ],
 "metadata": {
  "interpreter": {
   "hash": "203ec769c026c4eb78879c08fc6b4028d75f964c3e1c2f3c465d2a162248b04d"
  },
  "kernelspec": {
   "display_name": "Python 3.7.11 ('bt4222')",
   "language": "python",
   "name": "python3"
  },
  "language_info": {
   "codemirror_mode": {
    "name": "ipython",
    "version": 3
   },
   "file_extension": ".py",
   "mimetype": "text/x-python",
   "name": "python",
   "nbconvert_exporter": "python",
   "pygments_lexer": "ipython3",
   "version": "3.8.3"
  },
  "orig_nbformat": 4
 },
 "nbformat": 4,
 "nbformat_minor": 2
}
